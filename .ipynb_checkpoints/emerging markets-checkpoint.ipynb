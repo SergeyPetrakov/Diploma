{
 "cells": [
  {
   "cell_type": "markdown",
   "metadata": {},
   "source": [
    "# Import libraries"
   ]
  },
  {
   "cell_type": "code",
   "execution_count": 138,
   "metadata": {},
   "outputs": [],
   "source": [
    "import pandas as pd\n",
    "import pandas_datareader as dr\n",
    "import datetime\n",
    "import statsmodels.api as sm\n",
    "import seaborn as sns\n",
    "\n",
    "import statsmodels\n",
    "\n",
    "from matplotlib import rcParams\n",
    "import matplotlib.pyplot as plt\n",
    "\n",
    "# figure size in inches\n",
    "rcParams['figure.figsize'] = 11.7,8.27"
   ]
  },
  {
   "cell_type": "markdown",
   "metadata": {},
   "source": [
    "# Functions"
   ]
  },
  {
   "cell_type": "code",
   "execution_count": 183,
   "metadata": {},
   "outputs": [],
   "source": [
    "def change_date(input):\n",
    "    return datetime.date(year = int(input[0:4]), month = int(input[4:6]), day = 1)"
   ]
  },
  {
   "cell_type": "markdown",
   "metadata": {},
   "source": [
    "# Data prerpocessing"
   ]
  },
  {
   "cell_type": "code",
   "execution_count": 198,
   "metadata": {},
   "outputs": [],
   "source": [
    "five_factor_data = pd.read_csv('Emerging_5_Factors.csv', skiprows=3)\n",
    "five_factor_data.rename(columns={'Unnamed: 0':'date'}, inplace=True)\n",
    "mom_data = pd.read_csv('Emerging_MOM_Factor.csv', skiprows=3)\n",
    "mom_data.rename(columns={'Unnamed: 0':'date'}, inplace=True)\n",
    "all_data = five_factor_data.merge(mom_data, on = 'date')\n",
    "\n",
    "# it is necessary to set an upper limit because there is an end of relevant data\n",
    "data = five_factor_data.iloc[:375,:]\n",
    "all_data = all_data.iloc[:183,:]"
   ]
  },
  {
   "cell_type": "code",
   "execution_count": 199,
   "metadata": {},
   "outputs": [],
   "source": [
    "moex = dr.get_data_yahoo('IMOEX.ME', start='1989-07-01', end='2020-09-01')\n",
    "moex.reset_index(inplace = True)\n",
    "moex = moex[['Date', 'Adj Close']]\n",
    "moex['moex_return'] = 100*(moex['Adj Close'] - \n",
    "                      moex.shift(1)['Adj Close'])/moex.shift(1)['Adj Close']\n",
    "\n",
    "data = data.merge(moex['moex_return'],left_index=True, right_index= True)\n",
    "data.dropna(inplace = True)\n",
    "data.set_index('date', inplace = True)\n",
    "\n",
    "all_data = all_data.merge(moex['moex_return'],left_index=True, right_index= True)\n",
    "all_data.dropna(inplace = True)\n",
    "all_data.set_index('date', inplace = True)\n",
    "\n",
    "data = data.replace(\" \", \"\")\n",
    "for i in data.columns:\n",
    "    data[i] = data[i].apply(lambda x: float(x))\n",
    "    \n",
    "all_data = all_data.replace(\" \", \"\")\n",
    "for i in all_data.columns:\n",
    "    all_data[i] = all_data[i].apply(lambda x: float(x))"
   ]
  },
  {
   "cell_type": "markdown",
   "metadata": {},
   "source": [
    "# Models"
   ]
  },
  {
   "cell_type": "markdown",
   "metadata": {},
   "source": [
    "## Linear regression w/o momentum"
   ]
  },
  {
   "cell_type": "code",
   "execution_count": 200,
   "metadata": {},
   "outputs": [
    {
     "name": "stdout",
     "output_type": "stream",
     "text": [
      "                                 OLS Regression Results                                \n",
      "=======================================================================================\n",
      "Dep. Variable:            moex_return   R-squared (uncentered):                   0.008\n",
      "Model:                            OLS   Adj. R-squared (uncentered):             -0.005\n",
      "Method:                 Least Squares   F-statistic:                             0.8974\n",
      "Date:                Mon, 02 Nov 2020   Prob (F-statistic):                       0.483\n",
      "Time:                        23:07:34   Log-Likelihood:                         -619.54\n",
      "No. Observations:                 374   AIC:                                      1249.\n",
      "Df Residuals:                     369   BIC:                                      1269.\n",
      "Df Model:                           5                                                  \n",
      "Covariance Type:                  HC1                                                  \n",
      "==============================================================================\n",
      "                 coef    std err          z      P>|z|      [0.025      0.975]\n",
      "------------------------------------------------------------------------------\n",
      "Mkt-RF        -0.0011      0.011     -0.096      0.923      -0.023       0.021\n",
      "SMB           -0.0425      0.027     -1.595      0.111      -0.095       0.010\n",
      "HML            0.0044      0.026      0.171      0.864      -0.046       0.055\n",
      "RMW           -0.0035      0.004     -0.848      0.396      -0.012       0.005\n",
      "CMA            0.0037      0.004      1.030      0.303      -0.003       0.011\n",
      "==============================================================================\n",
      "Omnibus:                      157.073   Durbin-Watson:                   2.005\n",
      "Prob(Omnibus):                  0.000   Jarque-Bera (JB):             3014.409\n",
      "Skew:                          -1.262   Prob(JB):                         0.00\n",
      "Kurtosis:                      16.677   Cond. No.                         16.9\n",
      "==============================================================================\n",
      "\n",
      "Warnings:\n",
      "[1] Standard Errors are heteroscedasticity robust (HC1)\n"
     ]
    }
   ],
   "source": [
    "X = data[['Mkt-RF', 'SMB', 'HML', 'RMW', 'CMA']]\n",
    "Y = data['moex_return']\n",
    "model = sm.OLS(Y,X)\n",
    "results = model.fit(cov_type = 'HC1')\n",
    "print(results.summary())"
   ]
  },
  {
   "cell_type": "markdown",
   "metadata": {},
   "source": [
    "## Linear regression with momentum"
   ]
  },
  {
   "cell_type": "code",
   "execution_count": 203,
   "metadata": {},
   "outputs": [
    {
     "name": "stdout",
     "output_type": "stream",
     "text": [
      "                                 OLS Regression Results                                \n",
      "=======================================================================================\n",
      "Dep. Variable:            moex_return   R-squared (uncentered):                   0.015\n",
      "Model:                            OLS   Adj. R-squared (uncentered):             -0.018\n",
      "Method:                 Least Squares   F-statistic:                             0.4941\n",
      "Date:                Mon, 02 Nov 2020   Prob (F-statistic):                       0.812\n",
      "Time:                        23:08:37   Log-Likelihood:                         -266.12\n",
      "No. Observations:                 182   AIC:                                      544.2\n",
      "Df Residuals:                     176   BIC:                                      563.5\n",
      "Df Model:                           6                                                  \n",
      "Covariance Type:                  HC1                                                  \n",
      "==============================================================================\n",
      "                 coef    std err          z      P>|z|      [0.025      0.975]\n",
      "------------------------------------------------------------------------------\n",
      "Mkt-RF        -0.0089      0.020     -0.443      0.657      -0.048       0.031\n",
      "SMB            0.0070      0.041      0.170      0.865      -0.074       0.088\n",
      "HML            0.0434      0.032      1.362      0.173      -0.019       0.106\n",
      "RMW           -0.0013      0.004     -0.318      0.751      -0.010       0.007\n",
      "CMA            0.0026      0.003      0.876      0.381      -0.003       0.008\n",
      "WML            0.0203      0.033      0.621      0.535      -0.044       0.084\n",
      "==============================================================================\n",
      "Omnibus:                        2.668   Durbin-Watson:                   1.940\n",
      "Prob(Omnibus):                  0.263   Jarque-Bera (JB):                2.448\n",
      "Skew:                           0.138   Prob(JB):                        0.294\n",
      "Kurtosis:                       3.496   Cond. No.                         19.3\n",
      "==============================================================================\n",
      "\n",
      "Warnings:\n",
      "[1] Standard Errors are heteroscedasticity robust (HC1)\n"
     ]
    }
   ],
   "source": [
    "X = all_data[['Mkt-RF', 'SMB', 'HML', 'RMW', 'CMA', 'WML']]\n",
    "Y = all_data['moex_return']\n",
    "model_all = sm.OLS(Y,X)\n",
    "results_all = model_all.fit(cov_type = 'HC1')\n",
    "print(results_all.summary())"
   ]
  },
  {
   "cell_type": "code",
   "execution_count": null,
   "metadata": {},
   "outputs": [],
   "source": []
  },
  {
   "cell_type": "code",
   "execution_count": null,
   "metadata": {},
   "outputs": [],
   "source": []
  },
  {
   "cell_type": "code",
   "execution_count": null,
   "metadata": {},
   "outputs": [],
   "source": []
  }
 ],
 "metadata": {
  "kernelspec": {
   "display_name": "Python 3",
   "language": "python",
   "name": "python3"
  },
  "language_info": {
   "codemirror_mode": {
    "name": "ipython",
    "version": 3
   },
   "file_extension": ".py",
   "mimetype": "text/x-python",
   "name": "python",
   "nbconvert_exporter": "python",
   "pygments_lexer": "ipython3",
   "version": "3.8.3"
  }
 },
 "nbformat": 4,
 "nbformat_minor": 4
}
