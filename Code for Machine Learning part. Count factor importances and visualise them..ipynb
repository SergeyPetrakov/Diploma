{
 "cells": [
  {
   "cell_type": "markdown",
   "metadata": {},
   "source": [
    "# Import libraries"
   ]
  },
  {
   "cell_type": "code",
   "execution_count": 42,
   "metadata": {},
   "outputs": [],
   "source": [
    "import sklearn\n",
    "import ast\n",
    "import plotly.graph_objects as go\n",
    "import numpy as np\n",
    "import pandas as pd\n",
    "import matplotlib.pyplot as plt\n",
    "import plotly.graph_objects as go\n",
    "\n",
    "from sklearn.tree import DecisionTreeRegressor\n",
    "from sklearn.tree import export_graphviz\n",
    "from sklearn.tree import plot_tree\n",
    "\n",
    "#Linear model\n",
    "from sklearn.linear_model import LinearRegression\n",
    "\n",
    "#KNN\n",
    "from sklearn.neighbors import KNeighborsRegressor\n",
    "\n",
    "#RF\n",
    "from sklearn.ensemble import RandomForestRegressor\n",
    "\n",
    "#SVR\n",
    "from sklearn.svm import SVR\n",
    "\n",
    "#Metrics\n",
    "from sklearn.model_selection import cross_validate, cross_val_score\n",
    "from sklearn.metrics import r2_score, mean_squared_error\n",
    "\n",
    "#Feature selection\n",
    "from sklearn.feature_selection import RFE\n",
    "from sklearn.svm import SVR\n",
    "\n",
    "#Lasso\n",
    "from sklearn.linear_model import Lasso\n",
    "\n",
    "#feature selection\n",
    "from sklearn.linear_model import Lasso, LogisticRegression\n",
    "from sklearn.feature_selection import SelectFromModel\n",
    "from sklearn.preprocessing import StandardScaler\n",
    "\n",
    "#Ridge\n",
    "from sklearn.linear_model import Ridge\n",
    "\n",
    "#Gradient Boosting \n",
    "#lightgbm\n",
    "import lightgbm as lgb\n",
    "#catboost\n",
    "import catboost as ctb\n",
    "#xgboost\n",
    "import xgboost as xgb\n",
    "import matplotlib as mpl\n",
    "\n",
    "#Neural network\n",
    "import math\n",
    "from keras.models import Sequential\n",
    "from keras.layers import Dense,Dropout\n",
    "from keras.layers import LSTM\n",
    "from sklearn.preprocessing import MinMaxScaler\n"
   ]
  },
  {
   "cell_type": "markdown",
   "metadata": {},
   "source": [
    "# Download data"
   ]
  },
  {
   "cell_type": "code",
   "execution_count": 43,
   "metadata": {},
   "outputs": [],
   "source": [
    "data = pd.read_csv('final_data_without_prefs_and_with_HAMADA_factors.csv')\n",
    "data_ret = pd.read_csv('data_ret.csv')\n",
    "data_ret.drop(columns=['Unnamed: 0'], inplace=True)\n",
    "#data_ret.set_index('Date', inplace=True)\n",
    "data.set_index('Date', inplace = True)\n",
    "macro_data = pd.read_csv('macro_data.csv')\n",
    "macro_data.set_index('Date', inplace = True)\n",
    "\n",
    "ml_results_best_params = pd.read_csv('ML_best_params_ever.csv')\n",
    "ml_data_1 = pd.read_csv('MSE_result_ever.csv')\n",
    "ml_data = pd.read_csv('R2_result_ever.csv')\n",
    "\n",
    "ml_data.set_index('share', inplace=True)\n",
    "ml_data_1.set_index('share', inplace=True)\n",
    "ml_results_best_params.set_index('share', inplace=True)"
   ]
  },
  {
   "cell_type": "markdown",
   "metadata": {},
   "source": [
    "# Random forest feature importance "
   ]
  },
  {
   "cell_type": "code",
   "execution_count": 44,
   "metadata": {
    "scrolled": true
   },
   "outputs": [
    {
     "name": "stdout",
     "output_type": "stream",
     "text": [
      "###############################################\n",
      "ML models for SBER_RM_Equity_premium\n",
      "###############################################\n",
      "ML models for GAZP_RM_Equity_premium\n",
      "###############################################\n",
      "ML models for LKOH_RM_Equity_premium\n",
      "###############################################\n",
      "ML models for GMKN_RM_Equity_premium\n",
      "###############################################\n",
      "ML models for NVTK_RM_Equity_premium\n",
      "###############################################\n",
      "ML models for SNGS_RM_Equity_premium\n",
      "###############################################\n",
      "ML models for PLZL_RM_Equity_premium\n",
      "###############################################\n",
      "ML models for TATN_RM_Equity_premium\n",
      "###############################################\n",
      "ML models for ROSN_RM_Equity_premium\n",
      "###############################################\n",
      "ML models for MGNT_RM_Equity_premium\n",
      "###############################################\n",
      "ML models for MTSS_RM_Equity_premium\n",
      "###############################################\n",
      "ML models for MOEX_RM_Equity_premium\n",
      "###############################################\n",
      "ML models for IRAO_RM_Equity_premium\n",
      "###############################################\n",
      "ML models for NLMK_RM_Equity_premium\n",
      "###############################################\n",
      "ML models for ALRS_RM_Equity_premium\n",
      "###############################################\n",
      "ML models for CHMF_RM_Equity_premium\n",
      "###############################################\n",
      "ML models for VTBR_RM_Equity_premium\n",
      "###############################################\n",
      "ML models for RTKM_RM_Equity_premium\n",
      "###############################################\n",
      "ML models for PHOR_RM_Equity_premium\n",
      "###############################################\n",
      "ML models for AFKS_RM_Equity_premium\n",
      "###############################################\n",
      "ML models for MAGN_RM_Equity_premium\n",
      "###############################################\n",
      "ML models for PIKK_RM_Equity_premium\n",
      "###############################################\n",
      "ML models for HYDR_RM_Equity_premium\n",
      "###############################################\n",
      "ML models for FEES_RM_Equity_premium\n",
      "###############################################\n",
      "ML models for AFLT_RM_Equity_premium\n",
      "###############################################\n",
      "ML models for LSRG_RM_Equity_premium\n",
      "###############################################\n",
      "ML models for RSTI_RM_Equity_premium\n",
      "###############################################\n",
      "ML models for UPRO_RM_Equity_premium\n",
      "###############################################\n",
      "ML models for LNTA_RM_Equity_premium\n",
      "###############################################\n",
      "ML models for MVID_RM_Equity_premium\n",
      "###############################################\n",
      "ML models for TRMK_RM_Equity_premium\n",
      "###############################################\n",
      "ML models for MTLR_RM_Equity_premium\n",
      "###############################################\n",
      "ML models for NMTP_RM_Equity_premium\n",
      "###############################################\n",
      "ML models for AKRN_RM_Equity_premium\n",
      "###############################################\n",
      "ML models for MSNG_RM_Equity_premium\n",
      "###############################################\n",
      "ML models for URKA_RM_Equity_premium\n",
      "###############################################\n",
      "ML models for BANE_RM_Equity_premium\n",
      "###############################################\n",
      "ML models for VSMO_RM_Equity_premium\n",
      "###############################################\n",
      "ML models for NKNC_RM_Equity_premium\n",
      "###############################################\n",
      "ML models for GCHE_RM_Equity_premium\n",
      "###############################################\n",
      "ML models for SVAV_RM_Equity_premium\n",
      "###############################################\n",
      "ML models for MSTT_RM_Equity_premium\n",
      "###############################################\n",
      "ML models for BSPB_RM_Equity_premium\n",
      "###############################################\n",
      "ML models for MSRS_RM_Equity_premium\n",
      "###############################################\n",
      "ML models for KMAZ_RM_Equity_premium\n",
      "###############################################\n",
      "ML models for RASP_RM_Equity_premium\n",
      "###############################################\n",
      "ML models for OGKB_RM_Equity_premium\n",
      "###############################################\n",
      "ML models for VZRZ_RM_Equity_premium\n"
     ]
    },
    {
     "data": {
      "text/html": [
       "<div>\n",
       "<style scoped>\n",
       "    .dataframe tbody tr th:only-of-type {\n",
       "        vertical-align: middle;\n",
       "    }\n",
       "\n",
       "    .dataframe tbody tr th {\n",
       "        vertical-align: top;\n",
       "    }\n",
       "\n",
       "    .dataframe thead th {\n",
       "        text-align: right;\n",
       "    }\n",
       "</style>\n",
       "<table border=\"1\" class=\"dataframe\">\n",
       "  <thead>\n",
       "    <tr style=\"text-align: right;\">\n",
       "      <th></th>\n",
       "      <th>importance_SBER</th>\n",
       "      <th>importance_GAZP</th>\n",
       "      <th>importance_LKOH</th>\n",
       "      <th>importance_GMKN</th>\n",
       "      <th>importance_NVTK</th>\n",
       "      <th>importance_SNGS</th>\n",
       "      <th>importance_PLZL</th>\n",
       "      <th>importance_TATN</th>\n",
       "      <th>importance_ROSN</th>\n",
       "      <th>importance_MGNT</th>\n",
       "      <th>...</th>\n",
       "      <th>importance_GCHE</th>\n",
       "      <th>importance_SVAV</th>\n",
       "      <th>importance_MSTT</th>\n",
       "      <th>importance_BSPB</th>\n",
       "      <th>importance_MSRS</th>\n",
       "      <th>importance_KMAZ</th>\n",
       "      <th>importance_RASP</th>\n",
       "      <th>importance_OGKB</th>\n",
       "      <th>importance_VZRZ</th>\n",
       "      <th>средняя важность</th>\n",
       "    </tr>\n",
       "    <tr>\n",
       "      <th>factor</th>\n",
       "      <th></th>\n",
       "      <th></th>\n",
       "      <th></th>\n",
       "      <th></th>\n",
       "      <th></th>\n",
       "      <th></th>\n",
       "      <th></th>\n",
       "      <th></th>\n",
       "      <th></th>\n",
       "      <th></th>\n",
       "      <th></th>\n",
       "      <th></th>\n",
       "      <th></th>\n",
       "      <th></th>\n",
       "      <th></th>\n",
       "      <th></th>\n",
       "      <th></th>\n",
       "      <th></th>\n",
       "      <th></th>\n",
       "      <th></th>\n",
       "      <th></th>\n",
       "    </tr>\n",
       "  </thead>\n",
       "  <tbody>\n",
       "    <tr>\n",
       "      <th>Премия за рыночный риск</th>\n",
       "      <td>0.340225</td>\n",
       "      <td>0.743581</td>\n",
       "      <td>0.935204</td>\n",
       "      <td>0.818193</td>\n",
       "      <td>0.801094</td>\n",
       "      <td>0.377429</td>\n",
       "      <td>0.013233</td>\n",
       "      <td>0.867488</td>\n",
       "      <td>0.865053</td>\n",
       "      <td>0.140956</td>\n",
       "      <td>...</td>\n",
       "      <td>0.081371</td>\n",
       "      <td>0.135071</td>\n",
       "      <td>0.101331</td>\n",
       "      <td>0.224767</td>\n",
       "      <td>0.399686</td>\n",
       "      <td>0.146380</td>\n",
       "      <td>0.550670</td>\n",
       "      <td>0.259793</td>\n",
       "      <td>0.057356</td>\n",
       "      <td>0.346773</td>\n",
       "    </tr>\n",
       "    <tr>\n",
       "      <th>Доходность самой акции лаг месяц</th>\n",
       "      <td>0.025913</td>\n",
       "      <td>0.015700</td>\n",
       "      <td>0.000171</td>\n",
       "      <td>0.003555</td>\n",
       "      <td>0.007573</td>\n",
       "      <td>0.087496</td>\n",
       "      <td>0.050000</td>\n",
       "      <td>0.000000</td>\n",
       "      <td>0.009518</td>\n",
       "      <td>0.022998</td>\n",
       "      <td>...</td>\n",
       "      <td>0.026540</td>\n",
       "      <td>0.048210</td>\n",
       "      <td>0.015365</td>\n",
       "      <td>0.025234</td>\n",
       "      <td>0.007430</td>\n",
       "      <td>0.032548</td>\n",
       "      <td>0.048175</td>\n",
       "      <td>0.008753</td>\n",
       "      <td>0.009902</td>\n",
       "      <td>0.028902</td>\n",
       "    </tr>\n",
       "    <tr>\n",
       "      <th>Доходность самой акции лаг 2 месяца</th>\n",
       "      <td>0.012651</td>\n",
       "      <td>0.013014</td>\n",
       "      <td>0.000764</td>\n",
       "      <td>0.004628</td>\n",
       "      <td>0.003920</td>\n",
       "      <td>0.019474</td>\n",
       "      <td>0.195447</td>\n",
       "      <td>0.000000</td>\n",
       "      <td>0.013585</td>\n",
       "      <td>0.095192</td>\n",
       "      <td>...</td>\n",
       "      <td>0.097935</td>\n",
       "      <td>0.024224</td>\n",
       "      <td>0.010249</td>\n",
       "      <td>0.031397</td>\n",
       "      <td>0.007796</td>\n",
       "      <td>0.089786</td>\n",
       "      <td>0.076186</td>\n",
       "      <td>0.047736</td>\n",
       "      <td>0.018947</td>\n",
       "      <td>0.034753</td>\n",
       "    </tr>\n",
       "    <tr>\n",
       "      <th>Доходность самой акции лаг 3 месяца</th>\n",
       "      <td>0.016223</td>\n",
       "      <td>0.007907</td>\n",
       "      <td>0.000000</td>\n",
       "      <td>0.000237</td>\n",
       "      <td>0.000423</td>\n",
       "      <td>0.008479</td>\n",
       "      <td>0.018566</td>\n",
       "      <td>0.000407</td>\n",
       "      <td>0.005520</td>\n",
       "      <td>0.057083</td>\n",
       "      <td>...</td>\n",
       "      <td>0.020870</td>\n",
       "      <td>0.059456</td>\n",
       "      <td>0.037029</td>\n",
       "      <td>0.036815</td>\n",
       "      <td>0.165674</td>\n",
       "      <td>0.052595</td>\n",
       "      <td>0.011595</td>\n",
       "      <td>0.009229</td>\n",
       "      <td>0.043034</td>\n",
       "      <td>0.026672</td>\n",
       "    </tr>\n",
       "    <tr>\n",
       "      <th>SMB</th>\n",
       "      <td>0.046576</td>\n",
       "      <td>0.015369</td>\n",
       "      <td>0.000103</td>\n",
       "      <td>0.000999</td>\n",
       "      <td>0.000347</td>\n",
       "      <td>0.032409</td>\n",
       "      <td>0.009745</td>\n",
       "      <td>0.001590</td>\n",
       "      <td>0.016402</td>\n",
       "      <td>0.053620</td>\n",
       "      <td>...</td>\n",
       "      <td>0.010377</td>\n",
       "      <td>0.022400</td>\n",
       "      <td>0.020891</td>\n",
       "      <td>0.027466</td>\n",
       "      <td>0.004495</td>\n",
       "      <td>0.038282</td>\n",
       "      <td>0.008091</td>\n",
       "      <td>0.020725</td>\n",
       "      <td>0.131696</td>\n",
       "      <td>0.032261</td>\n",
       "    </tr>\n",
       "    <tr>\n",
       "      <th>HML</th>\n",
       "      <td>0.019889</td>\n",
       "      <td>0.008731</td>\n",
       "      <td>0.000000</td>\n",
       "      <td>0.000663</td>\n",
       "      <td>0.000837</td>\n",
       "      <td>0.035924</td>\n",
       "      <td>0.017447</td>\n",
       "      <td>0.000000</td>\n",
       "      <td>0.002114</td>\n",
       "      <td>0.068228</td>\n",
       "      <td>...</td>\n",
       "      <td>0.019271</td>\n",
       "      <td>0.067565</td>\n",
       "      <td>0.031003</td>\n",
       "      <td>0.026069</td>\n",
       "      <td>0.000647</td>\n",
       "      <td>0.139478</td>\n",
       "      <td>0.010612</td>\n",
       "      <td>0.014364</td>\n",
       "      <td>0.039712</td>\n",
       "      <td>0.029907</td>\n",
       "    </tr>\n",
       "    <tr>\n",
       "      <th>SMB лаг месяц</th>\n",
       "      <td>0.024916</td>\n",
       "      <td>0.028807</td>\n",
       "      <td>0.013817</td>\n",
       "      <td>0.005466</td>\n",
       "      <td>0.036571</td>\n",
       "      <td>0.012231</td>\n",
       "      <td>0.092837</td>\n",
       "      <td>0.008081</td>\n",
       "      <td>0.003570</td>\n",
       "      <td>0.054393</td>\n",
       "      <td>...</td>\n",
       "      <td>0.224973</td>\n",
       "      <td>0.108801</td>\n",
       "      <td>0.059242</td>\n",
       "      <td>0.079598</td>\n",
       "      <td>0.000850</td>\n",
       "      <td>0.029479</td>\n",
       "      <td>0.110658</td>\n",
       "      <td>0.100936</td>\n",
       "      <td>0.152503</td>\n",
       "      <td>0.065286</td>\n",
       "    </tr>\n",
       "    <tr>\n",
       "      <th>HML лаг месяц</th>\n",
       "      <td>0.045786</td>\n",
       "      <td>0.057728</td>\n",
       "      <td>0.000240</td>\n",
       "      <td>0.055730</td>\n",
       "      <td>0.019254</td>\n",
       "      <td>0.071039</td>\n",
       "      <td>0.011085</td>\n",
       "      <td>0.002698</td>\n",
       "      <td>0.005922</td>\n",
       "      <td>0.066900</td>\n",
       "      <td>...</td>\n",
       "      <td>0.046308</td>\n",
       "      <td>0.033182</td>\n",
       "      <td>0.109553</td>\n",
       "      <td>0.051573</td>\n",
       "      <td>0.002500</td>\n",
       "      <td>0.038663</td>\n",
       "      <td>0.021738</td>\n",
       "      <td>0.202049</td>\n",
       "      <td>0.009007</td>\n",
       "      <td>0.076170</td>\n",
       "    </tr>\n",
       "    <tr>\n",
       "      <th>SMB лаг 2 месяца</th>\n",
       "      <td>0.027076</td>\n",
       "      <td>0.014881</td>\n",
       "      <td>0.000389</td>\n",
       "      <td>0.000000</td>\n",
       "      <td>0.007195</td>\n",
       "      <td>0.022722</td>\n",
       "      <td>0.028766</td>\n",
       "      <td>0.000659</td>\n",
       "      <td>0.028016</td>\n",
       "      <td>0.058518</td>\n",
       "      <td>...</td>\n",
       "      <td>0.031421</td>\n",
       "      <td>0.027209</td>\n",
       "      <td>0.023571</td>\n",
       "      <td>0.024001</td>\n",
       "      <td>0.042329</td>\n",
       "      <td>0.045148</td>\n",
       "      <td>0.004191</td>\n",
       "      <td>0.024808</td>\n",
       "      <td>0.015358</td>\n",
       "      <td>0.025799</td>\n",
       "    </tr>\n",
       "    <tr>\n",
       "      <th>HML лаг 2 месяца</th>\n",
       "      <td>0.032042</td>\n",
       "      <td>0.009841</td>\n",
       "      <td>0.000219</td>\n",
       "      <td>0.010654</td>\n",
       "      <td>0.000328</td>\n",
       "      <td>0.057887</td>\n",
       "      <td>0.139744</td>\n",
       "      <td>0.002673</td>\n",
       "      <td>0.004073</td>\n",
       "      <td>0.032941</td>\n",
       "      <td>...</td>\n",
       "      <td>0.058638</td>\n",
       "      <td>0.030297</td>\n",
       "      <td>0.037265</td>\n",
       "      <td>0.074716</td>\n",
       "      <td>0.012886</td>\n",
       "      <td>0.027051</td>\n",
       "      <td>0.043592</td>\n",
       "      <td>0.015997</td>\n",
       "      <td>0.035384</td>\n",
       "      <td>0.041297</td>\n",
       "    </tr>\n",
       "    <tr>\n",
       "      <th>SMB лаг 3 месяца</th>\n",
       "      <td>0.019706</td>\n",
       "      <td>0.012223</td>\n",
       "      <td>0.000512</td>\n",
       "      <td>0.003561</td>\n",
       "      <td>0.009819</td>\n",
       "      <td>0.013405</td>\n",
       "      <td>0.012455</td>\n",
       "      <td>0.000000</td>\n",
       "      <td>0.004729</td>\n",
       "      <td>0.023064</td>\n",
       "      <td>...</td>\n",
       "      <td>0.048893</td>\n",
       "      <td>0.013810</td>\n",
       "      <td>0.046177</td>\n",
       "      <td>0.027271</td>\n",
       "      <td>0.008616</td>\n",
       "      <td>0.036304</td>\n",
       "      <td>0.030726</td>\n",
       "      <td>0.014871</td>\n",
       "      <td>0.043640</td>\n",
       "      <td>0.025077</td>\n",
       "    </tr>\n",
       "    <tr>\n",
       "      <th>HML лаг 3 месяца</th>\n",
       "      <td>0.045679</td>\n",
       "      <td>0.017503</td>\n",
       "      <td>0.000000</td>\n",
       "      <td>0.002216</td>\n",
       "      <td>0.003020</td>\n",
       "      <td>0.120427</td>\n",
       "      <td>0.043687</td>\n",
       "      <td>0.000000</td>\n",
       "      <td>0.000790</td>\n",
       "      <td>0.054379</td>\n",
       "      <td>...</td>\n",
       "      <td>0.050775</td>\n",
       "      <td>0.042704</td>\n",
       "      <td>0.066080</td>\n",
       "      <td>0.037916</td>\n",
       "      <td>0.041849</td>\n",
       "      <td>0.087547</td>\n",
       "      <td>0.025670</td>\n",
       "      <td>0.062769</td>\n",
       "      <td>0.247632</td>\n",
       "      <td>0.042200</td>\n",
       "    </tr>\n",
       "    <tr>\n",
       "      <th>MOM</th>\n",
       "      <td>0.021365</td>\n",
       "      <td>0.007884</td>\n",
       "      <td>0.001350</td>\n",
       "      <td>0.003292</td>\n",
       "      <td>0.002137</td>\n",
       "      <td>0.013994</td>\n",
       "      <td>0.056789</td>\n",
       "      <td>0.000000</td>\n",
       "      <td>0.003719</td>\n",
       "      <td>0.036368</td>\n",
       "      <td>...</td>\n",
       "      <td>0.007208</td>\n",
       "      <td>0.018429</td>\n",
       "      <td>0.009880</td>\n",
       "      <td>0.018840</td>\n",
       "      <td>0.000335</td>\n",
       "      <td>0.006466</td>\n",
       "      <td>0.009122</td>\n",
       "      <td>0.004903</td>\n",
       "      <td>0.027002</td>\n",
       "      <td>0.017755</td>\n",
       "    </tr>\n",
       "    <tr>\n",
       "      <th>MOM лаг месяц</th>\n",
       "      <td>0.073908</td>\n",
       "      <td>0.010994</td>\n",
       "      <td>0.034509</td>\n",
       "      <td>0.001565</td>\n",
       "      <td>0.001053</td>\n",
       "      <td>0.016995</td>\n",
       "      <td>0.015868</td>\n",
       "      <td>0.000212</td>\n",
       "      <td>0.000300</td>\n",
       "      <td>0.081072</td>\n",
       "      <td>...</td>\n",
       "      <td>0.071739</td>\n",
       "      <td>0.085507</td>\n",
       "      <td>0.024128</td>\n",
       "      <td>0.053767</td>\n",
       "      <td>0.028873</td>\n",
       "      <td>0.032983</td>\n",
       "      <td>0.006985</td>\n",
       "      <td>0.013970</td>\n",
       "      <td>0.044580</td>\n",
       "      <td>0.026578</td>\n",
       "    </tr>\n",
       "    <tr>\n",
       "      <th>MOM лаг 2 месяца</th>\n",
       "      <td>0.020755</td>\n",
       "      <td>0.010389</td>\n",
       "      <td>0.000325</td>\n",
       "      <td>0.033440</td>\n",
       "      <td>0.016906</td>\n",
       "      <td>0.063115</td>\n",
       "      <td>0.004336</td>\n",
       "      <td>0.114907</td>\n",
       "      <td>0.009088</td>\n",
       "      <td>0.049910</td>\n",
       "      <td>...</td>\n",
       "      <td>0.015152</td>\n",
       "      <td>0.030316</td>\n",
       "      <td>0.028241</td>\n",
       "      <td>0.037059</td>\n",
       "      <td>0.002064</td>\n",
       "      <td>0.011604</td>\n",
       "      <td>0.007408</td>\n",
       "      <td>0.013669</td>\n",
       "      <td>0.020622</td>\n",
       "      <td>0.027539</td>\n",
       "    </tr>\n",
       "    <tr>\n",
       "      <th>MOM лаг 3 месяца</th>\n",
       "      <td>0.015910</td>\n",
       "      <td>0.005355</td>\n",
       "      <td>0.006839</td>\n",
       "      <td>0.001178</td>\n",
       "      <td>0.031362</td>\n",
       "      <td>0.003657</td>\n",
       "      <td>0.102352</td>\n",
       "      <td>0.000394</td>\n",
       "      <td>0.018340</td>\n",
       "      <td>0.018253</td>\n",
       "      <td>...</td>\n",
       "      <td>0.017574</td>\n",
       "      <td>0.027108</td>\n",
       "      <td>0.032720</td>\n",
       "      <td>0.055133</td>\n",
       "      <td>0.000724</td>\n",
       "      <td>0.014583</td>\n",
       "      <td>0.006460</td>\n",
       "      <td>0.012013</td>\n",
       "      <td>0.044795</td>\n",
       "      <td>0.015787</td>\n",
       "    </tr>\n",
       "    <tr>\n",
       "      <th>Изменение курса доллара за месяц</th>\n",
       "      <td>0.139023</td>\n",
       "      <td>0.008749</td>\n",
       "      <td>0.005068</td>\n",
       "      <td>0.054337</td>\n",
       "      <td>0.034753</td>\n",
       "      <td>0.029614</td>\n",
       "      <td>0.103636</td>\n",
       "      <td>0.000494</td>\n",
       "      <td>0.006186</td>\n",
       "      <td>0.036778</td>\n",
       "      <td>...</td>\n",
       "      <td>0.050156</td>\n",
       "      <td>0.145660</td>\n",
       "      <td>0.244898</td>\n",
       "      <td>0.108775</td>\n",
       "      <td>0.252828</td>\n",
       "      <td>0.051603</td>\n",
       "      <td>0.025214</td>\n",
       "      <td>0.073684</td>\n",
       "      <td>0.039292</td>\n",
       "      <td>0.090245</td>\n",
       "    </tr>\n",
       "    <tr>\n",
       "      <th>Изменение цены на нефть за месяц</th>\n",
       "      <td>0.072358</td>\n",
       "      <td>0.011343</td>\n",
       "      <td>0.000491</td>\n",
       "      <td>0.000285</td>\n",
       "      <td>0.023408</td>\n",
       "      <td>0.013703</td>\n",
       "      <td>0.084007</td>\n",
       "      <td>0.000397</td>\n",
       "      <td>0.003077</td>\n",
       "      <td>0.049346</td>\n",
       "      <td>...</td>\n",
       "      <td>0.120799</td>\n",
       "      <td>0.080051</td>\n",
       "      <td>0.102377</td>\n",
       "      <td>0.059603</td>\n",
       "      <td>0.020418</td>\n",
       "      <td>0.119499</td>\n",
       "      <td>0.002907</td>\n",
       "      <td>0.099730</td>\n",
       "      <td>0.019538</td>\n",
       "      <td>0.047001</td>\n",
       "    </tr>\n",
       "  </tbody>\n",
       "</table>\n",
       "<p>18 rows × 49 columns</p>\n",
       "</div>"
      ],
      "text/plain": [
       "                                     importance_SBER  importance_GAZP  \\\n",
       "factor                                                                  \n",
       "Премия за рыночный риск                     0.340225         0.743581   \n",
       "Доходность самой акции лаг месяц            0.025913         0.015700   \n",
       "Доходность самой акции лаг 2 месяца         0.012651         0.013014   \n",
       "Доходность самой акции лаг 3 месяца         0.016223         0.007907   \n",
       "SMB                                         0.046576         0.015369   \n",
       "HML                                         0.019889         0.008731   \n",
       "SMB лаг месяц                               0.024916         0.028807   \n",
       "HML лаг месяц                               0.045786         0.057728   \n",
       "SMB лаг 2 месяца                            0.027076         0.014881   \n",
       "HML лаг 2 месяца                            0.032042         0.009841   \n",
       "SMB лаг 3 месяца                            0.019706         0.012223   \n",
       "HML лаг 3 месяца                            0.045679         0.017503   \n",
       "MOM                                         0.021365         0.007884   \n",
       "MOM лаг месяц                               0.073908         0.010994   \n",
       "MOM лаг 2 месяца                            0.020755         0.010389   \n",
       "MOM лаг 3 месяца                            0.015910         0.005355   \n",
       "Изменение курса доллара за месяц            0.139023         0.008749   \n",
       "Изменение цены на нефть за месяц            0.072358         0.011343   \n",
       "\n",
       "                                     importance_LKOH  importance_GMKN  \\\n",
       "factor                                                                  \n",
       "Премия за рыночный риск                     0.935204         0.818193   \n",
       "Доходность самой акции лаг месяц            0.000171         0.003555   \n",
       "Доходность самой акции лаг 2 месяца         0.000764         0.004628   \n",
       "Доходность самой акции лаг 3 месяца         0.000000         0.000237   \n",
       "SMB                                         0.000103         0.000999   \n",
       "HML                                         0.000000         0.000663   \n",
       "SMB лаг месяц                               0.013817         0.005466   \n",
       "HML лаг месяц                               0.000240         0.055730   \n",
       "SMB лаг 2 месяца                            0.000389         0.000000   \n",
       "HML лаг 2 месяца                            0.000219         0.010654   \n",
       "SMB лаг 3 месяца                            0.000512         0.003561   \n",
       "HML лаг 3 месяца                            0.000000         0.002216   \n",
       "MOM                                         0.001350         0.003292   \n",
       "MOM лаг месяц                               0.034509         0.001565   \n",
       "MOM лаг 2 месяца                            0.000325         0.033440   \n",
       "MOM лаг 3 месяца                            0.006839         0.001178   \n",
       "Изменение курса доллара за месяц            0.005068         0.054337   \n",
       "Изменение цены на нефть за месяц            0.000491         0.000285   \n",
       "\n",
       "                                     importance_NVTK  importance_SNGS  \\\n",
       "factor                                                                  \n",
       "Премия за рыночный риск                     0.801094         0.377429   \n",
       "Доходность самой акции лаг месяц            0.007573         0.087496   \n",
       "Доходность самой акции лаг 2 месяца         0.003920         0.019474   \n",
       "Доходность самой акции лаг 3 месяца         0.000423         0.008479   \n",
       "SMB                                         0.000347         0.032409   \n",
       "HML                                         0.000837         0.035924   \n",
       "SMB лаг месяц                               0.036571         0.012231   \n",
       "HML лаг месяц                               0.019254         0.071039   \n",
       "SMB лаг 2 месяца                            0.007195         0.022722   \n",
       "HML лаг 2 месяца                            0.000328         0.057887   \n",
       "SMB лаг 3 месяца                            0.009819         0.013405   \n",
       "HML лаг 3 месяца                            0.003020         0.120427   \n",
       "MOM                                         0.002137         0.013994   \n",
       "MOM лаг месяц                               0.001053         0.016995   \n",
       "MOM лаг 2 месяца                            0.016906         0.063115   \n",
       "MOM лаг 3 месяца                            0.031362         0.003657   \n",
       "Изменение курса доллара за месяц            0.034753         0.029614   \n",
       "Изменение цены на нефть за месяц            0.023408         0.013703   \n",
       "\n",
       "                                     importance_PLZL  importance_TATN  \\\n",
       "factor                                                                  \n",
       "Премия за рыночный риск                     0.013233         0.867488   \n",
       "Доходность самой акции лаг месяц            0.050000         0.000000   \n",
       "Доходность самой акции лаг 2 месяца         0.195447         0.000000   \n",
       "Доходность самой акции лаг 3 месяца         0.018566         0.000407   \n",
       "SMB                                         0.009745         0.001590   \n",
       "HML                                         0.017447         0.000000   \n",
       "SMB лаг месяц                               0.092837         0.008081   \n",
       "HML лаг месяц                               0.011085         0.002698   \n",
       "SMB лаг 2 месяца                            0.028766         0.000659   \n",
       "HML лаг 2 месяца                            0.139744         0.002673   \n",
       "SMB лаг 3 месяца                            0.012455         0.000000   \n",
       "HML лаг 3 месяца                            0.043687         0.000000   \n",
       "MOM                                         0.056789         0.000000   \n",
       "MOM лаг месяц                               0.015868         0.000212   \n",
       "MOM лаг 2 месяца                            0.004336         0.114907   \n",
       "MOM лаг 3 месяца                            0.102352         0.000394   \n",
       "Изменение курса доллара за месяц            0.103636         0.000494   \n",
       "Изменение цены на нефть за месяц            0.084007         0.000397   \n",
       "\n",
       "                                     importance_ROSN  importance_MGNT  ...  \\\n",
       "factor                                                                 ...   \n",
       "Премия за рыночный риск                     0.865053         0.140956  ...   \n",
       "Доходность самой акции лаг месяц            0.009518         0.022998  ...   \n",
       "Доходность самой акции лаг 2 месяца         0.013585         0.095192  ...   \n",
       "Доходность самой акции лаг 3 месяца         0.005520         0.057083  ...   \n",
       "SMB                                         0.016402         0.053620  ...   \n",
       "HML                                         0.002114         0.068228  ...   \n",
       "SMB лаг месяц                               0.003570         0.054393  ...   \n",
       "HML лаг месяц                               0.005922         0.066900  ...   \n",
       "SMB лаг 2 месяца                            0.028016         0.058518  ...   \n",
       "HML лаг 2 месяца                            0.004073         0.032941  ...   \n",
       "SMB лаг 3 месяца                            0.004729         0.023064  ...   \n",
       "HML лаг 3 месяца                            0.000790         0.054379  ...   \n",
       "MOM                                         0.003719         0.036368  ...   \n",
       "MOM лаг месяц                               0.000300         0.081072  ...   \n",
       "MOM лаг 2 месяца                            0.009088         0.049910  ...   \n",
       "MOM лаг 3 месяца                            0.018340         0.018253  ...   \n",
       "Изменение курса доллара за месяц            0.006186         0.036778  ...   \n",
       "Изменение цены на нефть за месяц            0.003077         0.049346  ...   \n",
       "\n",
       "                                     importance_GCHE  importance_SVAV  \\\n",
       "factor                                                                  \n",
       "Премия за рыночный риск                     0.081371         0.135071   \n",
       "Доходность самой акции лаг месяц            0.026540         0.048210   \n",
       "Доходность самой акции лаг 2 месяца         0.097935         0.024224   \n",
       "Доходность самой акции лаг 3 месяца         0.020870         0.059456   \n",
       "SMB                                         0.010377         0.022400   \n",
       "HML                                         0.019271         0.067565   \n",
       "SMB лаг месяц                               0.224973         0.108801   \n",
       "HML лаг месяц                               0.046308         0.033182   \n",
       "SMB лаг 2 месяца                            0.031421         0.027209   \n",
       "HML лаг 2 месяца                            0.058638         0.030297   \n",
       "SMB лаг 3 месяца                            0.048893         0.013810   \n",
       "HML лаг 3 месяца                            0.050775         0.042704   \n",
       "MOM                                         0.007208         0.018429   \n",
       "MOM лаг месяц                               0.071739         0.085507   \n",
       "MOM лаг 2 месяца                            0.015152         0.030316   \n",
       "MOM лаг 3 месяца                            0.017574         0.027108   \n",
       "Изменение курса доллара за месяц            0.050156         0.145660   \n",
       "Изменение цены на нефть за месяц            0.120799         0.080051   \n",
       "\n",
       "                                     importance_MSTT  importance_BSPB  \\\n",
       "factor                                                                  \n",
       "Премия за рыночный риск                     0.101331         0.224767   \n",
       "Доходность самой акции лаг месяц            0.015365         0.025234   \n",
       "Доходность самой акции лаг 2 месяца         0.010249         0.031397   \n",
       "Доходность самой акции лаг 3 месяца         0.037029         0.036815   \n",
       "SMB                                         0.020891         0.027466   \n",
       "HML                                         0.031003         0.026069   \n",
       "SMB лаг месяц                               0.059242         0.079598   \n",
       "HML лаг месяц                               0.109553         0.051573   \n",
       "SMB лаг 2 месяца                            0.023571         0.024001   \n",
       "HML лаг 2 месяца                            0.037265         0.074716   \n",
       "SMB лаг 3 месяца                            0.046177         0.027271   \n",
       "HML лаг 3 месяца                            0.066080         0.037916   \n",
       "MOM                                         0.009880         0.018840   \n",
       "MOM лаг месяц                               0.024128         0.053767   \n",
       "MOM лаг 2 месяца                            0.028241         0.037059   \n",
       "MOM лаг 3 месяца                            0.032720         0.055133   \n",
       "Изменение курса доллара за месяц            0.244898         0.108775   \n",
       "Изменение цены на нефть за месяц            0.102377         0.059603   \n",
       "\n",
       "                                     importance_MSRS  importance_KMAZ  \\\n",
       "factor                                                                  \n",
       "Премия за рыночный риск                     0.399686         0.146380   \n",
       "Доходность самой акции лаг месяц            0.007430         0.032548   \n",
       "Доходность самой акции лаг 2 месяца         0.007796         0.089786   \n",
       "Доходность самой акции лаг 3 месяца         0.165674         0.052595   \n",
       "SMB                                         0.004495         0.038282   \n",
       "HML                                         0.000647         0.139478   \n",
       "SMB лаг месяц                               0.000850         0.029479   \n",
       "HML лаг месяц                               0.002500         0.038663   \n",
       "SMB лаг 2 месяца                            0.042329         0.045148   \n",
       "HML лаг 2 месяца                            0.012886         0.027051   \n",
       "SMB лаг 3 месяца                            0.008616         0.036304   \n",
       "HML лаг 3 месяца                            0.041849         0.087547   \n",
       "MOM                                         0.000335         0.006466   \n",
       "MOM лаг месяц                               0.028873         0.032983   \n",
       "MOM лаг 2 месяца                            0.002064         0.011604   \n",
       "MOM лаг 3 месяца                            0.000724         0.014583   \n",
       "Изменение курса доллара за месяц            0.252828         0.051603   \n",
       "Изменение цены на нефть за месяц            0.020418         0.119499   \n",
       "\n",
       "                                     importance_RASP  importance_OGKB  \\\n",
       "factor                                                                  \n",
       "Премия за рыночный риск                     0.550670         0.259793   \n",
       "Доходность самой акции лаг месяц            0.048175         0.008753   \n",
       "Доходность самой акции лаг 2 месяца         0.076186         0.047736   \n",
       "Доходность самой акции лаг 3 месяца         0.011595         0.009229   \n",
       "SMB                                         0.008091         0.020725   \n",
       "HML                                         0.010612         0.014364   \n",
       "SMB лаг месяц                               0.110658         0.100936   \n",
       "HML лаг месяц                               0.021738         0.202049   \n",
       "SMB лаг 2 месяца                            0.004191         0.024808   \n",
       "HML лаг 2 месяца                            0.043592         0.015997   \n",
       "SMB лаг 3 месяца                            0.030726         0.014871   \n",
       "HML лаг 3 месяца                            0.025670         0.062769   \n",
       "MOM                                         0.009122         0.004903   \n",
       "MOM лаг месяц                               0.006985         0.013970   \n",
       "MOM лаг 2 месяца                            0.007408         0.013669   \n",
       "MOM лаг 3 месяца                            0.006460         0.012013   \n",
       "Изменение курса доллара за месяц            0.025214         0.073684   \n",
       "Изменение цены на нефть за месяц            0.002907         0.099730   \n",
       "\n",
       "                                     importance_VZRZ  средняя важность  \n",
       "factor                                                                  \n",
       "Премия за рыночный риск                     0.057356          0.346773  \n",
       "Доходность самой акции лаг месяц            0.009902          0.028902  \n",
       "Доходность самой акции лаг 2 месяца         0.018947          0.034753  \n",
       "Доходность самой акции лаг 3 месяца         0.043034          0.026672  \n",
       "SMB                                         0.131696          0.032261  \n",
       "HML                                         0.039712          0.029907  \n",
       "SMB лаг месяц                               0.152503          0.065286  \n",
       "HML лаг месяц                               0.009007          0.076170  \n",
       "SMB лаг 2 месяца                            0.015358          0.025799  \n",
       "HML лаг 2 месяца                            0.035384          0.041297  \n",
       "SMB лаг 3 месяца                            0.043640          0.025077  \n",
       "HML лаг 3 месяца                            0.247632          0.042200  \n",
       "MOM                                         0.027002          0.017755  \n",
       "MOM лаг месяц                               0.044580          0.026578  \n",
       "MOM лаг 2 месяца                            0.020622          0.027539  \n",
       "MOM лаг 3 месяца                            0.044795          0.015787  \n",
       "Изменение курса доллара за месяц            0.039292          0.090245  \n",
       "Изменение цены на нефть за месяц            0.019538          0.047001  \n",
       "\n",
       "[18 rows x 49 columns]"
      ]
     },
     "execution_count": 44,
     "metadata": {},
     "output_type": "execute_result"
    }
   ],
   "source": [
    "lag_autolag_return_30 = 30\n",
    "lag_autolag_return_60 = 60\n",
    "lag_autolag_return_90 = 90\n",
    "lag_30 = 30\n",
    "lag_60 = 60\n",
    "lag_90 = 90\n",
    "\n",
    "A = ['Премия за рыночный риск', 'Доходность самой акции лаг месяц', 'Доходность самой акции лаг 2 месяца',\n",
    "     'Доходность самой акции лаг 3 месяца',\n",
    "     'SMB','HML','SMB лаг месяц','HML лаг месяц','SMB лаг 2 месяца','HML лаг 2 месяца',\n",
    "     'SMB лаг 3 месяца', 'HML лаг 3 месяца', 'MOM', 'MOM лаг месяц','MOM лаг 2 месяца',\n",
    "     'MOM лаг 3 месяца','Изменение курса доллара за месяц','Изменение цены на нефть за месяц']\n",
    "\n",
    "B = pd.DataFrame(A).rename(columns={0:'factor'}).set_index('factor')\n",
    "\n",
    "\n",
    "\n",
    "for name in data_ret.columns[2:]:\n",
    "\n",
    "    df1 = data[[name, 'Hamada_beta_MRP_for_{}'.format(name[7:11]), 'risk_free_rate_based_on_g_curve',\n",
    "                     'Hamada_d_mcap_ratio_SMB_for_{}'.format(name[7:11]),\n",
    "                     'Hamada_d_mcap_ratio_HML_for_{}'.format(name[7:11]),\n",
    "                     'MOM']].dropna()\n",
    "    df_autolag = pd.DataFrame(data[name] - data['risk_free_rate_based_on_g_curve']).rename(columns = {0:'{}_premium_lag_{}_days'.format(name[7:], lag_autolag_return_30)})\n",
    "    df_autolag = pd.DataFrame(df_autolag['{}_premium_lag_{}_days'.format(name[7:], lag_autolag_return_30)].shift(lag_autolag_return_30).dropna())\n",
    "\n",
    "    df_autolag_2 = pd.DataFrame(data[name] - data['risk_free_rate_based_on_g_curve']).rename(columns = {0:'{}_premium_lag_{}_days'.format(name[7:], lag_autolag_return_60)})\n",
    "    df_autolag_2 = pd.DataFrame(df_autolag_2['{}_premium_lag_{}_days'.format(name[7:], lag_autolag_return_60)].shift(lag_autolag_return_60).dropna())\n",
    "\n",
    "    df_autolag_3 = pd.DataFrame(data[name] - data['risk_free_rate_based_on_g_curve']).rename(columns = {0:'{}_premium_lag_{}_days'.format(name[7:], lag_autolag_return_90)})\n",
    "    df_autolag_3 = pd.DataFrame(df_autolag_3['{}_premium_lag_{}_days'.format(name[7:], lag_autolag_return_90)].shift(lag_autolag_return_90).dropna())\n",
    "\n",
    "    df2 = data[['Hamada_d_mcap_ratio_SMB_for_{}'.format(name[7:11]),\n",
    "            'Hamada_d_mcap_ratio_HML_for_{}'.format(name[7:11]), 'MOM']].shift(lag_30).dropna()\n",
    "\n",
    "\n",
    "\n",
    "    df2.rename(columns = {'Hamada_d_mcap_ratio_SMB_for_{}'.format(name[7:11]):'Hamada_d_mcap_ratio_SMB_for_{}_lag_{}_days'.format(name[7:11], lag_30),\n",
    "                          'Hamada_d_mcap_ratio_HML_for_{}'.format(name[7:11]):'Hamada_d_mcap_ratio_HML_for_{}_lag_{}_days'.format(name[7:11], lag_30), \n",
    "                          'MOM':'MOM_lag_{}_days'.format(lag_30)}, inplace = True)\n",
    "\n",
    "    result = pd.concat([df1, df2], axis=1, join=\"inner\")\n",
    "\n",
    "    df3 = data[['Hamada_d_mcap_ratio_SMB_for_{}'.format(name[7:11]),\n",
    "            'Hamada_d_mcap_ratio_HML_for_{}'.format(name[7:11]), 'MOM']].shift(lag_60).dropna()\n",
    "\n",
    "    df3.rename(columns = {'Hamada_d_mcap_ratio_SMB_for_{}'.format(name[7:11]):'Hamada_d_mcap_ratio_SMB_for_{}_lag_{}_days'.format(name[7:11], lag_60),\n",
    "                          'Hamada_d_mcap_ratio_HML_for_{}'.format(name[7:11]):'Hamada_d_mcap_ratio_HML_for_{}_lag_{}_days'.format(name[7:11], lag_60), \n",
    "                          'MOM':'MOM_lag_{}_days'.format(lag_60)}, inplace = True)\n",
    "\n",
    "    result = pd.concat([result, df3], axis=1, join=\"inner\")\n",
    "\n",
    "    df4 = data[['Hamada_d_mcap_ratio_SMB_for_{}'.format(name[7:11]),\n",
    "            'Hamada_d_mcap_ratio_HML_for_{}'.format(name[7:11]), 'MOM']].shift(lag_90).dropna()\n",
    "\n",
    "    df4.rename(columns = {'Hamada_d_mcap_ratio_SMB_for_{}'.format(name[7:11]):'Hamada_d_mcap_ratio_SMB_for_{}_lag_{}_days'.format(name[7:11], lag_90),\n",
    "                          'Hamada_d_mcap_ratio_HML_for_{}'.format(name[7:11]):'Hamada_d_mcap_ratio_HML_for_{}_lag_{}_days'.format(name[7:11], lag_90), \n",
    "                          'MOM':'MOM_lag_{}_days'.format(lag_90)}, inplace = True)\n",
    "\n",
    "    result = pd.concat([result, df4], axis=1, join=\"inner\")\n",
    "\n",
    "    result = pd.merge(result, macro_data, left_index=True, right_index=True)\n",
    "    result = pd.merge(result, df_autolag, left_index=True, right_index=True)\n",
    "    result = pd.merge(result, df_autolag_2, left_index=True, right_index=True)\n",
    "    result = pd.merge(result, df_autolag_3, left_index=True, right_index=True)\n",
    "    result['{}_Equity_premium'.format(name[7:14])] = result[name] - result['risk_free_rate_based_on_g_curve']\n",
    "\n",
    "    share = '{}_Equity_premium'.format(name[7:14])\n",
    "\n",
    "    print(\"###############################################\")\n",
    "\n",
    "    print(\"ML models for {}\".format(share))\n",
    "    dta = result.dropna()\n",
    "\n",
    "    X_train = dta.iloc[:round(len(dta) - len(dta)/4),:][['Hamada_beta_MRP_for_{}'.format(name[7:11]), \n",
    "              '{}_premium_lag_{}_days'.format(name[7:], lag_autolag_return_30),\n",
    "              '{}_premium_lag_{}_days'.format(name[7:], lag_autolag_return_60),\n",
    "              '{}_premium_lag_{}_days'.format(name[7:], lag_autolag_return_90),\n",
    "              'Hamada_d_mcap_ratio_SMB_for_{}'.format(name[7:11]),\n",
    "              'Hamada_d_mcap_ratio_HML_for_{}'.format(name[7:11]), \n",
    "              'Hamada_d_mcap_ratio_SMB_for_{}_lag_{}_days'.format(name[7:11], lag_30),\n",
    "              'Hamada_d_mcap_ratio_HML_for_{}_lag_{}_days'.format(name[7:11], lag_30),\n",
    "              'Hamada_d_mcap_ratio_SMB_for_{}_lag_{}_days'.format(name[7:11], lag_60),\n",
    "              'Hamada_d_mcap_ratio_HML_for_{}_lag_{}_days'.format(name[7:11], lag_60),\n",
    "              'Hamada_d_mcap_ratio_SMB_for_{}_lag_{}_days'.format(name[7:11], lag_90),\n",
    "              'Hamada_d_mcap_ratio_HML_for_{}_lag_{}_days'.format(name[7:11], lag_90),\n",
    "              'MOM','MOM_lag_{}_days'.format(lag_30),'MOM_lag_{}_days'.format(lag_60),\n",
    "              'MOM_lag_{}_days'.format(lag_90),'dollar_30d_return','wti_30d_return']]\n",
    "    X_test = dta.iloc[-round(len(dta)/4):,:][['Hamada_beta_MRP_for_{}'.format(name[7:11]), \n",
    "              '{}_premium_lag_{}_days'.format(name[7:], lag_autolag_return_30),\n",
    "              '{}_premium_lag_{}_days'.format(name[7:], lag_autolag_return_60),\n",
    "              '{}_premium_lag_{}_days'.format(name[7:], lag_autolag_return_90),\n",
    "              'Hamada_d_mcap_ratio_SMB_for_{}'.format(name[7:11]),\n",
    "              'Hamada_d_mcap_ratio_HML_for_{}'.format(name[7:11]), \n",
    "              'Hamada_d_mcap_ratio_SMB_for_{}_lag_{}_days'.format(name[7:11], lag_30),\n",
    "              'Hamada_d_mcap_ratio_HML_for_{}_lag_{}_days'.format(name[7:11], lag_30),\n",
    "              'Hamada_d_mcap_ratio_SMB_for_{}_lag_{}_days'.format(name[7:11], lag_60),\n",
    "              'Hamada_d_mcap_ratio_HML_for_{}_lag_{}_days'.format(name[7:11], lag_60),\n",
    "              'Hamada_d_mcap_ratio_SMB_for_{}_lag_{}_days'.format(name[7:11], lag_90),\n",
    "              'Hamada_d_mcap_ratio_HML_for_{}_lag_{}_days'.format(name[7:11], lag_90),\n",
    "              'MOM','MOM_lag_{}_days'.format(lag_30),'MOM_lag_{}_days'.format(lag_60),\n",
    "              'MOM_lag_{}_days'.format(lag_90),'dollar_30d_return','wti_30d_return']]\n",
    "    y_train = dta.iloc[:round(len(dta) - len(dta)/4),:][share]\n",
    "    y_test = dta.iloc[-round(len(dta)/4):,:][share]\n",
    "    \n",
    "    rf = RandomForestRegressor(n_estimators = ast.literal_eval(ml_results_best_params.loc[share,'RF_best_params'])['n_estimators'],\n",
    "                      max_features=ast.literal_eval(ml_results_best_params.loc[share,'RF_best_params'])['max_features'],\n",
    "                      min_samples_leaf=ast.literal_eval(ml_results_best_params.loc[share,'RF_best_params'])['min_samples_leaf'],\n",
    "                      min_samples_split=ast.literal_eval(ml_results_best_params.loc[share,'RF_best_params'])['min_samples_split'],\n",
    "                      max_depth=ast.literal_eval(ml_results_best_params.loc[share,'RF_best_params'])['max_depth'],\n",
    "                      bootstrap = ast.literal_eval(ml_results_best_params.loc[share,'RF_best_params'])['bootstrap'])\n",
    "    rf.fit(X_train, y_train)\n",
    "\n",
    "    df_2 = pd.DataFrame(rf.feature_importances_, X_train.columns).reset_index().rename(columns={0:'importance_{}'.format(share[:4]),\n",
    "                                                                                         'index':'factor'})\n",
    "    df_2['factor'] = A\n",
    "    df_2.set_index('factor', inplace = True)\n",
    "    B = pd.concat([B, df_2], axis = 1)\n",
    "B['средняя важность'] = B.mean(axis=1)\n",
    "B"
   ]
  },
  {
   "cell_type": "markdown",
   "metadata": {},
   "source": [
    "# Plot the results"
   ]
  },
  {
   "cell_type": "code",
   "execution_count": 45,
   "metadata": {},
   "outputs": [
    {
     "data": {
      "application/vnd.plotly.v1+json": {
       "config": {
        "plotlyServerURL": "https://plot.ly"
       },
       "data": [
        {
         "mode": "lines+markers",
         "name": "RF",
         "type": "scatter",
         "x": [
          "Премия за рыночный риск",
          "Изменение курса доллара за месяц",
          "HML лаг месяц",
          "SMB лаг месяц",
          "Изменение цены на нефть за месяц",
          "HML лаг 3 месяца",
          "HML лаг 2 месяца",
          "Доходность самой акции лаг 2 месяца",
          "SMB",
          "HML",
          "Доходность самой акции лаг месяц",
          "MOM лаг 2 месяца",
          "Доходность самой акции лаг 3 месяца",
          "MOM лаг месяц",
          "SMB лаг 2 месяца",
          "SMB лаг 3 месяца",
          "MOM",
          "MOM лаг 3 месяца"
         ],
         "y": [
          0.3467731378862402,
          0.09024462805703369,
          0.07617004366254597,
          0.0652859759924083,
          0.04700099487231945,
          0.04220030347943791,
          0.041297339938581985,
          0.03475259644347054,
          0.03226066437564939,
          0.02990667287909922,
          0.028901639665762088,
          0.0275386006399166,
          0.02667205349140184,
          0.026578477883846253,
          0.02579857471957463,
          0.025076655084295376,
          0.017754920173932317,
          0.01578672075448423
         ]
        }
       ],
       "layout": {
        "autosize": false,
        "height": 700,
        "template": {
         "data": {
          "bar": [
           {
            "error_x": {
             "color": "#2a3f5f"
            },
            "error_y": {
             "color": "#2a3f5f"
            },
            "marker": {
             "line": {
              "color": "#E5ECF6",
              "width": 0.5
             }
            },
            "type": "bar"
           }
          ],
          "barpolar": [
           {
            "marker": {
             "line": {
              "color": "#E5ECF6",
              "width": 0.5
             }
            },
            "type": "barpolar"
           }
          ],
          "carpet": [
           {
            "aaxis": {
             "endlinecolor": "#2a3f5f",
             "gridcolor": "white",
             "linecolor": "white",
             "minorgridcolor": "white",
             "startlinecolor": "#2a3f5f"
            },
            "baxis": {
             "endlinecolor": "#2a3f5f",
             "gridcolor": "white",
             "linecolor": "white",
             "minorgridcolor": "white",
             "startlinecolor": "#2a3f5f"
            },
            "type": "carpet"
           }
          ],
          "choropleth": [
           {
            "colorbar": {
             "outlinewidth": 0,
             "ticks": ""
            },
            "type": "choropleth"
           }
          ],
          "contour": [
           {
            "colorbar": {
             "outlinewidth": 0,
             "ticks": ""
            },
            "colorscale": [
             [
              0,
              "#0d0887"
             ],
             [
              0.1111111111111111,
              "#46039f"
             ],
             [
              0.2222222222222222,
              "#7201a8"
             ],
             [
              0.3333333333333333,
              "#9c179e"
             ],
             [
              0.4444444444444444,
              "#bd3786"
             ],
             [
              0.5555555555555556,
              "#d8576b"
             ],
             [
              0.6666666666666666,
              "#ed7953"
             ],
             [
              0.7777777777777778,
              "#fb9f3a"
             ],
             [
              0.8888888888888888,
              "#fdca26"
             ],
             [
              1,
              "#f0f921"
             ]
            ],
            "type": "contour"
           }
          ],
          "contourcarpet": [
           {
            "colorbar": {
             "outlinewidth": 0,
             "ticks": ""
            },
            "type": "contourcarpet"
           }
          ],
          "heatmap": [
           {
            "colorbar": {
             "outlinewidth": 0,
             "ticks": ""
            },
            "colorscale": [
             [
              0,
              "#0d0887"
             ],
             [
              0.1111111111111111,
              "#46039f"
             ],
             [
              0.2222222222222222,
              "#7201a8"
             ],
             [
              0.3333333333333333,
              "#9c179e"
             ],
             [
              0.4444444444444444,
              "#bd3786"
             ],
             [
              0.5555555555555556,
              "#d8576b"
             ],
             [
              0.6666666666666666,
              "#ed7953"
             ],
             [
              0.7777777777777778,
              "#fb9f3a"
             ],
             [
              0.8888888888888888,
              "#fdca26"
             ],
             [
              1,
              "#f0f921"
             ]
            ],
            "type": "heatmap"
           }
          ],
          "heatmapgl": [
           {
            "colorbar": {
             "outlinewidth": 0,
             "ticks": ""
            },
            "colorscale": [
             [
              0,
              "#0d0887"
             ],
             [
              0.1111111111111111,
              "#46039f"
             ],
             [
              0.2222222222222222,
              "#7201a8"
             ],
             [
              0.3333333333333333,
              "#9c179e"
             ],
             [
              0.4444444444444444,
              "#bd3786"
             ],
             [
              0.5555555555555556,
              "#d8576b"
             ],
             [
              0.6666666666666666,
              "#ed7953"
             ],
             [
              0.7777777777777778,
              "#fb9f3a"
             ],
             [
              0.8888888888888888,
              "#fdca26"
             ],
             [
              1,
              "#f0f921"
             ]
            ],
            "type": "heatmapgl"
           }
          ],
          "histogram": [
           {
            "marker": {
             "colorbar": {
              "outlinewidth": 0,
              "ticks": ""
             }
            },
            "type": "histogram"
           }
          ],
          "histogram2d": [
           {
            "colorbar": {
             "outlinewidth": 0,
             "ticks": ""
            },
            "colorscale": [
             [
              0,
              "#0d0887"
             ],
             [
              0.1111111111111111,
              "#46039f"
             ],
             [
              0.2222222222222222,
              "#7201a8"
             ],
             [
              0.3333333333333333,
              "#9c179e"
             ],
             [
              0.4444444444444444,
              "#bd3786"
             ],
             [
              0.5555555555555556,
              "#d8576b"
             ],
             [
              0.6666666666666666,
              "#ed7953"
             ],
             [
              0.7777777777777778,
              "#fb9f3a"
             ],
             [
              0.8888888888888888,
              "#fdca26"
             ],
             [
              1,
              "#f0f921"
             ]
            ],
            "type": "histogram2d"
           }
          ],
          "histogram2dcontour": [
           {
            "colorbar": {
             "outlinewidth": 0,
             "ticks": ""
            },
            "colorscale": [
             [
              0,
              "#0d0887"
             ],
             [
              0.1111111111111111,
              "#46039f"
             ],
             [
              0.2222222222222222,
              "#7201a8"
             ],
             [
              0.3333333333333333,
              "#9c179e"
             ],
             [
              0.4444444444444444,
              "#bd3786"
             ],
             [
              0.5555555555555556,
              "#d8576b"
             ],
             [
              0.6666666666666666,
              "#ed7953"
             ],
             [
              0.7777777777777778,
              "#fb9f3a"
             ],
             [
              0.8888888888888888,
              "#fdca26"
             ],
             [
              1,
              "#f0f921"
             ]
            ],
            "type": "histogram2dcontour"
           }
          ],
          "mesh3d": [
           {
            "colorbar": {
             "outlinewidth": 0,
             "ticks": ""
            },
            "type": "mesh3d"
           }
          ],
          "parcoords": [
           {
            "line": {
             "colorbar": {
              "outlinewidth": 0,
              "ticks": ""
             }
            },
            "type": "parcoords"
           }
          ],
          "pie": [
           {
            "automargin": true,
            "type": "pie"
           }
          ],
          "scatter": [
           {
            "marker": {
             "colorbar": {
              "outlinewidth": 0,
              "ticks": ""
             }
            },
            "type": "scatter"
           }
          ],
          "scatter3d": [
           {
            "line": {
             "colorbar": {
              "outlinewidth": 0,
              "ticks": ""
             }
            },
            "marker": {
             "colorbar": {
              "outlinewidth": 0,
              "ticks": ""
             }
            },
            "type": "scatter3d"
           }
          ],
          "scattercarpet": [
           {
            "marker": {
             "colorbar": {
              "outlinewidth": 0,
              "ticks": ""
             }
            },
            "type": "scattercarpet"
           }
          ],
          "scattergeo": [
           {
            "marker": {
             "colorbar": {
              "outlinewidth": 0,
              "ticks": ""
             }
            },
            "type": "scattergeo"
           }
          ],
          "scattergl": [
           {
            "marker": {
             "colorbar": {
              "outlinewidth": 0,
              "ticks": ""
             }
            },
            "type": "scattergl"
           }
          ],
          "scattermapbox": [
           {
            "marker": {
             "colorbar": {
              "outlinewidth": 0,
              "ticks": ""
             }
            },
            "type": "scattermapbox"
           }
          ],
          "scatterpolar": [
           {
            "marker": {
             "colorbar": {
              "outlinewidth": 0,
              "ticks": ""
             }
            },
            "type": "scatterpolar"
           }
          ],
          "scatterpolargl": [
           {
            "marker": {
             "colorbar": {
              "outlinewidth": 0,
              "ticks": ""
             }
            },
            "type": "scatterpolargl"
           }
          ],
          "scatterternary": [
           {
            "marker": {
             "colorbar": {
              "outlinewidth": 0,
              "ticks": ""
             }
            },
            "type": "scatterternary"
           }
          ],
          "surface": [
           {
            "colorbar": {
             "outlinewidth": 0,
             "ticks": ""
            },
            "colorscale": [
             [
              0,
              "#0d0887"
             ],
             [
              0.1111111111111111,
              "#46039f"
             ],
             [
              0.2222222222222222,
              "#7201a8"
             ],
             [
              0.3333333333333333,
              "#9c179e"
             ],
             [
              0.4444444444444444,
              "#bd3786"
             ],
             [
              0.5555555555555556,
              "#d8576b"
             ],
             [
              0.6666666666666666,
              "#ed7953"
             ],
             [
              0.7777777777777778,
              "#fb9f3a"
             ],
             [
              0.8888888888888888,
              "#fdca26"
             ],
             [
              1,
              "#f0f921"
             ]
            ],
            "type": "surface"
           }
          ],
          "table": [
           {
            "cells": {
             "fill": {
              "color": "#EBF0F8"
             },
             "line": {
              "color": "white"
             }
            },
            "header": {
             "fill": {
              "color": "#C8D4E3"
             },
             "line": {
              "color": "white"
             }
            },
            "type": "table"
           }
          ]
         },
         "layout": {
          "annotationdefaults": {
           "arrowcolor": "#2a3f5f",
           "arrowhead": 0,
           "arrowwidth": 1
          },
          "coloraxis": {
           "colorbar": {
            "outlinewidth": 0,
            "ticks": ""
           }
          },
          "colorscale": {
           "diverging": [
            [
             0,
             "#8e0152"
            ],
            [
             0.1,
             "#c51b7d"
            ],
            [
             0.2,
             "#de77ae"
            ],
            [
             0.3,
             "#f1b6da"
            ],
            [
             0.4,
             "#fde0ef"
            ],
            [
             0.5,
             "#f7f7f7"
            ],
            [
             0.6,
             "#e6f5d0"
            ],
            [
             0.7,
             "#b8e186"
            ],
            [
             0.8,
             "#7fbc41"
            ],
            [
             0.9,
             "#4d9221"
            ],
            [
             1,
             "#276419"
            ]
           ],
           "sequential": [
            [
             0,
             "#0d0887"
            ],
            [
             0.1111111111111111,
             "#46039f"
            ],
            [
             0.2222222222222222,
             "#7201a8"
            ],
            [
             0.3333333333333333,
             "#9c179e"
            ],
            [
             0.4444444444444444,
             "#bd3786"
            ],
            [
             0.5555555555555556,
             "#d8576b"
            ],
            [
             0.6666666666666666,
             "#ed7953"
            ],
            [
             0.7777777777777778,
             "#fb9f3a"
            ],
            [
             0.8888888888888888,
             "#fdca26"
            ],
            [
             1,
             "#f0f921"
            ]
           ],
           "sequentialminus": [
            [
             0,
             "#0d0887"
            ],
            [
             0.1111111111111111,
             "#46039f"
            ],
            [
             0.2222222222222222,
             "#7201a8"
            ],
            [
             0.3333333333333333,
             "#9c179e"
            ],
            [
             0.4444444444444444,
             "#bd3786"
            ],
            [
             0.5555555555555556,
             "#d8576b"
            ],
            [
             0.6666666666666666,
             "#ed7953"
            ],
            [
             0.7777777777777778,
             "#fb9f3a"
            ],
            [
             0.8888888888888888,
             "#fdca26"
            ],
            [
             1,
             "#f0f921"
            ]
           ]
          },
          "colorway": [
           "#636efa",
           "#EF553B",
           "#00cc96",
           "#ab63fa",
           "#FFA15A",
           "#19d3f3",
           "#FF6692",
           "#B6E880",
           "#FF97FF",
           "#FECB52"
          ],
          "font": {
           "color": "#2a3f5f"
          },
          "geo": {
           "bgcolor": "white",
           "lakecolor": "white",
           "landcolor": "#E5ECF6",
           "showlakes": true,
           "showland": true,
           "subunitcolor": "white"
          },
          "hoverlabel": {
           "align": "left"
          },
          "hovermode": "closest",
          "mapbox": {
           "style": "light"
          },
          "paper_bgcolor": "white",
          "plot_bgcolor": "#E5ECF6",
          "polar": {
           "angularaxis": {
            "gridcolor": "white",
            "linecolor": "white",
            "ticks": ""
           },
           "bgcolor": "#E5ECF6",
           "radialaxis": {
            "gridcolor": "white",
            "linecolor": "white",
            "ticks": ""
           }
          },
          "scene": {
           "xaxis": {
            "backgroundcolor": "#E5ECF6",
            "gridcolor": "white",
            "gridwidth": 2,
            "linecolor": "white",
            "showbackground": true,
            "ticks": "",
            "zerolinecolor": "white"
           },
           "yaxis": {
            "backgroundcolor": "#E5ECF6",
            "gridcolor": "white",
            "gridwidth": 2,
            "linecolor": "white",
            "showbackground": true,
            "ticks": "",
            "zerolinecolor": "white"
           },
           "zaxis": {
            "backgroundcolor": "#E5ECF6",
            "gridcolor": "white",
            "gridwidth": 2,
            "linecolor": "white",
            "showbackground": true,
            "ticks": "",
            "zerolinecolor": "white"
           }
          },
          "shapedefaults": {
           "line": {
            "color": "#2a3f5f"
           }
          },
          "ternary": {
           "aaxis": {
            "gridcolor": "white",
            "linecolor": "white",
            "ticks": ""
           },
           "baxis": {
            "gridcolor": "white",
            "linecolor": "white",
            "ticks": ""
           },
           "bgcolor": "#E5ECF6",
           "caxis": {
            "gridcolor": "white",
            "linecolor": "white",
            "ticks": ""
           }
          },
          "title": {
           "x": 0.05
          },
          "xaxis": {
           "automargin": true,
           "gridcolor": "white",
           "linecolor": "white",
           "ticks": "",
           "title": {
            "standoff": 15
           },
           "zerolinecolor": "white",
           "zerolinewidth": 2
          },
          "yaxis": {
           "automargin": true,
           "gridcolor": "white",
           "linecolor": "white",
           "ticks": "",
           "title": {
            "standoff": 15
           },
           "zerolinecolor": "white",
           "zerolinewidth": 2
          }
         }
        },
        "width": 1000,
        "xaxis": {
         "title": {
          "text": "Фактор"
         }
        },
        "yaxis": {
         "title": {
          "text": "Важность фактора"
         }
        }
       }
      },
      "text/html": [
       "<div>                            <div id=\"3f319261-023b-4854-a834-86b094c1f7c4\" class=\"plotly-graph-div\" style=\"height:700px; width:1000px;\"></div>            <script type=\"text/javascript\">                require([\"plotly\"], function(Plotly) {                    window.PLOTLYENV=window.PLOTLYENV || {};                                    if (document.getElementById(\"3f319261-023b-4854-a834-86b094c1f7c4\")) {                    Plotly.newPlot(                        \"3f319261-023b-4854-a834-86b094c1f7c4\",                        [{\"mode\": \"lines+markers\", \"name\": \"RF\", \"type\": \"scatter\", \"x\": [\"\\u041f\\u0440\\u0435\\u043c\\u0438\\u044f \\u0437\\u0430 \\u0440\\u044b\\u043d\\u043e\\u0447\\u043d\\u044b\\u0439 \\u0440\\u0438\\u0441\\u043a\", \"\\u0418\\u0437\\u043c\\u0435\\u043d\\u0435\\u043d\\u0438\\u0435 \\u043a\\u0443\\u0440\\u0441\\u0430 \\u0434\\u043e\\u043b\\u043b\\u0430\\u0440\\u0430 \\u0437\\u0430 \\u043c\\u0435\\u0441\\u044f\\u0446\", \"HML \\u043b\\u0430\\u0433 \\u043c\\u0435\\u0441\\u044f\\u0446\", \"SMB \\u043b\\u0430\\u0433 \\u043c\\u0435\\u0441\\u044f\\u0446\", \"\\u0418\\u0437\\u043c\\u0435\\u043d\\u0435\\u043d\\u0438\\u0435 \\u0446\\u0435\\u043d\\u044b \\u043d\\u0430 \\u043d\\u0435\\u0444\\u0442\\u044c \\u0437\\u0430 \\u043c\\u0435\\u0441\\u044f\\u0446\", \"HML \\u043b\\u0430\\u0433 3 \\u043c\\u0435\\u0441\\u044f\\u0446\\u0430\", \"HML \\u043b\\u0430\\u0433 2 \\u043c\\u0435\\u0441\\u044f\\u0446\\u0430\", \"\\u0414\\u043e\\u0445\\u043e\\u0434\\u043d\\u043e\\u0441\\u0442\\u044c \\u0441\\u0430\\u043c\\u043e\\u0439 \\u0430\\u043a\\u0446\\u0438\\u0438 \\u043b\\u0430\\u0433 2 \\u043c\\u0435\\u0441\\u044f\\u0446\\u0430\", \"SMB\", \"HML\", \"\\u0414\\u043e\\u0445\\u043e\\u0434\\u043d\\u043e\\u0441\\u0442\\u044c \\u0441\\u0430\\u043c\\u043e\\u0439 \\u0430\\u043a\\u0446\\u0438\\u0438 \\u043b\\u0430\\u0433 \\u043c\\u0435\\u0441\\u044f\\u0446\", \"MOM \\u043b\\u0430\\u0433 2 \\u043c\\u0435\\u0441\\u044f\\u0446\\u0430\", \"\\u0414\\u043e\\u0445\\u043e\\u0434\\u043d\\u043e\\u0441\\u0442\\u044c \\u0441\\u0430\\u043c\\u043e\\u0439 \\u0430\\u043a\\u0446\\u0438\\u0438 \\u043b\\u0430\\u0433 3 \\u043c\\u0435\\u0441\\u044f\\u0446\\u0430\", \"MOM \\u043b\\u0430\\u0433 \\u043c\\u0435\\u0441\\u044f\\u0446\", \"SMB \\u043b\\u0430\\u0433 2 \\u043c\\u0435\\u0441\\u044f\\u0446\\u0430\", \"SMB \\u043b\\u0430\\u0433 3 \\u043c\\u0435\\u0441\\u044f\\u0446\\u0430\", \"MOM\", \"MOM \\u043b\\u0430\\u0433 3 \\u043c\\u0435\\u0441\\u044f\\u0446\\u0430\"], \"y\": [0.3467731378862402, 0.09024462805703369, 0.07617004366254597, 0.0652859759924083, 0.04700099487231945, 0.04220030347943791, 0.041297339938581985, 0.03475259644347054, 0.03226066437564939, 0.02990667287909922, 0.028901639665762088, 0.0275386006399166, 0.02667205349140184, 0.026578477883846253, 0.02579857471957463, 0.025076655084295376, 0.017754920173932317, 0.01578672075448423]}],                        {\"autosize\": false, \"height\": 700, \"template\": {\"data\": {\"bar\": [{\"error_x\": {\"color\": \"#2a3f5f\"}, \"error_y\": {\"color\": \"#2a3f5f\"}, \"marker\": {\"line\": {\"color\": \"#E5ECF6\", \"width\": 0.5}}, \"type\": \"bar\"}], \"barpolar\": [{\"marker\": {\"line\": {\"color\": \"#E5ECF6\", \"width\": 0.5}}, \"type\": \"barpolar\"}], \"carpet\": [{\"aaxis\": {\"endlinecolor\": \"#2a3f5f\", \"gridcolor\": \"white\", \"linecolor\": \"white\", \"minorgridcolor\": \"white\", \"startlinecolor\": \"#2a3f5f\"}, \"baxis\": {\"endlinecolor\": \"#2a3f5f\", \"gridcolor\": \"white\", \"linecolor\": \"white\", \"minorgridcolor\": \"white\", \"startlinecolor\": \"#2a3f5f\"}, \"type\": \"carpet\"}], \"choropleth\": [{\"colorbar\": {\"outlinewidth\": 0, \"ticks\": \"\"}, \"type\": \"choropleth\"}], \"contour\": [{\"colorbar\": {\"outlinewidth\": 0, \"ticks\": \"\"}, \"colorscale\": [[0.0, \"#0d0887\"], [0.1111111111111111, \"#46039f\"], [0.2222222222222222, \"#7201a8\"], [0.3333333333333333, \"#9c179e\"], [0.4444444444444444, \"#bd3786\"], [0.5555555555555556, \"#d8576b\"], [0.6666666666666666, \"#ed7953\"], [0.7777777777777778, \"#fb9f3a\"], [0.8888888888888888, \"#fdca26\"], [1.0, \"#f0f921\"]], \"type\": \"contour\"}], \"contourcarpet\": [{\"colorbar\": {\"outlinewidth\": 0, \"ticks\": \"\"}, \"type\": \"contourcarpet\"}], \"heatmap\": [{\"colorbar\": {\"outlinewidth\": 0, \"ticks\": \"\"}, \"colorscale\": [[0.0, \"#0d0887\"], [0.1111111111111111, \"#46039f\"], [0.2222222222222222, \"#7201a8\"], [0.3333333333333333, \"#9c179e\"], [0.4444444444444444, \"#bd3786\"], [0.5555555555555556, \"#d8576b\"], [0.6666666666666666, \"#ed7953\"], [0.7777777777777778, \"#fb9f3a\"], [0.8888888888888888, \"#fdca26\"], [1.0, \"#f0f921\"]], \"type\": \"heatmap\"}], \"heatmapgl\": [{\"colorbar\": {\"outlinewidth\": 0, \"ticks\": \"\"}, \"colorscale\": [[0.0, \"#0d0887\"], [0.1111111111111111, \"#46039f\"], [0.2222222222222222, \"#7201a8\"], [0.3333333333333333, \"#9c179e\"], [0.4444444444444444, \"#bd3786\"], [0.5555555555555556, \"#d8576b\"], [0.6666666666666666, \"#ed7953\"], [0.7777777777777778, \"#fb9f3a\"], [0.8888888888888888, \"#fdca26\"], [1.0, \"#f0f921\"]], \"type\": \"heatmapgl\"}], \"histogram\": [{\"marker\": {\"colorbar\": {\"outlinewidth\": 0, \"ticks\": \"\"}}, \"type\": \"histogram\"}], \"histogram2d\": [{\"colorbar\": {\"outlinewidth\": 0, \"ticks\": \"\"}, \"colorscale\": [[0.0, \"#0d0887\"], [0.1111111111111111, \"#46039f\"], [0.2222222222222222, \"#7201a8\"], [0.3333333333333333, \"#9c179e\"], [0.4444444444444444, \"#bd3786\"], [0.5555555555555556, \"#d8576b\"], [0.6666666666666666, \"#ed7953\"], [0.7777777777777778, \"#fb9f3a\"], [0.8888888888888888, \"#fdca26\"], [1.0, \"#f0f921\"]], \"type\": \"histogram2d\"}], \"histogram2dcontour\": [{\"colorbar\": {\"outlinewidth\": 0, \"ticks\": \"\"}, \"colorscale\": [[0.0, \"#0d0887\"], [0.1111111111111111, \"#46039f\"], [0.2222222222222222, \"#7201a8\"], [0.3333333333333333, \"#9c179e\"], [0.4444444444444444, \"#bd3786\"], [0.5555555555555556, \"#d8576b\"], [0.6666666666666666, \"#ed7953\"], [0.7777777777777778, \"#fb9f3a\"], [0.8888888888888888, \"#fdca26\"], [1.0, \"#f0f921\"]], \"type\": \"histogram2dcontour\"}], \"mesh3d\": [{\"colorbar\": {\"outlinewidth\": 0, \"ticks\": \"\"}, \"type\": \"mesh3d\"}], \"parcoords\": [{\"line\": {\"colorbar\": {\"outlinewidth\": 0, \"ticks\": \"\"}}, \"type\": \"parcoords\"}], \"pie\": [{\"automargin\": true, \"type\": \"pie\"}], \"scatter\": [{\"marker\": {\"colorbar\": {\"outlinewidth\": 0, \"ticks\": \"\"}}, \"type\": \"scatter\"}], \"scatter3d\": [{\"line\": {\"colorbar\": {\"outlinewidth\": 0, \"ticks\": \"\"}}, \"marker\": {\"colorbar\": {\"outlinewidth\": 0, \"ticks\": \"\"}}, \"type\": \"scatter3d\"}], \"scattercarpet\": [{\"marker\": {\"colorbar\": {\"outlinewidth\": 0, \"ticks\": \"\"}}, \"type\": \"scattercarpet\"}], \"scattergeo\": [{\"marker\": {\"colorbar\": {\"outlinewidth\": 0, \"ticks\": \"\"}}, \"type\": \"scattergeo\"}], \"scattergl\": [{\"marker\": {\"colorbar\": {\"outlinewidth\": 0, \"ticks\": \"\"}}, \"type\": \"scattergl\"}], \"scattermapbox\": [{\"marker\": {\"colorbar\": {\"outlinewidth\": 0, \"ticks\": \"\"}}, \"type\": \"scattermapbox\"}], \"scatterpolar\": [{\"marker\": {\"colorbar\": {\"outlinewidth\": 0, \"ticks\": \"\"}}, \"type\": \"scatterpolar\"}], \"scatterpolargl\": [{\"marker\": {\"colorbar\": {\"outlinewidth\": 0, \"ticks\": \"\"}}, \"type\": \"scatterpolargl\"}], \"scatterternary\": [{\"marker\": {\"colorbar\": {\"outlinewidth\": 0, \"ticks\": \"\"}}, \"type\": \"scatterternary\"}], \"surface\": [{\"colorbar\": {\"outlinewidth\": 0, \"ticks\": \"\"}, \"colorscale\": [[0.0, \"#0d0887\"], [0.1111111111111111, \"#46039f\"], [0.2222222222222222, \"#7201a8\"], [0.3333333333333333, \"#9c179e\"], [0.4444444444444444, \"#bd3786\"], [0.5555555555555556, \"#d8576b\"], [0.6666666666666666, \"#ed7953\"], [0.7777777777777778, \"#fb9f3a\"], [0.8888888888888888, \"#fdca26\"], [1.0, \"#f0f921\"]], \"type\": \"surface\"}], \"table\": [{\"cells\": {\"fill\": {\"color\": \"#EBF0F8\"}, \"line\": {\"color\": \"white\"}}, \"header\": {\"fill\": {\"color\": \"#C8D4E3\"}, \"line\": {\"color\": \"white\"}}, \"type\": \"table\"}]}, \"layout\": {\"annotationdefaults\": {\"arrowcolor\": \"#2a3f5f\", \"arrowhead\": 0, \"arrowwidth\": 1}, \"coloraxis\": {\"colorbar\": {\"outlinewidth\": 0, \"ticks\": \"\"}}, \"colorscale\": {\"diverging\": [[0, \"#8e0152\"], [0.1, \"#c51b7d\"], [0.2, \"#de77ae\"], [0.3, \"#f1b6da\"], [0.4, \"#fde0ef\"], [0.5, \"#f7f7f7\"], [0.6, \"#e6f5d0\"], [0.7, \"#b8e186\"], [0.8, \"#7fbc41\"], [0.9, \"#4d9221\"], [1, \"#276419\"]], \"sequential\": [[0.0, \"#0d0887\"], [0.1111111111111111, \"#46039f\"], [0.2222222222222222, \"#7201a8\"], [0.3333333333333333, \"#9c179e\"], [0.4444444444444444, \"#bd3786\"], [0.5555555555555556, \"#d8576b\"], [0.6666666666666666, \"#ed7953\"], [0.7777777777777778, \"#fb9f3a\"], [0.8888888888888888, \"#fdca26\"], [1.0, \"#f0f921\"]], \"sequentialminus\": [[0.0, \"#0d0887\"], [0.1111111111111111, \"#46039f\"], [0.2222222222222222, \"#7201a8\"], [0.3333333333333333, \"#9c179e\"], [0.4444444444444444, \"#bd3786\"], [0.5555555555555556, \"#d8576b\"], [0.6666666666666666, \"#ed7953\"], [0.7777777777777778, \"#fb9f3a\"], [0.8888888888888888, \"#fdca26\"], [1.0, \"#f0f921\"]]}, \"colorway\": [\"#636efa\", \"#EF553B\", \"#00cc96\", \"#ab63fa\", \"#FFA15A\", \"#19d3f3\", \"#FF6692\", \"#B6E880\", \"#FF97FF\", \"#FECB52\"], \"font\": {\"color\": \"#2a3f5f\"}, \"geo\": {\"bgcolor\": \"white\", \"lakecolor\": \"white\", \"landcolor\": \"#E5ECF6\", \"showlakes\": true, \"showland\": true, \"subunitcolor\": \"white\"}, \"hoverlabel\": {\"align\": \"left\"}, \"hovermode\": \"closest\", \"mapbox\": {\"style\": \"light\"}, \"paper_bgcolor\": \"white\", \"plot_bgcolor\": \"#E5ECF6\", \"polar\": {\"angularaxis\": {\"gridcolor\": \"white\", \"linecolor\": \"white\", \"ticks\": \"\"}, \"bgcolor\": \"#E5ECF6\", \"radialaxis\": {\"gridcolor\": \"white\", \"linecolor\": \"white\", \"ticks\": \"\"}}, \"scene\": {\"xaxis\": {\"backgroundcolor\": \"#E5ECF6\", \"gridcolor\": \"white\", \"gridwidth\": 2, \"linecolor\": \"white\", \"showbackground\": true, \"ticks\": \"\", \"zerolinecolor\": \"white\"}, \"yaxis\": {\"backgroundcolor\": \"#E5ECF6\", \"gridcolor\": \"white\", \"gridwidth\": 2, \"linecolor\": \"white\", \"showbackground\": true, \"ticks\": \"\", \"zerolinecolor\": \"white\"}, \"zaxis\": {\"backgroundcolor\": \"#E5ECF6\", \"gridcolor\": \"white\", \"gridwidth\": 2, \"linecolor\": \"white\", \"showbackground\": true, \"ticks\": \"\", \"zerolinecolor\": \"white\"}}, \"shapedefaults\": {\"line\": {\"color\": \"#2a3f5f\"}}, \"ternary\": {\"aaxis\": {\"gridcolor\": \"white\", \"linecolor\": \"white\", \"ticks\": \"\"}, \"baxis\": {\"gridcolor\": \"white\", \"linecolor\": \"white\", \"ticks\": \"\"}, \"bgcolor\": \"#E5ECF6\", \"caxis\": {\"gridcolor\": \"white\", \"linecolor\": \"white\", \"ticks\": \"\"}}, \"title\": {\"x\": 0.05}, \"xaxis\": {\"automargin\": true, \"gridcolor\": \"white\", \"linecolor\": \"white\", \"ticks\": \"\", \"title\": {\"standoff\": 15}, \"zerolinecolor\": \"white\", \"zerolinewidth\": 2}, \"yaxis\": {\"automargin\": true, \"gridcolor\": \"white\", \"linecolor\": \"white\", \"ticks\": \"\", \"title\": {\"standoff\": 15}, \"zerolinecolor\": \"white\", \"zerolinewidth\": 2}}}, \"width\": 1000, \"xaxis\": {\"title\": {\"text\": \"\\u0424\\u0430\\u043a\\u0442\\u043e\\u0440\"}}, \"yaxis\": {\"title\": {\"text\": \"\\u0412\\u0430\\u0436\\u043d\\u043e\\u0441\\u0442\\u044c \\u0444\\u0430\\u043a\\u0442\\u043e\\u0440\\u0430\"}}},                        {\"responsive\": true}                    ).then(function(){\n",
       "                            \n",
       "var gd = document.getElementById('3f319261-023b-4854-a834-86b094c1f7c4');\n",
       "var x = new MutationObserver(function (mutations, observer) {{\n",
       "        var display = window.getComputedStyle(gd).display;\n",
       "        if (!display || display === 'none') {{\n",
       "            console.log([gd, 'removed!']);\n",
       "            Plotly.purge(gd);\n",
       "            observer.disconnect();\n",
       "        }}\n",
       "}});\n",
       "\n",
       "// Listen for the removal of the full notebook cells\n",
       "var notebookContainer = gd.closest('#notebook-container');\n",
       "if (notebookContainer) {{\n",
       "    x.observe(notebookContainer, {childList: true});\n",
       "}}\n",
       "\n",
       "// Listen for the clearing of the current output cell\n",
       "var outputEl = gd.closest('.output');\n",
       "if (outputEl) {{\n",
       "    x.observe(outputEl, {childList: true});\n",
       "}}\n",
       "\n",
       "                        })                };                });            </script>        </div>"
      ]
     },
     "metadata": {},
     "output_type": "display_data"
    }
   ],
   "source": [
    "K = B.sort_values(by = ['средняя важность'],ascending=False)\n",
    "fig_1 = go.Figure()\n",
    "\n",
    "\n",
    "fig_1.add_trace(go.Scatter(x=K.index, y=K['средняя важность'],mode='lines+markers',name='RF'))\n",
    "\n",
    "fig_1.update_layout(yaxis_title = 'Важность фактора',xaxis_title = 'Фактор',autosize=False,width=1000,height = 700)\n",
    "\n",
    "fig_1.show()"
   ]
  },
  {
   "cell_type": "markdown",
   "metadata": {},
   "source": [
    "## Count factor importance for different sectors of economy"
   ]
  },
  {
   "cell_type": "markdown",
   "metadata": {},
   "source": [
    "### Oil and gas"
   ]
  },
  {
   "cell_type": "code",
   "execution_count": 46,
   "metadata": {},
   "outputs": [],
   "source": [
    "Neft = B.loc[:,['importance_ROSN', 'importance_LKOH', 'importance_SNGS',\n",
    "         'importance_NVTK', 'importance_GAZP', 'importance_TATN', 'importance_BANE']]\n",
    "\n",
    "Neft['средняя важность'] = Neft.mean(axis=1)"
   ]
  },
  {
   "cell_type": "markdown",
   "metadata": {},
   "source": [
    "### Electric power industry"
   ]
  },
  {
   "cell_type": "code",
   "execution_count": 47,
   "metadata": {},
   "outputs": [],
   "source": [
    "Electro= B.loc[:,['importance_HYDR', 'importance_FEES', 'importance_IRAO',\n",
    "         'importance_UPRO', 'importance_RSTI', 'importance_MSNG', 'importance_MSRS', 'importance_OGKB']]\n",
    "\n",
    "Electro['средняя важность'] = Electro.mean(axis=1)"
   ]
  },
  {
   "cell_type": "markdown",
   "metadata": {},
   "source": [
    "### Metal and mining sectors"
   ]
  },
  {
   "cell_type": "code",
   "execution_count": 48,
   "metadata": {},
   "outputs": [],
   "source": [
    "Metal = B.loc[:,['importance_NLMK', 'importance_ALRS', 'importance_GMKN','importance_CHMF', 'importance_PLZL',\n",
    "          'importance_MAGN', 'importance_TRMK', 'importance_MTLR', 'importance_VSMO', 'importance_RASP']]\n",
    "\n",
    "Metal['средняя важность'] = Metal.mean(axis=1)"
   ]
  },
  {
   "cell_type": "markdown",
   "metadata": {},
   "source": [
    "### Finance and banks"
   ]
  },
  {
   "cell_type": "code",
   "execution_count": 49,
   "metadata": {},
   "outputs": [],
   "source": [
    "Finance = B.loc[:,['importance_SBER', 'importance_MOEX', 'importance_VTBR','importance_AFKS', 'importance_BSPB',\n",
    "          'importance_VZRZ']]\n",
    "\n",
    "Finance['средняя важность'] = Finance.mean(axis=1)"
   ]
  },
  {
   "cell_type": "markdown",
   "metadata": {},
   "source": [
    "### Consumer sector"
   ]
  },
  {
   "cell_type": "code",
   "execution_count": 50,
   "metadata": {},
   "outputs": [],
   "source": [
    "Consumer = B.loc[:,['importance_MGNT', 'importance_LNTA', 'importance_MVID','importance_GCHE']]\n",
    "\n",
    "Consumer['средняя важность'] = Consumer.mean(axis=1)"
   ]
  },
  {
   "cell_type": "markdown",
   "metadata": {},
   "source": [
    "### Chemistry"
   ]
  },
  {
   "cell_type": "code",
   "execution_count": 51,
   "metadata": {},
   "outputs": [],
   "source": [
    "Chemistry = B.loc[:,['importance_PHOR', 'importance_URKA', 'importance_AKRN','importance_NKNC']]\n",
    "\n",
    "Chemistry['средняя важность'] = Chemistry.mean(axis=1)"
   ]
  },
  {
   "cell_type": "markdown",
   "metadata": {},
   "source": [
    "# Plot factor importance by sector"
   ]
  },
  {
   "cell_type": "code",
   "execution_count": 52,
   "metadata": {},
   "outputs": [
    {
     "data": {
      "application/vnd.plotly.v1+json": {
       "config": {
        "plotlyServerURL": "https://plot.ly"
       },
       "data": [
        {
         "mode": "lines+markers",
         "name": "Нефтегазовая отрасль",
         "type": "scatter",
         "x": [
          "Премия за рыночный риск",
          "Доходность самой акции лаг месяц",
          "Доходность самой акции лаг 2 месяца",
          "Доходность самой акции лаг 3 месяца",
          "SMB",
          "HML",
          "SMB лаг месяц",
          "HML лаг месяц",
          "SMB лаг 2 месяца",
          "HML лаг 2 месяца",
          "SMB лаг 3 месяца",
          "HML лаг 3 месяца",
          "MOM",
          "MOM лаг месяц",
          "MOM лаг 2 месяца",
          "MOM лаг 3 месяца",
          "Изменение курса доллара за месяц",
          "Изменение цены на нефть за месяц"
         ],
         "y": [
          0.6949798320853188,
          0.02196420174692391,
          0.01072161288498744,
          0.007077901728837504,
          0.016912004103183473,
          0.01839528172878654,
          0.018272012870349637,
          0.04606170939133831,
          0.013817880914416799,
          0.01274476948534104,
          0.007147667181876677,
          0.0298432885193352,
          0.00522851855149354,
          0.010598766442874453,
          0.03524202757104777,
          0.011068002373212083,
          0.024834038356695256,
          0.015090484063981644
         ]
        },
        {
         "mode": "lines+markers",
         "name": "Отрасль электроэнергетики",
         "type": "scatter",
         "x": [
          "Премия за рыночный риск",
          "Доходность самой акции лаг месяц",
          "Доходность самой акции лаг 2 месяца",
          "Доходность самой акции лаг 3 месяца",
          "SMB",
          "HML",
          "SMB лаг месяц",
          "HML лаг месяц",
          "SMB лаг 2 месяца",
          "HML лаг 2 месяца",
          "SMB лаг 3 месяца",
          "HML лаг 3 месяца",
          "MOM",
          "MOM лаг месяц",
          "MOM лаг 2 месяца",
          "MOM лаг 3 месяца",
          "Изменение курса доллара за месяц",
          "Изменение цены на нефть за месяц"
         ],
         "y": [
          0.23217465337570312,
          0.024225374906361136,
          0.06045978494977819,
          0.04488639451788092,
          0.04251778215007184,
          0.0198123594878936,
          0.08424816397790141,
          0.11383119240271808,
          0.05711880407884149,
          0.03175119816416354,
          0.02706615754635177,
          0.0598503699528801,
          0.015286083868838956,
          0.01349272029529663,
          0.018282898702942176,
          0.010492619339523277,
          0.0997572725527723,
          0.0447461697300815
         ]
        },
        {
         "line": {
          "color": "green",
          "dash": "dash",
          "width": 4
         },
         "mode": "lines+markers",
         "name": "Металлургическая и добывающая отрасли",
         "type": "scatter",
         "x": [
          "Премия за рыночный риск",
          "Доходность самой акции лаг месяц",
          "Доходность самой акции лаг 2 месяца",
          "Доходность самой акции лаг 3 месяца",
          "SMB",
          "HML",
          "SMB лаг месяц",
          "HML лаг месяц",
          "SMB лаг 2 месяца",
          "HML лаг 2 месяца",
          "SMB лаг 3 месяца",
          "HML лаг 3 месяца",
          "MOM",
          "MOM лаг месяц",
          "MOM лаг 2 месяца",
          "MOM лаг 3 месяца",
          "Изменение курса доллара за месяц",
          "Изменение цены на нефть за месяц"
         ],
         "y": [
          0.416269210259469,
          0.04132570726080012,
          0.040110326045050534,
          0.010077121686343627,
          0.016672455951643475,
          0.024227368244914345,
          0.04572013686225466,
          0.10668967360865807,
          0.010646772867833092,
          0.04587619815911566,
          0.020169448686231654,
          0.0284764030784745,
          0.017058373512053256,
          0.021338955471931646,
          0.016770675249377566,
          0.014368765058666933,
          0.08121651121117847,
          0.04298589678600341
         ]
        },
        {
         "line": {
          "color": "royalblue",
          "dash": "dot",
          "width": 4
         },
         "mode": "lines+markers",
         "name": "Финансовая и банковская отрасли",
         "type": "scatter",
         "x": [
          "Премия за рыночный риск",
          "Доходность самой акции лаг месяц",
          "Доходность самой акции лаг 2 месяца",
          "Доходность самой акции лаг 3 месяца",
          "SMB",
          "HML",
          "SMB лаг месяц",
          "HML лаг месяц",
          "SMB лаг 2 месяца",
          "HML лаг 2 месяца",
          "SMB лаг 3 месяца",
          "HML лаг 3 месяца",
          "MOM",
          "MOM лаг месяц",
          "MOM лаг 2 месяца",
          "MOM лаг 3 месяца",
          "Изменение курса доллара за месяц",
          "Изменение цены на нефть за месяц"
         ],
         "y": [
          0.2430379237384628,
          0.029092696317768674,
          0.02508448286881086,
          0.03602261785285861,
          0.046552188355742576,
          0.0370689085565798,
          0.0582507850839602,
          0.06223354482923373,
          0.026400059802501864,
          0.04524889024362868,
          0.035518095997242614,
          0.06991953237145924,
          0.023332414783936644,
          0.05325301987628722,
          0.04982653642678834,
          0.029695304475078774,
          0.08420225839618088,
          0.045260740023478546
         ]
        },
        {
         "line": {
          "color": "blue",
          "dash": "dot",
          "width": 2
         },
         "mode": "lines+markers",
         "name": "Потребительская и торговая отрасли",
         "type": "scatter",
         "x": [
          "Премия за рыночный риск",
          "Доходность самой акции лаг месяц",
          "Доходность самой акции лаг 2 месяца",
          "Доходность самой акции лаг 3 месяца",
          "SMB",
          "HML",
          "SMB лаг месяц",
          "HML лаг месяц",
          "SMB лаг 2 месяца",
          "HML лаг 2 месяца",
          "SMB лаг 3 месяца",
          "HML лаг 3 месяца",
          "MOM",
          "MOM лаг месяц",
          "MOM лаг 2 месяца",
          "MOM лаг 3 месяца",
          "Изменение курса доллара за месяц",
          "Изменение цены на нефть за месяц"
         ],
         "y": [
          0.17836261947176224,
          0.021114804383124228,
          0.0600494577934174,
          0.047841609708415354,
          0.036928381930699736,
          0.027326025926114387,
          0.1461724224130084,
          0.03546895933413249,
          0.02470347691773199,
          0.11415092276367847,
          0.0228965615430376,
          0.04746334495762288,
          0.021601824077309498,
          0.048320550138225046,
          0.032418247995543485,
          0.021220561409999616,
          0.05135831721343494,
          0.06260191202274225
         ]
        },
        {
         "line": {
          "color": "orange",
          "width": 2
         },
         "mode": "lines+markers",
         "name": "Химическая отрасль",
         "type": "scatter",
         "x": [
          "Премия за рыночный риск",
          "Доходность самой акции лаг месяц",
          "Доходность самой акции лаг 2 месяца",
          "Доходность самой акции лаг 3 месяца",
          "SMB",
          "HML",
          "SMB лаг месяц",
          "HML лаг месяц",
          "SMB лаг 2 месяца",
          "HML лаг 2 месяца",
          "SMB лаг 3 месяца",
          "HML лаг 3 месяца",
          "MOM",
          "MOM лаг месяц",
          "MOM лаг 2 месяца",
          "MOM лаг 3 месяца",
          "Изменение курса доллара за месяц",
          "Изменение цены на нефть за месяц"
         ],
         "y": [
          0.297614740124745,
          0.021439406026473196,
          0.015907100362470675,
          0.005187123762912749,
          0.03619559833167959,
          0.045500016754332885,
          0.051970023858368075,
          0.07331824929820302,
          0.0335729559510909,
          0.03521318578820953,
          0.012811893050647847,
          0.016344827887734115,
          0.010251192283701008,
          0.017419230884627983,
          0.028774213831179785,
          0.015369120545092926,
          0.22126498061123406,
          0.0618461406472966
         ]
        }
       ],
       "layout": {
        "autosize": false,
        "height": 1400,
        "legend": {
         "x": 0.9,
         "xanchor": "right",
         "y": 0.9,
         "yanchor": "top"
        },
        "template": {
         "data": {
          "bar": [
           {
            "error_x": {
             "color": "#2a3f5f"
            },
            "error_y": {
             "color": "#2a3f5f"
            },
            "marker": {
             "line": {
              "color": "#E5ECF6",
              "width": 0.5
             }
            },
            "type": "bar"
           }
          ],
          "barpolar": [
           {
            "marker": {
             "line": {
              "color": "#E5ECF6",
              "width": 0.5
             }
            },
            "type": "barpolar"
           }
          ],
          "carpet": [
           {
            "aaxis": {
             "endlinecolor": "#2a3f5f",
             "gridcolor": "white",
             "linecolor": "white",
             "minorgridcolor": "white",
             "startlinecolor": "#2a3f5f"
            },
            "baxis": {
             "endlinecolor": "#2a3f5f",
             "gridcolor": "white",
             "linecolor": "white",
             "minorgridcolor": "white",
             "startlinecolor": "#2a3f5f"
            },
            "type": "carpet"
           }
          ],
          "choropleth": [
           {
            "colorbar": {
             "outlinewidth": 0,
             "ticks": ""
            },
            "type": "choropleth"
           }
          ],
          "contour": [
           {
            "colorbar": {
             "outlinewidth": 0,
             "ticks": ""
            },
            "colorscale": [
             [
              0,
              "#0d0887"
             ],
             [
              0.1111111111111111,
              "#46039f"
             ],
             [
              0.2222222222222222,
              "#7201a8"
             ],
             [
              0.3333333333333333,
              "#9c179e"
             ],
             [
              0.4444444444444444,
              "#bd3786"
             ],
             [
              0.5555555555555556,
              "#d8576b"
             ],
             [
              0.6666666666666666,
              "#ed7953"
             ],
             [
              0.7777777777777778,
              "#fb9f3a"
             ],
             [
              0.8888888888888888,
              "#fdca26"
             ],
             [
              1,
              "#f0f921"
             ]
            ],
            "type": "contour"
           }
          ],
          "contourcarpet": [
           {
            "colorbar": {
             "outlinewidth": 0,
             "ticks": ""
            },
            "type": "contourcarpet"
           }
          ],
          "heatmap": [
           {
            "colorbar": {
             "outlinewidth": 0,
             "ticks": ""
            },
            "colorscale": [
             [
              0,
              "#0d0887"
             ],
             [
              0.1111111111111111,
              "#46039f"
             ],
             [
              0.2222222222222222,
              "#7201a8"
             ],
             [
              0.3333333333333333,
              "#9c179e"
             ],
             [
              0.4444444444444444,
              "#bd3786"
             ],
             [
              0.5555555555555556,
              "#d8576b"
             ],
             [
              0.6666666666666666,
              "#ed7953"
             ],
             [
              0.7777777777777778,
              "#fb9f3a"
             ],
             [
              0.8888888888888888,
              "#fdca26"
             ],
             [
              1,
              "#f0f921"
             ]
            ],
            "type": "heatmap"
           }
          ],
          "heatmapgl": [
           {
            "colorbar": {
             "outlinewidth": 0,
             "ticks": ""
            },
            "colorscale": [
             [
              0,
              "#0d0887"
             ],
             [
              0.1111111111111111,
              "#46039f"
             ],
             [
              0.2222222222222222,
              "#7201a8"
             ],
             [
              0.3333333333333333,
              "#9c179e"
             ],
             [
              0.4444444444444444,
              "#bd3786"
             ],
             [
              0.5555555555555556,
              "#d8576b"
             ],
             [
              0.6666666666666666,
              "#ed7953"
             ],
             [
              0.7777777777777778,
              "#fb9f3a"
             ],
             [
              0.8888888888888888,
              "#fdca26"
             ],
             [
              1,
              "#f0f921"
             ]
            ],
            "type": "heatmapgl"
           }
          ],
          "histogram": [
           {
            "marker": {
             "colorbar": {
              "outlinewidth": 0,
              "ticks": ""
             }
            },
            "type": "histogram"
           }
          ],
          "histogram2d": [
           {
            "colorbar": {
             "outlinewidth": 0,
             "ticks": ""
            },
            "colorscale": [
             [
              0,
              "#0d0887"
             ],
             [
              0.1111111111111111,
              "#46039f"
             ],
             [
              0.2222222222222222,
              "#7201a8"
             ],
             [
              0.3333333333333333,
              "#9c179e"
             ],
             [
              0.4444444444444444,
              "#bd3786"
             ],
             [
              0.5555555555555556,
              "#d8576b"
             ],
             [
              0.6666666666666666,
              "#ed7953"
             ],
             [
              0.7777777777777778,
              "#fb9f3a"
             ],
             [
              0.8888888888888888,
              "#fdca26"
             ],
             [
              1,
              "#f0f921"
             ]
            ],
            "type": "histogram2d"
           }
          ],
          "histogram2dcontour": [
           {
            "colorbar": {
             "outlinewidth": 0,
             "ticks": ""
            },
            "colorscale": [
             [
              0,
              "#0d0887"
             ],
             [
              0.1111111111111111,
              "#46039f"
             ],
             [
              0.2222222222222222,
              "#7201a8"
             ],
             [
              0.3333333333333333,
              "#9c179e"
             ],
             [
              0.4444444444444444,
              "#bd3786"
             ],
             [
              0.5555555555555556,
              "#d8576b"
             ],
             [
              0.6666666666666666,
              "#ed7953"
             ],
             [
              0.7777777777777778,
              "#fb9f3a"
             ],
             [
              0.8888888888888888,
              "#fdca26"
             ],
             [
              1,
              "#f0f921"
             ]
            ],
            "type": "histogram2dcontour"
           }
          ],
          "mesh3d": [
           {
            "colorbar": {
             "outlinewidth": 0,
             "ticks": ""
            },
            "type": "mesh3d"
           }
          ],
          "parcoords": [
           {
            "line": {
             "colorbar": {
              "outlinewidth": 0,
              "ticks": ""
             }
            },
            "type": "parcoords"
           }
          ],
          "pie": [
           {
            "automargin": true,
            "type": "pie"
           }
          ],
          "scatter": [
           {
            "marker": {
             "colorbar": {
              "outlinewidth": 0,
              "ticks": ""
             }
            },
            "type": "scatter"
           }
          ],
          "scatter3d": [
           {
            "line": {
             "colorbar": {
              "outlinewidth": 0,
              "ticks": ""
             }
            },
            "marker": {
             "colorbar": {
              "outlinewidth": 0,
              "ticks": ""
             }
            },
            "type": "scatter3d"
           }
          ],
          "scattercarpet": [
           {
            "marker": {
             "colorbar": {
              "outlinewidth": 0,
              "ticks": ""
             }
            },
            "type": "scattercarpet"
           }
          ],
          "scattergeo": [
           {
            "marker": {
             "colorbar": {
              "outlinewidth": 0,
              "ticks": ""
             }
            },
            "type": "scattergeo"
           }
          ],
          "scattergl": [
           {
            "marker": {
             "colorbar": {
              "outlinewidth": 0,
              "ticks": ""
             }
            },
            "type": "scattergl"
           }
          ],
          "scattermapbox": [
           {
            "marker": {
             "colorbar": {
              "outlinewidth": 0,
              "ticks": ""
             }
            },
            "type": "scattermapbox"
           }
          ],
          "scatterpolar": [
           {
            "marker": {
             "colorbar": {
              "outlinewidth": 0,
              "ticks": ""
             }
            },
            "type": "scatterpolar"
           }
          ],
          "scatterpolargl": [
           {
            "marker": {
             "colorbar": {
              "outlinewidth": 0,
              "ticks": ""
             }
            },
            "type": "scatterpolargl"
           }
          ],
          "scatterternary": [
           {
            "marker": {
             "colorbar": {
              "outlinewidth": 0,
              "ticks": ""
             }
            },
            "type": "scatterternary"
           }
          ],
          "surface": [
           {
            "colorbar": {
             "outlinewidth": 0,
             "ticks": ""
            },
            "colorscale": [
             [
              0,
              "#0d0887"
             ],
             [
              0.1111111111111111,
              "#46039f"
             ],
             [
              0.2222222222222222,
              "#7201a8"
             ],
             [
              0.3333333333333333,
              "#9c179e"
             ],
             [
              0.4444444444444444,
              "#bd3786"
             ],
             [
              0.5555555555555556,
              "#d8576b"
             ],
             [
              0.6666666666666666,
              "#ed7953"
             ],
             [
              0.7777777777777778,
              "#fb9f3a"
             ],
             [
              0.8888888888888888,
              "#fdca26"
             ],
             [
              1,
              "#f0f921"
             ]
            ],
            "type": "surface"
           }
          ],
          "table": [
           {
            "cells": {
             "fill": {
              "color": "#EBF0F8"
             },
             "line": {
              "color": "white"
             }
            },
            "header": {
             "fill": {
              "color": "#C8D4E3"
             },
             "line": {
              "color": "white"
             }
            },
            "type": "table"
           }
          ]
         },
         "layout": {
          "annotationdefaults": {
           "arrowcolor": "#2a3f5f",
           "arrowhead": 0,
           "arrowwidth": 1
          },
          "coloraxis": {
           "colorbar": {
            "outlinewidth": 0,
            "ticks": ""
           }
          },
          "colorscale": {
           "diverging": [
            [
             0,
             "#8e0152"
            ],
            [
             0.1,
             "#c51b7d"
            ],
            [
             0.2,
             "#de77ae"
            ],
            [
             0.3,
             "#f1b6da"
            ],
            [
             0.4,
             "#fde0ef"
            ],
            [
             0.5,
             "#f7f7f7"
            ],
            [
             0.6,
             "#e6f5d0"
            ],
            [
             0.7,
             "#b8e186"
            ],
            [
             0.8,
             "#7fbc41"
            ],
            [
             0.9,
             "#4d9221"
            ],
            [
             1,
             "#276419"
            ]
           ],
           "sequential": [
            [
             0,
             "#0d0887"
            ],
            [
             0.1111111111111111,
             "#46039f"
            ],
            [
             0.2222222222222222,
             "#7201a8"
            ],
            [
             0.3333333333333333,
             "#9c179e"
            ],
            [
             0.4444444444444444,
             "#bd3786"
            ],
            [
             0.5555555555555556,
             "#d8576b"
            ],
            [
             0.6666666666666666,
             "#ed7953"
            ],
            [
             0.7777777777777778,
             "#fb9f3a"
            ],
            [
             0.8888888888888888,
             "#fdca26"
            ],
            [
             1,
             "#f0f921"
            ]
           ],
           "sequentialminus": [
            [
             0,
             "#0d0887"
            ],
            [
             0.1111111111111111,
             "#46039f"
            ],
            [
             0.2222222222222222,
             "#7201a8"
            ],
            [
             0.3333333333333333,
             "#9c179e"
            ],
            [
             0.4444444444444444,
             "#bd3786"
            ],
            [
             0.5555555555555556,
             "#d8576b"
            ],
            [
             0.6666666666666666,
             "#ed7953"
            ],
            [
             0.7777777777777778,
             "#fb9f3a"
            ],
            [
             0.8888888888888888,
             "#fdca26"
            ],
            [
             1,
             "#f0f921"
            ]
           ]
          },
          "colorway": [
           "#636efa",
           "#EF553B",
           "#00cc96",
           "#ab63fa",
           "#FFA15A",
           "#19d3f3",
           "#FF6692",
           "#B6E880",
           "#FF97FF",
           "#FECB52"
          ],
          "font": {
           "color": "#2a3f5f"
          },
          "geo": {
           "bgcolor": "white",
           "lakecolor": "white",
           "landcolor": "#E5ECF6",
           "showlakes": true,
           "showland": true,
           "subunitcolor": "white"
          },
          "hoverlabel": {
           "align": "left"
          },
          "hovermode": "closest",
          "mapbox": {
           "style": "light"
          },
          "paper_bgcolor": "white",
          "plot_bgcolor": "#E5ECF6",
          "polar": {
           "angularaxis": {
            "gridcolor": "white",
            "linecolor": "white",
            "ticks": ""
           },
           "bgcolor": "#E5ECF6",
           "radialaxis": {
            "gridcolor": "white",
            "linecolor": "white",
            "ticks": ""
           }
          },
          "scene": {
           "xaxis": {
            "backgroundcolor": "#E5ECF6",
            "gridcolor": "white",
            "gridwidth": 2,
            "linecolor": "white",
            "showbackground": true,
            "ticks": "",
            "zerolinecolor": "white"
           },
           "yaxis": {
            "backgroundcolor": "#E5ECF6",
            "gridcolor": "white",
            "gridwidth": 2,
            "linecolor": "white",
            "showbackground": true,
            "ticks": "",
            "zerolinecolor": "white"
           },
           "zaxis": {
            "backgroundcolor": "#E5ECF6",
            "gridcolor": "white",
            "gridwidth": 2,
            "linecolor": "white",
            "showbackground": true,
            "ticks": "",
            "zerolinecolor": "white"
           }
          },
          "shapedefaults": {
           "line": {
            "color": "#2a3f5f"
           }
          },
          "ternary": {
           "aaxis": {
            "gridcolor": "white",
            "linecolor": "white",
            "ticks": ""
           },
           "baxis": {
            "gridcolor": "white",
            "linecolor": "white",
            "ticks": ""
           },
           "bgcolor": "#E5ECF6",
           "caxis": {
            "gridcolor": "white",
            "linecolor": "white",
            "ticks": ""
           }
          },
          "title": {
           "x": 0.05
          },
          "xaxis": {
           "automargin": true,
           "gridcolor": "white",
           "linecolor": "white",
           "ticks": "",
           "title": {
            "standoff": 15
           },
           "zerolinecolor": "white",
           "zerolinewidth": 2
          },
          "yaxis": {
           "automargin": true,
           "gridcolor": "white",
           "linecolor": "white",
           "ticks": "",
           "title": {
            "standoff": 15
           },
           "zerolinecolor": "white",
           "zerolinewidth": 2
          }
         }
        },
        "width": 1200,
        "xaxis": {
         "title": {
          "text": "Фактор"
         }
        },
        "yaxis": {
         "title": {
          "text": "Важность фактора"
         }
        }
       }
      },
      "text/html": [
       "<div>                            <div id=\"f14d1c1a-dc7a-4147-875a-5574f158dc75\" class=\"plotly-graph-div\" style=\"height:1400px; width:1200px;\"></div>            <script type=\"text/javascript\">                require([\"plotly\"], function(Plotly) {                    window.PLOTLYENV=window.PLOTLYENV || {};                                    if (document.getElementById(\"f14d1c1a-dc7a-4147-875a-5574f158dc75\")) {                    Plotly.newPlot(                        \"f14d1c1a-dc7a-4147-875a-5574f158dc75\",                        [{\"mode\": \"lines+markers\", \"name\": \"\\u041d\\u0435\\u0444\\u0442\\u0435\\u0433\\u0430\\u0437\\u043e\\u0432\\u0430\\u044f \\u043e\\u0442\\u0440\\u0430\\u0441\\u043b\\u044c\", \"type\": \"scatter\", \"x\": [\"\\u041f\\u0440\\u0435\\u043c\\u0438\\u044f \\u0437\\u0430 \\u0440\\u044b\\u043d\\u043e\\u0447\\u043d\\u044b\\u0439 \\u0440\\u0438\\u0441\\u043a\", \"\\u0414\\u043e\\u0445\\u043e\\u0434\\u043d\\u043e\\u0441\\u0442\\u044c \\u0441\\u0430\\u043c\\u043e\\u0439 \\u0430\\u043a\\u0446\\u0438\\u0438 \\u043b\\u0430\\u0433 \\u043c\\u0435\\u0441\\u044f\\u0446\", \"\\u0414\\u043e\\u0445\\u043e\\u0434\\u043d\\u043e\\u0441\\u0442\\u044c \\u0441\\u0430\\u043c\\u043e\\u0439 \\u0430\\u043a\\u0446\\u0438\\u0438 \\u043b\\u0430\\u0433 2 \\u043c\\u0435\\u0441\\u044f\\u0446\\u0430\", \"\\u0414\\u043e\\u0445\\u043e\\u0434\\u043d\\u043e\\u0441\\u0442\\u044c \\u0441\\u0430\\u043c\\u043e\\u0439 \\u0430\\u043a\\u0446\\u0438\\u0438 \\u043b\\u0430\\u0433 3 \\u043c\\u0435\\u0441\\u044f\\u0446\\u0430\", \"SMB\", \"HML\", \"SMB \\u043b\\u0430\\u0433 \\u043c\\u0435\\u0441\\u044f\\u0446\", \"HML \\u043b\\u0430\\u0433 \\u043c\\u0435\\u0441\\u044f\\u0446\", \"SMB \\u043b\\u0430\\u0433 2 \\u043c\\u0435\\u0441\\u044f\\u0446\\u0430\", \"HML \\u043b\\u0430\\u0433 2 \\u043c\\u0435\\u0441\\u044f\\u0446\\u0430\", \"SMB \\u043b\\u0430\\u0433 3 \\u043c\\u0435\\u0441\\u044f\\u0446\\u0430\", \"HML \\u043b\\u0430\\u0433 3 \\u043c\\u0435\\u0441\\u044f\\u0446\\u0430\", \"MOM\", \"MOM \\u043b\\u0430\\u0433 \\u043c\\u0435\\u0441\\u044f\\u0446\", \"MOM \\u043b\\u0430\\u0433 2 \\u043c\\u0435\\u0441\\u044f\\u0446\\u0430\", \"MOM \\u043b\\u0430\\u0433 3 \\u043c\\u0435\\u0441\\u044f\\u0446\\u0430\", \"\\u0418\\u0437\\u043c\\u0435\\u043d\\u0435\\u043d\\u0438\\u0435 \\u043a\\u0443\\u0440\\u0441\\u0430 \\u0434\\u043e\\u043b\\u043b\\u0430\\u0440\\u0430 \\u0437\\u0430 \\u043c\\u0435\\u0441\\u044f\\u0446\", \"\\u0418\\u0437\\u043c\\u0435\\u043d\\u0435\\u043d\\u0438\\u0435 \\u0446\\u0435\\u043d\\u044b \\u043d\\u0430 \\u043d\\u0435\\u0444\\u0442\\u044c \\u0437\\u0430 \\u043c\\u0435\\u0441\\u044f\\u0446\"], \"y\": [0.6949798320853188, 0.02196420174692391, 0.01072161288498744, 0.007077901728837504, 0.016912004103183473, 0.01839528172878654, 0.018272012870349637, 0.04606170939133831, 0.013817880914416799, 0.01274476948534104, 0.007147667181876677, 0.0298432885193352, 0.00522851855149354, 0.010598766442874453, 0.03524202757104777, 0.011068002373212083, 0.024834038356695256, 0.015090484063981644]}, {\"mode\": \"lines+markers\", \"name\": \"\\u041e\\u0442\\u0440\\u0430\\u0441\\u043b\\u044c \\u044d\\u043b\\u0435\\u043a\\u0442\\u0440\\u043e\\u044d\\u043d\\u0435\\u0440\\u0433\\u0435\\u0442\\u0438\\u043a\\u0438\", \"type\": \"scatter\", \"x\": [\"\\u041f\\u0440\\u0435\\u043c\\u0438\\u044f \\u0437\\u0430 \\u0440\\u044b\\u043d\\u043e\\u0447\\u043d\\u044b\\u0439 \\u0440\\u0438\\u0441\\u043a\", \"\\u0414\\u043e\\u0445\\u043e\\u0434\\u043d\\u043e\\u0441\\u0442\\u044c \\u0441\\u0430\\u043c\\u043e\\u0439 \\u0430\\u043a\\u0446\\u0438\\u0438 \\u043b\\u0430\\u0433 \\u043c\\u0435\\u0441\\u044f\\u0446\", \"\\u0414\\u043e\\u0445\\u043e\\u0434\\u043d\\u043e\\u0441\\u0442\\u044c \\u0441\\u0430\\u043c\\u043e\\u0439 \\u0430\\u043a\\u0446\\u0438\\u0438 \\u043b\\u0430\\u0433 2 \\u043c\\u0435\\u0441\\u044f\\u0446\\u0430\", \"\\u0414\\u043e\\u0445\\u043e\\u0434\\u043d\\u043e\\u0441\\u0442\\u044c \\u0441\\u0430\\u043c\\u043e\\u0439 \\u0430\\u043a\\u0446\\u0438\\u0438 \\u043b\\u0430\\u0433 3 \\u043c\\u0435\\u0441\\u044f\\u0446\\u0430\", \"SMB\", \"HML\", \"SMB \\u043b\\u0430\\u0433 \\u043c\\u0435\\u0441\\u044f\\u0446\", \"HML \\u043b\\u0430\\u0433 \\u043c\\u0435\\u0441\\u044f\\u0446\", \"SMB \\u043b\\u0430\\u0433 2 \\u043c\\u0435\\u0441\\u044f\\u0446\\u0430\", \"HML \\u043b\\u0430\\u0433 2 \\u043c\\u0435\\u0441\\u044f\\u0446\\u0430\", \"SMB \\u043b\\u0430\\u0433 3 \\u043c\\u0435\\u0441\\u044f\\u0446\\u0430\", \"HML \\u043b\\u0430\\u0433 3 \\u043c\\u0435\\u0441\\u044f\\u0446\\u0430\", \"MOM\", \"MOM \\u043b\\u0430\\u0433 \\u043c\\u0435\\u0441\\u044f\\u0446\", \"MOM \\u043b\\u0430\\u0433 2 \\u043c\\u0435\\u0441\\u044f\\u0446\\u0430\", \"MOM \\u043b\\u0430\\u0433 3 \\u043c\\u0435\\u0441\\u044f\\u0446\\u0430\", \"\\u0418\\u0437\\u043c\\u0435\\u043d\\u0435\\u043d\\u0438\\u0435 \\u043a\\u0443\\u0440\\u0441\\u0430 \\u0434\\u043e\\u043b\\u043b\\u0430\\u0440\\u0430 \\u0437\\u0430 \\u043c\\u0435\\u0441\\u044f\\u0446\", \"\\u0418\\u0437\\u043c\\u0435\\u043d\\u0435\\u043d\\u0438\\u0435 \\u0446\\u0435\\u043d\\u044b \\u043d\\u0430 \\u043d\\u0435\\u0444\\u0442\\u044c \\u0437\\u0430 \\u043c\\u0435\\u0441\\u044f\\u0446\"], \"y\": [0.23217465337570312, 0.024225374906361136, 0.06045978494977819, 0.04488639451788092, 0.04251778215007184, 0.0198123594878936, 0.08424816397790141, 0.11383119240271808, 0.05711880407884149, 0.03175119816416354, 0.02706615754635177, 0.0598503699528801, 0.015286083868838956, 0.01349272029529663, 0.018282898702942176, 0.010492619339523277, 0.0997572725527723, 0.0447461697300815]}, {\"line\": {\"color\": \"green\", \"dash\": \"dash\", \"width\": 4}, \"mode\": \"lines+markers\", \"name\": \"\\u041c\\u0435\\u0442\\u0430\\u043b\\u043b\\u0443\\u0440\\u0433\\u0438\\u0447\\u0435\\u0441\\u043a\\u0430\\u044f \\u0438 \\u0434\\u043e\\u0431\\u044b\\u0432\\u0430\\u044e\\u0449\\u0430\\u044f \\u043e\\u0442\\u0440\\u0430\\u0441\\u043b\\u0438\", \"type\": \"scatter\", \"x\": [\"\\u041f\\u0440\\u0435\\u043c\\u0438\\u044f \\u0437\\u0430 \\u0440\\u044b\\u043d\\u043e\\u0447\\u043d\\u044b\\u0439 \\u0440\\u0438\\u0441\\u043a\", \"\\u0414\\u043e\\u0445\\u043e\\u0434\\u043d\\u043e\\u0441\\u0442\\u044c \\u0441\\u0430\\u043c\\u043e\\u0439 \\u0430\\u043a\\u0446\\u0438\\u0438 \\u043b\\u0430\\u0433 \\u043c\\u0435\\u0441\\u044f\\u0446\", \"\\u0414\\u043e\\u0445\\u043e\\u0434\\u043d\\u043e\\u0441\\u0442\\u044c \\u0441\\u0430\\u043c\\u043e\\u0439 \\u0430\\u043a\\u0446\\u0438\\u0438 \\u043b\\u0430\\u0433 2 \\u043c\\u0435\\u0441\\u044f\\u0446\\u0430\", \"\\u0414\\u043e\\u0445\\u043e\\u0434\\u043d\\u043e\\u0441\\u0442\\u044c \\u0441\\u0430\\u043c\\u043e\\u0439 \\u0430\\u043a\\u0446\\u0438\\u0438 \\u043b\\u0430\\u0433 3 \\u043c\\u0435\\u0441\\u044f\\u0446\\u0430\", \"SMB\", \"HML\", \"SMB \\u043b\\u0430\\u0433 \\u043c\\u0435\\u0441\\u044f\\u0446\", \"HML \\u043b\\u0430\\u0433 \\u043c\\u0435\\u0441\\u044f\\u0446\", \"SMB \\u043b\\u0430\\u0433 2 \\u043c\\u0435\\u0441\\u044f\\u0446\\u0430\", \"HML \\u043b\\u0430\\u0433 2 \\u043c\\u0435\\u0441\\u044f\\u0446\\u0430\", \"SMB \\u043b\\u0430\\u0433 3 \\u043c\\u0435\\u0441\\u044f\\u0446\\u0430\", \"HML \\u043b\\u0430\\u0433 3 \\u043c\\u0435\\u0441\\u044f\\u0446\\u0430\", \"MOM\", \"MOM \\u043b\\u0430\\u0433 \\u043c\\u0435\\u0441\\u044f\\u0446\", \"MOM \\u043b\\u0430\\u0433 2 \\u043c\\u0435\\u0441\\u044f\\u0446\\u0430\", \"MOM \\u043b\\u0430\\u0433 3 \\u043c\\u0435\\u0441\\u044f\\u0446\\u0430\", \"\\u0418\\u0437\\u043c\\u0435\\u043d\\u0435\\u043d\\u0438\\u0435 \\u043a\\u0443\\u0440\\u0441\\u0430 \\u0434\\u043e\\u043b\\u043b\\u0430\\u0440\\u0430 \\u0437\\u0430 \\u043c\\u0435\\u0441\\u044f\\u0446\", \"\\u0418\\u0437\\u043c\\u0435\\u043d\\u0435\\u043d\\u0438\\u0435 \\u0446\\u0435\\u043d\\u044b \\u043d\\u0430 \\u043d\\u0435\\u0444\\u0442\\u044c \\u0437\\u0430 \\u043c\\u0435\\u0441\\u044f\\u0446\"], \"y\": [0.416269210259469, 0.04132570726080012, 0.040110326045050534, 0.010077121686343627, 0.016672455951643475, 0.024227368244914345, 0.04572013686225466, 0.10668967360865807, 0.010646772867833092, 0.04587619815911566, 0.020169448686231654, 0.0284764030784745, 0.017058373512053256, 0.021338955471931646, 0.016770675249377566, 0.014368765058666933, 0.08121651121117847, 0.04298589678600341]}, {\"line\": {\"color\": \"royalblue\", \"dash\": \"dot\", \"width\": 4}, \"mode\": \"lines+markers\", \"name\": \"\\u0424\\u0438\\u043d\\u0430\\u043d\\u0441\\u043e\\u0432\\u0430\\u044f \\u0438 \\u0431\\u0430\\u043d\\u043a\\u043e\\u0432\\u0441\\u043a\\u0430\\u044f \\u043e\\u0442\\u0440\\u0430\\u0441\\u043b\\u0438\", \"type\": \"scatter\", \"x\": [\"\\u041f\\u0440\\u0435\\u043c\\u0438\\u044f \\u0437\\u0430 \\u0440\\u044b\\u043d\\u043e\\u0447\\u043d\\u044b\\u0439 \\u0440\\u0438\\u0441\\u043a\", \"\\u0414\\u043e\\u0445\\u043e\\u0434\\u043d\\u043e\\u0441\\u0442\\u044c \\u0441\\u0430\\u043c\\u043e\\u0439 \\u0430\\u043a\\u0446\\u0438\\u0438 \\u043b\\u0430\\u0433 \\u043c\\u0435\\u0441\\u044f\\u0446\", \"\\u0414\\u043e\\u0445\\u043e\\u0434\\u043d\\u043e\\u0441\\u0442\\u044c \\u0441\\u0430\\u043c\\u043e\\u0439 \\u0430\\u043a\\u0446\\u0438\\u0438 \\u043b\\u0430\\u0433 2 \\u043c\\u0435\\u0441\\u044f\\u0446\\u0430\", \"\\u0414\\u043e\\u0445\\u043e\\u0434\\u043d\\u043e\\u0441\\u0442\\u044c \\u0441\\u0430\\u043c\\u043e\\u0439 \\u0430\\u043a\\u0446\\u0438\\u0438 \\u043b\\u0430\\u0433 3 \\u043c\\u0435\\u0441\\u044f\\u0446\\u0430\", \"SMB\", \"HML\", \"SMB \\u043b\\u0430\\u0433 \\u043c\\u0435\\u0441\\u044f\\u0446\", \"HML \\u043b\\u0430\\u0433 \\u043c\\u0435\\u0441\\u044f\\u0446\", \"SMB \\u043b\\u0430\\u0433 2 \\u043c\\u0435\\u0441\\u044f\\u0446\\u0430\", \"HML \\u043b\\u0430\\u0433 2 \\u043c\\u0435\\u0441\\u044f\\u0446\\u0430\", \"SMB \\u043b\\u0430\\u0433 3 \\u043c\\u0435\\u0441\\u044f\\u0446\\u0430\", \"HML \\u043b\\u0430\\u0433 3 \\u043c\\u0435\\u0441\\u044f\\u0446\\u0430\", \"MOM\", \"MOM \\u043b\\u0430\\u0433 \\u043c\\u0435\\u0441\\u044f\\u0446\", \"MOM \\u043b\\u0430\\u0433 2 \\u043c\\u0435\\u0441\\u044f\\u0446\\u0430\", \"MOM \\u043b\\u0430\\u0433 3 \\u043c\\u0435\\u0441\\u044f\\u0446\\u0430\", \"\\u0418\\u0437\\u043c\\u0435\\u043d\\u0435\\u043d\\u0438\\u0435 \\u043a\\u0443\\u0440\\u0441\\u0430 \\u0434\\u043e\\u043b\\u043b\\u0430\\u0440\\u0430 \\u0437\\u0430 \\u043c\\u0435\\u0441\\u044f\\u0446\", \"\\u0418\\u0437\\u043c\\u0435\\u043d\\u0435\\u043d\\u0438\\u0435 \\u0446\\u0435\\u043d\\u044b \\u043d\\u0430 \\u043d\\u0435\\u0444\\u0442\\u044c \\u0437\\u0430 \\u043c\\u0435\\u0441\\u044f\\u0446\"], \"y\": [0.2430379237384628, 0.029092696317768674, 0.02508448286881086, 0.03602261785285861, 0.046552188355742576, 0.0370689085565798, 0.0582507850839602, 0.06223354482923373, 0.026400059802501864, 0.04524889024362868, 0.035518095997242614, 0.06991953237145924, 0.023332414783936644, 0.05325301987628722, 0.04982653642678834, 0.029695304475078774, 0.08420225839618088, 0.045260740023478546]}, {\"line\": {\"color\": \"blue\", \"dash\": \"dot\", \"width\": 2}, \"mode\": \"lines+markers\", \"name\": \"\\u041f\\u043e\\u0442\\u0440\\u0435\\u0431\\u0438\\u0442\\u0435\\u043b\\u044c\\u0441\\u043a\\u0430\\u044f \\u0438 \\u0442\\u043e\\u0440\\u0433\\u043e\\u0432\\u0430\\u044f \\u043e\\u0442\\u0440\\u0430\\u0441\\u043b\\u0438\", \"type\": \"scatter\", \"x\": [\"\\u041f\\u0440\\u0435\\u043c\\u0438\\u044f \\u0437\\u0430 \\u0440\\u044b\\u043d\\u043e\\u0447\\u043d\\u044b\\u0439 \\u0440\\u0438\\u0441\\u043a\", \"\\u0414\\u043e\\u0445\\u043e\\u0434\\u043d\\u043e\\u0441\\u0442\\u044c \\u0441\\u0430\\u043c\\u043e\\u0439 \\u0430\\u043a\\u0446\\u0438\\u0438 \\u043b\\u0430\\u0433 \\u043c\\u0435\\u0441\\u044f\\u0446\", \"\\u0414\\u043e\\u0445\\u043e\\u0434\\u043d\\u043e\\u0441\\u0442\\u044c \\u0441\\u0430\\u043c\\u043e\\u0439 \\u0430\\u043a\\u0446\\u0438\\u0438 \\u043b\\u0430\\u0433 2 \\u043c\\u0435\\u0441\\u044f\\u0446\\u0430\", \"\\u0414\\u043e\\u0445\\u043e\\u0434\\u043d\\u043e\\u0441\\u0442\\u044c \\u0441\\u0430\\u043c\\u043e\\u0439 \\u0430\\u043a\\u0446\\u0438\\u0438 \\u043b\\u0430\\u0433 3 \\u043c\\u0435\\u0441\\u044f\\u0446\\u0430\", \"SMB\", \"HML\", \"SMB \\u043b\\u0430\\u0433 \\u043c\\u0435\\u0441\\u044f\\u0446\", \"HML \\u043b\\u0430\\u0433 \\u043c\\u0435\\u0441\\u044f\\u0446\", \"SMB \\u043b\\u0430\\u0433 2 \\u043c\\u0435\\u0441\\u044f\\u0446\\u0430\", \"HML \\u043b\\u0430\\u0433 2 \\u043c\\u0435\\u0441\\u044f\\u0446\\u0430\", \"SMB \\u043b\\u0430\\u0433 3 \\u043c\\u0435\\u0441\\u044f\\u0446\\u0430\", \"HML \\u043b\\u0430\\u0433 3 \\u043c\\u0435\\u0441\\u044f\\u0446\\u0430\", \"MOM\", \"MOM \\u043b\\u0430\\u0433 \\u043c\\u0435\\u0441\\u044f\\u0446\", \"MOM \\u043b\\u0430\\u0433 2 \\u043c\\u0435\\u0441\\u044f\\u0446\\u0430\", \"MOM \\u043b\\u0430\\u0433 3 \\u043c\\u0435\\u0441\\u044f\\u0446\\u0430\", \"\\u0418\\u0437\\u043c\\u0435\\u043d\\u0435\\u043d\\u0438\\u0435 \\u043a\\u0443\\u0440\\u0441\\u0430 \\u0434\\u043e\\u043b\\u043b\\u0430\\u0440\\u0430 \\u0437\\u0430 \\u043c\\u0435\\u0441\\u044f\\u0446\", \"\\u0418\\u0437\\u043c\\u0435\\u043d\\u0435\\u043d\\u0438\\u0435 \\u0446\\u0435\\u043d\\u044b \\u043d\\u0430 \\u043d\\u0435\\u0444\\u0442\\u044c \\u0437\\u0430 \\u043c\\u0435\\u0441\\u044f\\u0446\"], \"y\": [0.17836261947176224, 0.021114804383124228, 0.0600494577934174, 0.047841609708415354, 0.036928381930699736, 0.027326025926114387, 0.1461724224130084, 0.03546895933413249, 0.02470347691773199, 0.11415092276367847, 0.0228965615430376, 0.04746334495762288, 0.021601824077309498, 0.048320550138225046, 0.032418247995543485, 0.021220561409999616, 0.05135831721343494, 0.06260191202274225]}, {\"line\": {\"color\": \"orange\", \"width\": 2}, \"mode\": \"lines+markers\", \"name\": \"\\u0425\\u0438\\u043c\\u0438\\u0447\\u0435\\u0441\\u043a\\u0430\\u044f \\u043e\\u0442\\u0440\\u0430\\u0441\\u043b\\u044c\", \"type\": \"scatter\", \"x\": [\"\\u041f\\u0440\\u0435\\u043c\\u0438\\u044f \\u0437\\u0430 \\u0440\\u044b\\u043d\\u043e\\u0447\\u043d\\u044b\\u0439 \\u0440\\u0438\\u0441\\u043a\", \"\\u0414\\u043e\\u0445\\u043e\\u0434\\u043d\\u043e\\u0441\\u0442\\u044c \\u0441\\u0430\\u043c\\u043e\\u0439 \\u0430\\u043a\\u0446\\u0438\\u0438 \\u043b\\u0430\\u0433 \\u043c\\u0435\\u0441\\u044f\\u0446\", \"\\u0414\\u043e\\u0445\\u043e\\u0434\\u043d\\u043e\\u0441\\u0442\\u044c \\u0441\\u0430\\u043c\\u043e\\u0439 \\u0430\\u043a\\u0446\\u0438\\u0438 \\u043b\\u0430\\u0433 2 \\u043c\\u0435\\u0441\\u044f\\u0446\\u0430\", \"\\u0414\\u043e\\u0445\\u043e\\u0434\\u043d\\u043e\\u0441\\u0442\\u044c \\u0441\\u0430\\u043c\\u043e\\u0439 \\u0430\\u043a\\u0446\\u0438\\u0438 \\u043b\\u0430\\u0433 3 \\u043c\\u0435\\u0441\\u044f\\u0446\\u0430\", \"SMB\", \"HML\", \"SMB \\u043b\\u0430\\u0433 \\u043c\\u0435\\u0441\\u044f\\u0446\", \"HML \\u043b\\u0430\\u0433 \\u043c\\u0435\\u0441\\u044f\\u0446\", \"SMB \\u043b\\u0430\\u0433 2 \\u043c\\u0435\\u0441\\u044f\\u0446\\u0430\", \"HML \\u043b\\u0430\\u0433 2 \\u043c\\u0435\\u0441\\u044f\\u0446\\u0430\", \"SMB \\u043b\\u0430\\u0433 3 \\u043c\\u0435\\u0441\\u044f\\u0446\\u0430\", \"HML \\u043b\\u0430\\u0433 3 \\u043c\\u0435\\u0441\\u044f\\u0446\\u0430\", \"MOM\", \"MOM \\u043b\\u0430\\u0433 \\u043c\\u0435\\u0441\\u044f\\u0446\", \"MOM \\u043b\\u0430\\u0433 2 \\u043c\\u0435\\u0441\\u044f\\u0446\\u0430\", \"MOM \\u043b\\u0430\\u0433 3 \\u043c\\u0435\\u0441\\u044f\\u0446\\u0430\", \"\\u0418\\u0437\\u043c\\u0435\\u043d\\u0435\\u043d\\u0438\\u0435 \\u043a\\u0443\\u0440\\u0441\\u0430 \\u0434\\u043e\\u043b\\u043b\\u0430\\u0440\\u0430 \\u0437\\u0430 \\u043c\\u0435\\u0441\\u044f\\u0446\", \"\\u0418\\u0437\\u043c\\u0435\\u043d\\u0435\\u043d\\u0438\\u0435 \\u0446\\u0435\\u043d\\u044b \\u043d\\u0430 \\u043d\\u0435\\u0444\\u0442\\u044c \\u0437\\u0430 \\u043c\\u0435\\u0441\\u044f\\u0446\"], \"y\": [0.297614740124745, 0.021439406026473196, 0.015907100362470675, 0.005187123762912749, 0.03619559833167959, 0.045500016754332885, 0.051970023858368075, 0.07331824929820302, 0.0335729559510909, 0.03521318578820953, 0.012811893050647847, 0.016344827887734115, 0.010251192283701008, 0.017419230884627983, 0.028774213831179785, 0.015369120545092926, 0.22126498061123406, 0.0618461406472966]}],                        {\"autosize\": false, \"height\": 1400, \"legend\": {\"x\": 0.9, \"xanchor\": \"right\", \"y\": 0.9, \"yanchor\": \"top\"}, \"template\": {\"data\": {\"bar\": [{\"error_x\": {\"color\": \"#2a3f5f\"}, \"error_y\": {\"color\": \"#2a3f5f\"}, \"marker\": {\"line\": {\"color\": \"#E5ECF6\", \"width\": 0.5}}, \"type\": \"bar\"}], \"barpolar\": [{\"marker\": {\"line\": {\"color\": \"#E5ECF6\", \"width\": 0.5}}, \"type\": \"barpolar\"}], \"carpet\": [{\"aaxis\": {\"endlinecolor\": \"#2a3f5f\", \"gridcolor\": \"white\", \"linecolor\": \"white\", \"minorgridcolor\": \"white\", \"startlinecolor\": \"#2a3f5f\"}, \"baxis\": {\"endlinecolor\": \"#2a3f5f\", \"gridcolor\": \"white\", \"linecolor\": \"white\", \"minorgridcolor\": \"white\", \"startlinecolor\": \"#2a3f5f\"}, \"type\": \"carpet\"}], \"choropleth\": [{\"colorbar\": {\"outlinewidth\": 0, \"ticks\": \"\"}, \"type\": \"choropleth\"}], \"contour\": [{\"colorbar\": {\"outlinewidth\": 0, \"ticks\": \"\"}, \"colorscale\": [[0.0, \"#0d0887\"], [0.1111111111111111, \"#46039f\"], [0.2222222222222222, \"#7201a8\"], [0.3333333333333333, \"#9c179e\"], [0.4444444444444444, \"#bd3786\"], [0.5555555555555556, \"#d8576b\"], [0.6666666666666666, \"#ed7953\"], [0.7777777777777778, \"#fb9f3a\"], [0.8888888888888888, \"#fdca26\"], [1.0, \"#f0f921\"]], \"type\": \"contour\"}], \"contourcarpet\": [{\"colorbar\": {\"outlinewidth\": 0, \"ticks\": \"\"}, \"type\": \"contourcarpet\"}], \"heatmap\": [{\"colorbar\": {\"outlinewidth\": 0, \"ticks\": \"\"}, \"colorscale\": [[0.0, \"#0d0887\"], [0.1111111111111111, \"#46039f\"], [0.2222222222222222, \"#7201a8\"], [0.3333333333333333, \"#9c179e\"], [0.4444444444444444, \"#bd3786\"], [0.5555555555555556, \"#d8576b\"], [0.6666666666666666, \"#ed7953\"], [0.7777777777777778, \"#fb9f3a\"], [0.8888888888888888, \"#fdca26\"], [1.0, \"#f0f921\"]], \"type\": \"heatmap\"}], \"heatmapgl\": [{\"colorbar\": {\"outlinewidth\": 0, \"ticks\": \"\"}, \"colorscale\": [[0.0, \"#0d0887\"], [0.1111111111111111, \"#46039f\"], [0.2222222222222222, \"#7201a8\"], [0.3333333333333333, \"#9c179e\"], [0.4444444444444444, \"#bd3786\"], [0.5555555555555556, \"#d8576b\"], [0.6666666666666666, \"#ed7953\"], [0.7777777777777778, \"#fb9f3a\"], [0.8888888888888888, \"#fdca26\"], [1.0, \"#f0f921\"]], \"type\": \"heatmapgl\"}], \"histogram\": [{\"marker\": {\"colorbar\": {\"outlinewidth\": 0, \"ticks\": \"\"}}, \"type\": \"histogram\"}], \"histogram2d\": [{\"colorbar\": {\"outlinewidth\": 0, \"ticks\": \"\"}, \"colorscale\": [[0.0, \"#0d0887\"], [0.1111111111111111, \"#46039f\"], [0.2222222222222222, \"#7201a8\"], [0.3333333333333333, \"#9c179e\"], [0.4444444444444444, \"#bd3786\"], [0.5555555555555556, \"#d8576b\"], [0.6666666666666666, \"#ed7953\"], [0.7777777777777778, \"#fb9f3a\"], [0.8888888888888888, \"#fdca26\"], [1.0, \"#f0f921\"]], \"type\": \"histogram2d\"}], \"histogram2dcontour\": [{\"colorbar\": {\"outlinewidth\": 0, \"ticks\": \"\"}, \"colorscale\": [[0.0, \"#0d0887\"], [0.1111111111111111, \"#46039f\"], [0.2222222222222222, \"#7201a8\"], [0.3333333333333333, \"#9c179e\"], [0.4444444444444444, \"#bd3786\"], [0.5555555555555556, \"#d8576b\"], [0.6666666666666666, \"#ed7953\"], [0.7777777777777778, \"#fb9f3a\"], [0.8888888888888888, \"#fdca26\"], [1.0, \"#f0f921\"]], \"type\": \"histogram2dcontour\"}], \"mesh3d\": [{\"colorbar\": {\"outlinewidth\": 0, \"ticks\": \"\"}, \"type\": \"mesh3d\"}], \"parcoords\": [{\"line\": {\"colorbar\": {\"outlinewidth\": 0, \"ticks\": \"\"}}, \"type\": \"parcoords\"}], \"pie\": [{\"automargin\": true, \"type\": \"pie\"}], \"scatter\": [{\"marker\": {\"colorbar\": {\"outlinewidth\": 0, \"ticks\": \"\"}}, \"type\": \"scatter\"}], \"scatter3d\": [{\"line\": {\"colorbar\": {\"outlinewidth\": 0, \"ticks\": \"\"}}, \"marker\": {\"colorbar\": {\"outlinewidth\": 0, \"ticks\": \"\"}}, \"type\": \"scatter3d\"}], \"scattercarpet\": [{\"marker\": {\"colorbar\": {\"outlinewidth\": 0, \"ticks\": \"\"}}, \"type\": \"scattercarpet\"}], \"scattergeo\": [{\"marker\": {\"colorbar\": {\"outlinewidth\": 0, \"ticks\": \"\"}}, \"type\": \"scattergeo\"}], \"scattergl\": [{\"marker\": {\"colorbar\": {\"outlinewidth\": 0, \"ticks\": \"\"}}, \"type\": \"scattergl\"}], \"scattermapbox\": [{\"marker\": {\"colorbar\": {\"outlinewidth\": 0, \"ticks\": \"\"}}, \"type\": \"scattermapbox\"}], \"scatterpolar\": [{\"marker\": {\"colorbar\": {\"outlinewidth\": 0, \"ticks\": \"\"}}, \"type\": \"scatterpolar\"}], \"scatterpolargl\": [{\"marker\": {\"colorbar\": {\"outlinewidth\": 0, \"ticks\": \"\"}}, \"type\": \"scatterpolargl\"}], \"scatterternary\": [{\"marker\": {\"colorbar\": {\"outlinewidth\": 0, \"ticks\": \"\"}}, \"type\": \"scatterternary\"}], \"surface\": [{\"colorbar\": {\"outlinewidth\": 0, \"ticks\": \"\"}, \"colorscale\": [[0.0, \"#0d0887\"], [0.1111111111111111, \"#46039f\"], [0.2222222222222222, \"#7201a8\"], [0.3333333333333333, \"#9c179e\"], [0.4444444444444444, \"#bd3786\"], [0.5555555555555556, \"#d8576b\"], [0.6666666666666666, \"#ed7953\"], [0.7777777777777778, \"#fb9f3a\"], [0.8888888888888888, \"#fdca26\"], [1.0, \"#f0f921\"]], \"type\": \"surface\"}], \"table\": [{\"cells\": {\"fill\": {\"color\": \"#EBF0F8\"}, \"line\": {\"color\": \"white\"}}, \"header\": {\"fill\": {\"color\": \"#C8D4E3\"}, \"line\": {\"color\": \"white\"}}, \"type\": \"table\"}]}, \"layout\": {\"annotationdefaults\": {\"arrowcolor\": \"#2a3f5f\", \"arrowhead\": 0, \"arrowwidth\": 1}, \"coloraxis\": {\"colorbar\": {\"outlinewidth\": 0, \"ticks\": \"\"}}, \"colorscale\": {\"diverging\": [[0, \"#8e0152\"], [0.1, \"#c51b7d\"], [0.2, \"#de77ae\"], [0.3, \"#f1b6da\"], [0.4, \"#fde0ef\"], [0.5, \"#f7f7f7\"], [0.6, \"#e6f5d0\"], [0.7, \"#b8e186\"], [0.8, \"#7fbc41\"], [0.9, \"#4d9221\"], [1, \"#276419\"]], \"sequential\": [[0.0, \"#0d0887\"], [0.1111111111111111, \"#46039f\"], [0.2222222222222222, \"#7201a8\"], [0.3333333333333333, \"#9c179e\"], [0.4444444444444444, \"#bd3786\"], [0.5555555555555556, \"#d8576b\"], [0.6666666666666666, \"#ed7953\"], [0.7777777777777778, \"#fb9f3a\"], [0.8888888888888888, \"#fdca26\"], [1.0, \"#f0f921\"]], \"sequentialminus\": [[0.0, \"#0d0887\"], [0.1111111111111111, \"#46039f\"], [0.2222222222222222, \"#7201a8\"], [0.3333333333333333, \"#9c179e\"], [0.4444444444444444, \"#bd3786\"], [0.5555555555555556, \"#d8576b\"], [0.6666666666666666, \"#ed7953\"], [0.7777777777777778, \"#fb9f3a\"], [0.8888888888888888, \"#fdca26\"], [1.0, \"#f0f921\"]]}, \"colorway\": [\"#636efa\", \"#EF553B\", \"#00cc96\", \"#ab63fa\", \"#FFA15A\", \"#19d3f3\", \"#FF6692\", \"#B6E880\", \"#FF97FF\", \"#FECB52\"], \"font\": {\"color\": \"#2a3f5f\"}, \"geo\": {\"bgcolor\": \"white\", \"lakecolor\": \"white\", \"landcolor\": \"#E5ECF6\", \"showlakes\": true, \"showland\": true, \"subunitcolor\": \"white\"}, \"hoverlabel\": {\"align\": \"left\"}, \"hovermode\": \"closest\", \"mapbox\": {\"style\": \"light\"}, \"paper_bgcolor\": \"white\", \"plot_bgcolor\": \"#E5ECF6\", \"polar\": {\"angularaxis\": {\"gridcolor\": \"white\", \"linecolor\": \"white\", \"ticks\": \"\"}, \"bgcolor\": \"#E5ECF6\", \"radialaxis\": {\"gridcolor\": \"white\", \"linecolor\": \"white\", \"ticks\": \"\"}}, \"scene\": {\"xaxis\": {\"backgroundcolor\": \"#E5ECF6\", \"gridcolor\": \"white\", \"gridwidth\": 2, \"linecolor\": \"white\", \"showbackground\": true, \"ticks\": \"\", \"zerolinecolor\": \"white\"}, \"yaxis\": {\"backgroundcolor\": \"#E5ECF6\", \"gridcolor\": \"white\", \"gridwidth\": 2, \"linecolor\": \"white\", \"showbackground\": true, \"ticks\": \"\", \"zerolinecolor\": \"white\"}, \"zaxis\": {\"backgroundcolor\": \"#E5ECF6\", \"gridcolor\": \"white\", \"gridwidth\": 2, \"linecolor\": \"white\", \"showbackground\": true, \"ticks\": \"\", \"zerolinecolor\": \"white\"}}, \"shapedefaults\": {\"line\": {\"color\": \"#2a3f5f\"}}, \"ternary\": {\"aaxis\": {\"gridcolor\": \"white\", \"linecolor\": \"white\", \"ticks\": \"\"}, \"baxis\": {\"gridcolor\": \"white\", \"linecolor\": \"white\", \"ticks\": \"\"}, \"bgcolor\": \"#E5ECF6\", \"caxis\": {\"gridcolor\": \"white\", \"linecolor\": \"white\", \"ticks\": \"\"}}, \"title\": {\"x\": 0.05}, \"xaxis\": {\"automargin\": true, \"gridcolor\": \"white\", \"linecolor\": \"white\", \"ticks\": \"\", \"title\": {\"standoff\": 15}, \"zerolinecolor\": \"white\", \"zerolinewidth\": 2}, \"yaxis\": {\"automargin\": true, \"gridcolor\": \"white\", \"linecolor\": \"white\", \"ticks\": \"\", \"title\": {\"standoff\": 15}, \"zerolinecolor\": \"white\", \"zerolinewidth\": 2}}}, \"width\": 1200, \"xaxis\": {\"title\": {\"text\": \"\\u0424\\u0430\\u043a\\u0442\\u043e\\u0440\"}}, \"yaxis\": {\"title\": {\"text\": \"\\u0412\\u0430\\u0436\\u043d\\u043e\\u0441\\u0442\\u044c \\u0444\\u0430\\u043a\\u0442\\u043e\\u0440\\u0430\"}}},                        {\"responsive\": true}                    ).then(function(){\n",
       "                            \n",
       "var gd = document.getElementById('f14d1c1a-dc7a-4147-875a-5574f158dc75');\n",
       "var x = new MutationObserver(function (mutations, observer) {{\n",
       "        var display = window.getComputedStyle(gd).display;\n",
       "        if (!display || display === 'none') {{\n",
       "            console.log([gd, 'removed!']);\n",
       "            Plotly.purge(gd);\n",
       "            observer.disconnect();\n",
       "        }}\n",
       "}});\n",
       "\n",
       "// Listen for the removal of the full notebook cells\n",
       "var notebookContainer = gd.closest('#notebook-container');\n",
       "if (notebookContainer) {{\n",
       "    x.observe(notebookContainer, {childList: true});\n",
       "}}\n",
       "\n",
       "// Listen for the clearing of the current output cell\n",
       "var outputEl = gd.closest('.output');\n",
       "if (outputEl) {{\n",
       "    x.observe(outputEl, {childList: true});\n",
       "}}\n",
       "\n",
       "                        })                };                });            </script>        </div>"
      ]
     },
     "metadata": {},
     "output_type": "display_data"
    }
   ],
   "source": [
    "fig = go.Figure()\n",
    "\n",
    "\n",
    "fig.add_trace(go.Scatter(x=Neft.index, y=Neft['средняя важность'],\n",
    "                         mode='lines+markers',name='Нефтегазовая отрасль'))\n",
    "\n",
    "fig.add_trace(go.Scatter(x=Electro.index, y=Electro['средняя важность'],\n",
    "                         mode='lines+markers',name='Отрасль электроэнергетики'))\n",
    "\n",
    "fig.add_trace(go.Scatter(x=Metal.index, y=Metal['средняя важность'],\n",
    "                         mode='lines+markers',name='Металлургическая и добывающая отрасли',\n",
    "                         line = dict(color='green', width=4, dash='dash')))\n",
    "\n",
    "fig.add_trace(go.Scatter(x=Finance.index, y=Finance['средняя важность'],\n",
    "                         mode='lines+markers',name='Финансовая и банковская отрасли',\n",
    "                         line=dict(color='royalblue', width=4, dash='dot')))\n",
    "fig.add_trace(go.Scatter(x=Consumer.index, y=Consumer['средняя важность'],\n",
    "                         mode='lines+markers',name='Потребительская и торговая отрасли',\n",
    "                         line=dict(color='blue', width=2, dash = 'dot')))\n",
    "\n",
    "fig.add_trace(go.Scatter(x=Chemistry.index, y=Chemistry['средняя важность'],\n",
    "                         mode='lines+markers',name='Химическая отрасль',\n",
    "                         line=dict(color='orange', width=2)))\n",
    "\n",
    "\n",
    "\n",
    "fig.update_layout(yaxis_title = 'Важность фактора',xaxis_title = 'Фактор',autosize=False,width=1200,height = 1400,\n",
    "                  legend=dict(yanchor=\"top\", y=0.9, xanchor=\"right\", x=0.9))\n",
    "\n",
    "fig.show()"
   ]
  },
  {
   "cell_type": "markdown",
   "metadata": {},
   "source": [
    "# Lasso feature selection"
   ]
  },
  {
   "cell_type": "code",
   "execution_count": 53,
   "metadata": {},
   "outputs": [
    {
     "data": {
      "application/vnd.plotly.v1+json": {
       "config": {
        "plotlyServerURL": "https://plot.ly"
       },
       "data": [
        {
         "mode": "lines+markers",
         "name": "Количество попаданий в важные факторы по LASSO",
         "type": "scatter",
         "x": [
          "Премия за рыночный риск",
          "Доходность самой акции лаг месяц",
          "Доходность самой акции лаг 2 месяца",
          "Доходность самой акции лаг 3 месяца",
          "SMB",
          "HML",
          "SMB лаг месяц",
          "HML лаг месяц",
          "SMB лаг 2 месяца",
          "HML лаг 2 месяца",
          "SMB лаг 3 месяца",
          "HML лаг 3 месяца",
          "MOM",
          "MOM лаг месяц",
          "MOM лаг 2 месяца",
          "MOM лаг 3 месяца",
          "Изменение курса доллара за месяц",
          "Изменение цены на нефть за месяц"
         ],
         "y": [
          41,
          16,
          20,
          15,
          13,
          20,
          24,
          27,
          16,
          18,
          14,
          14,
          6,
          10,
          6,
          7,
          20,
          21
         ]
        }
       ],
       "layout": {
        "autosize": false,
        "height": 650,
        "legend": {
         "x": 0.01,
         "xanchor": "left",
         "y": 0.96,
         "yanchor": "top"
        },
        "template": {
         "data": {
          "bar": [
           {
            "error_x": {
             "color": "#2a3f5f"
            },
            "error_y": {
             "color": "#2a3f5f"
            },
            "marker": {
             "line": {
              "color": "#E5ECF6",
              "width": 0.5
             }
            },
            "type": "bar"
           }
          ],
          "barpolar": [
           {
            "marker": {
             "line": {
              "color": "#E5ECF6",
              "width": 0.5
             }
            },
            "type": "barpolar"
           }
          ],
          "carpet": [
           {
            "aaxis": {
             "endlinecolor": "#2a3f5f",
             "gridcolor": "white",
             "linecolor": "white",
             "minorgridcolor": "white",
             "startlinecolor": "#2a3f5f"
            },
            "baxis": {
             "endlinecolor": "#2a3f5f",
             "gridcolor": "white",
             "linecolor": "white",
             "minorgridcolor": "white",
             "startlinecolor": "#2a3f5f"
            },
            "type": "carpet"
           }
          ],
          "choropleth": [
           {
            "colorbar": {
             "outlinewidth": 0,
             "ticks": ""
            },
            "type": "choropleth"
           }
          ],
          "contour": [
           {
            "colorbar": {
             "outlinewidth": 0,
             "ticks": ""
            },
            "colorscale": [
             [
              0,
              "#0d0887"
             ],
             [
              0.1111111111111111,
              "#46039f"
             ],
             [
              0.2222222222222222,
              "#7201a8"
             ],
             [
              0.3333333333333333,
              "#9c179e"
             ],
             [
              0.4444444444444444,
              "#bd3786"
             ],
             [
              0.5555555555555556,
              "#d8576b"
             ],
             [
              0.6666666666666666,
              "#ed7953"
             ],
             [
              0.7777777777777778,
              "#fb9f3a"
             ],
             [
              0.8888888888888888,
              "#fdca26"
             ],
             [
              1,
              "#f0f921"
             ]
            ],
            "type": "contour"
           }
          ],
          "contourcarpet": [
           {
            "colorbar": {
             "outlinewidth": 0,
             "ticks": ""
            },
            "type": "contourcarpet"
           }
          ],
          "heatmap": [
           {
            "colorbar": {
             "outlinewidth": 0,
             "ticks": ""
            },
            "colorscale": [
             [
              0,
              "#0d0887"
             ],
             [
              0.1111111111111111,
              "#46039f"
             ],
             [
              0.2222222222222222,
              "#7201a8"
             ],
             [
              0.3333333333333333,
              "#9c179e"
             ],
             [
              0.4444444444444444,
              "#bd3786"
             ],
             [
              0.5555555555555556,
              "#d8576b"
             ],
             [
              0.6666666666666666,
              "#ed7953"
             ],
             [
              0.7777777777777778,
              "#fb9f3a"
             ],
             [
              0.8888888888888888,
              "#fdca26"
             ],
             [
              1,
              "#f0f921"
             ]
            ],
            "type": "heatmap"
           }
          ],
          "heatmapgl": [
           {
            "colorbar": {
             "outlinewidth": 0,
             "ticks": ""
            },
            "colorscale": [
             [
              0,
              "#0d0887"
             ],
             [
              0.1111111111111111,
              "#46039f"
             ],
             [
              0.2222222222222222,
              "#7201a8"
             ],
             [
              0.3333333333333333,
              "#9c179e"
             ],
             [
              0.4444444444444444,
              "#bd3786"
             ],
             [
              0.5555555555555556,
              "#d8576b"
             ],
             [
              0.6666666666666666,
              "#ed7953"
             ],
             [
              0.7777777777777778,
              "#fb9f3a"
             ],
             [
              0.8888888888888888,
              "#fdca26"
             ],
             [
              1,
              "#f0f921"
             ]
            ],
            "type": "heatmapgl"
           }
          ],
          "histogram": [
           {
            "marker": {
             "colorbar": {
              "outlinewidth": 0,
              "ticks": ""
             }
            },
            "type": "histogram"
           }
          ],
          "histogram2d": [
           {
            "colorbar": {
             "outlinewidth": 0,
             "ticks": ""
            },
            "colorscale": [
             [
              0,
              "#0d0887"
             ],
             [
              0.1111111111111111,
              "#46039f"
             ],
             [
              0.2222222222222222,
              "#7201a8"
             ],
             [
              0.3333333333333333,
              "#9c179e"
             ],
             [
              0.4444444444444444,
              "#bd3786"
             ],
             [
              0.5555555555555556,
              "#d8576b"
             ],
             [
              0.6666666666666666,
              "#ed7953"
             ],
             [
              0.7777777777777778,
              "#fb9f3a"
             ],
             [
              0.8888888888888888,
              "#fdca26"
             ],
             [
              1,
              "#f0f921"
             ]
            ],
            "type": "histogram2d"
           }
          ],
          "histogram2dcontour": [
           {
            "colorbar": {
             "outlinewidth": 0,
             "ticks": ""
            },
            "colorscale": [
             [
              0,
              "#0d0887"
             ],
             [
              0.1111111111111111,
              "#46039f"
             ],
             [
              0.2222222222222222,
              "#7201a8"
             ],
             [
              0.3333333333333333,
              "#9c179e"
             ],
             [
              0.4444444444444444,
              "#bd3786"
             ],
             [
              0.5555555555555556,
              "#d8576b"
             ],
             [
              0.6666666666666666,
              "#ed7953"
             ],
             [
              0.7777777777777778,
              "#fb9f3a"
             ],
             [
              0.8888888888888888,
              "#fdca26"
             ],
             [
              1,
              "#f0f921"
             ]
            ],
            "type": "histogram2dcontour"
           }
          ],
          "mesh3d": [
           {
            "colorbar": {
             "outlinewidth": 0,
             "ticks": ""
            },
            "type": "mesh3d"
           }
          ],
          "parcoords": [
           {
            "line": {
             "colorbar": {
              "outlinewidth": 0,
              "ticks": ""
             }
            },
            "type": "parcoords"
           }
          ],
          "pie": [
           {
            "automargin": true,
            "type": "pie"
           }
          ],
          "scatter": [
           {
            "marker": {
             "colorbar": {
              "outlinewidth": 0,
              "ticks": ""
             }
            },
            "type": "scatter"
           }
          ],
          "scatter3d": [
           {
            "line": {
             "colorbar": {
              "outlinewidth": 0,
              "ticks": ""
             }
            },
            "marker": {
             "colorbar": {
              "outlinewidth": 0,
              "ticks": ""
             }
            },
            "type": "scatter3d"
           }
          ],
          "scattercarpet": [
           {
            "marker": {
             "colorbar": {
              "outlinewidth": 0,
              "ticks": ""
             }
            },
            "type": "scattercarpet"
           }
          ],
          "scattergeo": [
           {
            "marker": {
             "colorbar": {
              "outlinewidth": 0,
              "ticks": ""
             }
            },
            "type": "scattergeo"
           }
          ],
          "scattergl": [
           {
            "marker": {
             "colorbar": {
              "outlinewidth": 0,
              "ticks": ""
             }
            },
            "type": "scattergl"
           }
          ],
          "scattermapbox": [
           {
            "marker": {
             "colorbar": {
              "outlinewidth": 0,
              "ticks": ""
             }
            },
            "type": "scattermapbox"
           }
          ],
          "scatterpolar": [
           {
            "marker": {
             "colorbar": {
              "outlinewidth": 0,
              "ticks": ""
             }
            },
            "type": "scatterpolar"
           }
          ],
          "scatterpolargl": [
           {
            "marker": {
             "colorbar": {
              "outlinewidth": 0,
              "ticks": ""
             }
            },
            "type": "scatterpolargl"
           }
          ],
          "scatterternary": [
           {
            "marker": {
             "colorbar": {
              "outlinewidth": 0,
              "ticks": ""
             }
            },
            "type": "scatterternary"
           }
          ],
          "surface": [
           {
            "colorbar": {
             "outlinewidth": 0,
             "ticks": ""
            },
            "colorscale": [
             [
              0,
              "#0d0887"
             ],
             [
              0.1111111111111111,
              "#46039f"
             ],
             [
              0.2222222222222222,
              "#7201a8"
             ],
             [
              0.3333333333333333,
              "#9c179e"
             ],
             [
              0.4444444444444444,
              "#bd3786"
             ],
             [
              0.5555555555555556,
              "#d8576b"
             ],
             [
              0.6666666666666666,
              "#ed7953"
             ],
             [
              0.7777777777777778,
              "#fb9f3a"
             ],
             [
              0.8888888888888888,
              "#fdca26"
             ],
             [
              1,
              "#f0f921"
             ]
            ],
            "type": "surface"
           }
          ],
          "table": [
           {
            "cells": {
             "fill": {
              "color": "#EBF0F8"
             },
             "line": {
              "color": "white"
             }
            },
            "header": {
             "fill": {
              "color": "#C8D4E3"
             },
             "line": {
              "color": "white"
             }
            },
            "type": "table"
           }
          ]
         },
         "layout": {
          "annotationdefaults": {
           "arrowcolor": "#2a3f5f",
           "arrowhead": 0,
           "arrowwidth": 1
          },
          "coloraxis": {
           "colorbar": {
            "outlinewidth": 0,
            "ticks": ""
           }
          },
          "colorscale": {
           "diverging": [
            [
             0,
             "#8e0152"
            ],
            [
             0.1,
             "#c51b7d"
            ],
            [
             0.2,
             "#de77ae"
            ],
            [
             0.3,
             "#f1b6da"
            ],
            [
             0.4,
             "#fde0ef"
            ],
            [
             0.5,
             "#f7f7f7"
            ],
            [
             0.6,
             "#e6f5d0"
            ],
            [
             0.7,
             "#b8e186"
            ],
            [
             0.8,
             "#7fbc41"
            ],
            [
             0.9,
             "#4d9221"
            ],
            [
             1,
             "#276419"
            ]
           ],
           "sequential": [
            [
             0,
             "#0d0887"
            ],
            [
             0.1111111111111111,
             "#46039f"
            ],
            [
             0.2222222222222222,
             "#7201a8"
            ],
            [
             0.3333333333333333,
             "#9c179e"
            ],
            [
             0.4444444444444444,
             "#bd3786"
            ],
            [
             0.5555555555555556,
             "#d8576b"
            ],
            [
             0.6666666666666666,
             "#ed7953"
            ],
            [
             0.7777777777777778,
             "#fb9f3a"
            ],
            [
             0.8888888888888888,
             "#fdca26"
            ],
            [
             1,
             "#f0f921"
            ]
           ],
           "sequentialminus": [
            [
             0,
             "#0d0887"
            ],
            [
             0.1111111111111111,
             "#46039f"
            ],
            [
             0.2222222222222222,
             "#7201a8"
            ],
            [
             0.3333333333333333,
             "#9c179e"
            ],
            [
             0.4444444444444444,
             "#bd3786"
            ],
            [
             0.5555555555555556,
             "#d8576b"
            ],
            [
             0.6666666666666666,
             "#ed7953"
            ],
            [
             0.7777777777777778,
             "#fb9f3a"
            ],
            [
             0.8888888888888888,
             "#fdca26"
            ],
            [
             1,
             "#f0f921"
            ]
           ]
          },
          "colorway": [
           "#636efa",
           "#EF553B",
           "#00cc96",
           "#ab63fa",
           "#FFA15A",
           "#19d3f3",
           "#FF6692",
           "#B6E880",
           "#FF97FF",
           "#FECB52"
          ],
          "font": {
           "color": "#2a3f5f"
          },
          "geo": {
           "bgcolor": "white",
           "lakecolor": "white",
           "landcolor": "#E5ECF6",
           "showlakes": true,
           "showland": true,
           "subunitcolor": "white"
          },
          "hoverlabel": {
           "align": "left"
          },
          "hovermode": "closest",
          "mapbox": {
           "style": "light"
          },
          "paper_bgcolor": "white",
          "plot_bgcolor": "#E5ECF6",
          "polar": {
           "angularaxis": {
            "gridcolor": "white",
            "linecolor": "white",
            "ticks": ""
           },
           "bgcolor": "#E5ECF6",
           "radialaxis": {
            "gridcolor": "white",
            "linecolor": "white",
            "ticks": ""
           }
          },
          "scene": {
           "xaxis": {
            "backgroundcolor": "#E5ECF6",
            "gridcolor": "white",
            "gridwidth": 2,
            "linecolor": "white",
            "showbackground": true,
            "ticks": "",
            "zerolinecolor": "white"
           },
           "yaxis": {
            "backgroundcolor": "#E5ECF6",
            "gridcolor": "white",
            "gridwidth": 2,
            "linecolor": "white",
            "showbackground": true,
            "ticks": "",
            "zerolinecolor": "white"
           },
           "zaxis": {
            "backgroundcolor": "#E5ECF6",
            "gridcolor": "white",
            "gridwidth": 2,
            "linecolor": "white",
            "showbackground": true,
            "ticks": "",
            "zerolinecolor": "white"
           }
          },
          "shapedefaults": {
           "line": {
            "color": "#2a3f5f"
           }
          },
          "ternary": {
           "aaxis": {
            "gridcolor": "white",
            "linecolor": "white",
            "ticks": ""
           },
           "baxis": {
            "gridcolor": "white",
            "linecolor": "white",
            "ticks": ""
           },
           "bgcolor": "#E5ECF6",
           "caxis": {
            "gridcolor": "white",
            "linecolor": "white",
            "ticks": ""
           }
          },
          "title": {
           "x": 0.05
          },
          "xaxis": {
           "automargin": true,
           "gridcolor": "white",
           "linecolor": "white",
           "ticks": "",
           "title": {
            "standoff": 15
           },
           "zerolinecolor": "white",
           "zerolinewidth": 2
          },
          "yaxis": {
           "automargin": true,
           "gridcolor": "white",
           "linecolor": "white",
           "ticks": "",
           "title": {
            "standoff": 15
           },
           "zerolinecolor": "white",
           "zerolinewidth": 2
          }
         }
        },
        "width": 1000,
        "xaxis": {
         "title": {
          "text": "Фактор"
         }
        },
        "yaxis": {
         "title": {
          "text": "Кол-во попаданий в число важных факторов"
         }
        }
       }
      },
      "text/html": [
       "<div>                            <div id=\"e1bb22f8-f34e-49e5-9feb-b7404342f68e\" class=\"plotly-graph-div\" style=\"height:650px; width:1000px;\"></div>            <script type=\"text/javascript\">                require([\"plotly\"], function(Plotly) {                    window.PLOTLYENV=window.PLOTLYENV || {};                                    if (document.getElementById(\"e1bb22f8-f34e-49e5-9feb-b7404342f68e\")) {                    Plotly.newPlot(                        \"e1bb22f8-f34e-49e5-9feb-b7404342f68e\",                        [{\"mode\": \"lines+markers\", \"name\": \"\\u041a\\u043e\\u043b\\u0438\\u0447\\u0435\\u0441\\u0442\\u0432\\u043e \\u043f\\u043e\\u043f\\u0430\\u0434\\u0430\\u043d\\u0438\\u0439 \\u0432 \\u0432\\u0430\\u0436\\u043d\\u044b\\u0435 \\u0444\\u0430\\u043a\\u0442\\u043e\\u0440\\u044b \\u043f\\u043e LASSO\", \"type\": \"scatter\", \"x\": [\"\\u041f\\u0440\\u0435\\u043c\\u0438\\u044f \\u0437\\u0430 \\u0440\\u044b\\u043d\\u043e\\u0447\\u043d\\u044b\\u0439 \\u0440\\u0438\\u0441\\u043a\", \"\\u0414\\u043e\\u0445\\u043e\\u0434\\u043d\\u043e\\u0441\\u0442\\u044c \\u0441\\u0430\\u043c\\u043e\\u0439 \\u0430\\u043a\\u0446\\u0438\\u0438 \\u043b\\u0430\\u0433 \\u043c\\u0435\\u0441\\u044f\\u0446\", \"\\u0414\\u043e\\u0445\\u043e\\u0434\\u043d\\u043e\\u0441\\u0442\\u044c \\u0441\\u0430\\u043c\\u043e\\u0439 \\u0430\\u043a\\u0446\\u0438\\u0438 \\u043b\\u0430\\u0433 2 \\u043c\\u0435\\u0441\\u044f\\u0446\\u0430\", \"\\u0414\\u043e\\u0445\\u043e\\u0434\\u043d\\u043e\\u0441\\u0442\\u044c \\u0441\\u0430\\u043c\\u043e\\u0439 \\u0430\\u043a\\u0446\\u0438\\u0438 \\u043b\\u0430\\u0433 3 \\u043c\\u0435\\u0441\\u044f\\u0446\\u0430\", \"SMB\", \"HML\", \"SMB \\u043b\\u0430\\u0433 \\u043c\\u0435\\u0441\\u044f\\u0446\", \"HML \\u043b\\u0430\\u0433 \\u043c\\u0435\\u0441\\u044f\\u0446\", \"SMB \\u043b\\u0430\\u0433 2 \\u043c\\u0435\\u0441\\u044f\\u0446\\u0430\", \"HML \\u043b\\u0430\\u0433 2 \\u043c\\u0435\\u0441\\u044f\\u0446\\u0430\", \"SMB \\u043b\\u0430\\u0433 3 \\u043c\\u0435\\u0441\\u044f\\u0446\\u0430\", \"HML \\u043b\\u0430\\u0433 3 \\u043c\\u0435\\u0441\\u044f\\u0446\\u0430\", \"MOM\", \"MOM \\u043b\\u0430\\u0433 \\u043c\\u0435\\u0441\\u044f\\u0446\", \"MOM \\u043b\\u0430\\u0433 2 \\u043c\\u0435\\u0441\\u044f\\u0446\\u0430\", \"MOM \\u043b\\u0430\\u0433 3 \\u043c\\u0435\\u0441\\u044f\\u0446\\u0430\", \"\\u0418\\u0437\\u043c\\u0435\\u043d\\u0435\\u043d\\u0438\\u0435 \\u043a\\u0443\\u0440\\u0441\\u0430 \\u0434\\u043e\\u043b\\u043b\\u0430\\u0440\\u0430 \\u0437\\u0430 \\u043c\\u0435\\u0441\\u044f\\u0446\", \"\\u0418\\u0437\\u043c\\u0435\\u043d\\u0435\\u043d\\u0438\\u0435 \\u0446\\u0435\\u043d\\u044b \\u043d\\u0430 \\u043d\\u0435\\u0444\\u0442\\u044c \\u0437\\u0430 \\u043c\\u0435\\u0441\\u044f\\u0446\"], \"y\": [41, 16, 20, 15, 13, 20, 24, 27, 16, 18, 14, 14, 6, 10, 6, 7, 20, 21]}],                        {\"autosize\": false, \"height\": 650, \"legend\": {\"x\": 0.01, \"xanchor\": \"left\", \"y\": 0.96, \"yanchor\": \"top\"}, \"template\": {\"data\": {\"bar\": [{\"error_x\": {\"color\": \"#2a3f5f\"}, \"error_y\": {\"color\": \"#2a3f5f\"}, \"marker\": {\"line\": {\"color\": \"#E5ECF6\", \"width\": 0.5}}, \"type\": \"bar\"}], \"barpolar\": [{\"marker\": {\"line\": {\"color\": \"#E5ECF6\", \"width\": 0.5}}, \"type\": \"barpolar\"}], \"carpet\": [{\"aaxis\": {\"endlinecolor\": \"#2a3f5f\", \"gridcolor\": \"white\", \"linecolor\": \"white\", \"minorgridcolor\": \"white\", \"startlinecolor\": \"#2a3f5f\"}, \"baxis\": {\"endlinecolor\": \"#2a3f5f\", \"gridcolor\": \"white\", \"linecolor\": \"white\", \"minorgridcolor\": \"white\", \"startlinecolor\": \"#2a3f5f\"}, \"type\": \"carpet\"}], \"choropleth\": [{\"colorbar\": {\"outlinewidth\": 0, \"ticks\": \"\"}, \"type\": \"choropleth\"}], \"contour\": [{\"colorbar\": {\"outlinewidth\": 0, \"ticks\": \"\"}, \"colorscale\": [[0.0, \"#0d0887\"], [0.1111111111111111, \"#46039f\"], [0.2222222222222222, \"#7201a8\"], [0.3333333333333333, \"#9c179e\"], [0.4444444444444444, \"#bd3786\"], [0.5555555555555556, \"#d8576b\"], [0.6666666666666666, \"#ed7953\"], [0.7777777777777778, \"#fb9f3a\"], [0.8888888888888888, \"#fdca26\"], [1.0, \"#f0f921\"]], \"type\": \"contour\"}], \"contourcarpet\": [{\"colorbar\": {\"outlinewidth\": 0, \"ticks\": \"\"}, \"type\": \"contourcarpet\"}], \"heatmap\": [{\"colorbar\": {\"outlinewidth\": 0, \"ticks\": \"\"}, \"colorscale\": [[0.0, \"#0d0887\"], [0.1111111111111111, \"#46039f\"], [0.2222222222222222, \"#7201a8\"], [0.3333333333333333, \"#9c179e\"], [0.4444444444444444, \"#bd3786\"], [0.5555555555555556, \"#d8576b\"], [0.6666666666666666, \"#ed7953\"], [0.7777777777777778, \"#fb9f3a\"], [0.8888888888888888, \"#fdca26\"], [1.0, \"#f0f921\"]], \"type\": \"heatmap\"}], \"heatmapgl\": [{\"colorbar\": {\"outlinewidth\": 0, \"ticks\": \"\"}, \"colorscale\": [[0.0, \"#0d0887\"], [0.1111111111111111, \"#46039f\"], [0.2222222222222222, \"#7201a8\"], [0.3333333333333333, \"#9c179e\"], [0.4444444444444444, \"#bd3786\"], [0.5555555555555556, \"#d8576b\"], [0.6666666666666666, \"#ed7953\"], [0.7777777777777778, \"#fb9f3a\"], [0.8888888888888888, \"#fdca26\"], [1.0, \"#f0f921\"]], \"type\": \"heatmapgl\"}], \"histogram\": [{\"marker\": {\"colorbar\": {\"outlinewidth\": 0, \"ticks\": \"\"}}, \"type\": \"histogram\"}], \"histogram2d\": [{\"colorbar\": {\"outlinewidth\": 0, \"ticks\": \"\"}, \"colorscale\": [[0.0, \"#0d0887\"], [0.1111111111111111, \"#46039f\"], [0.2222222222222222, \"#7201a8\"], [0.3333333333333333, \"#9c179e\"], [0.4444444444444444, \"#bd3786\"], [0.5555555555555556, \"#d8576b\"], [0.6666666666666666, \"#ed7953\"], [0.7777777777777778, \"#fb9f3a\"], [0.8888888888888888, \"#fdca26\"], [1.0, \"#f0f921\"]], \"type\": \"histogram2d\"}], \"histogram2dcontour\": [{\"colorbar\": {\"outlinewidth\": 0, \"ticks\": \"\"}, \"colorscale\": [[0.0, \"#0d0887\"], [0.1111111111111111, \"#46039f\"], [0.2222222222222222, \"#7201a8\"], [0.3333333333333333, \"#9c179e\"], [0.4444444444444444, \"#bd3786\"], [0.5555555555555556, \"#d8576b\"], [0.6666666666666666, \"#ed7953\"], [0.7777777777777778, \"#fb9f3a\"], [0.8888888888888888, \"#fdca26\"], [1.0, \"#f0f921\"]], \"type\": \"histogram2dcontour\"}], \"mesh3d\": [{\"colorbar\": {\"outlinewidth\": 0, \"ticks\": \"\"}, \"type\": \"mesh3d\"}], \"parcoords\": [{\"line\": {\"colorbar\": {\"outlinewidth\": 0, \"ticks\": \"\"}}, \"type\": \"parcoords\"}], \"pie\": [{\"automargin\": true, \"type\": \"pie\"}], \"scatter\": [{\"marker\": {\"colorbar\": {\"outlinewidth\": 0, \"ticks\": \"\"}}, \"type\": \"scatter\"}], \"scatter3d\": [{\"line\": {\"colorbar\": {\"outlinewidth\": 0, \"ticks\": \"\"}}, \"marker\": {\"colorbar\": {\"outlinewidth\": 0, \"ticks\": \"\"}}, \"type\": \"scatter3d\"}], \"scattercarpet\": [{\"marker\": {\"colorbar\": {\"outlinewidth\": 0, \"ticks\": \"\"}}, \"type\": \"scattercarpet\"}], \"scattergeo\": [{\"marker\": {\"colorbar\": {\"outlinewidth\": 0, \"ticks\": \"\"}}, \"type\": \"scattergeo\"}], \"scattergl\": [{\"marker\": {\"colorbar\": {\"outlinewidth\": 0, \"ticks\": \"\"}}, \"type\": \"scattergl\"}], \"scattermapbox\": [{\"marker\": {\"colorbar\": {\"outlinewidth\": 0, \"ticks\": \"\"}}, \"type\": \"scattermapbox\"}], \"scatterpolar\": [{\"marker\": {\"colorbar\": {\"outlinewidth\": 0, \"ticks\": \"\"}}, \"type\": \"scatterpolar\"}], \"scatterpolargl\": [{\"marker\": {\"colorbar\": {\"outlinewidth\": 0, \"ticks\": \"\"}}, \"type\": \"scatterpolargl\"}], \"scatterternary\": [{\"marker\": {\"colorbar\": {\"outlinewidth\": 0, \"ticks\": \"\"}}, \"type\": \"scatterternary\"}], \"surface\": [{\"colorbar\": {\"outlinewidth\": 0, \"ticks\": \"\"}, \"colorscale\": [[0.0, \"#0d0887\"], [0.1111111111111111, \"#46039f\"], [0.2222222222222222, \"#7201a8\"], [0.3333333333333333, \"#9c179e\"], [0.4444444444444444, \"#bd3786\"], [0.5555555555555556, \"#d8576b\"], [0.6666666666666666, \"#ed7953\"], [0.7777777777777778, \"#fb9f3a\"], [0.8888888888888888, \"#fdca26\"], [1.0, \"#f0f921\"]], \"type\": \"surface\"}], \"table\": [{\"cells\": {\"fill\": {\"color\": \"#EBF0F8\"}, \"line\": {\"color\": \"white\"}}, \"header\": {\"fill\": {\"color\": \"#C8D4E3\"}, \"line\": {\"color\": \"white\"}}, \"type\": \"table\"}]}, \"layout\": {\"annotationdefaults\": {\"arrowcolor\": \"#2a3f5f\", \"arrowhead\": 0, \"arrowwidth\": 1}, \"coloraxis\": {\"colorbar\": {\"outlinewidth\": 0, \"ticks\": \"\"}}, \"colorscale\": {\"diverging\": [[0, \"#8e0152\"], [0.1, \"#c51b7d\"], [0.2, \"#de77ae\"], [0.3, \"#f1b6da\"], [0.4, \"#fde0ef\"], [0.5, \"#f7f7f7\"], [0.6, \"#e6f5d0\"], [0.7, \"#b8e186\"], [0.8, \"#7fbc41\"], [0.9, \"#4d9221\"], [1, \"#276419\"]], \"sequential\": [[0.0, \"#0d0887\"], [0.1111111111111111, \"#46039f\"], [0.2222222222222222, \"#7201a8\"], [0.3333333333333333, \"#9c179e\"], [0.4444444444444444, \"#bd3786\"], [0.5555555555555556, \"#d8576b\"], [0.6666666666666666, \"#ed7953\"], [0.7777777777777778, \"#fb9f3a\"], [0.8888888888888888, \"#fdca26\"], [1.0, \"#f0f921\"]], \"sequentialminus\": [[0.0, \"#0d0887\"], [0.1111111111111111, \"#46039f\"], [0.2222222222222222, \"#7201a8\"], [0.3333333333333333, \"#9c179e\"], [0.4444444444444444, \"#bd3786\"], [0.5555555555555556, \"#d8576b\"], [0.6666666666666666, \"#ed7953\"], [0.7777777777777778, \"#fb9f3a\"], [0.8888888888888888, \"#fdca26\"], [1.0, \"#f0f921\"]]}, \"colorway\": [\"#636efa\", \"#EF553B\", \"#00cc96\", \"#ab63fa\", \"#FFA15A\", \"#19d3f3\", \"#FF6692\", \"#B6E880\", \"#FF97FF\", \"#FECB52\"], \"font\": {\"color\": \"#2a3f5f\"}, \"geo\": {\"bgcolor\": \"white\", \"lakecolor\": \"white\", \"landcolor\": \"#E5ECF6\", \"showlakes\": true, \"showland\": true, \"subunitcolor\": \"white\"}, \"hoverlabel\": {\"align\": \"left\"}, \"hovermode\": \"closest\", \"mapbox\": {\"style\": \"light\"}, \"paper_bgcolor\": \"white\", \"plot_bgcolor\": \"#E5ECF6\", \"polar\": {\"angularaxis\": {\"gridcolor\": \"white\", \"linecolor\": \"white\", \"ticks\": \"\"}, \"bgcolor\": \"#E5ECF6\", \"radialaxis\": {\"gridcolor\": \"white\", \"linecolor\": \"white\", \"ticks\": \"\"}}, \"scene\": {\"xaxis\": {\"backgroundcolor\": \"#E5ECF6\", \"gridcolor\": \"white\", \"gridwidth\": 2, \"linecolor\": \"white\", \"showbackground\": true, \"ticks\": \"\", \"zerolinecolor\": \"white\"}, \"yaxis\": {\"backgroundcolor\": \"#E5ECF6\", \"gridcolor\": \"white\", \"gridwidth\": 2, \"linecolor\": \"white\", \"showbackground\": true, \"ticks\": \"\", \"zerolinecolor\": \"white\"}, \"zaxis\": {\"backgroundcolor\": \"#E5ECF6\", \"gridcolor\": \"white\", \"gridwidth\": 2, \"linecolor\": \"white\", \"showbackground\": true, \"ticks\": \"\", \"zerolinecolor\": \"white\"}}, \"shapedefaults\": {\"line\": {\"color\": \"#2a3f5f\"}}, \"ternary\": {\"aaxis\": {\"gridcolor\": \"white\", \"linecolor\": \"white\", \"ticks\": \"\"}, \"baxis\": {\"gridcolor\": \"white\", \"linecolor\": \"white\", \"ticks\": \"\"}, \"bgcolor\": \"#E5ECF6\", \"caxis\": {\"gridcolor\": \"white\", \"linecolor\": \"white\", \"ticks\": \"\"}}, \"title\": {\"x\": 0.05}, \"xaxis\": {\"automargin\": true, \"gridcolor\": \"white\", \"linecolor\": \"white\", \"ticks\": \"\", \"title\": {\"standoff\": 15}, \"zerolinecolor\": \"white\", \"zerolinewidth\": 2}, \"yaxis\": {\"automargin\": true, \"gridcolor\": \"white\", \"linecolor\": \"white\", \"ticks\": \"\", \"title\": {\"standoff\": 15}, \"zerolinecolor\": \"white\", \"zerolinewidth\": 2}}}, \"width\": 1000, \"xaxis\": {\"title\": {\"text\": \"\\u0424\\u0430\\u043a\\u0442\\u043e\\u0440\"}}, \"yaxis\": {\"title\": {\"text\": \"\\u041a\\u043e\\u043b-\\u0432\\u043e \\u043f\\u043e\\u043f\\u0430\\u0434\\u0430\\u043d\\u0438\\u0439 \\u0432 \\u0447\\u0438\\u0441\\u043b\\u043e \\u0432\\u0430\\u0436\\u043d\\u044b\\u0445 \\u0444\\u0430\\u043a\\u0442\\u043e\\u0440\\u043e\\u0432\"}}},                        {\"responsive\": true}                    ).then(function(){\n",
       "                            \n",
       "var gd = document.getElementById('e1bb22f8-f34e-49e5-9feb-b7404342f68e');\n",
       "var x = new MutationObserver(function (mutations, observer) {{\n",
       "        var display = window.getComputedStyle(gd).display;\n",
       "        if (!display || display === 'none') {{\n",
       "            console.log([gd, 'removed!']);\n",
       "            Plotly.purge(gd);\n",
       "            observer.disconnect();\n",
       "        }}\n",
       "}});\n",
       "\n",
       "// Listen for the removal of the full notebook cells\n",
       "var notebookContainer = gd.closest('#notebook-container');\n",
       "if (notebookContainer) {{\n",
       "    x.observe(notebookContainer, {childList: true});\n",
       "}}\n",
       "\n",
       "// Listen for the clearing of the current output cell\n",
       "var outputEl = gd.closest('.output');\n",
       "if (outputEl) {{\n",
       "    x.observe(outputEl, {childList: true});\n",
       "}}\n",
       "\n",
       "                        })                };                });            </script>        </div>"
      ]
     },
     "metadata": {},
     "output_type": "display_data"
    }
   ],
   "source": [
    "lag_autolag_return_30 = 30\n",
    "lag_autolag_return_60 = 60\n",
    "lag_autolag_return_90 = 90\n",
    "lag_30 = 30\n",
    "lag_60 = 60\n",
    "lag_90 = 90\n",
    "\n",
    "A = ['Премия за рыночный риск', 'Доходность самой акции лаг месяц', 'Доходность самой акции лаг 2 месяца',\n",
    "     'Доходность самой акции лаг 3 месяца',\n",
    "     'SMB','HML','SMB лаг месяц','HML лаг месяц','SMB лаг 2 месяца','HML лаг 2 месяца',\n",
    "     'SMB лаг 3 месяца', 'HML лаг 3 месяца', 'MOM', 'MOM лаг месяц','MOM лаг 2 месяца',\n",
    "     'MOM лаг 3 месяца','Изменение курса доллара за месяц','Изменение цены на нефть за месяц']\n",
    "\n",
    "Lasso_selection = pd.DataFrame(A).rename(columns={0:'factor'}).set_index('factor')\n",
    "\n",
    "\n",
    "\n",
    "for name in data_ret.columns[2:]:\n",
    "    df1 = data[[name, 'Hamada_beta_MRP_for_{}'.format(name[7:11]), 'risk_free_rate_based_on_g_curve',\n",
    "                     'Hamada_d_mcap_ratio_SMB_for_{}'.format(name[7:11]),\n",
    "                     'Hamada_d_mcap_ratio_HML_for_{}'.format(name[7:11]),\n",
    "                     'MOM']].dropna()\n",
    "    df_autolag = pd.DataFrame(data[name] - data['risk_free_rate_based_on_g_curve']).rename(columns = {0:'{}_premium_lag_{}_days'.format(name[7:], lag_autolag_return_30)})\n",
    "    df_autolag = pd.DataFrame(df_autolag['{}_premium_lag_{}_days'.format(name[7:], lag_autolag_return_30)].shift(lag_autolag_return_30).dropna())\n",
    "\n",
    "    df_autolag_2 = pd.DataFrame(data[name] - data['risk_free_rate_based_on_g_curve']).rename(columns = {0:'{}_premium_lag_{}_days'.format(name[7:], lag_autolag_return_60)})\n",
    "    df_autolag_2 = pd.DataFrame(df_autolag_2['{}_premium_lag_{}_days'.format(name[7:], lag_autolag_return_60)].shift(lag_autolag_return_60).dropna())\n",
    "\n",
    "    df_autolag_3 = pd.DataFrame(data[name] - data['risk_free_rate_based_on_g_curve']).rename(columns = {0:'{}_premium_lag_{}_days'.format(name[7:], lag_autolag_return_90)})\n",
    "    df_autolag_3 = pd.DataFrame(df_autolag_3['{}_premium_lag_{}_days'.format(name[7:], lag_autolag_return_90)].shift(lag_autolag_return_90).dropna())\n",
    "\n",
    "    df2 = data[['Hamada_d_mcap_ratio_SMB_for_{}'.format(name[7:11]),\n",
    "            'Hamada_d_mcap_ratio_HML_for_{}'.format(name[7:11]), 'MOM']].shift(lag_30).dropna()\n",
    "\n",
    "\n",
    "\n",
    "    df2.rename(columns = {'Hamada_d_mcap_ratio_SMB_for_{}'.format(name[7:11]):'Hamada_d_mcap_ratio_SMB_for_{}_lag_{}_days'.format(name[7:11], lag_30),\n",
    "                          'Hamada_d_mcap_ratio_HML_for_{}'.format(name[7:11]):'Hamada_d_mcap_ratio_HML_for_{}_lag_{}_days'.format(name[7:11], lag_30), \n",
    "                          'MOM':'MOM_lag_{}_days'.format(lag_30)}, inplace = True)\n",
    "\n",
    "    result = pd.concat([df1, df2], axis=1, join=\"inner\")\n",
    "\n",
    "    df3 = data[['Hamada_d_mcap_ratio_SMB_for_{}'.format(name[7:11]),\n",
    "            'Hamada_d_mcap_ratio_HML_for_{}'.format(name[7:11]), 'MOM']].shift(lag_60).dropna()\n",
    "\n",
    "    df3.rename(columns = {'Hamada_d_mcap_ratio_SMB_for_{}'.format(name[7:11]):'Hamada_d_mcap_ratio_SMB_for_{}_lag_{}_days'.format(name[7:11], lag_60),\n",
    "                          'Hamada_d_mcap_ratio_HML_for_{}'.format(name[7:11]):'Hamada_d_mcap_ratio_HML_for_{}_lag_{}_days'.format(name[7:11], lag_60), \n",
    "                          'MOM':'MOM_lag_{}_days'.format(lag_60)}, inplace = True)\n",
    "\n",
    "    result = pd.concat([result, df3], axis=1, join=\"inner\")\n",
    "\n",
    "    df4 = data[['Hamada_d_mcap_ratio_SMB_for_{}'.format(name[7:11]),\n",
    "            'Hamada_d_mcap_ratio_HML_for_{}'.format(name[7:11]), 'MOM']].shift(lag_90).dropna()\n",
    "\n",
    "    df4.rename(columns = {'Hamada_d_mcap_ratio_SMB_for_{}'.format(name[7:11]):'Hamada_d_mcap_ratio_SMB_for_{}_lag_{}_days'.format(name[7:11], lag_90),\n",
    "                          'Hamada_d_mcap_ratio_HML_for_{}'.format(name[7:11]):'Hamada_d_mcap_ratio_HML_for_{}_lag_{}_days'.format(name[7:11], lag_90), \n",
    "                          'MOM':'MOM_lag_{}_days'.format(lag_90)}, inplace = True)\n",
    "\n",
    "    result = pd.concat([result, df4], axis=1, join=\"inner\")\n",
    "\n",
    "    result = pd.merge(result, macro_data, left_index=True, right_index=True)\n",
    "    result = pd.merge(result, df_autolag, left_index=True, right_index=True)\n",
    "    result = pd.merge(result, df_autolag_2, left_index=True, right_index=True)\n",
    "    result = pd.merge(result, df_autolag_3, left_index=True, right_index=True)\n",
    "    result['{}_Equity_premium'.format(name[7:14])] = result[name] - result['risk_free_rate_based_on_g_curve']\n",
    "\n",
    "    share = '{}_Equity_premium'.format(name[7:14])\n",
    "\n",
    "    dta = result.dropna()\n",
    "\n",
    "    X_train = dta.iloc[:round(len(dta) - len(dta)/4),:][['Hamada_beta_MRP_for_{}'.format(name[7:11]), \n",
    "              '{}_premium_lag_{}_days'.format(name[7:], lag_autolag_return_30),\n",
    "              '{}_premium_lag_{}_days'.format(name[7:], lag_autolag_return_60),\n",
    "              '{}_premium_lag_{}_days'.format(name[7:], lag_autolag_return_90),\n",
    "              'Hamada_d_mcap_ratio_SMB_for_{}'.format(name[7:11]),\n",
    "              'Hamada_d_mcap_ratio_HML_for_{}'.format(name[7:11]), \n",
    "              'Hamada_d_mcap_ratio_SMB_for_{}_lag_{}_days'.format(name[7:11], lag_30),\n",
    "              'Hamada_d_mcap_ratio_HML_for_{}_lag_{}_days'.format(name[7:11], lag_30),\n",
    "              'Hamada_d_mcap_ratio_SMB_for_{}_lag_{}_days'.format(name[7:11], lag_60),\n",
    "              'Hamada_d_mcap_ratio_HML_for_{}_lag_{}_days'.format(name[7:11], lag_60),\n",
    "              'Hamada_d_mcap_ratio_SMB_for_{}_lag_{}_days'.format(name[7:11], lag_90),\n",
    "              'Hamada_d_mcap_ratio_HML_for_{}_lag_{}_days'.format(name[7:11], lag_90),\n",
    "              'MOM','MOM_lag_{}_days'.format(lag_30),'MOM_lag_{}_days'.format(lag_60),\n",
    "              'MOM_lag_{}_days'.format(lag_90),'dollar_30d_return','wti_30d_return']]\n",
    "    X_test = dta.iloc[-round(len(dta)/4):,:][['Hamada_beta_MRP_for_{}'.format(name[7:11]), \n",
    "              '{}_premium_lag_{}_days'.format(name[7:], lag_autolag_return_30),\n",
    "              '{}_premium_lag_{}_days'.format(name[7:], lag_autolag_return_60),\n",
    "              '{}_premium_lag_{}_days'.format(name[7:], lag_autolag_return_90),\n",
    "              'Hamada_d_mcap_ratio_SMB_for_{}'.format(name[7:11]),\n",
    "              'Hamada_d_mcap_ratio_HML_for_{}'.format(name[7:11]), \n",
    "              'Hamada_d_mcap_ratio_SMB_for_{}_lag_{}_days'.format(name[7:11], lag_30),\n",
    "              'Hamada_d_mcap_ratio_HML_for_{}_lag_{}_days'.format(name[7:11], lag_30),\n",
    "              'Hamada_d_mcap_ratio_SMB_for_{}_lag_{}_days'.format(name[7:11], lag_60),\n",
    "              'Hamada_d_mcap_ratio_HML_for_{}_lag_{}_days'.format(name[7:11], lag_60),\n",
    "              'Hamada_d_mcap_ratio_SMB_for_{}_lag_{}_days'.format(name[7:11], lag_90),\n",
    "              'Hamada_d_mcap_ratio_HML_for_{}_lag_{}_days'.format(name[7:11], lag_90),\n",
    "              'MOM','MOM_lag_{}_days'.format(lag_30),'MOM_lag_{}_days'.format(lag_60),\n",
    "              'MOM_lag_{}_days'.format(lag_90),'dollar_30d_return','wti_30d_return']]\n",
    "    y_train = dta.iloc[:round(len(dta) - len(dta)/4),:][share]\n",
    "    y_test = dta.iloc[-round(len(dta)/4):,:][share]\n",
    "\n",
    "    lasso = Lasso(alpha = ast.literal_eval(ml_results_best_params.loc[share,'LASSO_best_params'])['alpha'],\n",
    "                  random_state = ast.literal_eval(ml_results_best_params.loc[share,'LASSO_best_params'])['random_state'],\n",
    "                  normalize=ast.literal_eval(ml_results_best_params.loc[share,'LASSO_best_params'])['normalize'],\n",
    "                  tol=ast.literal_eval(ml_results_best_params.loc[share,'LASSO_best_params'])['tol'])\n",
    "\n",
    "    sfm = SelectFromModel(lasso)\n",
    "\n",
    "    sfm.fit(X_train, y_train)\n",
    "\n",
    "    feature_idx = sfm.get_support()\n",
    "    feature_name = X_train.columns[feature_idx]\n",
    "    \n",
    "    df_2 = pd.DataFrame(feature_idx, X_train.columns).reset_index().rename(columns={0:'fact_of_importance_{}'.format(share[:4]),\n",
    "                                                                                     'index':'factor'})\n",
    "    df_2['factor'] = A\n",
    "    df_2.set_index('factor', inplace = True)\n",
    "    Lasso_selection = pd.concat([Lasso_selection, df_2], axis = 1)\n",
    "\n",
    "Lasso_selection.replace({True:1, False:0}, inplace = True)\n",
    "Lasso_selection['Количество попаданий в важные факторы по LASSO'] = Lasso_selection.sum(axis=1)\n",
    "   \n",
    "import plotly.graph_objects as go\n",
    "fig = go.Figure()\n",
    "\n",
    "\n",
    "fig.add_trace(go.Scatter(x=Lasso_selection.index, y=Lasso_selection['Количество попаданий в важные факторы по LASSO'],\n",
    "                         mode='lines+markers',name='Количество попаданий в важные факторы по LASSO'))\n",
    "\n",
    "fig.update_layout(yaxis_title = 'Кол-во попаданий в число важных факторов',xaxis_title = 'Фактор',autosize=False,width=1000,height = 650,\n",
    "                  legend=dict(yanchor=\"top\", y=0.96, xanchor=\"left\", x=0.01))\n",
    "\n",
    "fig.show()      "
   ]
  },
  {
   "cell_type": "markdown",
   "metadata": {},
   "source": [
    "## Lasso feature selection. Number of important factors for each company"
   ]
  },
  {
   "cell_type": "code",
   "execution_count": 54,
   "metadata": {},
   "outputs": [
    {
     "data": {
      "application/vnd.plotly.v1+json": {
       "config": {
        "plotlyServerURL": "https://plot.ly"
       },
       "data": [
        {
         "mode": "lines+markers",
         "name": "Количество важных факторов по LASSO",
         "type": "scatter",
         "x": [
          "Сбербанк",
          "Газпром",
          "Лукойл",
          "Норникель",
          "Новатэк",
          "Сургутнефтегаз",
          "Полюс",
          "Татнефть",
          "Роснефть",
          "Магнит",
          "МТС",
          "МосБиржа",
          "Интер РАО",
          "НЛМК",
          "Алроса",
          "Северсталь",
          "ВТБ",
          "Ростелеком",
          "Фосагро",
          "АФК «Система»",
          "ММК",
          "ПИК",
          "Русгидро",
          "ФСК ЕЭС",
          "Аэрофлот",
          "ЛСР",
          "Россети",
          "Юнипро",
          "Лента",
          "М.Видео",
          "ТМК",
          "Мечел",
          "НМТП",
          "Акрон",
          "Мосэнерго",
          "Уралкалий",
          "Башнефть",
          "ВСМПО-Ависма",
          "Нижнекамскнефтехим",
          "Черкизово",
          "Соллерс",
          "Мостотрест",
          "Банк Санкт-Петербург",
          "МОЭСК",
          "Камаз",
          "Распадская",
          "ОГК №2",
          "Банк \"Возрождение\""
         ],
         "y": [
          13,
          3,
          7,
          9,
          18,
          3,
          0,
          2,
          4,
          6,
          4,
          0,
          5,
          3,
          7,
          18,
          9,
          4,
          10,
          1,
          1,
          0,
          7,
          15,
          11,
          17,
          11,
          0,
          4,
          6,
          7,
          9,
          6,
          1,
          13,
          0,
          1,
          2,
          17,
          3,
          12,
          7,
          2,
          4,
          10,
          7,
          9,
          0
         ]
        }
       ],
       "layout": {
        "autosize": false,
        "height": 600,
        "legend": {
         "x": 0.01,
         "xanchor": "left",
         "y": 0.96,
         "yanchor": "top"
        },
        "template": {
         "data": {
          "bar": [
           {
            "error_x": {
             "color": "#2a3f5f"
            },
            "error_y": {
             "color": "#2a3f5f"
            },
            "marker": {
             "line": {
              "color": "#E5ECF6",
              "width": 0.5
             }
            },
            "type": "bar"
           }
          ],
          "barpolar": [
           {
            "marker": {
             "line": {
              "color": "#E5ECF6",
              "width": 0.5
             }
            },
            "type": "barpolar"
           }
          ],
          "carpet": [
           {
            "aaxis": {
             "endlinecolor": "#2a3f5f",
             "gridcolor": "white",
             "linecolor": "white",
             "minorgridcolor": "white",
             "startlinecolor": "#2a3f5f"
            },
            "baxis": {
             "endlinecolor": "#2a3f5f",
             "gridcolor": "white",
             "linecolor": "white",
             "minorgridcolor": "white",
             "startlinecolor": "#2a3f5f"
            },
            "type": "carpet"
           }
          ],
          "choropleth": [
           {
            "colorbar": {
             "outlinewidth": 0,
             "ticks": ""
            },
            "type": "choropleth"
           }
          ],
          "contour": [
           {
            "colorbar": {
             "outlinewidth": 0,
             "ticks": ""
            },
            "colorscale": [
             [
              0,
              "#0d0887"
             ],
             [
              0.1111111111111111,
              "#46039f"
             ],
             [
              0.2222222222222222,
              "#7201a8"
             ],
             [
              0.3333333333333333,
              "#9c179e"
             ],
             [
              0.4444444444444444,
              "#bd3786"
             ],
             [
              0.5555555555555556,
              "#d8576b"
             ],
             [
              0.6666666666666666,
              "#ed7953"
             ],
             [
              0.7777777777777778,
              "#fb9f3a"
             ],
             [
              0.8888888888888888,
              "#fdca26"
             ],
             [
              1,
              "#f0f921"
             ]
            ],
            "type": "contour"
           }
          ],
          "contourcarpet": [
           {
            "colorbar": {
             "outlinewidth": 0,
             "ticks": ""
            },
            "type": "contourcarpet"
           }
          ],
          "heatmap": [
           {
            "colorbar": {
             "outlinewidth": 0,
             "ticks": ""
            },
            "colorscale": [
             [
              0,
              "#0d0887"
             ],
             [
              0.1111111111111111,
              "#46039f"
             ],
             [
              0.2222222222222222,
              "#7201a8"
             ],
             [
              0.3333333333333333,
              "#9c179e"
             ],
             [
              0.4444444444444444,
              "#bd3786"
             ],
             [
              0.5555555555555556,
              "#d8576b"
             ],
             [
              0.6666666666666666,
              "#ed7953"
             ],
             [
              0.7777777777777778,
              "#fb9f3a"
             ],
             [
              0.8888888888888888,
              "#fdca26"
             ],
             [
              1,
              "#f0f921"
             ]
            ],
            "type": "heatmap"
           }
          ],
          "heatmapgl": [
           {
            "colorbar": {
             "outlinewidth": 0,
             "ticks": ""
            },
            "colorscale": [
             [
              0,
              "#0d0887"
             ],
             [
              0.1111111111111111,
              "#46039f"
             ],
             [
              0.2222222222222222,
              "#7201a8"
             ],
             [
              0.3333333333333333,
              "#9c179e"
             ],
             [
              0.4444444444444444,
              "#bd3786"
             ],
             [
              0.5555555555555556,
              "#d8576b"
             ],
             [
              0.6666666666666666,
              "#ed7953"
             ],
             [
              0.7777777777777778,
              "#fb9f3a"
             ],
             [
              0.8888888888888888,
              "#fdca26"
             ],
             [
              1,
              "#f0f921"
             ]
            ],
            "type": "heatmapgl"
           }
          ],
          "histogram": [
           {
            "marker": {
             "colorbar": {
              "outlinewidth": 0,
              "ticks": ""
             }
            },
            "type": "histogram"
           }
          ],
          "histogram2d": [
           {
            "colorbar": {
             "outlinewidth": 0,
             "ticks": ""
            },
            "colorscale": [
             [
              0,
              "#0d0887"
             ],
             [
              0.1111111111111111,
              "#46039f"
             ],
             [
              0.2222222222222222,
              "#7201a8"
             ],
             [
              0.3333333333333333,
              "#9c179e"
             ],
             [
              0.4444444444444444,
              "#bd3786"
             ],
             [
              0.5555555555555556,
              "#d8576b"
             ],
             [
              0.6666666666666666,
              "#ed7953"
             ],
             [
              0.7777777777777778,
              "#fb9f3a"
             ],
             [
              0.8888888888888888,
              "#fdca26"
             ],
             [
              1,
              "#f0f921"
             ]
            ],
            "type": "histogram2d"
           }
          ],
          "histogram2dcontour": [
           {
            "colorbar": {
             "outlinewidth": 0,
             "ticks": ""
            },
            "colorscale": [
             [
              0,
              "#0d0887"
             ],
             [
              0.1111111111111111,
              "#46039f"
             ],
             [
              0.2222222222222222,
              "#7201a8"
             ],
             [
              0.3333333333333333,
              "#9c179e"
             ],
             [
              0.4444444444444444,
              "#bd3786"
             ],
             [
              0.5555555555555556,
              "#d8576b"
             ],
             [
              0.6666666666666666,
              "#ed7953"
             ],
             [
              0.7777777777777778,
              "#fb9f3a"
             ],
             [
              0.8888888888888888,
              "#fdca26"
             ],
             [
              1,
              "#f0f921"
             ]
            ],
            "type": "histogram2dcontour"
           }
          ],
          "mesh3d": [
           {
            "colorbar": {
             "outlinewidth": 0,
             "ticks": ""
            },
            "type": "mesh3d"
           }
          ],
          "parcoords": [
           {
            "line": {
             "colorbar": {
              "outlinewidth": 0,
              "ticks": ""
             }
            },
            "type": "parcoords"
           }
          ],
          "pie": [
           {
            "automargin": true,
            "type": "pie"
           }
          ],
          "scatter": [
           {
            "marker": {
             "colorbar": {
              "outlinewidth": 0,
              "ticks": ""
             }
            },
            "type": "scatter"
           }
          ],
          "scatter3d": [
           {
            "line": {
             "colorbar": {
              "outlinewidth": 0,
              "ticks": ""
             }
            },
            "marker": {
             "colorbar": {
              "outlinewidth": 0,
              "ticks": ""
             }
            },
            "type": "scatter3d"
           }
          ],
          "scattercarpet": [
           {
            "marker": {
             "colorbar": {
              "outlinewidth": 0,
              "ticks": ""
             }
            },
            "type": "scattercarpet"
           }
          ],
          "scattergeo": [
           {
            "marker": {
             "colorbar": {
              "outlinewidth": 0,
              "ticks": ""
             }
            },
            "type": "scattergeo"
           }
          ],
          "scattergl": [
           {
            "marker": {
             "colorbar": {
              "outlinewidth": 0,
              "ticks": ""
             }
            },
            "type": "scattergl"
           }
          ],
          "scattermapbox": [
           {
            "marker": {
             "colorbar": {
              "outlinewidth": 0,
              "ticks": ""
             }
            },
            "type": "scattermapbox"
           }
          ],
          "scatterpolar": [
           {
            "marker": {
             "colorbar": {
              "outlinewidth": 0,
              "ticks": ""
             }
            },
            "type": "scatterpolar"
           }
          ],
          "scatterpolargl": [
           {
            "marker": {
             "colorbar": {
              "outlinewidth": 0,
              "ticks": ""
             }
            },
            "type": "scatterpolargl"
           }
          ],
          "scatterternary": [
           {
            "marker": {
             "colorbar": {
              "outlinewidth": 0,
              "ticks": ""
             }
            },
            "type": "scatterternary"
           }
          ],
          "surface": [
           {
            "colorbar": {
             "outlinewidth": 0,
             "ticks": ""
            },
            "colorscale": [
             [
              0,
              "#0d0887"
             ],
             [
              0.1111111111111111,
              "#46039f"
             ],
             [
              0.2222222222222222,
              "#7201a8"
             ],
             [
              0.3333333333333333,
              "#9c179e"
             ],
             [
              0.4444444444444444,
              "#bd3786"
             ],
             [
              0.5555555555555556,
              "#d8576b"
             ],
             [
              0.6666666666666666,
              "#ed7953"
             ],
             [
              0.7777777777777778,
              "#fb9f3a"
             ],
             [
              0.8888888888888888,
              "#fdca26"
             ],
             [
              1,
              "#f0f921"
             ]
            ],
            "type": "surface"
           }
          ],
          "table": [
           {
            "cells": {
             "fill": {
              "color": "#EBF0F8"
             },
             "line": {
              "color": "white"
             }
            },
            "header": {
             "fill": {
              "color": "#C8D4E3"
             },
             "line": {
              "color": "white"
             }
            },
            "type": "table"
           }
          ]
         },
         "layout": {
          "annotationdefaults": {
           "arrowcolor": "#2a3f5f",
           "arrowhead": 0,
           "arrowwidth": 1
          },
          "coloraxis": {
           "colorbar": {
            "outlinewidth": 0,
            "ticks": ""
           }
          },
          "colorscale": {
           "diverging": [
            [
             0,
             "#8e0152"
            ],
            [
             0.1,
             "#c51b7d"
            ],
            [
             0.2,
             "#de77ae"
            ],
            [
             0.3,
             "#f1b6da"
            ],
            [
             0.4,
             "#fde0ef"
            ],
            [
             0.5,
             "#f7f7f7"
            ],
            [
             0.6,
             "#e6f5d0"
            ],
            [
             0.7,
             "#b8e186"
            ],
            [
             0.8,
             "#7fbc41"
            ],
            [
             0.9,
             "#4d9221"
            ],
            [
             1,
             "#276419"
            ]
           ],
           "sequential": [
            [
             0,
             "#0d0887"
            ],
            [
             0.1111111111111111,
             "#46039f"
            ],
            [
             0.2222222222222222,
             "#7201a8"
            ],
            [
             0.3333333333333333,
             "#9c179e"
            ],
            [
             0.4444444444444444,
             "#bd3786"
            ],
            [
             0.5555555555555556,
             "#d8576b"
            ],
            [
             0.6666666666666666,
             "#ed7953"
            ],
            [
             0.7777777777777778,
             "#fb9f3a"
            ],
            [
             0.8888888888888888,
             "#fdca26"
            ],
            [
             1,
             "#f0f921"
            ]
           ],
           "sequentialminus": [
            [
             0,
             "#0d0887"
            ],
            [
             0.1111111111111111,
             "#46039f"
            ],
            [
             0.2222222222222222,
             "#7201a8"
            ],
            [
             0.3333333333333333,
             "#9c179e"
            ],
            [
             0.4444444444444444,
             "#bd3786"
            ],
            [
             0.5555555555555556,
             "#d8576b"
            ],
            [
             0.6666666666666666,
             "#ed7953"
            ],
            [
             0.7777777777777778,
             "#fb9f3a"
            ],
            [
             0.8888888888888888,
             "#fdca26"
            ],
            [
             1,
             "#f0f921"
            ]
           ]
          },
          "colorway": [
           "#636efa",
           "#EF553B",
           "#00cc96",
           "#ab63fa",
           "#FFA15A",
           "#19d3f3",
           "#FF6692",
           "#B6E880",
           "#FF97FF",
           "#FECB52"
          ],
          "font": {
           "color": "#2a3f5f"
          },
          "geo": {
           "bgcolor": "white",
           "lakecolor": "white",
           "landcolor": "#E5ECF6",
           "showlakes": true,
           "showland": true,
           "subunitcolor": "white"
          },
          "hoverlabel": {
           "align": "left"
          },
          "hovermode": "closest",
          "mapbox": {
           "style": "light"
          },
          "paper_bgcolor": "white",
          "plot_bgcolor": "#E5ECF6",
          "polar": {
           "angularaxis": {
            "gridcolor": "white",
            "linecolor": "white",
            "ticks": ""
           },
           "bgcolor": "#E5ECF6",
           "radialaxis": {
            "gridcolor": "white",
            "linecolor": "white",
            "ticks": ""
           }
          },
          "scene": {
           "xaxis": {
            "backgroundcolor": "#E5ECF6",
            "gridcolor": "white",
            "gridwidth": 2,
            "linecolor": "white",
            "showbackground": true,
            "ticks": "",
            "zerolinecolor": "white"
           },
           "yaxis": {
            "backgroundcolor": "#E5ECF6",
            "gridcolor": "white",
            "gridwidth": 2,
            "linecolor": "white",
            "showbackground": true,
            "ticks": "",
            "zerolinecolor": "white"
           },
           "zaxis": {
            "backgroundcolor": "#E5ECF6",
            "gridcolor": "white",
            "gridwidth": 2,
            "linecolor": "white",
            "showbackground": true,
            "ticks": "",
            "zerolinecolor": "white"
           }
          },
          "shapedefaults": {
           "line": {
            "color": "#2a3f5f"
           }
          },
          "ternary": {
           "aaxis": {
            "gridcolor": "white",
            "linecolor": "white",
            "ticks": ""
           },
           "baxis": {
            "gridcolor": "white",
            "linecolor": "white",
            "ticks": ""
           },
           "bgcolor": "#E5ECF6",
           "caxis": {
            "gridcolor": "white",
            "linecolor": "white",
            "ticks": ""
           }
          },
          "title": {
           "x": 0.05
          },
          "xaxis": {
           "automargin": true,
           "gridcolor": "white",
           "linecolor": "white",
           "ticks": "",
           "title": {
            "standoff": 15
           },
           "zerolinecolor": "white",
           "zerolinewidth": 2
          },
          "yaxis": {
           "automargin": true,
           "gridcolor": "white",
           "linecolor": "white",
           "ticks": "",
           "title": {
            "standoff": 15
           },
           "zerolinecolor": "white",
           "zerolinewidth": 2
          }
         }
        },
        "width": 1000,
        "xaxis": {
         "title": {
          "text": "Компания"
         }
        },
        "yaxis": {
         "title": {
          "text": "Количество важных факторов по LASSO"
         }
        }
       }
      },
      "text/html": [
       "<div>                            <div id=\"a9997f99-7bee-4521-80a5-40295047e922\" class=\"plotly-graph-div\" style=\"height:600px; width:1000px;\"></div>            <script type=\"text/javascript\">                require([\"plotly\"], function(Plotly) {                    window.PLOTLYENV=window.PLOTLYENV || {};                                    if (document.getElementById(\"a9997f99-7bee-4521-80a5-40295047e922\")) {                    Plotly.newPlot(                        \"a9997f99-7bee-4521-80a5-40295047e922\",                        [{\"mode\": \"lines+markers\", \"name\": \"\\u041a\\u043e\\u043b\\u0438\\u0447\\u0435\\u0441\\u0442\\u0432\\u043e \\u0432\\u0430\\u0436\\u043d\\u044b\\u0445 \\u0444\\u0430\\u043a\\u0442\\u043e\\u0440\\u043e\\u0432 \\u043f\\u043e LASSO\", \"type\": \"scatter\", \"x\": [\"\\u0421\\u0431\\u0435\\u0440\\u0431\\u0430\\u043d\\u043a\", \"\\u0413\\u0430\\u0437\\u043f\\u0440\\u043e\\u043c\", \"\\u041b\\u0443\\u043a\\u043e\\u0439\\u043b\", \"\\u041d\\u043e\\u0440\\u043d\\u0438\\u043a\\u0435\\u043b\\u044c\", \"\\u041d\\u043e\\u0432\\u0430\\u0442\\u044d\\u043a\", \"\\u0421\\u0443\\u0440\\u0433\\u0443\\u0442\\u043d\\u0435\\u0444\\u0442\\u0435\\u0433\\u0430\\u0437\", \"\\u041f\\u043e\\u043b\\u044e\\u0441\", \"\\u0422\\u0430\\u0442\\u043d\\u0435\\u0444\\u0442\\u044c\", \"\\u0420\\u043e\\u0441\\u043d\\u0435\\u0444\\u0442\\u044c\", \"\\u041c\\u0430\\u0433\\u043d\\u0438\\u0442\", \"\\u041c\\u0422\\u0421\", \"\\u041c\\u043e\\u0441\\u0411\\u0438\\u0440\\u0436\\u0430\", \"\\u0418\\u043d\\u0442\\u0435\\u0440 \\u0420\\u0410\\u041e\", \"\\u041d\\u041b\\u041c\\u041a\", \"\\u0410\\u043b\\u0440\\u043e\\u0441\\u0430\", \"\\u0421\\u0435\\u0432\\u0435\\u0440\\u0441\\u0442\\u0430\\u043b\\u044c\", \"\\u0412\\u0422\\u0411\", \"\\u0420\\u043e\\u0441\\u0442\\u0435\\u043b\\u0435\\u043a\\u043e\\u043c\", \"\\u0424\\u043e\\u0441\\u0430\\u0433\\u0440\\u043e\", \"\\u0410\\u0424\\u041a \\u00ab\\u0421\\u0438\\u0441\\u0442\\u0435\\u043c\\u0430\\u00bb\", \"\\u041c\\u041c\\u041a\", \"\\u041f\\u0418\\u041a\", \"\\u0420\\u0443\\u0441\\u0433\\u0438\\u0434\\u0440\\u043e\", \"\\u0424\\u0421\\u041a \\u0415\\u042d\\u0421\", \"\\u0410\\u044d\\u0440\\u043e\\u0444\\u043b\\u043e\\u0442\", \"\\u041b\\u0421\\u0420\", \"\\u0420\\u043e\\u0441\\u0441\\u0435\\u0442\\u0438\", \"\\u042e\\u043d\\u0438\\u043f\\u0440\\u043e\", \"\\u041b\\u0435\\u043d\\u0442\\u0430\", \"\\u041c.\\u0412\\u0438\\u0434\\u0435\\u043e\", \"\\u0422\\u041c\\u041a\", \"\\u041c\\u0435\\u0447\\u0435\\u043b\", \"\\u041d\\u041c\\u0422\\u041f\", \"\\u0410\\u043a\\u0440\\u043e\\u043d\", \"\\u041c\\u043e\\u0441\\u044d\\u043d\\u0435\\u0440\\u0433\\u043e\", \"\\u0423\\u0440\\u0430\\u043b\\u043a\\u0430\\u043b\\u0438\\u0439\", \"\\u0411\\u0430\\u0448\\u043d\\u0435\\u0444\\u0442\\u044c\", \"\\u0412\\u0421\\u041c\\u041f\\u041e-\\u0410\\u0432\\u0438\\u0441\\u043c\\u0430\", \"\\u041d\\u0438\\u0436\\u043d\\u0435\\u043a\\u0430\\u043c\\u0441\\u043a\\u043d\\u0435\\u0444\\u0442\\u0435\\u0445\\u0438\\u043c\", \"\\u0427\\u0435\\u0440\\u043a\\u0438\\u0437\\u043e\\u0432\\u043e\", \"\\u0421\\u043e\\u043b\\u043b\\u0435\\u0440\\u0441\", \"\\u041c\\u043e\\u0441\\u0442\\u043e\\u0442\\u0440\\u0435\\u0441\\u0442\", \"\\u0411\\u0430\\u043d\\u043a \\u0421\\u0430\\u043d\\u043a\\u0442-\\u041f\\u0435\\u0442\\u0435\\u0440\\u0431\\u0443\\u0440\\u0433\", \"\\u041c\\u041e\\u042d\\u0421\\u041a\", \"\\u041a\\u0430\\u043c\\u0430\\u0437\", \"\\u0420\\u0430\\u0441\\u043f\\u0430\\u0434\\u0441\\u043a\\u0430\\u044f\", \"\\u041e\\u0413\\u041a \\u21162\", \"\\u0411\\u0430\\u043d\\u043a \\\"\\u0412\\u043e\\u0437\\u0440\\u043e\\u0436\\u0434\\u0435\\u043d\\u0438\\u0435\\\"\"], \"y\": [13, 3, 7, 9, 18, 3, 0, 2, 4, 6, 4, 0, 5, 3, 7, 18, 9, 4, 10, 1, 1, 0, 7, 15, 11, 17, 11, 0, 4, 6, 7, 9, 6, 1, 13, 0, 1, 2, 17, 3, 12, 7, 2, 4, 10, 7, 9, 0]}],                        {\"autosize\": false, \"height\": 600, \"legend\": {\"x\": 0.01, \"xanchor\": \"left\", \"y\": 0.96, \"yanchor\": \"top\"}, \"template\": {\"data\": {\"bar\": [{\"error_x\": {\"color\": \"#2a3f5f\"}, \"error_y\": {\"color\": \"#2a3f5f\"}, \"marker\": {\"line\": {\"color\": \"#E5ECF6\", \"width\": 0.5}}, \"type\": \"bar\"}], \"barpolar\": [{\"marker\": {\"line\": {\"color\": \"#E5ECF6\", \"width\": 0.5}}, \"type\": \"barpolar\"}], \"carpet\": [{\"aaxis\": {\"endlinecolor\": \"#2a3f5f\", \"gridcolor\": \"white\", \"linecolor\": \"white\", \"minorgridcolor\": \"white\", \"startlinecolor\": \"#2a3f5f\"}, \"baxis\": {\"endlinecolor\": \"#2a3f5f\", \"gridcolor\": \"white\", \"linecolor\": \"white\", \"minorgridcolor\": \"white\", \"startlinecolor\": \"#2a3f5f\"}, \"type\": \"carpet\"}], \"choropleth\": [{\"colorbar\": {\"outlinewidth\": 0, \"ticks\": \"\"}, \"type\": \"choropleth\"}], \"contour\": [{\"colorbar\": {\"outlinewidth\": 0, \"ticks\": \"\"}, \"colorscale\": [[0.0, \"#0d0887\"], [0.1111111111111111, \"#46039f\"], [0.2222222222222222, \"#7201a8\"], [0.3333333333333333, \"#9c179e\"], [0.4444444444444444, \"#bd3786\"], [0.5555555555555556, \"#d8576b\"], [0.6666666666666666, \"#ed7953\"], [0.7777777777777778, \"#fb9f3a\"], [0.8888888888888888, \"#fdca26\"], [1.0, \"#f0f921\"]], \"type\": \"contour\"}], \"contourcarpet\": [{\"colorbar\": {\"outlinewidth\": 0, \"ticks\": \"\"}, \"type\": \"contourcarpet\"}], \"heatmap\": [{\"colorbar\": {\"outlinewidth\": 0, \"ticks\": \"\"}, \"colorscale\": [[0.0, \"#0d0887\"], [0.1111111111111111, \"#46039f\"], [0.2222222222222222, \"#7201a8\"], [0.3333333333333333, \"#9c179e\"], [0.4444444444444444, \"#bd3786\"], [0.5555555555555556, \"#d8576b\"], [0.6666666666666666, \"#ed7953\"], [0.7777777777777778, \"#fb9f3a\"], [0.8888888888888888, \"#fdca26\"], [1.0, \"#f0f921\"]], \"type\": \"heatmap\"}], \"heatmapgl\": [{\"colorbar\": {\"outlinewidth\": 0, \"ticks\": \"\"}, \"colorscale\": [[0.0, \"#0d0887\"], [0.1111111111111111, \"#46039f\"], [0.2222222222222222, \"#7201a8\"], [0.3333333333333333, \"#9c179e\"], [0.4444444444444444, \"#bd3786\"], [0.5555555555555556, \"#d8576b\"], [0.6666666666666666, \"#ed7953\"], [0.7777777777777778, \"#fb9f3a\"], [0.8888888888888888, \"#fdca26\"], [1.0, \"#f0f921\"]], \"type\": \"heatmapgl\"}], \"histogram\": [{\"marker\": {\"colorbar\": {\"outlinewidth\": 0, \"ticks\": \"\"}}, \"type\": \"histogram\"}], \"histogram2d\": [{\"colorbar\": {\"outlinewidth\": 0, \"ticks\": \"\"}, \"colorscale\": [[0.0, \"#0d0887\"], [0.1111111111111111, \"#46039f\"], [0.2222222222222222, \"#7201a8\"], [0.3333333333333333, \"#9c179e\"], [0.4444444444444444, \"#bd3786\"], [0.5555555555555556, \"#d8576b\"], [0.6666666666666666, \"#ed7953\"], [0.7777777777777778, \"#fb9f3a\"], [0.8888888888888888, \"#fdca26\"], [1.0, \"#f0f921\"]], \"type\": \"histogram2d\"}], \"histogram2dcontour\": [{\"colorbar\": {\"outlinewidth\": 0, \"ticks\": \"\"}, \"colorscale\": [[0.0, \"#0d0887\"], [0.1111111111111111, \"#46039f\"], [0.2222222222222222, \"#7201a8\"], [0.3333333333333333, \"#9c179e\"], [0.4444444444444444, \"#bd3786\"], [0.5555555555555556, \"#d8576b\"], [0.6666666666666666, \"#ed7953\"], [0.7777777777777778, \"#fb9f3a\"], [0.8888888888888888, \"#fdca26\"], [1.0, \"#f0f921\"]], \"type\": \"histogram2dcontour\"}], \"mesh3d\": [{\"colorbar\": {\"outlinewidth\": 0, \"ticks\": \"\"}, \"type\": \"mesh3d\"}], \"parcoords\": [{\"line\": {\"colorbar\": {\"outlinewidth\": 0, \"ticks\": \"\"}}, \"type\": \"parcoords\"}], \"pie\": [{\"automargin\": true, \"type\": \"pie\"}], \"scatter\": [{\"marker\": {\"colorbar\": {\"outlinewidth\": 0, \"ticks\": \"\"}}, \"type\": \"scatter\"}], \"scatter3d\": [{\"line\": {\"colorbar\": {\"outlinewidth\": 0, \"ticks\": \"\"}}, \"marker\": {\"colorbar\": {\"outlinewidth\": 0, \"ticks\": \"\"}}, \"type\": \"scatter3d\"}], \"scattercarpet\": [{\"marker\": {\"colorbar\": {\"outlinewidth\": 0, \"ticks\": \"\"}}, \"type\": \"scattercarpet\"}], \"scattergeo\": [{\"marker\": {\"colorbar\": {\"outlinewidth\": 0, \"ticks\": \"\"}}, \"type\": \"scattergeo\"}], \"scattergl\": [{\"marker\": {\"colorbar\": {\"outlinewidth\": 0, \"ticks\": \"\"}}, \"type\": \"scattergl\"}], \"scattermapbox\": [{\"marker\": {\"colorbar\": {\"outlinewidth\": 0, \"ticks\": \"\"}}, \"type\": \"scattermapbox\"}], \"scatterpolar\": [{\"marker\": {\"colorbar\": {\"outlinewidth\": 0, \"ticks\": \"\"}}, \"type\": \"scatterpolar\"}], \"scatterpolargl\": [{\"marker\": {\"colorbar\": {\"outlinewidth\": 0, \"ticks\": \"\"}}, \"type\": \"scatterpolargl\"}], \"scatterternary\": [{\"marker\": {\"colorbar\": {\"outlinewidth\": 0, \"ticks\": \"\"}}, \"type\": \"scatterternary\"}], \"surface\": [{\"colorbar\": {\"outlinewidth\": 0, \"ticks\": \"\"}, \"colorscale\": [[0.0, \"#0d0887\"], [0.1111111111111111, \"#46039f\"], [0.2222222222222222, \"#7201a8\"], [0.3333333333333333, \"#9c179e\"], [0.4444444444444444, \"#bd3786\"], [0.5555555555555556, \"#d8576b\"], [0.6666666666666666, \"#ed7953\"], [0.7777777777777778, \"#fb9f3a\"], [0.8888888888888888, \"#fdca26\"], [1.0, \"#f0f921\"]], \"type\": \"surface\"}], \"table\": [{\"cells\": {\"fill\": {\"color\": \"#EBF0F8\"}, \"line\": {\"color\": \"white\"}}, \"header\": {\"fill\": {\"color\": \"#C8D4E3\"}, \"line\": {\"color\": \"white\"}}, \"type\": \"table\"}]}, \"layout\": {\"annotationdefaults\": {\"arrowcolor\": \"#2a3f5f\", \"arrowhead\": 0, \"arrowwidth\": 1}, \"coloraxis\": {\"colorbar\": {\"outlinewidth\": 0, \"ticks\": \"\"}}, \"colorscale\": {\"diverging\": [[0, \"#8e0152\"], [0.1, \"#c51b7d\"], [0.2, \"#de77ae\"], [0.3, \"#f1b6da\"], [0.4, \"#fde0ef\"], [0.5, \"#f7f7f7\"], [0.6, \"#e6f5d0\"], [0.7, \"#b8e186\"], [0.8, \"#7fbc41\"], [0.9, \"#4d9221\"], [1, \"#276419\"]], \"sequential\": [[0.0, \"#0d0887\"], [0.1111111111111111, \"#46039f\"], [0.2222222222222222, \"#7201a8\"], [0.3333333333333333, \"#9c179e\"], [0.4444444444444444, \"#bd3786\"], [0.5555555555555556, \"#d8576b\"], [0.6666666666666666, \"#ed7953\"], [0.7777777777777778, \"#fb9f3a\"], [0.8888888888888888, \"#fdca26\"], [1.0, \"#f0f921\"]], \"sequentialminus\": [[0.0, \"#0d0887\"], [0.1111111111111111, \"#46039f\"], [0.2222222222222222, \"#7201a8\"], [0.3333333333333333, \"#9c179e\"], [0.4444444444444444, \"#bd3786\"], [0.5555555555555556, \"#d8576b\"], [0.6666666666666666, \"#ed7953\"], [0.7777777777777778, \"#fb9f3a\"], [0.8888888888888888, \"#fdca26\"], [1.0, \"#f0f921\"]]}, \"colorway\": [\"#636efa\", \"#EF553B\", \"#00cc96\", \"#ab63fa\", \"#FFA15A\", \"#19d3f3\", \"#FF6692\", \"#B6E880\", \"#FF97FF\", \"#FECB52\"], \"font\": {\"color\": \"#2a3f5f\"}, \"geo\": {\"bgcolor\": \"white\", \"lakecolor\": \"white\", \"landcolor\": \"#E5ECF6\", \"showlakes\": true, \"showland\": true, \"subunitcolor\": \"white\"}, \"hoverlabel\": {\"align\": \"left\"}, \"hovermode\": \"closest\", \"mapbox\": {\"style\": \"light\"}, \"paper_bgcolor\": \"white\", \"plot_bgcolor\": \"#E5ECF6\", \"polar\": {\"angularaxis\": {\"gridcolor\": \"white\", \"linecolor\": \"white\", \"ticks\": \"\"}, \"bgcolor\": \"#E5ECF6\", \"radialaxis\": {\"gridcolor\": \"white\", \"linecolor\": \"white\", \"ticks\": \"\"}}, \"scene\": {\"xaxis\": {\"backgroundcolor\": \"#E5ECF6\", \"gridcolor\": \"white\", \"gridwidth\": 2, \"linecolor\": \"white\", \"showbackground\": true, \"ticks\": \"\", \"zerolinecolor\": \"white\"}, \"yaxis\": {\"backgroundcolor\": \"#E5ECF6\", \"gridcolor\": \"white\", \"gridwidth\": 2, \"linecolor\": \"white\", \"showbackground\": true, \"ticks\": \"\", \"zerolinecolor\": \"white\"}, \"zaxis\": {\"backgroundcolor\": \"#E5ECF6\", \"gridcolor\": \"white\", \"gridwidth\": 2, \"linecolor\": \"white\", \"showbackground\": true, \"ticks\": \"\", \"zerolinecolor\": \"white\"}}, \"shapedefaults\": {\"line\": {\"color\": \"#2a3f5f\"}}, \"ternary\": {\"aaxis\": {\"gridcolor\": \"white\", \"linecolor\": \"white\", \"ticks\": \"\"}, \"baxis\": {\"gridcolor\": \"white\", \"linecolor\": \"white\", \"ticks\": \"\"}, \"bgcolor\": \"#E5ECF6\", \"caxis\": {\"gridcolor\": \"white\", \"linecolor\": \"white\", \"ticks\": \"\"}}, \"title\": {\"x\": 0.05}, \"xaxis\": {\"automargin\": true, \"gridcolor\": \"white\", \"linecolor\": \"white\", \"ticks\": \"\", \"title\": {\"standoff\": 15}, \"zerolinecolor\": \"white\", \"zerolinewidth\": 2}, \"yaxis\": {\"automargin\": true, \"gridcolor\": \"white\", \"linecolor\": \"white\", \"ticks\": \"\", \"title\": {\"standoff\": 15}, \"zerolinecolor\": \"white\", \"zerolinewidth\": 2}}}, \"width\": 1000, \"xaxis\": {\"title\": {\"text\": \"\\u041a\\u043e\\u043c\\u043f\\u0430\\u043d\\u0438\\u044f\"}}, \"yaxis\": {\"title\": {\"text\": \"\\u041a\\u043e\\u043b\\u0438\\u0447\\u0435\\u0441\\u0442\\u0432\\u043e \\u0432\\u0430\\u0436\\u043d\\u044b\\u0445 \\u0444\\u0430\\u043a\\u0442\\u043e\\u0440\\u043e\\u0432 \\u043f\\u043e LASSO\"}}},                        {\"responsive\": true}                    ).then(function(){\n",
       "                            \n",
       "var gd = document.getElementById('a9997f99-7bee-4521-80a5-40295047e922');\n",
       "var x = new MutationObserver(function (mutations, observer) {{\n",
       "        var display = window.getComputedStyle(gd).display;\n",
       "        if (!display || display === 'none') {{\n",
       "            console.log([gd, 'removed!']);\n",
       "            Plotly.purge(gd);\n",
       "            observer.disconnect();\n",
       "        }}\n",
       "}});\n",
       "\n",
       "// Listen for the removal of the full notebook cells\n",
       "var notebookContainer = gd.closest('#notebook-container');\n",
       "if (notebookContainer) {{\n",
       "    x.observe(notebookContainer, {childList: true});\n",
       "}}\n",
       "\n",
       "// Listen for the clearing of the current output cell\n",
       "var outputEl = gd.closest('.output');\n",
       "if (outputEl) {{\n",
       "    x.observe(outputEl, {childList: true});\n",
       "}}\n",
       "\n",
       "                        })                };                });            </script>        </div>"
      ]
     },
     "metadata": {},
     "output_type": "display_data"
    }
   ],
   "source": [
    "M = pd.DataFrame(Lasso_selection.sum(axis=0)).reset_index().rename(columns={'index':'factor', 0:'quantity'})\n",
    "M = M.iloc[:48,:]\n",
    "M['factor'] = M['factor'].astype(str).str[-4:]\n",
    "\n",
    "names = {'SBER':'Сбербанк', 'GAZP':'Газпром', 'LKOH':'Лукойл','GMKN':'Норникель' ,'NVTK':'Новатэк', 'SNGS':'Сургутнефтегаз',\n",
    "         'PLZL':'Полюс','TATN':'Татнефть','ROSN':'Роснефть','MGNT':'Магнит','MTSS':'МТС', 'MOEX':'МосБиржа', \n",
    "         'IRAO':'Интер РАО', 'NLMK':'НЛМК', 'ALRS':'Алроса','CHMF':'Северсталь','VTBR':'ВТБ','RTKM':'Ростелеком',\n",
    "         'PHOR':'Фосагро','AFKS':'АФК «Система»','MAGN':'ММК','PIKK':'ПИК',\n",
    "         'HYDR':'Русгидро','FEES':'ФСК ЕЭС','AFLT':'Аэрофлот','LSRG':'ЛСР','RSTI':'Россети','UPRO':'Юнипро',\n",
    "         'LNTA':'Лента','MVID':'М.Видео','TRMK':'ТМК','MTLR':'Мечел','NMTP':'НМТП','AKRN':'Акрон',\n",
    "         'MSNG':'Мосэнерго','URKA':'Уралкалий','BANE':'Башнефть','VSMO':'ВСМПО-Ависма','NKNC':'Нижнекамскнефтехим',\n",
    "         'GCHE':'Черкизово','SVAV':'Соллерс','MSTT':'Мостотрест','BSPB':'Банк Санкт-Петербург', 'MSRS':'МОЭСК',\n",
    "         'KMAZ':'Камаз','RASP':'Распадская','OGKB':'ОГК №2','VZRZ':'Банк \"Возрождение\"'}\n",
    "M.replace({\"factor\": names}, inplace=True)\n",
    "\n",
    "fig = go.Figure()\n",
    "\n",
    "\n",
    "fig.add_trace(go.Scatter(x=M['factor'], y=M['quantity'],\n",
    "                         mode='lines+markers',name='Количество важных факторов по LASSO'))\n",
    "\n",
    "fig.update_layout(yaxis_title = 'Количество важных факторов по LASSO',xaxis_title = 'Компания',autosize=False,width=1000,\n",
    "                  height = 600, legend=dict(yanchor=\"top\", y=0.96, xanchor=\"left\", x=0.01))\n",
    "\n",
    "fig.show()   "
   ]
  },
  {
   "cell_type": "markdown",
   "metadata": {},
   "source": [
    "# Analysis of the stability of the importance of factors to different learning algorithms"
   ]
  },
  {
   "cell_type": "markdown",
   "metadata": {},
   "source": [
    "## XGBoost feature importanc"
   ]
  },
  {
   "cell_type": "code",
   "execution_count": 55,
   "metadata": {
    "scrolled": true
   },
   "outputs": [
    {
     "name": "stdout",
     "output_type": "stream",
     "text": [
      "###############################################\n",
      "ML models for SBER_RM_Equity_premium\n",
      "###############################################\n",
      "ML models for GAZP_RM_Equity_premium\n",
      "###############################################\n",
      "ML models for LKOH_RM_Equity_premium\n",
      "###############################################\n",
      "ML models for GMKN_RM_Equity_premium\n",
      "###############################################\n",
      "ML models for NVTK_RM_Equity_premium\n",
      "###############################################\n",
      "ML models for SNGS_RM_Equity_premium\n"
     ]
    },
    {
     "name": "stderr",
     "output_type": "stream",
     "text": [
      "/opt/anaconda3/lib/python3.8/site-packages/xgboost/sklearn.py:695: RuntimeWarning:\n",
      "\n",
      "invalid value encountered in true_divide\n",
      "\n"
     ]
    },
    {
     "name": "stdout",
     "output_type": "stream",
     "text": [
      "###############################################\n",
      "ML models for PLZL_RM_Equity_premium\n",
      "###############################################\n",
      "ML models for TATN_RM_Equity_premium\n",
      "###############################################\n",
      "ML models for ROSN_RM_Equity_premium\n",
      "###############################################\n",
      "ML models for MGNT_RM_Equity_premium\n",
      "###############################################\n",
      "ML models for MTSS_RM_Equity_premium\n",
      "###############################################\n",
      "ML models for MOEX_RM_Equity_premium\n",
      "###############################################\n",
      "ML models for IRAO_RM_Equity_premium\n",
      "###############################################\n",
      "ML models for NLMK_RM_Equity_premium\n",
      "###############################################\n",
      "ML models for ALRS_RM_Equity_premium\n",
      "###############################################\n",
      "ML models for CHMF_RM_Equity_premium\n",
      "###############################################\n",
      "ML models for VTBR_RM_Equity_premium\n",
      "###############################################\n",
      "ML models for RTKM_RM_Equity_premium\n",
      "###############################################\n",
      "ML models for PHOR_RM_Equity_premium\n",
      "###############################################\n",
      "ML models for AFKS_RM_Equity_premium\n",
      "###############################################\n",
      "ML models for MAGN_RM_Equity_premium\n",
      "###############################################\n",
      "ML models for PIKK_RM_Equity_premium\n",
      "###############################################\n",
      "ML models for HYDR_RM_Equity_premium\n",
      "###############################################\n",
      "ML models for FEES_RM_Equity_premium\n",
      "###############################################\n",
      "ML models for AFLT_RM_Equity_premium\n",
      "###############################################\n",
      "ML models for LSRG_RM_Equity_premium\n",
      "###############################################\n",
      "ML models for RSTI_RM_Equity_premium\n",
      "###############################################\n",
      "ML models for UPRO_RM_Equity_premium\n",
      "###############################################\n",
      "ML models for LNTA_RM_Equity_premium\n",
      "###############################################\n",
      "ML models for MVID_RM_Equity_premium\n",
      "###############################################\n",
      "ML models for TRMK_RM_Equity_premium\n",
      "###############################################\n",
      "ML models for MTLR_RM_Equity_premium\n",
      "###############################################\n",
      "ML models for NMTP_RM_Equity_premium\n",
      "###############################################\n",
      "ML models for AKRN_RM_Equity_premium\n",
      "###############################################\n",
      "ML models for MSNG_RM_Equity_premium\n",
      "###############################################\n",
      "ML models for URKA_RM_Equity_premium\n",
      "###############################################\n",
      "ML models for BANE_RM_Equity_premium\n",
      "###############################################\n",
      "ML models for VSMO_RM_Equity_premium\n",
      "###############################################\n",
      "ML models for NKNC_RM_Equity_premium\n",
      "###############################################\n",
      "ML models for GCHE_RM_Equity_premium\n",
      "###############################################\n",
      "ML models for SVAV_RM_Equity_premium\n",
      "###############################################\n",
      "ML models for MSTT_RM_Equity_premium\n",
      "###############################################\n",
      "ML models for BSPB_RM_Equity_premium\n",
      "###############################################\n",
      "ML models for MSRS_RM_Equity_premium\n",
      "###############################################\n",
      "ML models for KMAZ_RM_Equity_premium\n",
      "###############################################\n",
      "ML models for RASP_RM_Equity_premium\n",
      "###############################################\n",
      "ML models for OGKB_RM_Equity_premium\n",
      "###############################################\n",
      "ML models for VZRZ_RM_Equity_premium\n"
     ]
    }
   ],
   "source": [
    "A = ['Премия за рыночный риск', 'Доходность самой акции лаг месяц', 'Доходность самой акции лаг 2 месяца',\n",
    "     'Доходность самой акции лаг 3 месяца',\n",
    "     'SMB','HML','SMB лаг месяц','HML лаг месяц','SMB лаг 2 месяца','HML лаг 2 месяца',\n",
    "     'SMB лаг 3 месяца', 'HML лаг 3 месяца', 'MOM', 'MOM лаг месяц','MOM лаг 2 месяца',\n",
    "     'MOM лаг 3 месяца','Изменение курса доллара за месяц','Изменение цены на нефть за месяц']\n",
    "\n",
    "C = pd.DataFrame(A).rename(columns={0:'factor'}).set_index('factor')\n",
    "\n",
    "\n",
    "\n",
    "for name in data_ret.columns[2:]:\n",
    "\n",
    "    df1 = data[[name, 'Hamada_beta_MRP_for_{}'.format(name[7:11]), 'risk_free_rate_based_on_g_curve',\n",
    "                     'Hamada_d_mcap_ratio_SMB_for_{}'.format(name[7:11]),\n",
    "                     'Hamada_d_mcap_ratio_HML_for_{}'.format(name[7:11]),\n",
    "                     'MOM']].dropna()\n",
    "    df_autolag = pd.DataFrame(data[name] - data['risk_free_rate_based_on_g_curve']).rename(columns = {0:'{}_premium_lag_{}_days'.format(name[7:], lag_autolag_return_30)})\n",
    "    df_autolag = pd.DataFrame(df_autolag['{}_premium_lag_{}_days'.format(name[7:], lag_autolag_return_30)].shift(lag_autolag_return_30).dropna())\n",
    "\n",
    "    df_autolag_2 = pd.DataFrame(data[name] - data['risk_free_rate_based_on_g_curve']).rename(columns = {0:'{}_premium_lag_{}_days'.format(name[7:], lag_autolag_return_60)})\n",
    "    df_autolag_2 = pd.DataFrame(df_autolag_2['{}_premium_lag_{}_days'.format(name[7:], lag_autolag_return_60)].shift(lag_autolag_return_60).dropna())\n",
    "\n",
    "    df_autolag_3 = pd.DataFrame(data[name] - data['risk_free_rate_based_on_g_curve']).rename(columns = {0:'{}_premium_lag_{}_days'.format(name[7:], lag_autolag_return_90)})\n",
    "    df_autolag_3 = pd.DataFrame(df_autolag_3['{}_premium_lag_{}_days'.format(name[7:], lag_autolag_return_90)].shift(lag_autolag_return_90).dropna())\n",
    "\n",
    "    df2 = data[['Hamada_d_mcap_ratio_SMB_for_{}'.format(name[7:11]),\n",
    "            'Hamada_d_mcap_ratio_HML_for_{}'.format(name[7:11]), 'MOM']].shift(lag_30).dropna()\n",
    "\n",
    "\n",
    "\n",
    "    df2.rename(columns = {'Hamada_d_mcap_ratio_SMB_for_{}'.format(name[7:11]):'Hamada_d_mcap_ratio_SMB_for_{}_lag_{}_days'.format(name[7:11], lag_30),\n",
    "                          'Hamada_d_mcap_ratio_HML_for_{}'.format(name[7:11]):'Hamada_d_mcap_ratio_HML_for_{}_lag_{}_days'.format(name[7:11], lag_30), \n",
    "                          'MOM':'MOM_lag_{}_days'.format(lag_30)}, inplace = True)\n",
    "\n",
    "    result = pd.concat([df1, df2], axis=1, join=\"inner\")\n",
    "\n",
    "    df3 = data[['Hamada_d_mcap_ratio_SMB_for_{}'.format(name[7:11]),\n",
    "            'Hamada_d_mcap_ratio_HML_for_{}'.format(name[7:11]), 'MOM']].shift(lag_60).dropna()\n",
    "\n",
    "    df3.rename(columns = {'Hamada_d_mcap_ratio_SMB_for_{}'.format(name[7:11]):'Hamada_d_mcap_ratio_SMB_for_{}_lag_{}_days'.format(name[7:11], lag_60),\n",
    "                          'Hamada_d_mcap_ratio_HML_for_{}'.format(name[7:11]):'Hamada_d_mcap_ratio_HML_for_{}_lag_{}_days'.format(name[7:11], lag_60), \n",
    "                          'MOM':'MOM_lag_{}_days'.format(lag_60)}, inplace = True)\n",
    "\n",
    "    result = pd.concat([result, df3], axis=1, join=\"inner\")\n",
    "\n",
    "    df4 = data[['Hamada_d_mcap_ratio_SMB_for_{}'.format(name[7:11]),\n",
    "            'Hamada_d_mcap_ratio_HML_for_{}'.format(name[7:11]), 'MOM']].shift(lag_90).dropna()\n",
    "\n",
    "    df4.rename(columns = {'Hamada_d_mcap_ratio_SMB_for_{}'.format(name[7:11]):'Hamada_d_mcap_ratio_SMB_for_{}_lag_{}_days'.format(name[7:11], lag_90),\n",
    "                          'Hamada_d_mcap_ratio_HML_for_{}'.format(name[7:11]):'Hamada_d_mcap_ratio_HML_for_{}_lag_{}_days'.format(name[7:11], lag_90), \n",
    "                          'MOM':'MOM_lag_{}_days'.format(lag_90)}, inplace = True)\n",
    "\n",
    "    result = pd.concat([result, df4], axis=1, join=\"inner\")\n",
    "\n",
    "    result = pd.merge(result, macro_data, left_index=True, right_index=True)\n",
    "    result = pd.merge(result, df_autolag, left_index=True, right_index=True)\n",
    "    result = pd.merge(result, df_autolag_2, left_index=True, right_index=True)\n",
    "    result = pd.merge(result, df_autolag_3, left_index=True, right_index=True)\n",
    "    result['{}_Equity_premium'.format(name[7:14])] = result[name] - result['risk_free_rate_based_on_g_curve']\n",
    "\n",
    "    share = '{}_Equity_premium'.format(name[7:14])\n",
    "\n",
    "    print(\"###############################################\")\n",
    "\n",
    "    print(\"ML models for {}\".format(share))\n",
    "    dta = result.dropna()\n",
    "\n",
    "    X_train = dta.iloc[:round(len(dta) - len(dta)/4),:][['Hamada_beta_MRP_for_{}'.format(name[7:11]), \n",
    "              '{}_premium_lag_{}_days'.format(name[7:], lag_autolag_return_30),\n",
    "              '{}_premium_lag_{}_days'.format(name[7:], lag_autolag_return_60),\n",
    "              '{}_premium_lag_{}_days'.format(name[7:], lag_autolag_return_90),\n",
    "              'Hamada_d_mcap_ratio_SMB_for_{}'.format(name[7:11]),\n",
    "              'Hamada_d_mcap_ratio_HML_for_{}'.format(name[7:11]), \n",
    "              'Hamada_d_mcap_ratio_SMB_for_{}_lag_{}_days'.format(name[7:11], lag_30),\n",
    "              'Hamada_d_mcap_ratio_HML_for_{}_lag_{}_days'.format(name[7:11], lag_30),\n",
    "              'Hamada_d_mcap_ratio_SMB_for_{}_lag_{}_days'.format(name[7:11], lag_60),\n",
    "              'Hamada_d_mcap_ratio_HML_for_{}_lag_{}_days'.format(name[7:11], lag_60),\n",
    "              'Hamada_d_mcap_ratio_SMB_for_{}_lag_{}_days'.format(name[7:11], lag_90),\n",
    "              'Hamada_d_mcap_ratio_HML_for_{}_lag_{}_days'.format(name[7:11], lag_90),\n",
    "              'MOM','MOM_lag_{}_days'.format(lag_30),'MOM_lag_{}_days'.format(lag_60),\n",
    "              'MOM_lag_{}_days'.format(lag_90),'dollar_30d_return','wti_30d_return']]\n",
    "    X_test = dta.iloc[-round(len(dta)/4):,:][['Hamada_beta_MRP_for_{}'.format(name[7:11]), \n",
    "              '{}_premium_lag_{}_days'.format(name[7:], lag_autolag_return_30),\n",
    "              '{}_premium_lag_{}_days'.format(name[7:], lag_autolag_return_60),\n",
    "              '{}_premium_lag_{}_days'.format(name[7:], lag_autolag_return_90),\n",
    "              'Hamada_d_mcap_ratio_SMB_for_{}'.format(name[7:11]),\n",
    "              'Hamada_d_mcap_ratio_HML_for_{}'.format(name[7:11]), \n",
    "              'Hamada_d_mcap_ratio_SMB_for_{}_lag_{}_days'.format(name[7:11], lag_30),\n",
    "              'Hamada_d_mcap_ratio_HML_for_{}_lag_{}_days'.format(name[7:11], lag_30),\n",
    "              'Hamada_d_mcap_ratio_SMB_for_{}_lag_{}_days'.format(name[7:11], lag_60),\n",
    "              'Hamada_d_mcap_ratio_HML_for_{}_lag_{}_days'.format(name[7:11], lag_60),\n",
    "              'Hamada_d_mcap_ratio_SMB_for_{}_lag_{}_days'.format(name[7:11], lag_90),\n",
    "              'Hamada_d_mcap_ratio_HML_for_{}_lag_{}_days'.format(name[7:11], lag_90),\n",
    "              'MOM','MOM_lag_{}_days'.format(lag_30),'MOM_lag_{}_days'.format(lag_60),\n",
    "              'MOM_lag_{}_days'.format(lag_90),'dollar_30d_return','wti_30d_return']]\n",
    "    y_train = dta.iloc[:round(len(dta) - len(dta)/4),:][share]\n",
    "    y_test = dta.iloc[-round(len(dta)/4):,:][share]\n",
    "\n",
    "    model = xgb.XGBRegressor(n_estimators = ast.literal_eval(ml_results_best_params.loc[share,'XGBoost_best_params'])['n_estimators'],\n",
    "                     colsample_bytree = ast.literal_eval(ml_results_best_params.loc[share,'XGBoost_best_params'])['colsample_bytree'],\n",
    "                     learning_rate = ast.literal_eval(ml_results_best_params.loc[share,'XGBoost_best_params'])['learning_rate'],\n",
    "                     max_depth = ast.literal_eval(ml_results_best_params.loc[share,'XGBoost_best_params'])['max_depth'],\n",
    "                     min_child_weight = ast.literal_eval(ml_results_best_params.loc[share,'XGBoost_best_params'])['min_child_weight'],\n",
    "                     random_state = ast.literal_eval(ml_results_best_params.loc[share,'XGBoost_best_params'])['random_state'],\n",
    "                     reg_alpha = ast.literal_eval(ml_results_best_params.loc[share,'XGBoost_best_params'])['reg_alpha'],\n",
    "                     reg_lambda = ast.literal_eval(ml_results_best_params.loc[share,'XGBoost_best_params'])['reg_lambda'],\n",
    "                     subsample = ast.literal_eval(ml_results_best_params.loc[share,'XGBoost_best_params'])['subsample'])\n",
    "\n",
    "\n",
    "    model.fit(X_train, y_train)\n",
    "\n",
    "\n",
    "    df_2 = pd.DataFrame(model.feature_importances_, X_train.columns).reset_index().rename(columns={0:'importance_{}'.format(share[:4]),\n",
    "                                                                                         'index':'factor'})\n",
    "    df_2['factor'] = A\n",
    "    df_2.set_index('factor', inplace = True)\n",
    "    C = pd.concat([C, df_2], axis = 1)\n",
    "\n",
    "C['средняя важность'] = C.mean(axis=1)\n",
    "\n"
   ]
  },
  {
   "cell_type": "markdown",
   "metadata": {},
   "source": [
    "## CatBoost Feature importance"
   ]
  },
  {
   "cell_type": "code",
   "execution_count": 56,
   "metadata": {
    "scrolled": true
   },
   "outputs": [
    {
     "name": "stdout",
     "output_type": "stream",
     "text": [
      "###############################################\n",
      "ML models for SBER_RM_Equity_premium\n",
      "###############################################\n",
      "ML models for GAZP_RM_Equity_premium\n",
      "###############################################\n",
      "ML models for LKOH_RM_Equity_premium\n",
      "###############################################\n",
      "ML models for GMKN_RM_Equity_premium\n",
      "###############################################\n",
      "ML models for NVTK_RM_Equity_premium\n",
      "###############################################\n",
      "ML models for SNGS_RM_Equity_premium\n",
      "###############################################\n",
      "ML models for PLZL_RM_Equity_premium\n",
      "###############################################\n",
      "ML models for TATN_RM_Equity_premium\n",
      "###############################################\n",
      "ML models for ROSN_RM_Equity_premium\n",
      "###############################################\n",
      "ML models for MGNT_RM_Equity_premium\n",
      "###############################################\n",
      "ML models for MTSS_RM_Equity_premium\n",
      "###############################################\n",
      "ML models for MOEX_RM_Equity_premium\n",
      "###############################################\n",
      "ML models for IRAO_RM_Equity_premium\n",
      "###############################################\n",
      "ML models for NLMK_RM_Equity_premium\n",
      "###############################################\n",
      "ML models for ALRS_RM_Equity_premium\n",
      "###############################################\n",
      "ML models for CHMF_RM_Equity_premium\n",
      "###############################################\n",
      "ML models for VTBR_RM_Equity_premium\n",
      "###############################################\n",
      "ML models for RTKM_RM_Equity_premium\n",
      "###############################################\n",
      "ML models for PHOR_RM_Equity_premium\n",
      "###############################################\n",
      "ML models for AFKS_RM_Equity_premium\n",
      "###############################################\n",
      "ML models for MAGN_RM_Equity_premium\n",
      "###############################################\n",
      "ML models for PIKK_RM_Equity_premium\n",
      "###############################################\n",
      "ML models for HYDR_RM_Equity_premium\n",
      "###############################################\n",
      "ML models for FEES_RM_Equity_premium\n",
      "###############################################\n",
      "ML models for AFLT_RM_Equity_premium\n",
      "###############################################\n",
      "ML models for LSRG_RM_Equity_premium\n",
      "###############################################\n",
      "ML models for RSTI_RM_Equity_premium\n",
      "###############################################\n",
      "ML models for UPRO_RM_Equity_premium\n",
      "###############################################\n",
      "ML models for LNTA_RM_Equity_premium\n",
      "###############################################\n",
      "ML models for MVID_RM_Equity_premium\n",
      "###############################################\n",
      "ML models for TRMK_RM_Equity_premium\n",
      "###############################################\n",
      "ML models for MTLR_RM_Equity_premium\n",
      "###############################################\n",
      "ML models for NMTP_RM_Equity_premium\n",
      "###############################################\n",
      "ML models for AKRN_RM_Equity_premium\n",
      "###############################################\n",
      "ML models for MSNG_RM_Equity_premium\n",
      "###############################################\n",
      "ML models for URKA_RM_Equity_premium\n",
      "###############################################\n",
      "ML models for BANE_RM_Equity_premium\n",
      "###############################################\n",
      "ML models for VSMO_RM_Equity_premium\n",
      "###############################################\n",
      "ML models for NKNC_RM_Equity_premium\n",
      "###############################################\n",
      "ML models for GCHE_RM_Equity_premium\n",
      "###############################################\n",
      "ML models for SVAV_RM_Equity_premium\n",
      "###############################################\n",
      "ML models for MSTT_RM_Equity_premium\n",
      "###############################################\n",
      "ML models for BSPB_RM_Equity_premium\n",
      "###############################################\n",
      "ML models for MSRS_RM_Equity_premium\n",
      "###############################################\n",
      "ML models for KMAZ_RM_Equity_premium\n",
      "###############################################\n",
      "ML models for RASP_RM_Equity_premium\n",
      "###############################################\n",
      "ML models for OGKB_RM_Equity_premium\n",
      "###############################################\n",
      "ML models for VZRZ_RM_Equity_premium\n"
     ]
    }
   ],
   "source": [
    "A = ['Премия за рыночный риск', 'Доходность самой акции лаг месяц', 'Доходность самой акции лаг 2 месяца',\n",
    "     'Доходность самой акции лаг 3 месяца',\n",
    "     'SMB','HML','SMB лаг месяц','HML лаг месяц','SMB лаг 2 месяца','HML лаг 2 месяца',\n",
    "     'SMB лаг 3 месяца', 'HML лаг 3 месяца', 'MOM', 'MOM лаг месяц','MOM лаг 2 месяца',\n",
    "     'MOM лаг 3 месяца','Изменение курса доллара за месяц','Изменение цены на нефть за месяц']\n",
    "\n",
    "D = pd.DataFrame(A).rename(columns={0:'factor'}).set_index('factor')\n",
    "\n",
    "\n",
    "\n",
    "for name in data_ret.columns[2:]:\n",
    "\n",
    "    df1 = data[[name, 'Hamada_beta_MRP_for_{}'.format(name[7:11]), 'risk_free_rate_based_on_g_curve',\n",
    "                     'Hamada_d_mcap_ratio_SMB_for_{}'.format(name[7:11]),\n",
    "                     'Hamada_d_mcap_ratio_HML_for_{}'.format(name[7:11]),\n",
    "                     'MOM']].dropna()\n",
    "    df_autolag = pd.DataFrame(data[name] - data['risk_free_rate_based_on_g_curve']).rename(columns = {0:'{}_premium_lag_{}_days'.format(name[7:], lag_autolag_return_30)})\n",
    "    df_autolag = pd.DataFrame(df_autolag['{}_premium_lag_{}_days'.format(name[7:], lag_autolag_return_30)].shift(lag_autolag_return_30).dropna())\n",
    "\n",
    "    df_autolag_2 = pd.DataFrame(data[name] - data['risk_free_rate_based_on_g_curve']).rename(columns = {0:'{}_premium_lag_{}_days'.format(name[7:], lag_autolag_return_60)})\n",
    "    df_autolag_2 = pd.DataFrame(df_autolag_2['{}_premium_lag_{}_days'.format(name[7:], lag_autolag_return_60)].shift(lag_autolag_return_60).dropna())\n",
    "\n",
    "    df_autolag_3 = pd.DataFrame(data[name] - data['risk_free_rate_based_on_g_curve']).rename(columns = {0:'{}_premium_lag_{}_days'.format(name[7:], lag_autolag_return_90)})\n",
    "    df_autolag_3 = pd.DataFrame(df_autolag_3['{}_premium_lag_{}_days'.format(name[7:], lag_autolag_return_90)].shift(lag_autolag_return_90).dropna())\n",
    "\n",
    "    df2 = data[['Hamada_d_mcap_ratio_SMB_for_{}'.format(name[7:11]),\n",
    "            'Hamada_d_mcap_ratio_HML_for_{}'.format(name[7:11]), 'MOM']].shift(lag_30).dropna()\n",
    "\n",
    "\n",
    "\n",
    "    df2.rename(columns = {'Hamada_d_mcap_ratio_SMB_for_{}'.format(name[7:11]):'Hamada_d_mcap_ratio_SMB_for_{}_lag_{}_days'.format(name[7:11], lag_30),\n",
    "                          'Hamada_d_mcap_ratio_HML_for_{}'.format(name[7:11]):'Hamada_d_mcap_ratio_HML_for_{}_lag_{}_days'.format(name[7:11], lag_30), \n",
    "                          'MOM':'MOM_lag_{}_days'.format(lag_30)}, inplace = True)\n",
    "\n",
    "    result = pd.concat([df1, df2], axis=1, join=\"inner\")\n",
    "\n",
    "    df3 = data[['Hamada_d_mcap_ratio_SMB_for_{}'.format(name[7:11]),\n",
    "            'Hamada_d_mcap_ratio_HML_for_{}'.format(name[7:11]), 'MOM']].shift(lag_60).dropna()\n",
    "\n",
    "    df3.rename(columns = {'Hamada_d_mcap_ratio_SMB_for_{}'.format(name[7:11]):'Hamada_d_mcap_ratio_SMB_for_{}_lag_{}_days'.format(name[7:11], lag_60),\n",
    "                          'Hamada_d_mcap_ratio_HML_for_{}'.format(name[7:11]):'Hamada_d_mcap_ratio_HML_for_{}_lag_{}_days'.format(name[7:11], lag_60), \n",
    "                          'MOM':'MOM_lag_{}_days'.format(lag_60)}, inplace = True)\n",
    "\n",
    "    result = pd.concat([result, df3], axis=1, join=\"inner\")\n",
    "\n",
    "    df4 = data[['Hamada_d_mcap_ratio_SMB_for_{}'.format(name[7:11]),\n",
    "            'Hamada_d_mcap_ratio_HML_for_{}'.format(name[7:11]), 'MOM']].shift(lag_90).dropna()\n",
    "\n",
    "    df4.rename(columns = {'Hamada_d_mcap_ratio_SMB_for_{}'.format(name[7:11]):'Hamada_d_mcap_ratio_SMB_for_{}_lag_{}_days'.format(name[7:11], lag_90),\n",
    "                          'Hamada_d_mcap_ratio_HML_for_{}'.format(name[7:11]):'Hamada_d_mcap_ratio_HML_for_{}_lag_{}_days'.format(name[7:11], lag_90), \n",
    "                          'MOM':'MOM_lag_{}_days'.format(lag_90)}, inplace = True)\n",
    "\n",
    "    result = pd.concat([result, df4], axis=1, join=\"inner\")\n",
    "\n",
    "    result = pd.merge(result, macro_data, left_index=True, right_index=True)\n",
    "    result = pd.merge(result, df_autolag, left_index=True, right_index=True)\n",
    "    result = pd.merge(result, df_autolag_2, left_index=True, right_index=True)\n",
    "    result = pd.merge(result, df_autolag_3, left_index=True, right_index=True)\n",
    "    result['{}_Equity_premium'.format(name[7:14])] = result[name] - result['risk_free_rate_based_on_g_curve']\n",
    "\n",
    "    share = '{}_Equity_premium'.format(name[7:14])\n",
    "\n",
    "    print(\"###############################################\")\n",
    "\n",
    "    print(\"ML models for {}\".format(share))\n",
    "    dta = result.dropna()\n",
    "\n",
    "    X_train = dta.iloc[:round(len(dta) - len(dta)/4),:][['Hamada_beta_MRP_for_{}'.format(name[7:11]), \n",
    "              '{}_premium_lag_{}_days'.format(name[7:], lag_autolag_return_30),\n",
    "              '{}_premium_lag_{}_days'.format(name[7:], lag_autolag_return_60),\n",
    "              '{}_premium_lag_{}_days'.format(name[7:], lag_autolag_return_90),\n",
    "              'Hamada_d_mcap_ratio_SMB_for_{}'.format(name[7:11]),\n",
    "              'Hamada_d_mcap_ratio_HML_for_{}'.format(name[7:11]), \n",
    "              'Hamada_d_mcap_ratio_SMB_for_{}_lag_{}_days'.format(name[7:11], lag_30),\n",
    "              'Hamada_d_mcap_ratio_HML_for_{}_lag_{}_days'.format(name[7:11], lag_30),\n",
    "              'Hamada_d_mcap_ratio_SMB_for_{}_lag_{}_days'.format(name[7:11], lag_60),\n",
    "              'Hamada_d_mcap_ratio_HML_for_{}_lag_{}_days'.format(name[7:11], lag_60),\n",
    "              'Hamada_d_mcap_ratio_SMB_for_{}_lag_{}_days'.format(name[7:11], lag_90),\n",
    "              'Hamada_d_mcap_ratio_HML_for_{}_lag_{}_days'.format(name[7:11], lag_90),\n",
    "              'MOM','MOM_lag_{}_days'.format(lag_30),'MOM_lag_{}_days'.format(lag_60),\n",
    "              'MOM_lag_{}_days'.format(lag_90),'dollar_30d_return','wti_30d_return']]\n",
    "    X_test = dta.iloc[-round(len(dta)/4):,:][['Hamada_beta_MRP_for_{}'.format(name[7:11]), \n",
    "              '{}_premium_lag_{}_days'.format(name[7:], lag_autolag_return_30),\n",
    "              '{}_premium_lag_{}_days'.format(name[7:], lag_autolag_return_60),\n",
    "              '{}_premium_lag_{}_days'.format(name[7:], lag_autolag_return_90),\n",
    "              'Hamada_d_mcap_ratio_SMB_for_{}'.format(name[7:11]),\n",
    "              'Hamada_d_mcap_ratio_HML_for_{}'.format(name[7:11]), \n",
    "              'Hamada_d_mcap_ratio_SMB_for_{}_lag_{}_days'.format(name[7:11], lag_30),\n",
    "              'Hamada_d_mcap_ratio_HML_for_{}_lag_{}_days'.format(name[7:11], lag_30),\n",
    "              'Hamada_d_mcap_ratio_SMB_for_{}_lag_{}_days'.format(name[7:11], lag_60),\n",
    "              'Hamada_d_mcap_ratio_HML_for_{}_lag_{}_days'.format(name[7:11], lag_60),\n",
    "              'Hamada_d_mcap_ratio_SMB_for_{}_lag_{}_days'.format(name[7:11], lag_90),\n",
    "              'Hamada_d_mcap_ratio_HML_for_{}_lag_{}_days'.format(name[7:11], lag_90),\n",
    "              'MOM','MOM_lag_{}_days'.format(lag_30),'MOM_lag_{}_days'.format(lag_60),\n",
    "              'MOM_lag_{}_days'.format(lag_90),'dollar_30d_return','wti_30d_return']]\n",
    "    y_train = dta.iloc[:round(len(dta) - len(dta)/4),:][share]\n",
    "    y_test = dta.iloc[-round(len(dta)/4):,:][share]\n",
    "\n",
    "    model = ctb.CatBoostRegressor(depth = ast.literal_eval(ml_results_best_params.loc[share,'Catboost_best_params'])['depth'],\n",
    "                     iterations = ast.literal_eval(ml_results_best_params.loc[share,'Catboost_best_params'])['iterations'],\n",
    "                     learning_rate = ast.literal_eval(ml_results_best_params.loc[share,'Catboost_best_params'])['learning_rate'],\n",
    "                     l2_leaf_reg = ast.literal_eval(ml_results_best_params.loc[share,'Catboost_best_params'])['l2_leaf_reg'],\n",
    "                     silent = ast.literal_eval(ml_results_best_params.loc[share,'Catboost_best_params'])['silent'])\n",
    "\n",
    "\n",
    "    model.fit(X_train, y_train)\n",
    "\n",
    "\n",
    "    df_2 = pd.DataFrame(model.get_feature_importance(), X_train.columns).reset_index().rename(columns={0:'importance_{}'.format(share[:4]),\n",
    "                                                                                         'index':'factor'})\n",
    "    df_2['factor'] = A\n",
    "    df_2.set_index('factor', inplace = True)\n",
    "    D = pd.concat([D, df_2], axis = 1)\n",
    "\n",
    "D['средняя важность'] = D.mean(axis=1)\n",
    "D['средняя важность'] = D['средняя важность']/D['средняя важность'].sum()\n",
    "\n"
   ]
  },
  {
   "cell_type": "markdown",
   "metadata": {},
   "source": [
    "## LightGBM feature importanse"
   ]
  },
  {
   "cell_type": "code",
   "execution_count": 57,
   "metadata": {
    "scrolled": true
   },
   "outputs": [
    {
     "name": "stdout",
     "output_type": "stream",
     "text": [
      "###############################################\n",
      "ML models for SBER_RM_Equity_premium\n",
      "###############################################\n",
      "ML models for GAZP_RM_Equity_premium\n",
      "###############################################\n",
      "ML models for LKOH_RM_Equity_premium\n",
      "###############################################\n",
      "ML models for GMKN_RM_Equity_premium\n",
      "###############################################\n",
      "ML models for NVTK_RM_Equity_premium\n",
      "###############################################\n",
      "ML models for SNGS_RM_Equity_premium\n",
      "###############################################\n",
      "ML models for PLZL_RM_Equity_premium\n",
      "###############################################\n",
      "ML models for TATN_RM_Equity_premium\n",
      "###############################################\n",
      "ML models for ROSN_RM_Equity_premium\n",
      "###############################################\n",
      "ML models for MGNT_RM_Equity_premium\n",
      "###############################################\n",
      "ML models for MTSS_RM_Equity_premium\n",
      "###############################################\n",
      "ML models for MOEX_RM_Equity_premium\n",
      "###############################################\n",
      "ML models for IRAO_RM_Equity_premium\n",
      "###############################################\n",
      "ML models for NLMK_RM_Equity_premium\n",
      "###############################################\n",
      "ML models for ALRS_RM_Equity_premium\n",
      "###############################################\n",
      "ML models for CHMF_RM_Equity_premium\n",
      "###############################################\n",
      "ML models for VTBR_RM_Equity_premium\n",
      "###############################################\n",
      "ML models for RTKM_RM_Equity_premium\n",
      "###############################################\n",
      "ML models for PHOR_RM_Equity_premium\n",
      "###############################################\n",
      "ML models for AFKS_RM_Equity_premium\n",
      "###############################################\n",
      "ML models for MAGN_RM_Equity_premium\n",
      "###############################################\n",
      "ML models for PIKK_RM_Equity_premium\n",
      "###############################################\n",
      "ML models for HYDR_RM_Equity_premium\n",
      "###############################################\n",
      "ML models for FEES_RM_Equity_premium\n",
      "###############################################\n",
      "ML models for AFLT_RM_Equity_premium\n",
      "###############################################\n",
      "ML models for LSRG_RM_Equity_premium\n",
      "###############################################\n",
      "ML models for RSTI_RM_Equity_premium\n",
      "###############################################\n",
      "ML models for UPRO_RM_Equity_premium\n",
      "###############################################\n",
      "ML models for LNTA_RM_Equity_premium\n",
      "###############################################\n",
      "ML models for MVID_RM_Equity_premium\n",
      "###############################################\n",
      "ML models for TRMK_RM_Equity_premium\n",
      "###############################################\n",
      "ML models for MTLR_RM_Equity_premium\n",
      "###############################################\n",
      "ML models for NMTP_RM_Equity_premium\n",
      "###############################################\n",
      "ML models for AKRN_RM_Equity_premium\n",
      "###############################################\n",
      "ML models for MSNG_RM_Equity_premium\n",
      "###############################################\n",
      "ML models for URKA_RM_Equity_premium\n",
      "###############################################\n",
      "ML models for BANE_RM_Equity_premium\n",
      "###############################################\n",
      "ML models for VSMO_RM_Equity_premium\n",
      "###############################################\n",
      "ML models for NKNC_RM_Equity_premium\n",
      "###############################################\n",
      "ML models for GCHE_RM_Equity_premium\n",
      "###############################################\n",
      "ML models for SVAV_RM_Equity_premium\n",
      "###############################################\n",
      "ML models for MSTT_RM_Equity_premium\n",
      "###############################################\n",
      "ML models for BSPB_RM_Equity_premium\n",
      "###############################################\n",
      "ML models for MSRS_RM_Equity_premium\n",
      "###############################################\n",
      "ML models for KMAZ_RM_Equity_premium\n",
      "###############################################\n",
      "ML models for RASP_RM_Equity_premium\n",
      "###############################################\n",
      "ML models for OGKB_RM_Equity_premium\n",
      "###############################################\n",
      "ML models for VZRZ_RM_Equity_premium\n"
     ]
    }
   ],
   "source": [
    "A = ['Премия за рыночный риск', 'Доходность самой акции лаг месяц', 'Доходность самой акции лаг 2 месяца',\n",
    "     'Доходность самой акции лаг 3 месяца',\n",
    "     'SMB','HML','SMB лаг месяц','HML лаг месяц','SMB лаг 2 месяца','HML лаг 2 месяца',\n",
    "     'SMB лаг 3 месяца', 'HML лаг 3 месяца', 'MOM', 'MOM лаг месяц','MOM лаг 2 месяца',\n",
    "     'MOM лаг 3 месяца','Изменение курса доллара за месяц','Изменение цены на нефть за месяц']\n",
    "\n",
    "E = pd.DataFrame(A).rename(columns={0:'factor'}).set_index('factor')\n",
    "\n",
    "\n",
    "\n",
    "for name in data_ret.columns[2:]:\n",
    "\n",
    "    df1 = data[[name, 'Hamada_beta_MRP_for_{}'.format(name[7:11]), 'risk_free_rate_based_on_g_curve',\n",
    "                     'Hamada_d_mcap_ratio_SMB_for_{}'.format(name[7:11]),\n",
    "                     'Hamada_d_mcap_ratio_HML_for_{}'.format(name[7:11]),\n",
    "                     'MOM']].dropna()\n",
    "    df_autolag = pd.DataFrame(data[name] - data['risk_free_rate_based_on_g_curve']).rename(columns = {0:'{}_premium_lag_{}_days'.format(name[7:], lag_autolag_return_30)})\n",
    "    df_autolag = pd.DataFrame(df_autolag['{}_premium_lag_{}_days'.format(name[7:], lag_autolag_return_30)].shift(lag_autolag_return_30).dropna())\n",
    "\n",
    "    df_autolag_2 = pd.DataFrame(data[name] - data['risk_free_rate_based_on_g_curve']).rename(columns = {0:'{}_premium_lag_{}_days'.format(name[7:], lag_autolag_return_60)})\n",
    "    df_autolag_2 = pd.DataFrame(df_autolag_2['{}_premium_lag_{}_days'.format(name[7:], lag_autolag_return_60)].shift(lag_autolag_return_60).dropna())\n",
    "\n",
    "    df_autolag_3 = pd.DataFrame(data[name] - data['risk_free_rate_based_on_g_curve']).rename(columns = {0:'{}_premium_lag_{}_days'.format(name[7:], lag_autolag_return_90)})\n",
    "    df_autolag_3 = pd.DataFrame(df_autolag_3['{}_premium_lag_{}_days'.format(name[7:], lag_autolag_return_90)].shift(lag_autolag_return_90).dropna())\n",
    "\n",
    "    df2 = data[['Hamada_d_mcap_ratio_SMB_for_{}'.format(name[7:11]),\n",
    "            'Hamada_d_mcap_ratio_HML_for_{}'.format(name[7:11]), 'MOM']].shift(lag_30).dropna()\n",
    "\n",
    "\n",
    "\n",
    "    df2.rename(columns = {'Hamada_d_mcap_ratio_SMB_for_{}'.format(name[7:11]):'Hamada_d_mcap_ratio_SMB_for_{}_lag_{}_days'.format(name[7:11], lag_30),\n",
    "                          'Hamada_d_mcap_ratio_HML_for_{}'.format(name[7:11]):'Hamada_d_mcap_ratio_HML_for_{}_lag_{}_days'.format(name[7:11], lag_30), \n",
    "                          'MOM':'MOM_lag_{}_days'.format(lag_30)}, inplace = True)\n",
    "\n",
    "    result = pd.concat([df1, df2], axis=1, join=\"inner\")\n",
    "\n",
    "    df3 = data[['Hamada_d_mcap_ratio_SMB_for_{}'.format(name[7:11]),\n",
    "            'Hamada_d_mcap_ratio_HML_for_{}'.format(name[7:11]), 'MOM']].shift(lag_60).dropna()\n",
    "\n",
    "    df3.rename(columns = {'Hamada_d_mcap_ratio_SMB_for_{}'.format(name[7:11]):'Hamada_d_mcap_ratio_SMB_for_{}_lag_{}_days'.format(name[7:11], lag_60),\n",
    "                          'Hamada_d_mcap_ratio_HML_for_{}'.format(name[7:11]):'Hamada_d_mcap_ratio_HML_for_{}_lag_{}_days'.format(name[7:11], lag_60), \n",
    "                          'MOM':'MOM_lag_{}_days'.format(lag_60)}, inplace = True)\n",
    "\n",
    "    result = pd.concat([result, df3], axis=1, join=\"inner\")\n",
    "\n",
    "    df4 = data[['Hamada_d_mcap_ratio_SMB_for_{}'.format(name[7:11]),\n",
    "            'Hamada_d_mcap_ratio_HML_for_{}'.format(name[7:11]), 'MOM']].shift(lag_90).dropna()\n",
    "\n",
    "    df4.rename(columns = {'Hamada_d_mcap_ratio_SMB_for_{}'.format(name[7:11]):'Hamada_d_mcap_ratio_SMB_for_{}_lag_{}_days'.format(name[7:11], lag_90),\n",
    "                          'Hamada_d_mcap_ratio_HML_for_{}'.format(name[7:11]):'Hamada_d_mcap_ratio_HML_for_{}_lag_{}_days'.format(name[7:11], lag_90), \n",
    "                          'MOM':'MOM_lag_{}_days'.format(lag_90)}, inplace = True)\n",
    "\n",
    "    result = pd.concat([result, df4], axis=1, join=\"inner\")\n",
    "\n",
    "    result = pd.merge(result, macro_data, left_index=True, right_index=True)\n",
    "    result = pd.merge(result, df_autolag, left_index=True, right_index=True)\n",
    "    result = pd.merge(result, df_autolag_2, left_index=True, right_index=True)\n",
    "    result = pd.merge(result, df_autolag_3, left_index=True, right_index=True)\n",
    "    result['{}_Equity_premium'.format(name[7:14])] = result[name] - result['risk_free_rate_based_on_g_curve']\n",
    "\n",
    "    share = '{}_Equity_premium'.format(name[7:14])\n",
    "\n",
    "    print(\"###############################################\")\n",
    "\n",
    "    print(\"ML models for {}\".format(share))\n",
    "    dta = result.dropna()\n",
    "\n",
    "    X_train = dta.iloc[:round(len(dta) - len(dta)/4),:][['Hamada_beta_MRP_for_{}'.format(name[7:11]), \n",
    "              '{}_premium_lag_{}_days'.format(name[7:], lag_autolag_return_30),\n",
    "              '{}_premium_lag_{}_days'.format(name[7:], lag_autolag_return_60),\n",
    "              '{}_premium_lag_{}_days'.format(name[7:], lag_autolag_return_90),\n",
    "              'Hamada_d_mcap_ratio_SMB_for_{}'.format(name[7:11]),\n",
    "              'Hamada_d_mcap_ratio_HML_for_{}'.format(name[7:11]), \n",
    "              'Hamada_d_mcap_ratio_SMB_for_{}_lag_{}_days'.format(name[7:11], lag_30),\n",
    "              'Hamada_d_mcap_ratio_HML_for_{}_lag_{}_days'.format(name[7:11], lag_30),\n",
    "              'Hamada_d_mcap_ratio_SMB_for_{}_lag_{}_days'.format(name[7:11], lag_60),\n",
    "              'Hamada_d_mcap_ratio_HML_for_{}_lag_{}_days'.format(name[7:11], lag_60),\n",
    "              'Hamada_d_mcap_ratio_SMB_for_{}_lag_{}_days'.format(name[7:11], lag_90),\n",
    "              'Hamada_d_mcap_ratio_HML_for_{}_lag_{}_days'.format(name[7:11], lag_90),\n",
    "              'MOM','MOM_lag_{}_days'.format(lag_30),'MOM_lag_{}_days'.format(lag_60),\n",
    "              'MOM_lag_{}_days'.format(lag_90),'dollar_30d_return','wti_30d_return']]\n",
    "    X_test = dta.iloc[-round(len(dta)/4):,:][['Hamada_beta_MRP_for_{}'.format(name[7:11]), \n",
    "              '{}_premium_lag_{}_days'.format(name[7:], lag_autolag_return_30),\n",
    "              '{}_premium_lag_{}_days'.format(name[7:], lag_autolag_return_60),\n",
    "              '{}_premium_lag_{}_days'.format(name[7:], lag_autolag_return_90),\n",
    "              'Hamada_d_mcap_ratio_SMB_for_{}'.format(name[7:11]),\n",
    "              'Hamada_d_mcap_ratio_HML_for_{}'.format(name[7:11]), \n",
    "              'Hamada_d_mcap_ratio_SMB_for_{}_lag_{}_days'.format(name[7:11], lag_30),\n",
    "              'Hamada_d_mcap_ratio_HML_for_{}_lag_{}_days'.format(name[7:11], lag_30),\n",
    "              'Hamada_d_mcap_ratio_SMB_for_{}_lag_{}_days'.format(name[7:11], lag_60),\n",
    "              'Hamada_d_mcap_ratio_HML_for_{}_lag_{}_days'.format(name[7:11], lag_60),\n",
    "              'Hamada_d_mcap_ratio_SMB_for_{}_lag_{}_days'.format(name[7:11], lag_90),\n",
    "              'Hamada_d_mcap_ratio_HML_for_{}_lag_{}_days'.format(name[7:11], lag_90),\n",
    "              'MOM','MOM_lag_{}_days'.format(lag_30),'MOM_lag_{}_days'.format(lag_60),\n",
    "              'MOM_lag_{}_days'.format(lag_90),'dollar_30d_return','wti_30d_return']]\n",
    "    y_train = dta.iloc[:round(len(dta) - len(dta)/4),:][share]\n",
    "    y_test = dta.iloc[-round(len(dta)/4):,:][share]\n",
    "\n",
    "    model = lgb.LGBMRegressor(boosting_type = ast.literal_eval(ml_results_best_params.loc[share,'Light_GBM_best_params'])['boosting_type'],\n",
    "                     colsample_bytree = ast.literal_eval(ml_results_best_params.loc[share,'Light_GBM_best_params'])['colsample_bytree'],\n",
    "                     max_depth = ast.literal_eval(ml_results_best_params.loc[share,'Light_GBM_best_params'])['max_depth'],\n",
    "                     importance_type = 'gain',\n",
    "                     learning_rate = ast.literal_eval(ml_results_best_params.loc[share,'Light_GBM_best_params'])['learning_rate'],\n",
    "                     random_state = ast.literal_eval(ml_results_best_params.loc[share,'Light_GBM_best_params'])['random_state'],\n",
    "                     reg_alpha = ast.literal_eval(ml_results_best_params.loc[share,'Light_GBM_best_params'])['reg_alpha'],\n",
    "                     reg_lambda = ast.literal_eval(ml_results_best_params.loc[share,'Light_GBM_best_params'])['reg_lambda'],\n",
    "                     subsample = ast.literal_eval(ml_results_best_params.loc[share,'Light_GBM_best_params'])['subsample'],\n",
    "                     min_child_samples = ast.literal_eval(ml_results_best_params.loc[share,'Light_GBM_best_params'])['min_child_samples'],\n",
    "                     min_child_weight = ast.literal_eval(ml_results_best_params.loc[share,'Light_GBM_best_params'])['min_child_weight'],\n",
    "                     n_estimators = ast.literal_eval(ml_results_best_params.loc[share,'Light_GBM_best_params'])['n_estimators'],\n",
    "                     num_leaves = ast.literal_eval(ml_results_best_params.loc[share,'Light_GBM_best_params'])['num_leaves'])\n",
    "\n",
    "\n",
    "    model.fit(X_train, y_train)\n",
    "\n",
    "\n",
    "    df_2 = pd.DataFrame(model.feature_importances_, X_train.columns).reset_index().rename(columns={0:'importance_{}'.format(share[:4]),\n",
    "                                                                                         'index':'factor'})\n",
    "    df_2['factor'] = A\n",
    "    df_2.set_index('factor', inplace = True)\n",
    "    E = pd.concat([E, df_2], axis = 1)\n",
    "\n",
    "E['средняя важность'] = E.mean(axis=1)\n",
    "E['средняя важность'] = E['средняя важность']/E['средняя важность'].sum()\n",
    "\n"
   ]
  },
  {
   "cell_type": "markdown",
   "metadata": {},
   "source": [
    "# All importances RF, XGBoost, LightGBM, CatBoost on 1 plot"
   ]
  },
  {
   "cell_type": "code",
   "execution_count": 58,
   "metadata": {},
   "outputs": [
    {
     "data": {
      "application/vnd.plotly.v1+json": {
       "config": {
        "plotlyServerURL": "https://plot.ly"
       },
       "data": [
        {
         "line": {
          "color": "blue"
         },
         "mode": "lines+markers",
         "name": "Случайный лес",
         "type": "scatter",
         "x": [
          "Премия за рыночный риск",
          "Доходность самой акции лаг месяц",
          "Доходность самой акции лаг 2 месяца",
          "Доходность самой акции лаг 3 месяца",
          "SMB",
          "HML",
          "SMB лаг месяц",
          "HML лаг месяц",
          "SMB лаг 2 месяца",
          "HML лаг 2 месяца",
          "SMB лаг 3 месяца",
          "HML лаг 3 месяца",
          "MOM",
          "MOM лаг месяц",
          "MOM лаг 2 месяца",
          "MOM лаг 3 месяца",
          "Изменение курса доллара за месяц",
          "Изменение цены на нефть за месяц"
         ],
         "y": [
          0.3467731378862402,
          0.028901639665762088,
          0.03475259644347054,
          0.02667205349140184,
          0.03226066437564939,
          0.02990667287909922,
          0.0652859759924083,
          0.07617004366254597,
          0.02579857471957463,
          0.041297339938581985,
          0.025076655084295376,
          0.04220030347943791,
          0.017754920173932317,
          0.026578477883846253,
          0.0275386006399166,
          0.01578672075448423,
          0.09024462805703369,
          0.04700099487231945
         ]
        },
        {
         "line": {
          "color": "red"
         },
         "mode": "lines+markers",
         "name": "XGBoost",
         "type": "scatter",
         "x": [
          "Премия за рыночный риск",
          "Доходность самой акции лаг месяц",
          "Доходность самой акции лаг 2 месяца",
          "Доходность самой акции лаг 3 месяца",
          "SMB",
          "HML",
          "SMB лаг месяц",
          "HML лаг месяц",
          "SMB лаг 2 месяца",
          "HML лаг 2 месяца",
          "SMB лаг 3 месяца",
          "HML лаг 3 месяца",
          "MOM",
          "MOM лаг месяц",
          "MOM лаг 2 месяца",
          "MOM лаг 3 месяца",
          "Изменение курса доллара за месяц",
          "Изменение цены на нефть за месяц"
         ],
         "y": [
          0.14615491032600403,
          0.041729722172021866,
          0.032299745827913284,
          0.037309013307094574,
          0.04786510020494461,
          0.05991153419017792,
          0.054893672466278076,
          0.08718843758106232,
          0.030837439000606537,
          0.051333654671907425,
          0.0400053970515728,
          0.06857429444789886,
          0.024845676496624947,
          0.0394776351749897,
          0.06432147324085236,
          0.027817610651254654,
          0.085081085562706,
          0.06035362184047699
         ]
        },
        {
         "mode": "lines+markers",
         "name": "Light GBM",
         "type": "scatter",
         "x": [
          "Премия за рыночный риск",
          "Доходность самой акции лаг месяц",
          "Доходность самой акции лаг 2 месяца",
          "Доходность самой акции лаг 3 месяца",
          "SMB",
          "HML",
          "SMB лаг месяц",
          "HML лаг месяц",
          "SMB лаг 2 месяца",
          "HML лаг 2 месяца",
          "SMB лаг 3 месяца",
          "HML лаг 3 месяца",
          "MOM",
          "MOM лаг месяц",
          "MOM лаг 2 месяца",
          "MOM лаг 3 месяца",
          "Изменение курса доллара за месяц",
          "Изменение цены на нефть за месяц"
         ],
         "y": [
          0.4273751486708995,
          0.0102843890147606,
          0.015942086061254187,
          0.015611065453687368,
          0.034947000154362313,
          0.02552914329655307,
          0.09432991673406814,
          0.05984115563875875,
          0.006824475313315857,
          0.055209614343027257,
          0.037491998154923656,
          0.05925024931081265,
          0.012015821822183555,
          0.009660173717541087,
          0.0064235494759668195,
          0.009946664529888483,
          0.08635531902581647,
          0.03296222928218041
         ]
        },
        {
         "line": {
          "color": "orange",
          "dash": "dash",
          "width": 2
         },
         "mode": "lines+markers",
         "name": "CatBoost",
         "type": "scatter",
         "x": [
          "Премия за рыночный риск",
          "Доходность самой акции лаг месяц",
          "Доходность самой акции лаг 2 месяца",
          "Доходность самой акции лаг 3 месяца",
          "SMB",
          "HML",
          "SMB лаг месяц",
          "HML лаг месяц",
          "SMB лаг 2 месяца",
          "HML лаг 2 месяца",
          "SMB лаг 3 месяца",
          "HML лаг 3 месяца",
          "MOM",
          "MOM лаг месяц",
          "MOM лаг 2 месяца",
          "MOM лаг 3 месяца",
          "Изменение курса доллара за месяц",
          "Изменение цены на нефть за месяц"
         ],
         "y": [
          0.39900274536020347,
          0.015601126832764179,
          0.026140549626761912,
          0.01662599788564739,
          0.023246117985010452,
          0.027001902692438226,
          0.07200255993595377,
          0.07108229849398516,
          0.01629035562394504,
          0.03381993695558627,
          0.019310024640653456,
          0.04933570482680387,
          0.01593581763101076,
          0.028590158043956593,
          0.028370757781640967,
          0.007120306941086773,
          0.10532039229594652,
          0.04520324644660522
         ]
        }
       ],
       "layout": {
        "autosize": false,
        "height": 1100,
        "legend": {
         "x": 0.9,
         "xanchor": "right",
         "y": 0.9,
         "yanchor": "top"
        },
        "template": {
         "data": {
          "bar": [
           {
            "error_x": {
             "color": "#2a3f5f"
            },
            "error_y": {
             "color": "#2a3f5f"
            },
            "marker": {
             "line": {
              "color": "#E5ECF6",
              "width": 0.5
             }
            },
            "type": "bar"
           }
          ],
          "barpolar": [
           {
            "marker": {
             "line": {
              "color": "#E5ECF6",
              "width": 0.5
             }
            },
            "type": "barpolar"
           }
          ],
          "carpet": [
           {
            "aaxis": {
             "endlinecolor": "#2a3f5f",
             "gridcolor": "white",
             "linecolor": "white",
             "minorgridcolor": "white",
             "startlinecolor": "#2a3f5f"
            },
            "baxis": {
             "endlinecolor": "#2a3f5f",
             "gridcolor": "white",
             "linecolor": "white",
             "minorgridcolor": "white",
             "startlinecolor": "#2a3f5f"
            },
            "type": "carpet"
           }
          ],
          "choropleth": [
           {
            "colorbar": {
             "outlinewidth": 0,
             "ticks": ""
            },
            "type": "choropleth"
           }
          ],
          "contour": [
           {
            "colorbar": {
             "outlinewidth": 0,
             "ticks": ""
            },
            "colorscale": [
             [
              0,
              "#0d0887"
             ],
             [
              0.1111111111111111,
              "#46039f"
             ],
             [
              0.2222222222222222,
              "#7201a8"
             ],
             [
              0.3333333333333333,
              "#9c179e"
             ],
             [
              0.4444444444444444,
              "#bd3786"
             ],
             [
              0.5555555555555556,
              "#d8576b"
             ],
             [
              0.6666666666666666,
              "#ed7953"
             ],
             [
              0.7777777777777778,
              "#fb9f3a"
             ],
             [
              0.8888888888888888,
              "#fdca26"
             ],
             [
              1,
              "#f0f921"
             ]
            ],
            "type": "contour"
           }
          ],
          "contourcarpet": [
           {
            "colorbar": {
             "outlinewidth": 0,
             "ticks": ""
            },
            "type": "contourcarpet"
           }
          ],
          "heatmap": [
           {
            "colorbar": {
             "outlinewidth": 0,
             "ticks": ""
            },
            "colorscale": [
             [
              0,
              "#0d0887"
             ],
             [
              0.1111111111111111,
              "#46039f"
             ],
             [
              0.2222222222222222,
              "#7201a8"
             ],
             [
              0.3333333333333333,
              "#9c179e"
             ],
             [
              0.4444444444444444,
              "#bd3786"
             ],
             [
              0.5555555555555556,
              "#d8576b"
             ],
             [
              0.6666666666666666,
              "#ed7953"
             ],
             [
              0.7777777777777778,
              "#fb9f3a"
             ],
             [
              0.8888888888888888,
              "#fdca26"
             ],
             [
              1,
              "#f0f921"
             ]
            ],
            "type": "heatmap"
           }
          ],
          "heatmapgl": [
           {
            "colorbar": {
             "outlinewidth": 0,
             "ticks": ""
            },
            "colorscale": [
             [
              0,
              "#0d0887"
             ],
             [
              0.1111111111111111,
              "#46039f"
             ],
             [
              0.2222222222222222,
              "#7201a8"
             ],
             [
              0.3333333333333333,
              "#9c179e"
             ],
             [
              0.4444444444444444,
              "#bd3786"
             ],
             [
              0.5555555555555556,
              "#d8576b"
             ],
             [
              0.6666666666666666,
              "#ed7953"
             ],
             [
              0.7777777777777778,
              "#fb9f3a"
             ],
             [
              0.8888888888888888,
              "#fdca26"
             ],
             [
              1,
              "#f0f921"
             ]
            ],
            "type": "heatmapgl"
           }
          ],
          "histogram": [
           {
            "marker": {
             "colorbar": {
              "outlinewidth": 0,
              "ticks": ""
             }
            },
            "type": "histogram"
           }
          ],
          "histogram2d": [
           {
            "colorbar": {
             "outlinewidth": 0,
             "ticks": ""
            },
            "colorscale": [
             [
              0,
              "#0d0887"
             ],
             [
              0.1111111111111111,
              "#46039f"
             ],
             [
              0.2222222222222222,
              "#7201a8"
             ],
             [
              0.3333333333333333,
              "#9c179e"
             ],
             [
              0.4444444444444444,
              "#bd3786"
             ],
             [
              0.5555555555555556,
              "#d8576b"
             ],
             [
              0.6666666666666666,
              "#ed7953"
             ],
             [
              0.7777777777777778,
              "#fb9f3a"
             ],
             [
              0.8888888888888888,
              "#fdca26"
             ],
             [
              1,
              "#f0f921"
             ]
            ],
            "type": "histogram2d"
           }
          ],
          "histogram2dcontour": [
           {
            "colorbar": {
             "outlinewidth": 0,
             "ticks": ""
            },
            "colorscale": [
             [
              0,
              "#0d0887"
             ],
             [
              0.1111111111111111,
              "#46039f"
             ],
             [
              0.2222222222222222,
              "#7201a8"
             ],
             [
              0.3333333333333333,
              "#9c179e"
             ],
             [
              0.4444444444444444,
              "#bd3786"
             ],
             [
              0.5555555555555556,
              "#d8576b"
             ],
             [
              0.6666666666666666,
              "#ed7953"
             ],
             [
              0.7777777777777778,
              "#fb9f3a"
             ],
             [
              0.8888888888888888,
              "#fdca26"
             ],
             [
              1,
              "#f0f921"
             ]
            ],
            "type": "histogram2dcontour"
           }
          ],
          "mesh3d": [
           {
            "colorbar": {
             "outlinewidth": 0,
             "ticks": ""
            },
            "type": "mesh3d"
           }
          ],
          "parcoords": [
           {
            "line": {
             "colorbar": {
              "outlinewidth": 0,
              "ticks": ""
             }
            },
            "type": "parcoords"
           }
          ],
          "pie": [
           {
            "automargin": true,
            "type": "pie"
           }
          ],
          "scatter": [
           {
            "marker": {
             "colorbar": {
              "outlinewidth": 0,
              "ticks": ""
             }
            },
            "type": "scatter"
           }
          ],
          "scatter3d": [
           {
            "line": {
             "colorbar": {
              "outlinewidth": 0,
              "ticks": ""
             }
            },
            "marker": {
             "colorbar": {
              "outlinewidth": 0,
              "ticks": ""
             }
            },
            "type": "scatter3d"
           }
          ],
          "scattercarpet": [
           {
            "marker": {
             "colorbar": {
              "outlinewidth": 0,
              "ticks": ""
             }
            },
            "type": "scattercarpet"
           }
          ],
          "scattergeo": [
           {
            "marker": {
             "colorbar": {
              "outlinewidth": 0,
              "ticks": ""
             }
            },
            "type": "scattergeo"
           }
          ],
          "scattergl": [
           {
            "marker": {
             "colorbar": {
              "outlinewidth": 0,
              "ticks": ""
             }
            },
            "type": "scattergl"
           }
          ],
          "scattermapbox": [
           {
            "marker": {
             "colorbar": {
              "outlinewidth": 0,
              "ticks": ""
             }
            },
            "type": "scattermapbox"
           }
          ],
          "scatterpolar": [
           {
            "marker": {
             "colorbar": {
              "outlinewidth": 0,
              "ticks": ""
             }
            },
            "type": "scatterpolar"
           }
          ],
          "scatterpolargl": [
           {
            "marker": {
             "colorbar": {
              "outlinewidth": 0,
              "ticks": ""
             }
            },
            "type": "scatterpolargl"
           }
          ],
          "scatterternary": [
           {
            "marker": {
             "colorbar": {
              "outlinewidth": 0,
              "ticks": ""
             }
            },
            "type": "scatterternary"
           }
          ],
          "surface": [
           {
            "colorbar": {
             "outlinewidth": 0,
             "ticks": ""
            },
            "colorscale": [
             [
              0,
              "#0d0887"
             ],
             [
              0.1111111111111111,
              "#46039f"
             ],
             [
              0.2222222222222222,
              "#7201a8"
             ],
             [
              0.3333333333333333,
              "#9c179e"
             ],
             [
              0.4444444444444444,
              "#bd3786"
             ],
             [
              0.5555555555555556,
              "#d8576b"
             ],
             [
              0.6666666666666666,
              "#ed7953"
             ],
             [
              0.7777777777777778,
              "#fb9f3a"
             ],
             [
              0.8888888888888888,
              "#fdca26"
             ],
             [
              1,
              "#f0f921"
             ]
            ],
            "type": "surface"
           }
          ],
          "table": [
           {
            "cells": {
             "fill": {
              "color": "#EBF0F8"
             },
             "line": {
              "color": "white"
             }
            },
            "header": {
             "fill": {
              "color": "#C8D4E3"
             },
             "line": {
              "color": "white"
             }
            },
            "type": "table"
           }
          ]
         },
         "layout": {
          "annotationdefaults": {
           "arrowcolor": "#2a3f5f",
           "arrowhead": 0,
           "arrowwidth": 1
          },
          "coloraxis": {
           "colorbar": {
            "outlinewidth": 0,
            "ticks": ""
           }
          },
          "colorscale": {
           "diverging": [
            [
             0,
             "#8e0152"
            ],
            [
             0.1,
             "#c51b7d"
            ],
            [
             0.2,
             "#de77ae"
            ],
            [
             0.3,
             "#f1b6da"
            ],
            [
             0.4,
             "#fde0ef"
            ],
            [
             0.5,
             "#f7f7f7"
            ],
            [
             0.6,
             "#e6f5d0"
            ],
            [
             0.7,
             "#b8e186"
            ],
            [
             0.8,
             "#7fbc41"
            ],
            [
             0.9,
             "#4d9221"
            ],
            [
             1,
             "#276419"
            ]
           ],
           "sequential": [
            [
             0,
             "#0d0887"
            ],
            [
             0.1111111111111111,
             "#46039f"
            ],
            [
             0.2222222222222222,
             "#7201a8"
            ],
            [
             0.3333333333333333,
             "#9c179e"
            ],
            [
             0.4444444444444444,
             "#bd3786"
            ],
            [
             0.5555555555555556,
             "#d8576b"
            ],
            [
             0.6666666666666666,
             "#ed7953"
            ],
            [
             0.7777777777777778,
             "#fb9f3a"
            ],
            [
             0.8888888888888888,
             "#fdca26"
            ],
            [
             1,
             "#f0f921"
            ]
           ],
           "sequentialminus": [
            [
             0,
             "#0d0887"
            ],
            [
             0.1111111111111111,
             "#46039f"
            ],
            [
             0.2222222222222222,
             "#7201a8"
            ],
            [
             0.3333333333333333,
             "#9c179e"
            ],
            [
             0.4444444444444444,
             "#bd3786"
            ],
            [
             0.5555555555555556,
             "#d8576b"
            ],
            [
             0.6666666666666666,
             "#ed7953"
            ],
            [
             0.7777777777777778,
             "#fb9f3a"
            ],
            [
             0.8888888888888888,
             "#fdca26"
            ],
            [
             1,
             "#f0f921"
            ]
           ]
          },
          "colorway": [
           "#636efa",
           "#EF553B",
           "#00cc96",
           "#ab63fa",
           "#FFA15A",
           "#19d3f3",
           "#FF6692",
           "#B6E880",
           "#FF97FF",
           "#FECB52"
          ],
          "font": {
           "color": "#2a3f5f"
          },
          "geo": {
           "bgcolor": "white",
           "lakecolor": "white",
           "landcolor": "#E5ECF6",
           "showlakes": true,
           "showland": true,
           "subunitcolor": "white"
          },
          "hoverlabel": {
           "align": "left"
          },
          "hovermode": "closest",
          "mapbox": {
           "style": "light"
          },
          "paper_bgcolor": "white",
          "plot_bgcolor": "#E5ECF6",
          "polar": {
           "angularaxis": {
            "gridcolor": "white",
            "linecolor": "white",
            "ticks": ""
           },
           "bgcolor": "#E5ECF6",
           "radialaxis": {
            "gridcolor": "white",
            "linecolor": "white",
            "ticks": ""
           }
          },
          "scene": {
           "xaxis": {
            "backgroundcolor": "#E5ECF6",
            "gridcolor": "white",
            "gridwidth": 2,
            "linecolor": "white",
            "showbackground": true,
            "ticks": "",
            "zerolinecolor": "white"
           },
           "yaxis": {
            "backgroundcolor": "#E5ECF6",
            "gridcolor": "white",
            "gridwidth": 2,
            "linecolor": "white",
            "showbackground": true,
            "ticks": "",
            "zerolinecolor": "white"
           },
           "zaxis": {
            "backgroundcolor": "#E5ECF6",
            "gridcolor": "white",
            "gridwidth": 2,
            "linecolor": "white",
            "showbackground": true,
            "ticks": "",
            "zerolinecolor": "white"
           }
          },
          "shapedefaults": {
           "line": {
            "color": "#2a3f5f"
           }
          },
          "ternary": {
           "aaxis": {
            "gridcolor": "white",
            "linecolor": "white",
            "ticks": ""
           },
           "baxis": {
            "gridcolor": "white",
            "linecolor": "white",
            "ticks": ""
           },
           "bgcolor": "#E5ECF6",
           "caxis": {
            "gridcolor": "white",
            "linecolor": "white",
            "ticks": ""
           }
          },
          "title": {
           "x": 0.05
          },
          "xaxis": {
           "automargin": true,
           "gridcolor": "white",
           "linecolor": "white",
           "ticks": "",
           "title": {
            "standoff": 15
           },
           "zerolinecolor": "white",
           "zerolinewidth": 2
          },
          "yaxis": {
           "automargin": true,
           "gridcolor": "white",
           "linecolor": "white",
           "ticks": "",
           "title": {
            "standoff": 15
           },
           "zerolinecolor": "white",
           "zerolinewidth": 2
          }
         }
        },
        "width": 1000,
        "xaxis": {
         "title": {
          "text": "Фактор"
         }
        },
        "yaxis": {
         "title": {
          "text": "Усреднённая по всем компаниям важность фактора"
         }
        }
       }
      },
      "text/html": [
       "<div>                            <div id=\"4e0d553f-d444-448c-b160-83876104a044\" class=\"plotly-graph-div\" style=\"height:1100px; width:1000px;\"></div>            <script type=\"text/javascript\">                require([\"plotly\"], function(Plotly) {                    window.PLOTLYENV=window.PLOTLYENV || {};                                    if (document.getElementById(\"4e0d553f-d444-448c-b160-83876104a044\")) {                    Plotly.newPlot(                        \"4e0d553f-d444-448c-b160-83876104a044\",                        [{\"line\": {\"color\": \"blue\"}, \"mode\": \"lines+markers\", \"name\": \"\\u0421\\u043b\\u0443\\u0447\\u0430\\u0439\\u043d\\u044b\\u0439 \\u043b\\u0435\\u0441\", \"type\": \"scatter\", \"x\": [\"\\u041f\\u0440\\u0435\\u043c\\u0438\\u044f \\u0437\\u0430 \\u0440\\u044b\\u043d\\u043e\\u0447\\u043d\\u044b\\u0439 \\u0440\\u0438\\u0441\\u043a\", \"\\u0414\\u043e\\u0445\\u043e\\u0434\\u043d\\u043e\\u0441\\u0442\\u044c \\u0441\\u0430\\u043c\\u043e\\u0439 \\u0430\\u043a\\u0446\\u0438\\u0438 \\u043b\\u0430\\u0433 \\u043c\\u0435\\u0441\\u044f\\u0446\", \"\\u0414\\u043e\\u0445\\u043e\\u0434\\u043d\\u043e\\u0441\\u0442\\u044c \\u0441\\u0430\\u043c\\u043e\\u0439 \\u0430\\u043a\\u0446\\u0438\\u0438 \\u043b\\u0430\\u0433 2 \\u043c\\u0435\\u0441\\u044f\\u0446\\u0430\", \"\\u0414\\u043e\\u0445\\u043e\\u0434\\u043d\\u043e\\u0441\\u0442\\u044c \\u0441\\u0430\\u043c\\u043e\\u0439 \\u0430\\u043a\\u0446\\u0438\\u0438 \\u043b\\u0430\\u0433 3 \\u043c\\u0435\\u0441\\u044f\\u0446\\u0430\", \"SMB\", \"HML\", \"SMB \\u043b\\u0430\\u0433 \\u043c\\u0435\\u0441\\u044f\\u0446\", \"HML \\u043b\\u0430\\u0433 \\u043c\\u0435\\u0441\\u044f\\u0446\", \"SMB \\u043b\\u0430\\u0433 2 \\u043c\\u0435\\u0441\\u044f\\u0446\\u0430\", \"HML \\u043b\\u0430\\u0433 2 \\u043c\\u0435\\u0441\\u044f\\u0446\\u0430\", \"SMB \\u043b\\u0430\\u0433 3 \\u043c\\u0435\\u0441\\u044f\\u0446\\u0430\", \"HML \\u043b\\u0430\\u0433 3 \\u043c\\u0435\\u0441\\u044f\\u0446\\u0430\", \"MOM\", \"MOM \\u043b\\u0430\\u0433 \\u043c\\u0435\\u0441\\u044f\\u0446\", \"MOM \\u043b\\u0430\\u0433 2 \\u043c\\u0435\\u0441\\u044f\\u0446\\u0430\", \"MOM \\u043b\\u0430\\u0433 3 \\u043c\\u0435\\u0441\\u044f\\u0446\\u0430\", \"\\u0418\\u0437\\u043c\\u0435\\u043d\\u0435\\u043d\\u0438\\u0435 \\u043a\\u0443\\u0440\\u0441\\u0430 \\u0434\\u043e\\u043b\\u043b\\u0430\\u0440\\u0430 \\u0437\\u0430 \\u043c\\u0435\\u0441\\u044f\\u0446\", \"\\u0418\\u0437\\u043c\\u0435\\u043d\\u0435\\u043d\\u0438\\u0435 \\u0446\\u0435\\u043d\\u044b \\u043d\\u0430 \\u043d\\u0435\\u0444\\u0442\\u044c \\u0437\\u0430 \\u043c\\u0435\\u0441\\u044f\\u0446\"], \"y\": [0.3467731378862402, 0.028901639665762088, 0.03475259644347054, 0.02667205349140184, 0.03226066437564939, 0.02990667287909922, 0.0652859759924083, 0.07617004366254597, 0.02579857471957463, 0.041297339938581985, 0.025076655084295376, 0.04220030347943791, 0.017754920173932317, 0.026578477883846253, 0.0275386006399166, 0.01578672075448423, 0.09024462805703369, 0.04700099487231945]}, {\"line\": {\"color\": \"red\"}, \"mode\": \"lines+markers\", \"name\": \"XGBoost\", \"type\": \"scatter\", \"x\": [\"\\u041f\\u0440\\u0435\\u043c\\u0438\\u044f \\u0437\\u0430 \\u0440\\u044b\\u043d\\u043e\\u0447\\u043d\\u044b\\u0439 \\u0440\\u0438\\u0441\\u043a\", \"\\u0414\\u043e\\u0445\\u043e\\u0434\\u043d\\u043e\\u0441\\u0442\\u044c \\u0441\\u0430\\u043c\\u043e\\u0439 \\u0430\\u043a\\u0446\\u0438\\u0438 \\u043b\\u0430\\u0433 \\u043c\\u0435\\u0441\\u044f\\u0446\", \"\\u0414\\u043e\\u0445\\u043e\\u0434\\u043d\\u043e\\u0441\\u0442\\u044c \\u0441\\u0430\\u043c\\u043e\\u0439 \\u0430\\u043a\\u0446\\u0438\\u0438 \\u043b\\u0430\\u0433 2 \\u043c\\u0435\\u0441\\u044f\\u0446\\u0430\", \"\\u0414\\u043e\\u0445\\u043e\\u0434\\u043d\\u043e\\u0441\\u0442\\u044c \\u0441\\u0430\\u043c\\u043e\\u0439 \\u0430\\u043a\\u0446\\u0438\\u0438 \\u043b\\u0430\\u0433 3 \\u043c\\u0435\\u0441\\u044f\\u0446\\u0430\", \"SMB\", \"HML\", \"SMB \\u043b\\u0430\\u0433 \\u043c\\u0435\\u0441\\u044f\\u0446\", \"HML \\u043b\\u0430\\u0433 \\u043c\\u0435\\u0441\\u044f\\u0446\", \"SMB \\u043b\\u0430\\u0433 2 \\u043c\\u0435\\u0441\\u044f\\u0446\\u0430\", \"HML \\u043b\\u0430\\u0433 2 \\u043c\\u0435\\u0441\\u044f\\u0446\\u0430\", \"SMB \\u043b\\u0430\\u0433 3 \\u043c\\u0435\\u0441\\u044f\\u0446\\u0430\", \"HML \\u043b\\u0430\\u0433 3 \\u043c\\u0435\\u0441\\u044f\\u0446\\u0430\", \"MOM\", \"MOM \\u043b\\u0430\\u0433 \\u043c\\u0435\\u0441\\u044f\\u0446\", \"MOM \\u043b\\u0430\\u0433 2 \\u043c\\u0435\\u0441\\u044f\\u0446\\u0430\", \"MOM \\u043b\\u0430\\u0433 3 \\u043c\\u0435\\u0441\\u044f\\u0446\\u0430\", \"\\u0418\\u0437\\u043c\\u0435\\u043d\\u0435\\u043d\\u0438\\u0435 \\u043a\\u0443\\u0440\\u0441\\u0430 \\u0434\\u043e\\u043b\\u043b\\u0430\\u0440\\u0430 \\u0437\\u0430 \\u043c\\u0435\\u0441\\u044f\\u0446\", \"\\u0418\\u0437\\u043c\\u0435\\u043d\\u0435\\u043d\\u0438\\u0435 \\u0446\\u0435\\u043d\\u044b \\u043d\\u0430 \\u043d\\u0435\\u0444\\u0442\\u044c \\u0437\\u0430 \\u043c\\u0435\\u0441\\u044f\\u0446\"], \"y\": [0.14615491032600403, 0.041729722172021866, 0.032299745827913284, 0.037309013307094574, 0.04786510020494461, 0.05991153419017792, 0.054893672466278076, 0.08718843758106232, 0.030837439000606537, 0.051333654671907425, 0.0400053970515728, 0.06857429444789886, 0.024845676496624947, 0.0394776351749897, 0.06432147324085236, 0.027817610651254654, 0.085081085562706, 0.06035362184047699]}, {\"mode\": \"lines+markers\", \"name\": \"Light GBM\", \"type\": \"scatter\", \"x\": [\"\\u041f\\u0440\\u0435\\u043c\\u0438\\u044f \\u0437\\u0430 \\u0440\\u044b\\u043d\\u043e\\u0447\\u043d\\u044b\\u0439 \\u0440\\u0438\\u0441\\u043a\", \"\\u0414\\u043e\\u0445\\u043e\\u0434\\u043d\\u043e\\u0441\\u0442\\u044c \\u0441\\u0430\\u043c\\u043e\\u0439 \\u0430\\u043a\\u0446\\u0438\\u0438 \\u043b\\u0430\\u0433 \\u043c\\u0435\\u0441\\u044f\\u0446\", \"\\u0414\\u043e\\u0445\\u043e\\u0434\\u043d\\u043e\\u0441\\u0442\\u044c \\u0441\\u0430\\u043c\\u043e\\u0439 \\u0430\\u043a\\u0446\\u0438\\u0438 \\u043b\\u0430\\u0433 2 \\u043c\\u0435\\u0441\\u044f\\u0446\\u0430\", \"\\u0414\\u043e\\u0445\\u043e\\u0434\\u043d\\u043e\\u0441\\u0442\\u044c \\u0441\\u0430\\u043c\\u043e\\u0439 \\u0430\\u043a\\u0446\\u0438\\u0438 \\u043b\\u0430\\u0433 3 \\u043c\\u0435\\u0441\\u044f\\u0446\\u0430\", \"SMB\", \"HML\", \"SMB \\u043b\\u0430\\u0433 \\u043c\\u0435\\u0441\\u044f\\u0446\", \"HML \\u043b\\u0430\\u0433 \\u043c\\u0435\\u0441\\u044f\\u0446\", \"SMB \\u043b\\u0430\\u0433 2 \\u043c\\u0435\\u0441\\u044f\\u0446\\u0430\", \"HML \\u043b\\u0430\\u0433 2 \\u043c\\u0435\\u0441\\u044f\\u0446\\u0430\", \"SMB \\u043b\\u0430\\u0433 3 \\u043c\\u0435\\u0441\\u044f\\u0446\\u0430\", \"HML \\u043b\\u0430\\u0433 3 \\u043c\\u0435\\u0441\\u044f\\u0446\\u0430\", \"MOM\", \"MOM \\u043b\\u0430\\u0433 \\u043c\\u0435\\u0441\\u044f\\u0446\", \"MOM \\u043b\\u0430\\u0433 2 \\u043c\\u0435\\u0441\\u044f\\u0446\\u0430\", \"MOM \\u043b\\u0430\\u0433 3 \\u043c\\u0435\\u0441\\u044f\\u0446\\u0430\", \"\\u0418\\u0437\\u043c\\u0435\\u043d\\u0435\\u043d\\u0438\\u0435 \\u043a\\u0443\\u0440\\u0441\\u0430 \\u0434\\u043e\\u043b\\u043b\\u0430\\u0440\\u0430 \\u0437\\u0430 \\u043c\\u0435\\u0441\\u044f\\u0446\", \"\\u0418\\u0437\\u043c\\u0435\\u043d\\u0435\\u043d\\u0438\\u0435 \\u0446\\u0435\\u043d\\u044b \\u043d\\u0430 \\u043d\\u0435\\u0444\\u0442\\u044c \\u0437\\u0430 \\u043c\\u0435\\u0441\\u044f\\u0446\"], \"y\": [0.4273751486708995, 0.0102843890147606, 0.015942086061254187, 0.015611065453687368, 0.034947000154362313, 0.02552914329655307, 0.09432991673406814, 0.05984115563875875, 0.006824475313315857, 0.055209614343027257, 0.037491998154923656, 0.05925024931081265, 0.012015821822183555, 0.009660173717541087, 0.0064235494759668195, 0.009946664529888483, 0.08635531902581647, 0.03296222928218041]}, {\"line\": {\"color\": \"orange\", \"dash\": \"dash\", \"width\": 2}, \"mode\": \"lines+markers\", \"name\": \"CatBoost\", \"type\": \"scatter\", \"x\": [\"\\u041f\\u0440\\u0435\\u043c\\u0438\\u044f \\u0437\\u0430 \\u0440\\u044b\\u043d\\u043e\\u0447\\u043d\\u044b\\u0439 \\u0440\\u0438\\u0441\\u043a\", \"\\u0414\\u043e\\u0445\\u043e\\u0434\\u043d\\u043e\\u0441\\u0442\\u044c \\u0441\\u0430\\u043c\\u043e\\u0439 \\u0430\\u043a\\u0446\\u0438\\u0438 \\u043b\\u0430\\u0433 \\u043c\\u0435\\u0441\\u044f\\u0446\", \"\\u0414\\u043e\\u0445\\u043e\\u0434\\u043d\\u043e\\u0441\\u0442\\u044c \\u0441\\u0430\\u043c\\u043e\\u0439 \\u0430\\u043a\\u0446\\u0438\\u0438 \\u043b\\u0430\\u0433 2 \\u043c\\u0435\\u0441\\u044f\\u0446\\u0430\", \"\\u0414\\u043e\\u0445\\u043e\\u0434\\u043d\\u043e\\u0441\\u0442\\u044c \\u0441\\u0430\\u043c\\u043e\\u0439 \\u0430\\u043a\\u0446\\u0438\\u0438 \\u043b\\u0430\\u0433 3 \\u043c\\u0435\\u0441\\u044f\\u0446\\u0430\", \"SMB\", \"HML\", \"SMB \\u043b\\u0430\\u0433 \\u043c\\u0435\\u0441\\u044f\\u0446\", \"HML \\u043b\\u0430\\u0433 \\u043c\\u0435\\u0441\\u044f\\u0446\", \"SMB \\u043b\\u0430\\u0433 2 \\u043c\\u0435\\u0441\\u044f\\u0446\\u0430\", \"HML \\u043b\\u0430\\u0433 2 \\u043c\\u0435\\u0441\\u044f\\u0446\\u0430\", \"SMB \\u043b\\u0430\\u0433 3 \\u043c\\u0435\\u0441\\u044f\\u0446\\u0430\", \"HML \\u043b\\u0430\\u0433 3 \\u043c\\u0435\\u0441\\u044f\\u0446\\u0430\", \"MOM\", \"MOM \\u043b\\u0430\\u0433 \\u043c\\u0435\\u0441\\u044f\\u0446\", \"MOM \\u043b\\u0430\\u0433 2 \\u043c\\u0435\\u0441\\u044f\\u0446\\u0430\", \"MOM \\u043b\\u0430\\u0433 3 \\u043c\\u0435\\u0441\\u044f\\u0446\\u0430\", \"\\u0418\\u0437\\u043c\\u0435\\u043d\\u0435\\u043d\\u0438\\u0435 \\u043a\\u0443\\u0440\\u0441\\u0430 \\u0434\\u043e\\u043b\\u043b\\u0430\\u0440\\u0430 \\u0437\\u0430 \\u043c\\u0435\\u0441\\u044f\\u0446\", \"\\u0418\\u0437\\u043c\\u0435\\u043d\\u0435\\u043d\\u0438\\u0435 \\u0446\\u0435\\u043d\\u044b \\u043d\\u0430 \\u043d\\u0435\\u0444\\u0442\\u044c \\u0437\\u0430 \\u043c\\u0435\\u0441\\u044f\\u0446\"], \"y\": [0.39900274536020347, 0.015601126832764179, 0.026140549626761912, 0.01662599788564739, 0.023246117985010452, 0.027001902692438226, 0.07200255993595377, 0.07108229849398516, 0.01629035562394504, 0.03381993695558627, 0.019310024640653456, 0.04933570482680387, 0.01593581763101076, 0.028590158043956593, 0.028370757781640967, 0.007120306941086773, 0.10532039229594652, 0.04520324644660522]}],                        {\"autosize\": false, \"height\": 1100, \"legend\": {\"x\": 0.9, \"xanchor\": \"right\", \"y\": 0.9, \"yanchor\": \"top\"}, \"template\": {\"data\": {\"bar\": [{\"error_x\": {\"color\": \"#2a3f5f\"}, \"error_y\": {\"color\": \"#2a3f5f\"}, \"marker\": {\"line\": {\"color\": \"#E5ECF6\", \"width\": 0.5}}, \"type\": \"bar\"}], \"barpolar\": [{\"marker\": {\"line\": {\"color\": \"#E5ECF6\", \"width\": 0.5}}, \"type\": \"barpolar\"}], \"carpet\": [{\"aaxis\": {\"endlinecolor\": \"#2a3f5f\", \"gridcolor\": \"white\", \"linecolor\": \"white\", \"minorgridcolor\": \"white\", \"startlinecolor\": \"#2a3f5f\"}, \"baxis\": {\"endlinecolor\": \"#2a3f5f\", \"gridcolor\": \"white\", \"linecolor\": \"white\", \"minorgridcolor\": \"white\", \"startlinecolor\": \"#2a3f5f\"}, \"type\": \"carpet\"}], \"choropleth\": [{\"colorbar\": {\"outlinewidth\": 0, \"ticks\": \"\"}, \"type\": \"choropleth\"}], \"contour\": [{\"colorbar\": {\"outlinewidth\": 0, \"ticks\": \"\"}, \"colorscale\": [[0.0, \"#0d0887\"], [0.1111111111111111, \"#46039f\"], [0.2222222222222222, \"#7201a8\"], [0.3333333333333333, \"#9c179e\"], [0.4444444444444444, \"#bd3786\"], [0.5555555555555556, \"#d8576b\"], [0.6666666666666666, \"#ed7953\"], [0.7777777777777778, \"#fb9f3a\"], [0.8888888888888888, \"#fdca26\"], [1.0, \"#f0f921\"]], \"type\": \"contour\"}], \"contourcarpet\": [{\"colorbar\": {\"outlinewidth\": 0, \"ticks\": \"\"}, \"type\": \"contourcarpet\"}], \"heatmap\": [{\"colorbar\": {\"outlinewidth\": 0, \"ticks\": \"\"}, \"colorscale\": [[0.0, \"#0d0887\"], [0.1111111111111111, \"#46039f\"], [0.2222222222222222, \"#7201a8\"], [0.3333333333333333, \"#9c179e\"], [0.4444444444444444, \"#bd3786\"], [0.5555555555555556, \"#d8576b\"], [0.6666666666666666, \"#ed7953\"], [0.7777777777777778, \"#fb9f3a\"], [0.8888888888888888, \"#fdca26\"], [1.0, \"#f0f921\"]], \"type\": \"heatmap\"}], \"heatmapgl\": [{\"colorbar\": {\"outlinewidth\": 0, \"ticks\": \"\"}, \"colorscale\": [[0.0, \"#0d0887\"], [0.1111111111111111, \"#46039f\"], [0.2222222222222222, \"#7201a8\"], [0.3333333333333333, \"#9c179e\"], [0.4444444444444444, \"#bd3786\"], [0.5555555555555556, \"#d8576b\"], [0.6666666666666666, \"#ed7953\"], [0.7777777777777778, \"#fb9f3a\"], [0.8888888888888888, \"#fdca26\"], [1.0, \"#f0f921\"]], \"type\": \"heatmapgl\"}], \"histogram\": [{\"marker\": {\"colorbar\": {\"outlinewidth\": 0, \"ticks\": \"\"}}, \"type\": \"histogram\"}], \"histogram2d\": [{\"colorbar\": {\"outlinewidth\": 0, \"ticks\": \"\"}, \"colorscale\": [[0.0, \"#0d0887\"], [0.1111111111111111, \"#46039f\"], [0.2222222222222222, \"#7201a8\"], [0.3333333333333333, \"#9c179e\"], [0.4444444444444444, \"#bd3786\"], [0.5555555555555556, \"#d8576b\"], [0.6666666666666666, \"#ed7953\"], [0.7777777777777778, \"#fb9f3a\"], [0.8888888888888888, \"#fdca26\"], [1.0, \"#f0f921\"]], \"type\": \"histogram2d\"}], \"histogram2dcontour\": [{\"colorbar\": {\"outlinewidth\": 0, \"ticks\": \"\"}, \"colorscale\": [[0.0, \"#0d0887\"], [0.1111111111111111, \"#46039f\"], [0.2222222222222222, \"#7201a8\"], [0.3333333333333333, \"#9c179e\"], [0.4444444444444444, \"#bd3786\"], [0.5555555555555556, \"#d8576b\"], [0.6666666666666666, \"#ed7953\"], [0.7777777777777778, \"#fb9f3a\"], [0.8888888888888888, \"#fdca26\"], [1.0, \"#f0f921\"]], \"type\": \"histogram2dcontour\"}], \"mesh3d\": [{\"colorbar\": {\"outlinewidth\": 0, \"ticks\": \"\"}, \"type\": \"mesh3d\"}], \"parcoords\": [{\"line\": {\"colorbar\": {\"outlinewidth\": 0, \"ticks\": \"\"}}, \"type\": \"parcoords\"}], \"pie\": [{\"automargin\": true, \"type\": \"pie\"}], \"scatter\": [{\"marker\": {\"colorbar\": {\"outlinewidth\": 0, \"ticks\": \"\"}}, \"type\": \"scatter\"}], \"scatter3d\": [{\"line\": {\"colorbar\": {\"outlinewidth\": 0, \"ticks\": \"\"}}, \"marker\": {\"colorbar\": {\"outlinewidth\": 0, \"ticks\": \"\"}}, \"type\": \"scatter3d\"}], \"scattercarpet\": [{\"marker\": {\"colorbar\": {\"outlinewidth\": 0, \"ticks\": \"\"}}, \"type\": \"scattercarpet\"}], \"scattergeo\": [{\"marker\": {\"colorbar\": {\"outlinewidth\": 0, \"ticks\": \"\"}}, \"type\": \"scattergeo\"}], \"scattergl\": [{\"marker\": {\"colorbar\": {\"outlinewidth\": 0, \"ticks\": \"\"}}, \"type\": \"scattergl\"}], \"scattermapbox\": [{\"marker\": {\"colorbar\": {\"outlinewidth\": 0, \"ticks\": \"\"}}, \"type\": \"scattermapbox\"}], \"scatterpolar\": [{\"marker\": {\"colorbar\": {\"outlinewidth\": 0, \"ticks\": \"\"}}, \"type\": \"scatterpolar\"}], \"scatterpolargl\": [{\"marker\": {\"colorbar\": {\"outlinewidth\": 0, \"ticks\": \"\"}}, \"type\": \"scatterpolargl\"}], \"scatterternary\": [{\"marker\": {\"colorbar\": {\"outlinewidth\": 0, \"ticks\": \"\"}}, \"type\": \"scatterternary\"}], \"surface\": [{\"colorbar\": {\"outlinewidth\": 0, \"ticks\": \"\"}, \"colorscale\": [[0.0, \"#0d0887\"], [0.1111111111111111, \"#46039f\"], [0.2222222222222222, \"#7201a8\"], [0.3333333333333333, \"#9c179e\"], [0.4444444444444444, \"#bd3786\"], [0.5555555555555556, \"#d8576b\"], [0.6666666666666666, \"#ed7953\"], [0.7777777777777778, \"#fb9f3a\"], [0.8888888888888888, \"#fdca26\"], [1.0, \"#f0f921\"]], \"type\": \"surface\"}], \"table\": [{\"cells\": {\"fill\": {\"color\": \"#EBF0F8\"}, \"line\": {\"color\": \"white\"}}, \"header\": {\"fill\": {\"color\": \"#C8D4E3\"}, \"line\": {\"color\": \"white\"}}, \"type\": \"table\"}]}, \"layout\": {\"annotationdefaults\": {\"arrowcolor\": \"#2a3f5f\", \"arrowhead\": 0, \"arrowwidth\": 1}, \"coloraxis\": {\"colorbar\": {\"outlinewidth\": 0, \"ticks\": \"\"}}, \"colorscale\": {\"diverging\": [[0, \"#8e0152\"], [0.1, \"#c51b7d\"], [0.2, \"#de77ae\"], [0.3, \"#f1b6da\"], [0.4, \"#fde0ef\"], [0.5, \"#f7f7f7\"], [0.6, \"#e6f5d0\"], [0.7, \"#b8e186\"], [0.8, \"#7fbc41\"], [0.9, \"#4d9221\"], [1, \"#276419\"]], \"sequential\": [[0.0, \"#0d0887\"], [0.1111111111111111, \"#46039f\"], [0.2222222222222222, \"#7201a8\"], [0.3333333333333333, \"#9c179e\"], [0.4444444444444444, \"#bd3786\"], [0.5555555555555556, \"#d8576b\"], [0.6666666666666666, \"#ed7953\"], [0.7777777777777778, \"#fb9f3a\"], [0.8888888888888888, \"#fdca26\"], [1.0, \"#f0f921\"]], \"sequentialminus\": [[0.0, \"#0d0887\"], [0.1111111111111111, \"#46039f\"], [0.2222222222222222, \"#7201a8\"], [0.3333333333333333, \"#9c179e\"], [0.4444444444444444, \"#bd3786\"], [0.5555555555555556, \"#d8576b\"], [0.6666666666666666, \"#ed7953\"], [0.7777777777777778, \"#fb9f3a\"], [0.8888888888888888, \"#fdca26\"], [1.0, \"#f0f921\"]]}, \"colorway\": [\"#636efa\", \"#EF553B\", \"#00cc96\", \"#ab63fa\", \"#FFA15A\", \"#19d3f3\", \"#FF6692\", \"#B6E880\", \"#FF97FF\", \"#FECB52\"], \"font\": {\"color\": \"#2a3f5f\"}, \"geo\": {\"bgcolor\": \"white\", \"lakecolor\": \"white\", \"landcolor\": \"#E5ECF6\", \"showlakes\": true, \"showland\": true, \"subunitcolor\": \"white\"}, \"hoverlabel\": {\"align\": \"left\"}, \"hovermode\": \"closest\", \"mapbox\": {\"style\": \"light\"}, \"paper_bgcolor\": \"white\", \"plot_bgcolor\": \"#E5ECF6\", \"polar\": {\"angularaxis\": {\"gridcolor\": \"white\", \"linecolor\": \"white\", \"ticks\": \"\"}, \"bgcolor\": \"#E5ECF6\", \"radialaxis\": {\"gridcolor\": \"white\", \"linecolor\": \"white\", \"ticks\": \"\"}}, \"scene\": {\"xaxis\": {\"backgroundcolor\": \"#E5ECF6\", \"gridcolor\": \"white\", \"gridwidth\": 2, \"linecolor\": \"white\", \"showbackground\": true, \"ticks\": \"\", \"zerolinecolor\": \"white\"}, \"yaxis\": {\"backgroundcolor\": \"#E5ECF6\", \"gridcolor\": \"white\", \"gridwidth\": 2, \"linecolor\": \"white\", \"showbackground\": true, \"ticks\": \"\", \"zerolinecolor\": \"white\"}, \"zaxis\": {\"backgroundcolor\": \"#E5ECF6\", \"gridcolor\": \"white\", \"gridwidth\": 2, \"linecolor\": \"white\", \"showbackground\": true, \"ticks\": \"\", \"zerolinecolor\": \"white\"}}, \"shapedefaults\": {\"line\": {\"color\": \"#2a3f5f\"}}, \"ternary\": {\"aaxis\": {\"gridcolor\": \"white\", \"linecolor\": \"white\", \"ticks\": \"\"}, \"baxis\": {\"gridcolor\": \"white\", \"linecolor\": \"white\", \"ticks\": \"\"}, \"bgcolor\": \"#E5ECF6\", \"caxis\": {\"gridcolor\": \"white\", \"linecolor\": \"white\", \"ticks\": \"\"}}, \"title\": {\"x\": 0.05}, \"xaxis\": {\"automargin\": true, \"gridcolor\": \"white\", \"linecolor\": \"white\", \"ticks\": \"\", \"title\": {\"standoff\": 15}, \"zerolinecolor\": \"white\", \"zerolinewidth\": 2}, \"yaxis\": {\"automargin\": true, \"gridcolor\": \"white\", \"linecolor\": \"white\", \"ticks\": \"\", \"title\": {\"standoff\": 15}, \"zerolinecolor\": \"white\", \"zerolinewidth\": 2}}}, \"width\": 1000, \"xaxis\": {\"title\": {\"text\": \"\\u0424\\u0430\\u043a\\u0442\\u043e\\u0440\"}}, \"yaxis\": {\"title\": {\"text\": \"\\u0423\\u0441\\u0440\\u0435\\u0434\\u043d\\u0451\\u043d\\u043d\\u0430\\u044f \\u043f\\u043e \\u0432\\u0441\\u0435\\u043c \\u043a\\u043e\\u043c\\u043f\\u0430\\u043d\\u0438\\u044f\\u043c \\u0432\\u0430\\u0436\\u043d\\u043e\\u0441\\u0442\\u044c \\u0444\\u0430\\u043a\\u0442\\u043e\\u0440\\u0430\"}}},                        {\"responsive\": true}                    ).then(function(){\n",
       "                            \n",
       "var gd = document.getElementById('4e0d553f-d444-448c-b160-83876104a044');\n",
       "var x = new MutationObserver(function (mutations, observer) {{\n",
       "        var display = window.getComputedStyle(gd).display;\n",
       "        if (!display || display === 'none') {{\n",
       "            console.log([gd, 'removed!']);\n",
       "            Plotly.purge(gd);\n",
       "            observer.disconnect();\n",
       "        }}\n",
       "}});\n",
       "\n",
       "// Listen for the removal of the full notebook cells\n",
       "var notebookContainer = gd.closest('#notebook-container');\n",
       "if (notebookContainer) {{\n",
       "    x.observe(notebookContainer, {childList: true});\n",
       "}}\n",
       "\n",
       "// Listen for the clearing of the current output cell\n",
       "var outputEl = gd.closest('.output');\n",
       "if (outputEl) {{\n",
       "    x.observe(outputEl, {childList: true});\n",
       "}}\n",
       "\n",
       "                        })                };                });            </script>        </div>"
      ]
     },
     "metadata": {},
     "output_type": "display_data"
    }
   ],
   "source": [
    "fig = go.Figure()\n",
    "\n",
    "\n",
    "fig.add_trace(go.Scatter(x=B.index, y=B['средняя важность'],\n",
    "                         mode='lines+markers',name='Случайный лес',\n",
    "                         line = dict(color='blue')))\n",
    "\n",
    "fig.add_trace(go.Scatter(x=C.index, y=C['средняя важность'],\n",
    "                         mode='lines+markers',name='XGBoost',\n",
    "                         line = dict(color='red')))\n",
    "\n",
    "fig.add_trace(go.Scatter(x=E.index, y=E['средняя важность'],\n",
    "                         mode='lines+markers',name='Light GBM'))\n",
    "\n",
    "fig.add_trace(go.Scatter(x=D.index, y=D['средняя важность'],\n",
    "                         mode='lines+markers',name='CatBoost',\n",
    "                         line = dict(color='orange', width=2, dash='dash')))\n",
    "\n",
    "\n",
    "fig.update_layout(yaxis_title = 'Усреднённая по всем компаниям важность фактора',xaxis_title = 'Фактор',autosize=False,width=1000,height = 1100,\n",
    "                  legend=dict(yanchor=\"top\", y=0.9, xanchor=\"right\", x=0.9))\n",
    "\n",
    "fig.show()"
   ]
  },
  {
   "cell_type": "markdown",
   "metadata": {},
   "source": [
    "### Decision tree example for SBER"
   ]
  },
  {
   "cell_type": "code",
   "execution_count": 59,
   "metadata": {},
   "outputs": [
    {
     "name": "stdout",
     "output_type": "stream",
     "text": [
      "###############################################\n",
      "ML models for SBER_RM_Equity_premium\n"
     ]
    }
   ],
   "source": [
    "name = data_ret.columns[2]\n",
    "\n",
    "df1 = data[[name, 'Hamada_beta_MRP_for_{}'.format(name[7:11]), 'risk_free_rate_based_on_g_curve',\n",
    "                 'Hamada_d_mcap_ratio_SMB_for_{}'.format(name[7:11]),\n",
    "                 'Hamada_d_mcap_ratio_HML_for_{}'.format(name[7:11]),\n",
    "                 'MOM']].dropna()\n",
    "df_autolag = pd.DataFrame(data[name] - data['risk_free_rate_based_on_g_curve']).rename(columns = {0:'{}_premium_lag_{}_days'.format(name[7:], lag_autolag_return_30)})\n",
    "df_autolag = pd.DataFrame(df_autolag['{}_premium_lag_{}_days'.format(name[7:], lag_autolag_return_30)].shift(lag_autolag_return_30).dropna())\n",
    "\n",
    "df_autolag_2 = pd.DataFrame(data[name] - data['risk_free_rate_based_on_g_curve']).rename(columns = {0:'{}_premium_lag_{}_days'.format(name[7:], lag_autolag_return_60)})\n",
    "df_autolag_2 = pd.DataFrame(df_autolag_2['{}_premium_lag_{}_days'.format(name[7:], lag_autolag_return_60)].shift(lag_autolag_return_60).dropna())\n",
    "\n",
    "df_autolag_3 = pd.DataFrame(data[name] - data['risk_free_rate_based_on_g_curve']).rename(columns = {0:'{}_premium_lag_{}_days'.format(name[7:], lag_autolag_return_90)})\n",
    "df_autolag_3 = pd.DataFrame(df_autolag_3['{}_premium_lag_{}_days'.format(name[7:], lag_autolag_return_90)].shift(lag_autolag_return_90).dropna())\n",
    "\n",
    "df2 = data[['Hamada_d_mcap_ratio_SMB_for_{}'.format(name[7:11]),\n",
    "        'Hamada_d_mcap_ratio_HML_for_{}'.format(name[7:11]), 'MOM']].shift(lag_30).dropna()\n",
    "\n",
    "\n",
    "\n",
    "df2.rename(columns = {'Hamada_d_mcap_ratio_SMB_for_{}'.format(name[7:11]):'Hamada_d_mcap_ratio_SMB_for_{}_lag_{}_days'.format(name[7:11], lag_30),\n",
    "                      'Hamada_d_mcap_ratio_HML_for_{}'.format(name[7:11]):'Hamada_d_mcap_ratio_HML_for_{}_lag_{}_days'.format(name[7:11], lag_30), \n",
    "                      'MOM':'MOM_lag_{}_days'.format(lag_30)}, inplace = True)\n",
    "\n",
    "result = pd.concat([df1, df2], axis=1, join=\"inner\")\n",
    "\n",
    "df3 = data[['Hamada_d_mcap_ratio_SMB_for_{}'.format(name[7:11]),\n",
    "        'Hamada_d_mcap_ratio_HML_for_{}'.format(name[7:11]), 'MOM']].shift(lag_60).dropna()\n",
    "\n",
    "df3.rename(columns = {'Hamada_d_mcap_ratio_SMB_for_{}'.format(name[7:11]):'Hamada_d_mcap_ratio_SMB_for_{}_lag_{}_days'.format(name[7:11], lag_60),\n",
    "                      'Hamada_d_mcap_ratio_HML_for_{}'.format(name[7:11]):'Hamada_d_mcap_ratio_HML_for_{}_lag_{}_days'.format(name[7:11], lag_60), \n",
    "                      'MOM':'MOM_lag_{}_days'.format(lag_60)}, inplace = True)\n",
    "\n",
    "result = pd.concat([result, df3], axis=1, join=\"inner\")\n",
    "\n",
    "df4 = data[['Hamada_d_mcap_ratio_SMB_for_{}'.format(name[7:11]),\n",
    "        'Hamada_d_mcap_ratio_HML_for_{}'.format(name[7:11]), 'MOM']].shift(lag_90).dropna()\n",
    "\n",
    "df4.rename(columns = {'Hamada_d_mcap_ratio_SMB_for_{}'.format(name[7:11]):'Hamada_d_mcap_ratio_SMB_for_{}_lag_{}_days'.format(name[7:11], lag_90),\n",
    "                      'Hamada_d_mcap_ratio_HML_for_{}'.format(name[7:11]):'Hamada_d_mcap_ratio_HML_for_{}_lag_{}_days'.format(name[7:11], lag_90), \n",
    "                      'MOM':'MOM_lag_{}_days'.format(lag_90)}, inplace = True)\n",
    "\n",
    "result = pd.concat([result, df4], axis=1, join=\"inner\")\n",
    "\n",
    "result = pd.merge(result, macro_data, left_index=True, right_index=True)\n",
    "result = pd.merge(result, df_autolag, left_index=True, right_index=True)\n",
    "result = pd.merge(result, df_autolag_2, left_index=True, right_index=True)\n",
    "result = pd.merge(result, df_autolag_3, left_index=True, right_index=True)\n",
    "result['{}_Equity_premium'.format(name[7:14])] = result[name] - result['risk_free_rate_based_on_g_curve']\n",
    "\n",
    "share = '{}_Equity_premium'.format(name[7:14])\n",
    "\n",
    "print(\"###############################################\")\n",
    "\n",
    "print(\"ML models for {}\".format(share))\n",
    "dta = result.dropna()\n",
    "\n",
    "X_train = dta.iloc[:round(len(dta) - len(dta)/4),:][['Hamada_beta_MRP_for_{}'.format(name[7:11]), \n",
    "          '{}_premium_lag_{}_days'.format(name[7:], lag_autolag_return_30),\n",
    "          '{}_premium_lag_{}_days'.format(name[7:], lag_autolag_return_60),\n",
    "          '{}_premium_lag_{}_days'.format(name[7:], lag_autolag_return_90),\n",
    "          'Hamada_d_mcap_ratio_SMB_for_{}'.format(name[7:11]),\n",
    "          'Hamada_d_mcap_ratio_HML_for_{}'.format(name[7:11]), \n",
    "          'Hamada_d_mcap_ratio_SMB_for_{}_lag_{}_days'.format(name[7:11], lag_30),\n",
    "          'Hamada_d_mcap_ratio_HML_for_{}_lag_{}_days'.format(name[7:11], lag_30),\n",
    "          'Hamada_d_mcap_ratio_SMB_for_{}_lag_{}_days'.format(name[7:11], lag_60),\n",
    "          'Hamada_d_mcap_ratio_HML_for_{}_lag_{}_days'.format(name[7:11], lag_60),\n",
    "          'Hamada_d_mcap_ratio_SMB_for_{}_lag_{}_days'.format(name[7:11], lag_90),\n",
    "          'Hamada_d_mcap_ratio_HML_for_{}_lag_{}_days'.format(name[7:11], lag_90),\n",
    "          'MOM','MOM_lag_{}_days'.format(lag_30),'MOM_lag_{}_days'.format(lag_60),\n",
    "          'MOM_lag_{}_days'.format(lag_90),'dollar_30d_return','wti_30d_return']]\n",
    "X_test = dta.iloc[-round(len(dta)/4):,:][['Hamada_beta_MRP_for_{}'.format(name[7:11]), \n",
    "          '{}_premium_lag_{}_days'.format(name[7:], lag_autolag_return_30),\n",
    "          '{}_premium_lag_{}_days'.format(name[7:], lag_autolag_return_60),\n",
    "          '{}_premium_lag_{}_days'.format(name[7:], lag_autolag_return_90),\n",
    "          'Hamada_d_mcap_ratio_SMB_for_{}'.format(name[7:11]),\n",
    "          'Hamada_d_mcap_ratio_HML_for_{}'.format(name[7:11]), \n",
    "          'Hamada_d_mcap_ratio_SMB_for_{}_lag_{}_days'.format(name[7:11], lag_30),\n",
    "          'Hamada_d_mcap_ratio_HML_for_{}_lag_{}_days'.format(name[7:11], lag_30),\n",
    "          'Hamada_d_mcap_ratio_SMB_for_{}_lag_{}_days'.format(name[7:11], lag_60),\n",
    "          'Hamada_d_mcap_ratio_HML_for_{}_lag_{}_days'.format(name[7:11], lag_60),\n",
    "          'Hamada_d_mcap_ratio_SMB_for_{}_lag_{}_days'.format(name[7:11], lag_90),\n",
    "          'Hamada_d_mcap_ratio_HML_for_{}_lag_{}_days'.format(name[7:11], lag_90),\n",
    "          'MOM','MOM_lag_{}_days'.format(lag_30),'MOM_lag_{}_days'.format(lag_60),\n",
    "          'MOM_lag_{}_days'.format(lag_90),'dollar_30d_return','wti_30d_return']]\n",
    "y_train = dta.iloc[:round(len(dta) - len(dta)/4),:][share]\n",
    "y_test = dta.iloc[-round(len(dta)/4):,:][share]"
   ]
  },
  {
   "cell_type": "code",
   "execution_count": 60,
   "metadata": {},
   "outputs": [
    {
     "data": {
      "image/png": "[encoded data removed]",
      "text/plain": [
       "<Figure size 4800x2400 with 1 Axes>"
      ]
     },
     "metadata": {
      "needs_background": "light"
     },
     "output_type": "display_data"
    }
   ],
   "source": [
    "dt = DecisionTreeRegressor(max_depth = 2, min_samples_split = 10,min_samples_leaf = 10, random_state = 42)\n",
    "dt.fit(X_train, y_train)\n",
    "\n",
    "fn=A\n",
    "\n",
    "fig, axes = plt.subplots(nrows = 1,ncols = 1,figsize = (8,4), dpi=600)\n",
    "\n",
    "plot_tree(dt,filled = True,feature_names = fn,);\n",
    "fig.savefig('sber.png')"
   ]
  },
  {
   "cell_type": "code",
   "execution_count": null,
   "metadata": {},
   "outputs": [],
   "source": []
  }
 ],
 "metadata": {
  "kernelspec": {
   "display_name": "Python 3",
   "language": "python",
   "name": "python3"
  },
  "language_info": {
   "codemirror_mode": {
    "name": "ipython",
    "version": 3
   },
   "file_extension": ".py",
   "mimetype": "text/x-python",
   "name": "python",
   "nbconvert_exporter": "python",
   "pygments_lexer": "ipython3",
   "version": "3.8.3"
  }
 },
 "nbformat": 4,
 "nbformat_minor": 4
}
