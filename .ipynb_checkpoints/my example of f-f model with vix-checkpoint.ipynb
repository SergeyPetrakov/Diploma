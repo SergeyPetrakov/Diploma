{
 "cells": [
  {
   "cell_type": "markdown",
   "metadata": {},
   "source": [
    "# Import libraries"
   ]
  },
  {
   "cell_type": "code",
   "execution_count": 2,
   "metadata": {},
   "outputs": [],
   "source": [
    "import pandas as pd\n",
    "import pandas_datareader as dr\n",
    "import datetime\n",
    "import statsmodels.api as sm\n",
    "import seaborn as sns\n",
    "\n",
    "import statsmodels\n",
    "\n",
    "from matplotlib import rcParams\n",
    "import matplotlib.pyplot as plt\n",
    "\n",
    "# figure size in inches\n",
    "rcParams['figure.figsize'] = 11.7,8.27"
   ]
  },
  {
   "cell_type": "markdown",
   "metadata": {},
   "source": [
    "# functions"
   ]
  },
  {
   "cell_type": "code",
   "execution_count": 3,
   "metadata": {},
   "outputs": [],
   "source": [
    "def change_date(input):\n",
    "    return datetime.date(int(str(input)[0:4]), int(str(input)[4:6]), int(str(input)[6:8]))"
   ]
  },
  {
   "cell_type": "markdown",
   "metadata": {},
   "source": [
    "# Date preparation"
   ]
  },
  {
   "cell_type": "code",
   "execution_count": 4,
   "metadata": {},
   "outputs": [],
   "source": [
    "# Rm-Rf includes all NYSE, AMEX, and NASDAQ firms. SMB, HML, RMW, and CMA for July of year t to June \n",
    "# of t+1 include all NYSE, AMEX, and NASDAQ stocks for which we have market equity data for December \n",
    "# of t-1 and June of t, (positive) book equity data for t-1 (for SMB, HML, and RMW), non-missing \n",
    "# revenues and at least one of the following: cost of goods sold, selling, general and administrative \n",
    "# expenses, or interest expense for t-1 (for SMB and RMW), and total assets data for t-2 and t-1 (for SMB and CMA).\n",
    "\n",
    "df = pd.read_csv('F-F_Research_Data_5_Factors_2x3_daily.CSV', skiprows=2)\n",
    "df.rename(columns={'Unnamed: 0':'date'}, inplace=True)\n",
    "df['date'] = df['date'].apply(change_date)\n",
    "df.set_index('date', inplace = True)\n",
    "\n",
    "# CBOE Volatility Index: VIX\n",
    "# from fred\n",
    "\n",
    "vix = dr.get_data_fred('VIXCLS', start='1990-01-02', end='2020-10-29')\n",
    "vix.reset_index(inplace = True)\n",
    "vix.rename(columns = {'VIXCLS':'vix', 'DATE':'date'}, inplace = True)\n",
    "vix.set_index('date', inplace = True)\n",
    "\n",
    "#merge dataframes\n",
    "data = vix.merge(df,left_index=True, right_index= True)"
   ]
  },
  {
   "cell_type": "code",
   "execution_count": 5,
   "metadata": {},
   "outputs": [
    {
     "data": {
      "text/html": [
       "<div>\n",
       "<style scoped>\n",
       "    .dataframe tbody tr th:only-of-type {\n",
       "        vertical-align: middle;\n",
       "    }\n",
       "\n",
       "    .dataframe tbody tr th {\n",
       "        vertical-align: top;\n",
       "    }\n",
       "\n",
       "    .dataframe thead th {\n",
       "        text-align: right;\n",
       "    }\n",
       "</style>\n",
       "<table border=\"1\" class=\"dataframe\">\n",
       "  <thead>\n",
       "    <tr style=\"text-align: right;\">\n",
       "      <th></th>\n",
       "      <th>vix</th>\n",
       "      <th>Mkt-RF</th>\n",
       "      <th>SMB</th>\n",
       "      <th>HML</th>\n",
       "      <th>RMW</th>\n",
       "      <th>CMA</th>\n",
       "      <th>RF</th>\n",
       "    </tr>\n",
       "    <tr>\n",
       "      <th>date</th>\n",
       "      <th></th>\n",
       "      <th></th>\n",
       "      <th></th>\n",
       "      <th></th>\n",
       "      <th></th>\n",
       "      <th></th>\n",
       "      <th></th>\n",
       "    </tr>\n",
       "  </thead>\n",
       "  <tbody>\n",
       "    <tr>\n",
       "      <th>1990-01-02</th>\n",
       "      <td>17.24</td>\n",
       "      <td>1.44</td>\n",
       "      <td>-0.67</td>\n",
       "      <td>-0.06</td>\n",
       "      <td>0.20</td>\n",
       "      <td>-0.45</td>\n",
       "      <td>0.026</td>\n",
       "    </tr>\n",
       "    <tr>\n",
       "      <th>1990-01-03</th>\n",
       "      <td>18.19</td>\n",
       "      <td>-0.06</td>\n",
       "      <td>0.73</td>\n",
       "      <td>-0.31</td>\n",
       "      <td>0.16</td>\n",
       "      <td>-0.46</td>\n",
       "      <td>0.026</td>\n",
       "    </tr>\n",
       "    <tr>\n",
       "      <th>1990-01-04</th>\n",
       "      <td>19.22</td>\n",
       "      <td>-0.71</td>\n",
       "      <td>0.45</td>\n",
       "      <td>-0.25</td>\n",
       "      <td>-0.05</td>\n",
       "      <td>-0.02</td>\n",
       "      <td>0.026</td>\n",
       "    </tr>\n",
       "    <tr>\n",
       "      <th>1990-01-05</th>\n",
       "      <td>20.11</td>\n",
       "      <td>-0.85</td>\n",
       "      <td>0.74</td>\n",
       "      <td>-0.23</td>\n",
       "      <td>-0.01</td>\n",
       "      <td>-0.10</td>\n",
       "      <td>0.026</td>\n",
       "    </tr>\n",
       "    <tr>\n",
       "      <th>1990-01-08</th>\n",
       "      <td>20.26</td>\n",
       "      <td>0.30</td>\n",
       "      <td>-0.40</td>\n",
       "      <td>-0.24</td>\n",
       "      <td>0.06</td>\n",
       "      <td>0.31</td>\n",
       "      <td>0.026</td>\n",
       "    </tr>\n",
       "    <tr>\n",
       "      <th>...</th>\n",
       "      <td>...</td>\n",
       "      <td>...</td>\n",
       "      <td>...</td>\n",
       "      <td>...</td>\n",
       "      <td>...</td>\n",
       "      <td>...</td>\n",
       "      <td>...</td>\n",
       "    </tr>\n",
       "    <tr>\n",
       "      <th>2020-09-24</th>\n",
       "      <td>28.51</td>\n",
       "      <td>0.25</td>\n",
       "      <td>-0.20</td>\n",
       "      <td>0.32</td>\n",
       "      <td>0.49</td>\n",
       "      <td>0.11</td>\n",
       "      <td>0.000</td>\n",
       "    </tr>\n",
       "    <tr>\n",
       "      <th>2020-09-25</th>\n",
       "      <td>26.38</td>\n",
       "      <td>1.72</td>\n",
       "      <td>-0.16</td>\n",
       "      <td>-1.35</td>\n",
       "      <td>-0.50</td>\n",
       "      <td>-0.70</td>\n",
       "      <td>0.000</td>\n",
       "    </tr>\n",
       "    <tr>\n",
       "      <th>2020-09-28</th>\n",
       "      <td>26.19</td>\n",
       "      <td>1.66</td>\n",
       "      <td>0.86</td>\n",
       "      <td>1.03</td>\n",
       "      <td>0.36</td>\n",
       "      <td>0.19</td>\n",
       "      <td>0.000</td>\n",
       "    </tr>\n",
       "    <tr>\n",
       "      <th>2020-09-29</th>\n",
       "      <td>26.27</td>\n",
       "      <td>-0.42</td>\n",
       "      <td>0.42</td>\n",
       "      <td>-1.32</td>\n",
       "      <td>-0.78</td>\n",
       "      <td>-0.59</td>\n",
       "      <td>0.000</td>\n",
       "    </tr>\n",
       "    <tr>\n",
       "      <th>2020-09-30</th>\n",
       "      <td>26.37</td>\n",
       "      <td>0.79</td>\n",
       "      <td>-0.63</td>\n",
       "      <td>0.19</td>\n",
       "      <td>0.37</td>\n",
       "      <td>0.15</td>\n",
       "      <td>0.000</td>\n",
       "    </tr>\n",
       "  </tbody>\n",
       "</table>\n",
       "<p>7748 rows × 7 columns</p>\n",
       "</div>"
      ],
      "text/plain": [
       "              vix  Mkt-RF   SMB   HML   RMW   CMA     RF\n",
       "date                                                    \n",
       "1990-01-02  17.24    1.44 -0.67 -0.06  0.20 -0.45  0.026\n",
       "1990-01-03  18.19   -0.06  0.73 -0.31  0.16 -0.46  0.026\n",
       "1990-01-04  19.22   -0.71  0.45 -0.25 -0.05 -0.02  0.026\n",
       "1990-01-05  20.11   -0.85  0.74 -0.23 -0.01 -0.10  0.026\n",
       "1990-01-08  20.26    0.30 -0.40 -0.24  0.06  0.31  0.026\n",
       "...           ...     ...   ...   ...   ...   ...    ...\n",
       "2020-09-24  28.51    0.25 -0.20  0.32  0.49  0.11  0.000\n",
       "2020-09-25  26.38    1.72 -0.16 -1.35 -0.50 -0.70  0.000\n",
       "2020-09-28  26.19    1.66  0.86  1.03  0.36  0.19  0.000\n",
       "2020-09-29  26.27   -0.42  0.42 -1.32 -0.78 -0.59  0.000\n",
       "2020-09-30  26.37    0.79 -0.63  0.19  0.37  0.15  0.000\n",
       "\n",
       "[7748 rows x 7 columns]"
      ]
     },
     "execution_count": 5,
     "metadata": {},
     "output_type": "execute_result"
    }
   ],
   "source": [
    "data"
   ]
  },
  {
   "cell_type": "code",
   "execution_count": 6,
   "metadata": {},
   "outputs": [],
   "source": [
    "ge = dr.get_data_yahoo('GE', start='1990-01-02', end='2020-10-29')"
   ]
  },
  {
   "cell_type": "code",
   "execution_count": 7,
   "metadata": {},
   "outputs": [],
   "source": [
    "general_electric = ge[['Close', 'Volume']]"
   ]
  },
  {
   "cell_type": "markdown",
   "metadata": {},
   "source": [
    "# Add return for General Electric"
   ]
  },
  {
   "cell_type": "code",
   "execution_count": 8,
   "metadata": {},
   "outputs": [
    {
     "name": "stderr",
     "output_type": "stream",
     "text": [
      "<ipython-input-8-6a299ff5a566>:1: SettingWithCopyWarning: \n",
      "A value is trying to be set on a copy of a slice from a DataFrame.\n",
      "Try using .loc[row_indexer,col_indexer] = value instead\n",
      "\n",
      "See the caveats in the documentation: https://pandas.pydata.org/pandas-docs/stable/user_guide/indexing.html#returning-a-view-versus-a-copy\n",
      "  general_electric['return'] = 100*(general_electric['Close'] - general_electric.shift(1)['Close'])/general_electric.shift(1)['Close']\n"
     ]
    }
   ],
   "source": [
    "general_electric['return'] = 100*(general_electric['Close'] - general_electric.shift(1)['Close'])/general_electric.shift(1)['Close']"
   ]
  },
  {
   "cell_type": "code",
   "execution_count": 9,
   "metadata": {},
   "outputs": [
    {
     "data": {
      "text/html": [
       "<div>\n",
       "<style scoped>\n",
       "    .dataframe tbody tr th:only-of-type {\n",
       "        vertical-align: middle;\n",
       "    }\n",
       "\n",
       "    .dataframe tbody tr th {\n",
       "        vertical-align: top;\n",
       "    }\n",
       "\n",
       "    .dataframe thead th {\n",
       "        text-align: right;\n",
       "    }\n",
       "</style>\n",
       "<table border=\"1\" class=\"dataframe\">\n",
       "  <thead>\n",
       "    <tr style=\"text-align: right;\">\n",
       "      <th></th>\n",
       "      <th>Close</th>\n",
       "      <th>Volume</th>\n",
       "      <th>return</th>\n",
       "    </tr>\n",
       "    <tr>\n",
       "      <th>Date</th>\n",
       "      <th></th>\n",
       "      <th></th>\n",
       "      <th></th>\n",
       "    </tr>\n",
       "  </thead>\n",
       "  <tbody>\n",
       "    <tr>\n",
       "      <th>1990-01-02</th>\n",
       "      <td>5.348557</td>\n",
       "      <td>22990600.0</td>\n",
       "      <td>NaN</td>\n",
       "    </tr>\n",
       "    <tr>\n",
       "      <th>1990-01-03</th>\n",
       "      <td>5.338542</td>\n",
       "      <td>20658100.0</td>\n",
       "      <td>-0.187265</td>\n",
       "    </tr>\n",
       "    <tr>\n",
       "      <th>1990-01-04</th>\n",
       "      <td>5.308494</td>\n",
       "      <td>18640100.0</td>\n",
       "      <td>-0.562848</td>\n",
       "    </tr>\n",
       "    <tr>\n",
       "      <th>1990-01-05</th>\n",
       "      <td>5.258413</td>\n",
       "      <td>19340200.0</td>\n",
       "      <td>-0.943399</td>\n",
       "    </tr>\n",
       "    <tr>\n",
       "      <th>1990-01-08</th>\n",
       "      <td>5.288462</td>\n",
       "      <td>15604900.0</td>\n",
       "      <td>0.571434</td>\n",
       "    </tr>\n",
       "    <tr>\n",
       "      <th>...</th>\n",
       "      <td>...</td>\n",
       "      <td>...</td>\n",
       "      <td>...</td>\n",
       "    </tr>\n",
       "    <tr>\n",
       "      <th>2020-10-23</th>\n",
       "      <td>7.630000</td>\n",
       "      <td>132563200.0</td>\n",
       "      <td>-1.165799</td>\n",
       "    </tr>\n",
       "    <tr>\n",
       "      <th>2020-10-26</th>\n",
       "      <td>7.380000</td>\n",
       "      <td>104254400.0</td>\n",
       "      <td>-3.276540</td>\n",
       "    </tr>\n",
       "    <tr>\n",
       "      <th>2020-10-27</th>\n",
       "      <td>7.100000</td>\n",
       "      <td>98170000.0</td>\n",
       "      <td>-3.794041</td>\n",
       "    </tr>\n",
       "    <tr>\n",
       "      <th>2020-10-28</th>\n",
       "      <td>7.420000</td>\n",
       "      <td>253494100.0</td>\n",
       "      <td>4.507045</td>\n",
       "    </tr>\n",
       "    <tr>\n",
       "      <th>2020-10-29</th>\n",
       "      <td>7.370000</td>\n",
       "      <td>123298000.0</td>\n",
       "      <td>-0.673857</td>\n",
       "    </tr>\n",
       "  </tbody>\n",
       "</table>\n",
       "<p>7769 rows × 3 columns</p>\n",
       "</div>"
      ],
      "text/plain": [
       "               Close       Volume    return\n",
       "Date                                       \n",
       "1990-01-02  5.348557   22990600.0       NaN\n",
       "1990-01-03  5.338542   20658100.0 -0.187265\n",
       "1990-01-04  5.308494   18640100.0 -0.562848\n",
       "1990-01-05  5.258413   19340200.0 -0.943399\n",
       "1990-01-08  5.288462   15604900.0  0.571434\n",
       "...              ...          ...       ...\n",
       "2020-10-23  7.630000  132563200.0 -1.165799\n",
       "2020-10-26  7.380000  104254400.0 -3.276540\n",
       "2020-10-27  7.100000   98170000.0 -3.794041\n",
       "2020-10-28  7.420000  253494100.0  4.507045\n",
       "2020-10-29  7.370000  123298000.0 -0.673857\n",
       "\n",
       "[7769 rows x 3 columns]"
      ]
     },
     "execution_count": 9,
     "metadata": {},
     "output_type": "execute_result"
    }
   ],
   "source": [
    "general_electric "
   ]
  },
  {
   "cell_type": "code",
   "execution_count": 10,
   "metadata": {},
   "outputs": [],
   "source": [
    "result = data.merge(general_electric['return'], left_index=True, right_index= True)"
   ]
  },
  {
   "cell_type": "code",
   "execution_count": 11,
   "metadata": {},
   "outputs": [],
   "source": [
    "result.dropna(inplace=True)"
   ]
  },
  {
   "cell_type": "code",
   "execution_count": 12,
   "metadata": {},
   "outputs": [],
   "source": [
    "X = result[['Mkt-RF', 'SMB', 'HML', 'RMW', 'CMA', 'vix']]\n",
    "Y = result['return']\n",
    "model = sm.OLS(Y,X)\n",
    "results = model.fit(cov_type = 'HC1')"
   ]
  },
  {
   "cell_type": "code",
   "execution_count": 13,
   "metadata": {},
   "outputs": [
    {
     "data": {
      "text/plain": [
       "Mkt-RF    38.884257\n",
       "SMB       -4.829659\n",
       "HML        7.711979\n",
       "RMW        3.548436\n",
       "CMA        0.135574\n",
       "vix       -1.102359\n",
       "dtype: float64"
      ]
     },
     "execution_count": 13,
     "metadata": {},
     "output_type": "execute_result"
    }
   ],
   "source": [
    "results.tvalues"
   ]
  },
  {
   "cell_type": "code",
   "execution_count": 14,
   "metadata": {},
   "outputs": [
    {
     "name": "stdout",
     "output_type": "stream",
     "text": [
      "                                 OLS Regression Results                                \n",
      "=======================================================================================\n",
      "Dep. Variable:                 return   R-squared (uncentered):                   0.501\n",
      "Model:                            OLS   Adj. R-squared (uncentered):              0.501\n",
      "Method:                 Least Squares   F-statistic:                              358.7\n",
      "Date:                Mon, 02 Nov 2020   Prob (F-statistic):                        0.00\n",
      "Time:                        19:06:08   Log-Likelihood:                         -13338.\n",
      "No. Observations:                7744   AIC:                                  2.669e+04\n",
      "Df Residuals:                    7738   BIC:                                  2.673e+04\n",
      "Df Model:                           6                                                  \n",
      "Covariance Type:                  HC1                                                  \n",
      "==============================================================================\n",
      "                 coef    std err          z      P>|z|      [0.025      0.975]\n",
      "------------------------------------------------------------------------------\n",
      "Mkt-RF         1.1821      0.030     38.884      0.000       1.123       1.242\n",
      "SMB           -0.2201      0.046     -4.830      0.000      -0.309      -0.131\n",
      "HML            0.4187      0.054      7.712      0.000       0.312       0.525\n",
      "RMW            0.1924      0.054      3.548      0.000       0.086       0.299\n",
      "CMA            0.0102      0.075      0.136      0.892      -0.138       0.158\n",
      "vix           -0.0011      0.001     -1.102      0.270      -0.003       0.001\n",
      "==============================================================================\n",
      "Omnibus:                     1839.008   Durbin-Watson:                   2.025\n",
      "Prob(Omnibus):                  0.000   Jarque-Bera (JB):            70087.505\n",
      "Skew:                           0.389   Prob(JB):                         0.00\n",
      "Kurtosis:                      17.718   Cond. No.                         67.6\n",
      "==============================================================================\n",
      "\n",
      "Warnings:\n",
      "[1] Standard Errors are heteroscedasticity robust (HC1)\n"
     ]
    }
   ],
   "source": [
    "print(results.summary())"
   ]
  },
  {
   "cell_type": "code",
   "execution_count": 15,
   "metadata": {},
   "outputs": [
    {
     "data": {
      "text/plain": [
       "<matplotlib.legend.Legend at 0x7fc070a2c520>"
      ]
     },
     "execution_count": 15,
     "metadata": {},
     "output_type": "execute_result"
    },
    {
     "data": {
      "image/png": "[encoded data removed]",
      "text/plain": [
       "<Figure size 842.4x595.44 with 1 Axes>"
      ]
     },
     "metadata": {
      "needs_background": "light"
     },
     "output_type": "display_data"
    }
   ],
   "source": [
    "Y.plot()\n",
    "X['Mkt-RF'].plot()\n",
    "X['vix'].plot()\n",
    "\n",
    "plt.legend(('return',  'Mkt-RF','vix'))"
   ]
  },
  {
   "cell_type": "code",
   "execution_count": 16,
   "metadata": {},
   "outputs": [
    {
     "data": {
      "text/plain": [
       "<matplotlib.legend.Legend at 0x7fc0a8794130>"
      ]
     },
     "execution_count": 16,
     "metadata": {},
     "output_type": "execute_result"
    },
    {
     "data": {
      "image/png": "[encoded data removed]",
      "text/plain": [
       "<Figure size 842.4x595.44 with 1 Axes>"
      ]
     },
     "metadata": {
      "needs_background": "light"
     },
     "output_type": "display_data"
    }
   ],
   "source": [
    "Y.plot()\n",
    "X['vix'].plot()\n",
    "X['CMA'].plot()\n",
    "plt.legend(('return', 'vix', 'CMA'))"
   ]
  },
  {
   "cell_type": "markdown",
   "metadata": {},
   "source": [
    "# S&P 500"
   ]
  },
  {
   "cell_type": "code",
   "execution_count": 17,
   "metadata": {},
   "outputs": [],
   "source": [
    "sp = dr.get_data_yahoo('^GSPC', start='1990-01-02', end='2020-10-29')\n",
    "standard_and_poor_500 = sp[['Close', 'Volume']]"
   ]
  },
  {
   "cell_type": "code",
   "execution_count": 19,
   "metadata": {},
   "outputs": [
    {
     "name": "stderr",
     "output_type": "stream",
     "text": [
      "<ipython-input-19-22280448ef86>:1: SettingWithCopyWarning: \n",
      "A value is trying to be set on a copy of a slice from a DataFrame.\n",
      "Try using .loc[row_indexer,col_indexer] = value instead\n",
      "\n",
      "See the caveats in the documentation: https://pandas.pydata.org/pandas-docs/stable/user_guide/indexing.html#returning-a-view-versus-a-copy\n",
      "  standard_and_poor_500['return'] = 100*(standard_and_poor_500['Close'] - standard_and_poor_500.shift(1)['Close'])/standard_and_poor_500.shift(1)['Close']\n"
     ]
    }
   ],
   "source": [
    "standard_and_poor_500['return'] = 100*(standard_and_poor_500['Close'] - standard_and_poor_500.shift(1)['Close'])/standard_and_poor_500.shift(1)['Close']"
   ]
  },
  {
   "cell_type": "markdown",
   "metadata": {},
   "source": [
    "## Regression OLS w/o vix"
   ]
  },
  {
   "cell_type": "code",
   "execution_count": 225,
   "metadata": {},
   "outputs": [
    {
     "name": "stdout",
     "output_type": "stream",
     "text": [
      "                                 OLS Regression Results                                \n",
      "=======================================================================================\n",
      "Dep. Variable:                 return   R-squared (uncentered):                   0.995\n",
      "Model:                            OLS   Adj. R-squared (uncentered):              0.995\n",
      "Method:                 Least Squares   F-statistic:                          1.302e+05\n",
      "Date:                Mon, 02 Nov 2020   Prob (F-statistic):                        0.00\n",
      "Time:                        18:14:20   Log-Likelihood:                          8839.0\n",
      "No. Observations:                7744   AIC:                                 -1.767e+04\n",
      "Df Residuals:                    7739   BIC:                                 -1.763e+04\n",
      "Df Model:                           5                                                  \n",
      "Covariance Type:                  HC1                                                  \n",
      "==============================================================================\n",
      "                 coef    std err          z      P>|z|      [0.025      0.975]\n",
      "------------------------------------------------------------------------------\n",
      "Mkt-RF         1.0164      0.001    707.565      0.000       1.014       1.019\n",
      "SMB           -0.1558      0.003    -58.385      0.000      -0.161      -0.151\n",
      "HML            0.0249      0.002     10.251      0.000       0.020       0.030\n",
      "RMW            0.0976      0.004     22.040      0.000       0.089       0.106\n",
      "CMA            0.0659      0.004     15.811      0.000       0.058       0.074\n",
      "==============================================================================\n",
      "Omnibus:                     1779.559   Durbin-Watson:                   2.127\n",
      "Prob(Omnibus):                  0.000   Jarque-Bera (JB):            31010.046\n",
      "Skew:                           0.639   Prob(JB):                         0.00\n",
      "Kurtosis:                      12.720   Cond. No.                         3.75\n",
      "==============================================================================\n",
      "\n",
      "Warnings:\n",
      "[1] Standard Errors are heteroscedasticity robust (HC1)\n"
     ]
    }
   ],
   "source": [
    "result = data.merge(standard_and_poor_500['return'], left_index=True, right_index= True)\n",
    "result.dropna(inplace=True)\n",
    "X = result[['Mkt-RF', 'SMB', 'HML', 'RMW', 'CMA']]\n",
    "Y = result['return']\n",
    "model = sm.OLS(Y,X)\n",
    "results = model.fit(cov_type = 'HC1')\n",
    "print(results.summary())"
   ]
  },
  {
   "cell_type": "markdown",
   "metadata": {},
   "source": [
    "## Regression OLS with vix"
   ]
  },
  {
   "cell_type": "code",
   "execution_count": 213,
   "metadata": {},
   "outputs": [
    {
     "name": "stdout",
     "output_type": "stream",
     "text": [
      "                                 OLS Regression Results                                \n",
      "=======================================================================================\n",
      "Dep. Variable:                 return   R-squared (uncentered):                   0.995\n",
      "Model:                            OLS   Adj. R-squared (uncentered):              0.995\n",
      "Method:                 Least Squares   F-statistic:                          1.103e+05\n",
      "Date:                Mon, 02 Nov 2020   Prob (F-statistic):                        0.00\n",
      "Time:                        16:34:31   Log-Likelihood:                          8839.5\n",
      "No. Observations:                7744   AIC:                                 -1.767e+04\n",
      "Df Residuals:                    7738   BIC:                                 -1.763e+04\n",
      "Df Model:                           6                                                  \n",
      "Covariance Type:                  HC1                                                  \n",
      "==============================================================================\n",
      "                 coef    std err          z      P>|z|      [0.025      0.975]\n",
      "------------------------------------------------------------------------------\n",
      "Mkt-RF         1.0164      0.001    708.742      0.000       1.014       1.019\n",
      "SMB           -0.1558      0.003    -58.287      0.000      -0.161      -0.151\n",
      "HML            0.0249      0.002     10.203      0.000       0.020       0.030\n",
      "RMW            0.0977      0.004     22.087      0.000       0.089       0.106\n",
      "CMA            0.0660      0.004     15.792      0.000       0.058       0.074\n",
      "vix        -4.484e-05    5.1e-05     -0.880      0.379      -0.000     5.5e-05\n",
      "==============================================================================\n",
      "Omnibus:                     1787.028   Durbin-Watson:                   2.127\n",
      "Prob(Omnibus):                  0.000   Jarque-Bera (JB):            31010.146\n",
      "Skew:                           0.645   Prob(JB):                         0.00\n",
      "Kurtosis:                      12.718   Cond. No.                         67.6\n",
      "==============================================================================\n",
      "\n",
      "Warnings:\n",
      "[1] Standard Errors are heteroscedasticity robust (HC1)\n"
     ]
    }
   ],
   "source": [
    "result = data.merge(standard_and_poor_500['return'], left_index=True, right_index= True)\n",
    "result.dropna(inplace=True)\n",
    "X = result[['Mkt-RF', 'SMB', 'HML', 'RMW', 'CMA', 'vix']]\n",
    "Y = result['return']\n",
    "model = sm.OLS(Y,X)\n",
    "results = model.fit(cov_type = 'HC1')\n",
    "print(results.summary())"
   ]
  },
  {
   "cell_type": "code",
   "execution_count": 217,
   "metadata": {},
   "outputs": [
    {
     "data": {
      "image/png": "[encoded data removed]",
      "text/plain": [
       "<Figure size 842.4x595.44 with 2 Axes>"
      ]
     },
     "metadata": {
      "needs_background": "light"
     },
     "output_type": "display_data"
    }
   ],
   "source": [
    "data1 = standard_and_poor_500['Close']\n",
    "data2 = vix\n",
    "fig, ax1 = plt.subplots()\n",
    "\n",
    "color = 'tab:red'\n",
    "ax1.set_xlabel('time')\n",
    "ax1.set_ylabel('s&p 500', color=color)\n",
    "ax1.plot(data1, color=color)\n",
    "ax1.tick_params(axis='y', labelcolor=color)\n",
    "\n",
    "ax2 = ax1.twinx()  # instantiate a second axes that shares the same x-axis\n",
    "\n",
    "color = 'tab:blue'\n",
    "ax2.set_ylabel('vix', color=color)  # we already handled the x-label with ax1\n",
    "ax2.plot(data2, color=color)\n",
    "ax2.tick_params(axis='y', labelcolor=color)\n",
    "\n",
    "fig.tight_layout()  # otherwise the right y-label is slightly clipped\n",
    "plt.show()"
   ]
  },
  {
   "cell_type": "code",
   "execution_count": null,
   "metadata": {},
   "outputs": [],
   "source": []
  },
  {
   "cell_type": "code",
   "execution_count": null,
   "metadata": {},
   "outputs": [],
   "source": []
  },
  {
   "cell_type": "markdown",
   "metadata": {},
   "source": [
    "## experiment approach"
   ]
  },
  {
   "cell_type": "code",
   "execution_count": 18,
   "metadata": {},
   "outputs": [
    {
     "data": {
      "text/html": [
       "<div>\n",
       "<style scoped>\n",
       "    .dataframe tbody tr th:only-of-type {\n",
       "        vertical-align: middle;\n",
       "    }\n",
       "\n",
       "    .dataframe tbody tr th {\n",
       "        vertical-align: top;\n",
       "    }\n",
       "\n",
       "    .dataframe thead th {\n",
       "        text-align: right;\n",
       "    }\n",
       "</style>\n",
       "<table border=\"1\" class=\"dataframe\">\n",
       "  <thead>\n",
       "    <tr style=\"text-align: right;\">\n",
       "      <th></th>\n",
       "      <th>Close</th>\n",
       "      <th>Volume</th>\n",
       "    </tr>\n",
       "    <tr>\n",
       "      <th>Date</th>\n",
       "      <th></th>\n",
       "      <th></th>\n",
       "    </tr>\n",
       "  </thead>\n",
       "  <tbody>\n",
       "    <tr>\n",
       "      <th>1990-01-02</th>\n",
       "      <td>359.690002</td>\n",
       "      <td>162070000</td>\n",
       "    </tr>\n",
       "    <tr>\n",
       "      <th>1990-01-03</th>\n",
       "      <td>358.760010</td>\n",
       "      <td>192330000</td>\n",
       "    </tr>\n",
       "    <tr>\n",
       "      <th>1990-01-04</th>\n",
       "      <td>355.670013</td>\n",
       "      <td>177000000</td>\n",
       "    </tr>\n",
       "    <tr>\n",
       "      <th>1990-01-05</th>\n",
       "      <td>352.200012</td>\n",
       "      <td>158530000</td>\n",
       "    </tr>\n",
       "    <tr>\n",
       "      <th>1990-01-08</th>\n",
       "      <td>353.790009</td>\n",
       "      <td>140110000</td>\n",
       "    </tr>\n",
       "    <tr>\n",
       "      <th>...</th>\n",
       "      <td>...</td>\n",
       "      <td>...</td>\n",
       "    </tr>\n",
       "    <tr>\n",
       "      <th>2020-10-23</th>\n",
       "      <td>3465.389893</td>\n",
       "      <td>3646570000</td>\n",
       "    </tr>\n",
       "    <tr>\n",
       "      <th>2020-10-26</th>\n",
       "      <td>3400.969971</td>\n",
       "      <td>3988080000</td>\n",
       "    </tr>\n",
       "    <tr>\n",
       "      <th>2020-10-27</th>\n",
       "      <td>3390.679932</td>\n",
       "      <td>3946990000</td>\n",
       "    </tr>\n",
       "    <tr>\n",
       "      <th>2020-10-28</th>\n",
       "      <td>3271.030029</td>\n",
       "      <td>5129860000</td>\n",
       "    </tr>\n",
       "    <tr>\n",
       "      <th>2020-10-29</th>\n",
       "      <td>3310.110107</td>\n",
       "      <td>4903070000</td>\n",
       "    </tr>\n",
       "  </tbody>\n",
       "</table>\n",
       "<p>7769 rows × 2 columns</p>\n",
       "</div>"
      ],
      "text/plain": [
       "                  Close      Volume\n",
       "Date                               \n",
       "1990-01-02   359.690002   162070000\n",
       "1990-01-03   358.760010   192330000\n",
       "1990-01-04   355.670013   177000000\n",
       "1990-01-05   352.200012   158530000\n",
       "1990-01-08   353.790009   140110000\n",
       "...                 ...         ...\n",
       "2020-10-23  3465.389893  3646570000\n",
       "2020-10-26  3400.969971  3988080000\n",
       "2020-10-27  3390.679932  3946990000\n",
       "2020-10-28  3271.030029  5129860000\n",
       "2020-10-29  3310.110107  4903070000\n",
       "\n",
       "[7769 rows x 2 columns]"
      ]
     },
     "execution_count": 18,
     "metadata": {},
     "output_type": "execute_result"
    }
   ],
   "source": [
    "standard_and_poor_500"
   ]
  },
  {
   "cell_type": "code",
   "execution_count": null,
   "metadata": {},
   "outputs": [],
   "source": [
    "standard_and_poor_500['return'] = 100*(standard_and_poor_500['Close'] - standard_and_poor_500.shift(1)['Close'])/standard_and_poor_500.shift(1)['Close']"
   ]
  },
  {
   "cell_type": "code",
   "execution_count": 23,
   "metadata": {},
   "outputs": [],
   "source": [
    "data['vix_diff'] = (data['vix'] - \n",
    "                    data.shift(1)['vix'])/data.shift(1)['vix']"
   ]
  },
  {
   "cell_type": "code",
   "execution_count": 24,
   "metadata": {},
   "outputs": [
    {
     "data": {
      "text/html": [
       "<div>\n",
       "<style scoped>\n",
       "    .dataframe tbody tr th:only-of-type {\n",
       "        vertical-align: middle;\n",
       "    }\n",
       "\n",
       "    .dataframe tbody tr th {\n",
       "        vertical-align: top;\n",
       "    }\n",
       "\n",
       "    .dataframe thead th {\n",
       "        text-align: right;\n",
       "    }\n",
       "</style>\n",
       "<table border=\"1\" class=\"dataframe\">\n",
       "  <thead>\n",
       "    <tr style=\"text-align: right;\">\n",
       "      <th></th>\n",
       "      <th>vix</th>\n",
       "      <th>Mkt-RF</th>\n",
       "      <th>SMB</th>\n",
       "      <th>HML</th>\n",
       "      <th>RMW</th>\n",
       "      <th>CMA</th>\n",
       "      <th>RF</th>\n",
       "      <th>vix_diff</th>\n",
       "    </tr>\n",
       "    <tr>\n",
       "      <th>date</th>\n",
       "      <th></th>\n",
       "      <th></th>\n",
       "      <th></th>\n",
       "      <th></th>\n",
       "      <th></th>\n",
       "      <th></th>\n",
       "      <th></th>\n",
       "      <th></th>\n",
       "    </tr>\n",
       "  </thead>\n",
       "  <tbody>\n",
       "    <tr>\n",
       "      <th>1990-01-02</th>\n",
       "      <td>17.24</td>\n",
       "      <td>1.44</td>\n",
       "      <td>-0.67</td>\n",
       "      <td>-0.06</td>\n",
       "      <td>0.20</td>\n",
       "      <td>-0.45</td>\n",
       "      <td>0.026</td>\n",
       "      <td>NaN</td>\n",
       "    </tr>\n",
       "    <tr>\n",
       "      <th>1990-01-03</th>\n",
       "      <td>18.19</td>\n",
       "      <td>-0.06</td>\n",
       "      <td>0.73</td>\n",
       "      <td>-0.31</td>\n",
       "      <td>0.16</td>\n",
       "      <td>-0.46</td>\n",
       "      <td>0.026</td>\n",
       "      <td>0.055104</td>\n",
       "    </tr>\n",
       "    <tr>\n",
       "      <th>1990-01-04</th>\n",
       "      <td>19.22</td>\n",
       "      <td>-0.71</td>\n",
       "      <td>0.45</td>\n",
       "      <td>-0.25</td>\n",
       "      <td>-0.05</td>\n",
       "      <td>-0.02</td>\n",
       "      <td>0.026</td>\n",
       "      <td>0.056625</td>\n",
       "    </tr>\n",
       "    <tr>\n",
       "      <th>1990-01-05</th>\n",
       "      <td>20.11</td>\n",
       "      <td>-0.85</td>\n",
       "      <td>0.74</td>\n",
       "      <td>-0.23</td>\n",
       "      <td>-0.01</td>\n",
       "      <td>-0.10</td>\n",
       "      <td>0.026</td>\n",
       "      <td>0.046306</td>\n",
       "    </tr>\n",
       "    <tr>\n",
       "      <th>1990-01-08</th>\n",
       "      <td>20.26</td>\n",
       "      <td>0.30</td>\n",
       "      <td>-0.40</td>\n",
       "      <td>-0.24</td>\n",
       "      <td>0.06</td>\n",
       "      <td>0.31</td>\n",
       "      <td>0.026</td>\n",
       "      <td>0.007459</td>\n",
       "    </tr>\n",
       "    <tr>\n",
       "      <th>...</th>\n",
       "      <td>...</td>\n",
       "      <td>...</td>\n",
       "      <td>...</td>\n",
       "      <td>...</td>\n",
       "      <td>...</td>\n",
       "      <td>...</td>\n",
       "      <td>...</td>\n",
       "      <td>...</td>\n",
       "    </tr>\n",
       "    <tr>\n",
       "      <th>2020-09-24</th>\n",
       "      <td>28.51</td>\n",
       "      <td>0.25</td>\n",
       "      <td>-0.20</td>\n",
       "      <td>0.32</td>\n",
       "      <td>0.49</td>\n",
       "      <td>0.11</td>\n",
       "      <td>0.000</td>\n",
       "      <td>-0.002449</td>\n",
       "    </tr>\n",
       "    <tr>\n",
       "      <th>2020-09-25</th>\n",
       "      <td>26.38</td>\n",
       "      <td>1.72</td>\n",
       "      <td>-0.16</td>\n",
       "      <td>-1.35</td>\n",
       "      <td>-0.50</td>\n",
       "      <td>-0.70</td>\n",
       "      <td>0.000</td>\n",
       "      <td>-0.074711</td>\n",
       "    </tr>\n",
       "    <tr>\n",
       "      <th>2020-09-28</th>\n",
       "      <td>26.19</td>\n",
       "      <td>1.66</td>\n",
       "      <td>0.86</td>\n",
       "      <td>1.03</td>\n",
       "      <td>0.36</td>\n",
       "      <td>0.19</td>\n",
       "      <td>0.000</td>\n",
       "      <td>-0.007202</td>\n",
       "    </tr>\n",
       "    <tr>\n",
       "      <th>2020-09-29</th>\n",
       "      <td>26.27</td>\n",
       "      <td>-0.42</td>\n",
       "      <td>0.42</td>\n",
       "      <td>-1.32</td>\n",
       "      <td>-0.78</td>\n",
       "      <td>-0.59</td>\n",
       "      <td>0.000</td>\n",
       "      <td>0.003055</td>\n",
       "    </tr>\n",
       "    <tr>\n",
       "      <th>2020-09-30</th>\n",
       "      <td>26.37</td>\n",
       "      <td>0.79</td>\n",
       "      <td>-0.63</td>\n",
       "      <td>0.19</td>\n",
       "      <td>0.37</td>\n",
       "      <td>0.15</td>\n",
       "      <td>0.000</td>\n",
       "      <td>0.003807</td>\n",
       "    </tr>\n",
       "  </tbody>\n",
       "</table>\n",
       "<p>7748 rows × 8 columns</p>\n",
       "</div>"
      ],
      "text/plain": [
       "              vix  Mkt-RF   SMB   HML   RMW   CMA     RF  vix_diff\n",
       "date                                                              \n",
       "1990-01-02  17.24    1.44 -0.67 -0.06  0.20 -0.45  0.026       NaN\n",
       "1990-01-03  18.19   -0.06  0.73 -0.31  0.16 -0.46  0.026  0.055104\n",
       "1990-01-04  19.22   -0.71  0.45 -0.25 -0.05 -0.02  0.026  0.056625\n",
       "1990-01-05  20.11   -0.85  0.74 -0.23 -0.01 -0.10  0.026  0.046306\n",
       "1990-01-08  20.26    0.30 -0.40 -0.24  0.06  0.31  0.026  0.007459\n",
       "...           ...     ...   ...   ...   ...   ...    ...       ...\n",
       "2020-09-24  28.51    0.25 -0.20  0.32  0.49  0.11  0.000 -0.002449\n",
       "2020-09-25  26.38    1.72 -0.16 -1.35 -0.50 -0.70  0.000 -0.074711\n",
       "2020-09-28  26.19    1.66  0.86  1.03  0.36  0.19  0.000 -0.007202\n",
       "2020-09-29  26.27   -0.42  0.42 -1.32 -0.78 -0.59  0.000  0.003055\n",
       "2020-09-30  26.37    0.79 -0.63  0.19  0.37  0.15  0.000  0.003807\n",
       "\n",
       "[7748 rows x 8 columns]"
      ]
     },
     "execution_count": 24,
     "metadata": {},
     "output_type": "execute_result"
    }
   ],
   "source": [
    "data"
   ]
  },
  {
   "cell_type": "code",
   "execution_count": 27,
   "metadata": {},
   "outputs": [
    {
     "data": {
      "text/html": [
       "<div>\n",
       "<style scoped>\n",
       "    .dataframe tbody tr th:only-of-type {\n",
       "        vertical-align: middle;\n",
       "    }\n",
       "\n",
       "    .dataframe tbody tr th {\n",
       "        vertical-align: top;\n",
       "    }\n",
       "\n",
       "    .dataframe thead th {\n",
       "        text-align: right;\n",
       "    }\n",
       "</style>\n",
       "<table border=\"1\" class=\"dataframe\">\n",
       "  <thead>\n",
       "    <tr style=\"text-align: right;\">\n",
       "      <th></th>\n",
       "      <th>vix</th>\n",
       "      <th>Mkt-RF</th>\n",
       "      <th>SMB</th>\n",
       "      <th>HML</th>\n",
       "      <th>RMW</th>\n",
       "      <th>CMA</th>\n",
       "      <th>RF</th>\n",
       "      <th>vix_diff</th>\n",
       "      <th>return</th>\n",
       "    </tr>\n",
       "  </thead>\n",
       "  <tbody>\n",
       "    <tr>\n",
       "      <th>count</th>\n",
       "      <td>7741.000000</td>\n",
       "      <td>7741.000000</td>\n",
       "      <td>7741.000000</td>\n",
       "      <td>7741.000000</td>\n",
       "      <td>7741.000000</td>\n",
       "      <td>7741.000000</td>\n",
       "      <td>7741.000000</td>\n",
       "      <td>7741.000000</td>\n",
       "      <td>7741.000000</td>\n",
       "    </tr>\n",
       "    <tr>\n",
       "      <th>mean</th>\n",
       "      <td>19.420532</td>\n",
       "      <td>0.033959</td>\n",
       "      <td>0.002555</td>\n",
       "      <td>0.003366</td>\n",
       "      <td>0.016831</td>\n",
       "      <td>0.007783</td>\n",
       "      <td>0.010408</td>\n",
       "      <td>0.002328</td>\n",
       "      <td>0.035311</td>\n",
       "    </tr>\n",
       "    <tr>\n",
       "      <th>std</th>\n",
       "      <td>8.120653</td>\n",
       "      <td>1.146909</td>\n",
       "      <td>0.584255</td>\n",
       "      <td>0.647082</td>\n",
       "      <td>0.458662</td>\n",
       "      <td>0.412482</td>\n",
       "      <td>0.008875</td>\n",
       "      <td>0.069437</td>\n",
       "      <td>1.149069</td>\n",
       "    </tr>\n",
       "    <tr>\n",
       "      <th>min</th>\n",
       "      <td>9.140000</td>\n",
       "      <td>-12.000000</td>\n",
       "      <td>-4.590000</td>\n",
       "      <td>-4.730000</td>\n",
       "      <td>-3.020000</td>\n",
       "      <td>-5.940000</td>\n",
       "      <td>0.000000</td>\n",
       "      <td>-0.295726</td>\n",
       "      <td>-11.984055</td>\n",
       "    </tr>\n",
       "    <tr>\n",
       "      <th>25%</th>\n",
       "      <td>13.630000</td>\n",
       "      <td>-0.440000</td>\n",
       "      <td>-0.330000</td>\n",
       "      <td>-0.290000</td>\n",
       "      <td>-0.200000</td>\n",
       "      <td>-0.200000</td>\n",
       "      <td>0.001000</td>\n",
       "      <td>-0.036761</td>\n",
       "      <td>-0.440382</td>\n",
       "    </tr>\n",
       "    <tr>\n",
       "      <th>50%</th>\n",
       "      <td>17.380000</td>\n",
       "      <td>0.070000</td>\n",
       "      <td>0.020000</td>\n",
       "      <td>-0.010000</td>\n",
       "      <td>0.010000</td>\n",
       "      <td>0.000000</td>\n",
       "      <td>0.009000</td>\n",
       "      <td>-0.003568</td>\n",
       "      <td>0.056598</td>\n",
       "    </tr>\n",
       "    <tr>\n",
       "      <th>75%</th>\n",
       "      <td>22.790000</td>\n",
       "      <td>0.550000</td>\n",
       "      <td>0.340000</td>\n",
       "      <td>0.270000</td>\n",
       "      <td>0.220000</td>\n",
       "      <td>0.200000</td>\n",
       "      <td>0.018000</td>\n",
       "      <td>0.032662</td>\n",
       "      <td>0.562247</td>\n",
       "    </tr>\n",
       "    <tr>\n",
       "      <th>max</th>\n",
       "      <td>82.690000</td>\n",
       "      <td>11.350000</td>\n",
       "      <td>5.710000</td>\n",
       "      <td>4.770000</td>\n",
       "      <td>4.490000</td>\n",
       "      <td>2.530000</td>\n",
       "      <td>0.034000</td>\n",
       "      <td>1.155979</td>\n",
       "      <td>11.580037</td>\n",
       "    </tr>\n",
       "  </tbody>\n",
       "</table>\n",
       "</div>"
      ],
      "text/plain": [
       "               vix       Mkt-RF          SMB          HML          RMW  \\\n",
       "count  7741.000000  7741.000000  7741.000000  7741.000000  7741.000000   \n",
       "mean     19.420532     0.033959     0.002555     0.003366     0.016831   \n",
       "std       8.120653     1.146909     0.584255     0.647082     0.458662   \n",
       "min       9.140000   -12.000000    -4.590000    -4.730000    -3.020000   \n",
       "25%      13.630000    -0.440000    -0.330000    -0.290000    -0.200000   \n",
       "50%      17.380000     0.070000     0.020000    -0.010000     0.010000   \n",
       "75%      22.790000     0.550000     0.340000     0.270000     0.220000   \n",
       "max      82.690000    11.350000     5.710000     4.770000     4.490000   \n",
       "\n",
       "               CMA           RF     vix_diff       return  \n",
       "count  7741.000000  7741.000000  7741.000000  7741.000000  \n",
       "mean      0.007783     0.010408     0.002328     0.035311  \n",
       "std       0.412482     0.008875     0.069437     1.149069  \n",
       "min      -5.940000     0.000000    -0.295726   -11.984055  \n",
       "25%      -0.200000     0.001000    -0.036761    -0.440382  \n",
       "50%       0.000000     0.009000    -0.003568     0.056598  \n",
       "75%       0.200000     0.018000     0.032662     0.562247  \n",
       "max       2.530000     0.034000     1.155979    11.580037  "
      ]
     },
     "execution_count": 27,
     "metadata": {},
     "output_type": "execute_result"
    }
   ],
   "source": [
    "result_diff = data.merge(standard_and_poor_500['return'], left_index=True, right_index= True)\n",
    "result_diff.dropna(inplace=True)\n",
    "result_diff.describe()"
   ]
  },
  {
   "cell_type": "code",
   "execution_count": 28,
   "metadata": {},
   "outputs": [
    {
     "name": "stdout",
     "output_type": "stream",
     "text": [
      "                                 OLS Regression Results                                \n",
      "=======================================================================================\n",
      "Dep. Variable:                 return   R-squared (uncentered):                   0.995\n",
      "Model:                            OLS   Adj. R-squared (uncentered):              0.995\n",
      "Method:                 Least Squares   F-statistic:                          1.307e+05\n",
      "Date:                Mon, 02 Nov 2020   Prob (F-statistic):                        0.00\n",
      "Time:                        19:16:15   Log-Likelihood:                          8835.1\n",
      "No. Observations:                7741   AIC:                                 -1.766e+04\n",
      "Df Residuals:                    7735   BIC:                                 -1.762e+04\n",
      "Df Model:                           6                                                  \n",
      "Covariance Type:                  HC1                                                  \n",
      "==============================================================================\n",
      "                 coef    std err          z      P>|z|      [0.025      0.975]\n",
      "------------------------------------------------------------------------------\n",
      "Mkt-RF         1.0165      0.002    505.077      0.000       1.013       1.020\n",
      "SMB           -0.1558      0.003    -58.387      0.000      -0.161      -0.151\n",
      "HML            0.0249      0.002     10.165      0.000       0.020       0.030\n",
      "RMW            0.0976      0.004     22.103      0.000       0.089       0.106\n",
      "CMA            0.0659      0.004     15.784      0.000       0.058       0.074\n",
      "vix_diff       0.0011      0.023      0.047      0.962      -0.043       0.045\n",
      "==============================================================================\n",
      "Omnibus:                     1780.067   Durbin-Watson:                   2.127\n",
      "Prob(Omnibus):                  0.000   Jarque-Bera (JB):            31045.251\n",
      "Skew:                           0.639   Prob(JB):                         0.00\n",
      "Kurtosis:                      12.727   Cond. No.                         23.7\n",
      "==============================================================================\n",
      "\n",
      "Warnings:\n",
      "[1] Standard Errors are heteroscedasticity robust (HC1)\n"
     ]
    }
   ],
   "source": [
    "X = result_diff[['Mkt-RF', 'SMB', 'HML', 'RMW', 'CMA', 'vix_diff']]\n",
    "Y = result_diff['return']\n",
    "model = sm.OLS(Y,X)\n",
    "results = model.fit(cov_type = 'HC1')\n",
    "print(results.summary())"
   ]
  },
  {
   "cell_type": "code",
   "execution_count": null,
   "metadata": {},
   "outputs": [],
   "source": []
  },
  {
   "cell_type": "code",
   "execution_count": null,
   "metadata": {},
   "outputs": [],
   "source": []
  },
  {
   "cell_type": "code",
   "execution_count": null,
   "metadata": {},
   "outputs": [],
   "source": []
  },
  {
   "cell_type": "code",
   "execution_count": null,
   "metadata": {},
   "outputs": [],
   "source": []
  },
  {
   "cell_type": "code",
   "execution_count": null,
   "metadata": {},
   "outputs": [],
   "source": []
  },
  {
   "cell_type": "code",
   "execution_count": null,
   "metadata": {},
   "outputs": [],
   "source": []
  }
 ],
 "metadata": {
  "kernelspec": {
   "display_name": "Python 3",
   "language": "python",
   "name": "python3"
  },
  "language_info": {
   "codemirror_mode": {
    "name": "ipython",
    "version": 3
   },
   "file_extension": ".py",
   "mimetype": "text/x-python",
   "name": "python",
   "nbconvert_exporter": "python",
   "pygments_lexer": "ipython3",
   "version": "3.8.3"
  }
 },
 "nbformat": 4,
 "nbformat_minor": 4
}
