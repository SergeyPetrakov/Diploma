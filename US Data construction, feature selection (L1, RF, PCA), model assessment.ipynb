{
 "cells": [
  {
   "cell_type": "markdown",
   "metadata": {},
   "source": [
    "# Import libraries"
   ]
  },
  {
   "cell_type": "code",
   "execution_count": 1,
   "metadata": {},
   "outputs": [],
   "source": [
    "import pandas as pd\n",
    "import pandas_datareader as dr\n",
    "import datetime\n",
    "import statsmodels.api as sm\n",
    "import seaborn as sns\n",
    "\n",
    "import statsmodels\n",
    "\n",
    "from matplotlib import rcParams\n",
    "import matplotlib.pyplot as plt\n",
    "import quandl\n",
    "\n",
    "# figure size in inches\n",
    "rcParams['figure.figsize'] = 11.7,8.27"
   ]
  },
  {
   "cell_type": "markdown",
   "metadata": {},
   "source": [
    "# functions"
   ]
  },
  {
   "cell_type": "code",
   "execution_count": 2,
   "metadata": {},
   "outputs": [],
   "source": [
    "def change_date(input):\n",
    "    return datetime.date(int(str(input)[0:4]), int(str(input)[4:6]), int(str(input)[6:8]))"
   ]
  },
  {
   "cell_type": "markdown",
   "metadata": {},
   "source": [
    "# Date preparation"
   ]
  },
  {
   "cell_type": "code",
   "execution_count": 94,
   "metadata": {},
   "outputs": [
    {
     "ename": "ValueError",
     "evalue": "invalid literal for int() with base 10: '  '",
     "output_type": "error",
     "traceback": [
      "\u001b[0;31m---------------------------------------------------------------------------\u001b[0m",
      "\u001b[0;31mValueError\u001b[0m                                Traceback (most recent call last)",
      "\u001b[0;32m<ipython-input-94-cd0d47d7cf16>\u001b[0m in \u001b[0;36m<module>\u001b[0;34m\u001b[0m\n\u001b[1;32m      9\u001b[0m \u001b[0mmom\u001b[0m\u001b[0;34m.\u001b[0m\u001b[0mrename\u001b[0m\u001b[0;34m(\u001b[0m\u001b[0mcolumns\u001b[0m \u001b[0;34m=\u001b[0m \u001b[0;34m{\u001b[0m\u001b[0;34m'Unnamed: 0'\u001b[0m\u001b[0;34m:\u001b[0m\u001b[0;34m'Date'\u001b[0m\u001b[0;34m}\u001b[0m\u001b[0;34m,\u001b[0m \u001b[0minplace\u001b[0m \u001b[0;34m=\u001b[0m \u001b[0;32mTrue\u001b[0m\u001b[0;34m)\u001b[0m\u001b[0;34m\u001b[0m\u001b[0;34m\u001b[0m\u001b[0m\n\u001b[1;32m     10\u001b[0m \u001b[0mmom\u001b[0m\u001b[0;34m[\u001b[0m\u001b[0;34m'Date'\u001b[0m\u001b[0;34m]\u001b[0m \u001b[0;34m=\u001b[0m \u001b[0mmom\u001b[0m\u001b[0;34m[\u001b[0m\u001b[0;34m'Date'\u001b[0m\u001b[0;34m]\u001b[0m\u001b[0;34m.\u001b[0m\u001b[0mreplace\u001b[0m\u001b[0;34m(\u001b[0m\u001b[0;34m' '\u001b[0m\u001b[0;34m,\u001b[0m\u001b[0;34m''\u001b[0m\u001b[0;34m)\u001b[0m\u001b[0;34m\u001b[0m\u001b[0;34m\u001b[0m\u001b[0m\n\u001b[0;32m---> 11\u001b[0;31m \u001b[0mmom\u001b[0m\u001b[0;34m[\u001b[0m\u001b[0;34m'Date'\u001b[0m\u001b[0;34m]\u001b[0m \u001b[0;34m=\u001b[0m \u001b[0mmom\u001b[0m\u001b[0;34m[\u001b[0m\u001b[0;34m'Date'\u001b[0m\u001b[0;34m]\u001b[0m\u001b[0;34m.\u001b[0m\u001b[0mapply\u001b[0m\u001b[0;34m(\u001b[0m\u001b[0mchange_date\u001b[0m\u001b[0;34m)\u001b[0m\u001b[0;34m\u001b[0m\u001b[0;34m\u001b[0m\u001b[0m\n\u001b[0m\u001b[1;32m     12\u001b[0m \u001b[0;34m\u001b[0m\u001b[0m\n\u001b[1;32m     13\u001b[0m \u001b[0mdf\u001b[0m\u001b[0;34m.\u001b[0m\u001b[0mrename\u001b[0m\u001b[0;34m(\u001b[0m\u001b[0mcolumns\u001b[0m\u001b[0;34m=\u001b[0m\u001b[0;34m{\u001b[0m\u001b[0;34m'Unnamed: 0'\u001b[0m\u001b[0;34m:\u001b[0m\u001b[0;34m'date'\u001b[0m\u001b[0;34m}\u001b[0m\u001b[0;34m,\u001b[0m \u001b[0minplace\u001b[0m\u001b[0;34m=\u001b[0m\u001b[0;32mTrue\u001b[0m\u001b[0;34m)\u001b[0m\u001b[0;34m\u001b[0m\u001b[0;34m\u001b[0m\u001b[0m\n",
      "\u001b[0;32m/opt/anaconda3/lib/python3.8/site-packages/pandas/core/series.py\u001b[0m in \u001b[0;36mapply\u001b[0;34m(self, func, convert_dtype, args, **kwds)\u001b[0m\n\u001b[1;32m   3846\u001b[0m             \u001b[0;32melse\u001b[0m\u001b[0;34m:\u001b[0m\u001b[0;34m\u001b[0m\u001b[0;34m\u001b[0m\u001b[0m\n\u001b[1;32m   3847\u001b[0m                 \u001b[0mvalues\u001b[0m \u001b[0;34m=\u001b[0m \u001b[0mself\u001b[0m\u001b[0;34m.\u001b[0m\u001b[0mastype\u001b[0m\u001b[0;34m(\u001b[0m\u001b[0mobject\u001b[0m\u001b[0;34m)\u001b[0m\u001b[0;34m.\u001b[0m\u001b[0mvalues\u001b[0m\u001b[0;34m\u001b[0m\u001b[0;34m\u001b[0m\u001b[0m\n\u001b[0;32m-> 3848\u001b[0;31m                 \u001b[0mmapped\u001b[0m \u001b[0;34m=\u001b[0m \u001b[0mlib\u001b[0m\u001b[0;34m.\u001b[0m\u001b[0mmap_infer\u001b[0m\u001b[0;34m(\u001b[0m\u001b[0mvalues\u001b[0m\u001b[0;34m,\u001b[0m \u001b[0mf\u001b[0m\u001b[0;34m,\u001b[0m \u001b[0mconvert\u001b[0m\u001b[0;34m=\u001b[0m\u001b[0mconvert_dtype\u001b[0m\u001b[0;34m)\u001b[0m\u001b[0;34m\u001b[0m\u001b[0;34m\u001b[0m\u001b[0m\n\u001b[0m\u001b[1;32m   3849\u001b[0m \u001b[0;34m\u001b[0m\u001b[0m\n\u001b[1;32m   3850\u001b[0m         \u001b[0;32mif\u001b[0m \u001b[0mlen\u001b[0m\u001b[0;34m(\u001b[0m\u001b[0mmapped\u001b[0m\u001b[0;34m)\u001b[0m \u001b[0;32mand\u001b[0m \u001b[0misinstance\u001b[0m\u001b[0;34m(\u001b[0m\u001b[0mmapped\u001b[0m\u001b[0;34m[\u001b[0m\u001b[0;36m0\u001b[0m\u001b[0;34m]\u001b[0m\u001b[0;34m,\u001b[0m \u001b[0mSeries\u001b[0m\u001b[0;34m)\u001b[0m\u001b[0;34m:\u001b[0m\u001b[0;34m\u001b[0m\u001b[0;34m\u001b[0m\u001b[0m\n",
      "\u001b[0;32mpandas/_libs/lib.pyx\u001b[0m in \u001b[0;36mpandas._libs.lib.map_infer\u001b[0;34m()\u001b[0m\n",
      "\u001b[0;32m<ipython-input-2-f7a08f5c5a39>\u001b[0m in \u001b[0;36mchange_date\u001b[0;34m(input)\u001b[0m\n\u001b[1;32m      1\u001b[0m \u001b[0;32mdef\u001b[0m \u001b[0mchange_date\u001b[0m\u001b[0;34m(\u001b[0m\u001b[0minput\u001b[0m\u001b[0;34m)\u001b[0m\u001b[0;34m:\u001b[0m\u001b[0;34m\u001b[0m\u001b[0;34m\u001b[0m\u001b[0m\n\u001b[0;32m----> 2\u001b[0;31m     \u001b[0;32mreturn\u001b[0m \u001b[0mdatetime\u001b[0m\u001b[0;34m.\u001b[0m\u001b[0mdate\u001b[0m\u001b[0;34m(\u001b[0m\u001b[0mint\u001b[0m\u001b[0;34m(\u001b[0m\u001b[0mstr\u001b[0m\u001b[0;34m(\u001b[0m\u001b[0minput\u001b[0m\u001b[0;34m)\u001b[0m\u001b[0;34m[\u001b[0m\u001b[0;36m0\u001b[0m\u001b[0;34m:\u001b[0m\u001b[0;36m4\u001b[0m\u001b[0;34m]\u001b[0m\u001b[0;34m)\u001b[0m\u001b[0;34m,\u001b[0m \u001b[0mint\u001b[0m\u001b[0;34m(\u001b[0m\u001b[0mstr\u001b[0m\u001b[0;34m(\u001b[0m\u001b[0minput\u001b[0m\u001b[0;34m)\u001b[0m\u001b[0;34m[\u001b[0m\u001b[0;36m4\u001b[0m\u001b[0;34m:\u001b[0m\u001b[0;36m6\u001b[0m\u001b[0;34m]\u001b[0m\u001b[0;34m)\u001b[0m\u001b[0;34m,\u001b[0m \u001b[0mint\u001b[0m\u001b[0;34m(\u001b[0m\u001b[0mstr\u001b[0m\u001b[0;34m(\u001b[0m\u001b[0minput\u001b[0m\u001b[0;34m)\u001b[0m\u001b[0;34m[\u001b[0m\u001b[0;36m6\u001b[0m\u001b[0;34m:\u001b[0m\u001b[0;36m8\u001b[0m\u001b[0;34m]\u001b[0m\u001b[0;34m)\u001b[0m\u001b[0;34m)\u001b[0m\u001b[0;34m\u001b[0m\u001b[0;34m\u001b[0m\u001b[0m\n\u001b[0m",
      "\u001b[0;31mValueError\u001b[0m: invalid literal for int() with base 10: '  '"
     ]
    }
   ],
   "source": [
    "# Rm-Rf includes all NYSE, AMEX, and NASDAQ firms. SMB, HML, RMW, and CMA for July of year t to June \n",
    "# of t+1 include all NYSE, AMEX, and NASDAQ stocks for which we have market equity data for December \n",
    "# of t-1 and June of t, (positive) book equity data for t-1 (for SMB, HML, and RMW), non-missing \n",
    "# revenues and at least one of the following: cost of goods sold, selling, general and administrative \n",
    "# expenses, or interest expense for t-1 (for SMB and RMW), and total assets data for t-2 and t-1 (for SMB and CMA).\n",
    "\n",
    "df = pd.read_csv('F-F_Research_Data_5_Factors_2x3_daily.CSV', skiprows=2)\n",
    "mom = pd.read_csv('Developed_MOM_Factor.csv', skiprows=3)\n",
    "mom.rename(columns = {'Unnamed: 0':'Date'}, inplace = True)\n",
    "mom['Date'] = mom['Date'].str.replace(' ','')\n",
    "mom['Date'] = mom['Date'].apply(change_date)\n",
    "\n",
    "df.rename(columns={'Unnamed: 0':'date'}, inplace=True)\n",
    "df['date'] = df['date'].apply(change_date)\n",
    "df.set_index('date', inplace = True)\n",
    "\n",
    "# CBOE Volatility Index: VIX\n",
    "# from fred\n",
    "\n",
    "vix = dr.get_data_fred('VIXCLS', start='1990-01-02', end='2020-10-29')\n",
    "vix.reset_index(inplace = True)\n",
    "\n",
    "vix.rename(columns = {'VIXCLS':'vix', 'DATE':'date'}, inplace = True)\n",
    "vix.set_index('date', inplace = True)\n",
    "\n",
    "#merge dataframes\n",
    "data = vix.merge(df,left_index=True, right_index= True)"
   ]
  },
  {
   "cell_type": "code",
   "execution_count": 100,
   "metadata": {},
   "outputs": [],
   "source": [
    "mom['Date'] = mom['Date'].str.replace(' ','')"
   ]
  },
  {
   "cell_type": "code",
   "execution_count": 101,
   "metadata": {},
   "outputs": [
    {
     "data": {
      "text/plain": [
       "0      199011\n",
       "1      199012\n",
       "2      199101\n",
       "3      199102\n",
       "4      199103\n",
       "        ...  \n",
       "385      2015\n",
       "386      2016\n",
       "387      2017\n",
       "388      2018\n",
       "389      2019\n",
       "Name: Date, Length: 390, dtype: object"
      ]
     },
     "execution_count": 101,
     "metadata": {},
     "output_type": "execute_result"
    }
   ],
   "source": [
    "mom['Date']"
   ]
  },
  {
   "cell_type": "code",
   "execution_count": 5,
   "metadata": {},
   "outputs": [],
   "source": [
    "ge = dr.get_data_yahoo('GE', start='1990-01-02', end='2020-10-29')"
   ]
  },
  {
   "cell_type": "code",
   "execution_count": 6,
   "metadata": {},
   "outputs": [],
   "source": [
    "general_electric = ge[['Close', 'Volume']]"
   ]
  },
  {
   "cell_type": "markdown",
   "metadata": {},
   "source": [
    "# Add return for General Electric"
   ]
  },
  {
   "cell_type": "code",
   "execution_count": 7,
   "metadata": {},
   "outputs": [
    {
     "name": "stderr",
     "output_type": "stream",
     "text": [
      "<ipython-input-7-6a299ff5a566>:1: SettingWithCopyWarning: \n",
      "A value is trying to be set on a copy of a slice from a DataFrame.\n",
      "Try using .loc[row_indexer,col_indexer] = value instead\n",
      "\n",
      "See the caveats in the documentation: https://pandas.pydata.org/pandas-docs/stable/user_guide/indexing.html#returning-a-view-versus-a-copy\n",
      "  general_electric['return'] = 100*(general_electric['Close'] - general_electric.shift(1)['Close'])/general_electric.shift(1)['Close']\n"
     ]
    }
   ],
   "source": [
    "general_electric['return'] = 100*(general_electric['Close'] - general_electric.shift(1)['Close'])/general_electric.shift(1)['Close']"
   ]
  },
  {
   "cell_type": "code",
   "execution_count": 8,
   "metadata": {},
   "outputs": [
    {
     "data": {
      "text/html": [
       "<div>\n",
       "<style scoped>\n",
       "    .dataframe tbody tr th:only-of-type {\n",
       "        vertical-align: middle;\n",
       "    }\n",
       "\n",
       "    .dataframe tbody tr th {\n",
       "        vertical-align: top;\n",
       "    }\n",
       "\n",
       "    .dataframe thead th {\n",
       "        text-align: right;\n",
       "    }\n",
       "</style>\n",
       "<table border=\"1\" class=\"dataframe\">\n",
       "  <thead>\n",
       "    <tr style=\"text-align: right;\">\n",
       "      <th></th>\n",
       "      <th>Close</th>\n",
       "      <th>Volume</th>\n",
       "      <th>return</th>\n",
       "    </tr>\n",
       "    <tr>\n",
       "      <th>Date</th>\n",
       "      <th></th>\n",
       "      <th></th>\n",
       "      <th></th>\n",
       "    </tr>\n",
       "  </thead>\n",
       "  <tbody>\n",
       "    <tr>\n",
       "      <th>1990-01-02</th>\n",
       "      <td>5.348557</td>\n",
       "      <td>22990600.0</td>\n",
       "      <td>NaN</td>\n",
       "    </tr>\n",
       "    <tr>\n",
       "      <th>1990-01-03</th>\n",
       "      <td>5.338542</td>\n",
       "      <td>20658100.0</td>\n",
       "      <td>-0.187265</td>\n",
       "    </tr>\n",
       "    <tr>\n",
       "      <th>1990-01-04</th>\n",
       "      <td>5.308494</td>\n",
       "      <td>18640100.0</td>\n",
       "      <td>-0.562848</td>\n",
       "    </tr>\n",
       "    <tr>\n",
       "      <th>1990-01-05</th>\n",
       "      <td>5.258413</td>\n",
       "      <td>19340200.0</td>\n",
       "      <td>-0.943399</td>\n",
       "    </tr>\n",
       "    <tr>\n",
       "      <th>1990-01-08</th>\n",
       "      <td>5.288462</td>\n",
       "      <td>15604900.0</td>\n",
       "      <td>0.571434</td>\n",
       "    </tr>\n",
       "    <tr>\n",
       "      <th>...</th>\n",
       "      <td>...</td>\n",
       "      <td>...</td>\n",
       "      <td>...</td>\n",
       "    </tr>\n",
       "    <tr>\n",
       "      <th>2020-10-23</th>\n",
       "      <td>7.630000</td>\n",
       "      <td>132563200.0</td>\n",
       "      <td>-1.165799</td>\n",
       "    </tr>\n",
       "    <tr>\n",
       "      <th>2020-10-26</th>\n",
       "      <td>7.380000</td>\n",
       "      <td>104254400.0</td>\n",
       "      <td>-3.276540</td>\n",
       "    </tr>\n",
       "    <tr>\n",
       "      <th>2020-10-27</th>\n",
       "      <td>7.100000</td>\n",
       "      <td>98170000.0</td>\n",
       "      <td>-3.794041</td>\n",
       "    </tr>\n",
       "    <tr>\n",
       "      <th>2020-10-28</th>\n",
       "      <td>7.420000</td>\n",
       "      <td>253494100.0</td>\n",
       "      <td>4.507045</td>\n",
       "    </tr>\n",
       "    <tr>\n",
       "      <th>2020-10-29</th>\n",
       "      <td>7.370000</td>\n",
       "      <td>123298000.0</td>\n",
       "      <td>-0.673857</td>\n",
       "    </tr>\n",
       "  </tbody>\n",
       "</table>\n",
       "<p>7769 rows × 3 columns</p>\n",
       "</div>"
      ],
      "text/plain": [
       "               Close       Volume    return\n",
       "Date                                       \n",
       "1990-01-02  5.348557   22990600.0       NaN\n",
       "1990-01-03  5.338542   20658100.0 -0.187265\n",
       "1990-01-04  5.308494   18640100.0 -0.562848\n",
       "1990-01-05  5.258413   19340200.0 -0.943399\n",
       "1990-01-08  5.288462   15604900.0  0.571434\n",
       "...              ...          ...       ...\n",
       "2020-10-23  7.630000  132563200.0 -1.165799\n",
       "2020-10-26  7.380000  104254400.0 -3.276540\n",
       "2020-10-27  7.100000   98170000.0 -3.794041\n",
       "2020-10-28  7.420000  253494100.0  4.507045\n",
       "2020-10-29  7.370000  123298000.0 -0.673857\n",
       "\n",
       "[7769 rows x 3 columns]"
      ]
     },
     "execution_count": 8,
     "metadata": {},
     "output_type": "execute_result"
    }
   ],
   "source": [
    "general_electric "
   ]
  },
  {
   "cell_type": "code",
   "execution_count": 9,
   "metadata": {},
   "outputs": [],
   "source": [
    "result = data.merge(general_electric['return'], left_index=True, right_index= True)"
   ]
  },
  {
   "cell_type": "code",
   "execution_count": 10,
   "metadata": {},
   "outputs": [],
   "source": [
    "result.dropna(inplace=True)"
   ]
  },
  {
   "cell_type": "code",
   "execution_count": 11,
   "metadata": {},
   "outputs": [],
   "source": [
    "X = result[['Mkt-RF', 'SMB', 'HML', 'RMW', 'CMA', 'vix']]\n",
    "Y = result['return']\n",
    "model = sm.OLS(Y,X)\n",
    "results = model.fit(cov_type = 'HC1')"
   ]
  },
  {
   "cell_type": "code",
   "execution_count": 12,
   "metadata": {},
   "outputs": [
    {
     "data": {
      "text/plain": [
       "dtype('float64')"
      ]
     },
     "execution_count": 12,
     "metadata": {},
     "output_type": "execute_result"
    }
   ],
   "source": [
    "Y.dtypes"
   ]
  },
  {
   "cell_type": "code",
   "execution_count": 13,
   "metadata": {},
   "outputs": [
    {
     "data": {
      "text/plain": [
       "Mkt-RF    float64\n",
       "SMB       float64\n",
       "HML       float64\n",
       "RMW       float64\n",
       "CMA       float64\n",
       "vix       float64\n",
       "dtype: object"
      ]
     },
     "execution_count": 13,
     "metadata": {},
     "output_type": "execute_result"
    }
   ],
   "source": [
    "X.dtypes"
   ]
  },
  {
   "cell_type": "code",
   "execution_count": 14,
   "metadata": {},
   "outputs": [
    {
     "data": {
      "text/plain": [
       "Mkt-RF    38.884257\n",
       "SMB       -4.829659\n",
       "HML        7.711979\n",
       "RMW        3.548436\n",
       "CMA        0.135574\n",
       "vix       -1.102359\n",
       "dtype: float64"
      ]
     },
     "execution_count": 14,
     "metadata": {},
     "output_type": "execute_result"
    }
   ],
   "source": [
    "results.tvalues"
   ]
  },
  {
   "cell_type": "code",
   "execution_count": 15,
   "metadata": {},
   "outputs": [
    {
     "name": "stdout",
     "output_type": "stream",
     "text": [
      "                                 OLS Regression Results                                \n",
      "=======================================================================================\n",
      "Dep. Variable:                 return   R-squared (uncentered):                   0.501\n",
      "Model:                            OLS   Adj. R-squared (uncentered):              0.501\n",
      "Method:                 Least Squares   F-statistic:                              358.7\n",
      "Date:                Thu, 12 Nov 2020   Prob (F-statistic):                        0.00\n",
      "Time:                        01:46:05   Log-Likelihood:                         -13338.\n",
      "No. Observations:                7744   AIC:                                  2.669e+04\n",
      "Df Residuals:                    7738   BIC:                                  2.673e+04\n",
      "Df Model:                           6                                                  \n",
      "Covariance Type:                  HC1                                                  \n",
      "==============================================================================\n",
      "                 coef    std err          z      P>|z|      [0.025      0.975]\n",
      "------------------------------------------------------------------------------\n",
      "Mkt-RF         1.1821      0.030     38.884      0.000       1.123       1.242\n",
      "SMB           -0.2201      0.046     -4.830      0.000      -0.309      -0.131\n",
      "HML            0.4187      0.054      7.712      0.000       0.312       0.525\n",
      "RMW            0.1924      0.054      3.548      0.000       0.086       0.299\n",
      "CMA            0.0102      0.075      0.136      0.892      -0.138       0.158\n",
      "vix           -0.0011      0.001     -1.102      0.270      -0.003       0.001\n",
      "==============================================================================\n",
      "Omnibus:                     1839.008   Durbin-Watson:                   2.025\n",
      "Prob(Omnibus):                  0.000   Jarque-Bera (JB):            70087.505\n",
      "Skew:                           0.389   Prob(JB):                         0.00\n",
      "Kurtosis:                      17.718   Cond. No.                         67.6\n",
      "==============================================================================\n",
      "\n",
      "Warnings:\n",
      "[1] Standard Errors are heteroscedasticity robust (HC1)\n"
     ]
    }
   ],
   "source": [
    "print(results.summary())"
   ]
  },
  {
   "cell_type": "code",
   "execution_count": 16,
   "metadata": {},
   "outputs": [
    {
     "data": {
      "text/plain": [
       "<matplotlib.legend.Legend at 0x7fac20505a90>"
      ]
     },
     "execution_count": 16,
     "metadata": {},
     "output_type": "execute_result"
    },
    {
     "data": {
      "image/png": "[encoded data removed]",
      "text/plain": [
       "<Figure size 842.4x595.44 with 1 Axes>"
      ]
     },
     "metadata": {
      "needs_background": "light"
     },
     "output_type": "display_data"
    }
   ],
   "source": [
    "Y.plot()\n",
    "X['Mkt-RF'].plot()\n",
    "X['vix'].plot()\n",
    "\n",
    "plt.legend(('return',  'Mkt-RF','vix'))"
   ]
  },
  {
   "cell_type": "code",
   "execution_count": 17,
   "metadata": {},
   "outputs": [
    {
     "data": {
      "text/plain": [
       "<matplotlib.legend.Legend at 0x7fac41af58e0>"
      ]
     },
     "execution_count": 17,
     "metadata": {},
     "output_type": "execute_result"
    },
    {
     "data": {
      "image/png": "[encoded data removed]",
      "text/plain": [
       "<Figure size 842.4x595.44 with 1 Axes>"
      ]
     },
     "metadata": {
      "needs_background": "light"
     },
     "output_type": "display_data"
    }
   ],
   "source": [
    "Y.plot()\n",
    "X['vix'].plot()\n",
    "X['CMA'].plot()\n",
    "plt.legend(('return', 'vix', 'CMA'))"
   ]
  },
  {
   "cell_type": "markdown",
   "metadata": {},
   "source": [
    "# S&P 500"
   ]
  },
  {
   "cell_type": "code",
   "execution_count": 18,
   "metadata": {},
   "outputs": [],
   "source": [
    "sp = dr.get_data_yahoo('^GSPC', start='1990-01-02', end='2020-10-29')\n",
    "standard_and_poor_500 = sp[['Close', 'Volume']]"
   ]
  },
  {
   "cell_type": "code",
   "execution_count": 19,
   "metadata": {},
   "outputs": [
    {
     "name": "stderr",
     "output_type": "stream",
     "text": [
      "<ipython-input-19-22280448ef86>:1: SettingWithCopyWarning: \n",
      "A value is trying to be set on a copy of a slice from a DataFrame.\n",
      "Try using .loc[row_indexer,col_indexer] = value instead\n",
      "\n",
      "See the caveats in the documentation: https://pandas.pydata.org/pandas-docs/stable/user_guide/indexing.html#returning-a-view-versus-a-copy\n",
      "  standard_and_poor_500['return'] = 100*(standard_and_poor_500['Close'] - standard_and_poor_500.shift(1)['Close'])/standard_and_poor_500.shift(1)['Close']\n"
     ]
    }
   ],
   "source": [
    "standard_and_poor_500['return'] = 100*(standard_and_poor_500['Close'] - standard_and_poor_500.shift(1)['Close'])/standard_and_poor_500.shift(1)['Close']"
   ]
  },
  {
   "cell_type": "markdown",
   "metadata": {},
   "source": [
    "## Regression OLS w/o vix"
   ]
  },
  {
   "cell_type": "code",
   "execution_count": 20,
   "metadata": {},
   "outputs": [
    {
     "name": "stdout",
     "output_type": "stream",
     "text": [
      "                                 OLS Regression Results                                \n",
      "=======================================================================================\n",
      "Dep. Variable:                 return   R-squared (uncentered):                   0.995\n",
      "Model:                            OLS   Adj. R-squared (uncentered):              0.995\n",
      "Method:                 Least Squares   F-statistic:                          1.302e+05\n",
      "Date:                Thu, 12 Nov 2020   Prob (F-statistic):                        0.00\n",
      "Time:                        01:46:09   Log-Likelihood:                          8839.0\n",
      "No. Observations:                7744   AIC:                                 -1.767e+04\n",
      "Df Residuals:                    7739   BIC:                                 -1.763e+04\n",
      "Df Model:                           5                                                  \n",
      "Covariance Type:                  HC1                                                  \n",
      "==============================================================================\n",
      "                 coef    std err          z      P>|z|      [0.025      0.975]\n",
      "------------------------------------------------------------------------------\n",
      "Mkt-RF         1.0164      0.001    707.565      0.000       1.014       1.019\n",
      "SMB           -0.1558      0.003    -58.385      0.000      -0.161      -0.151\n",
      "HML            0.0249      0.002     10.251      0.000       0.020       0.030\n",
      "RMW            0.0976      0.004     22.040      0.000       0.089       0.106\n",
      "CMA            0.0659      0.004     15.811      0.000       0.058       0.074\n",
      "==============================================================================\n",
      "Omnibus:                     1779.559   Durbin-Watson:                   2.127\n",
      "Prob(Omnibus):                  0.000   Jarque-Bera (JB):            31010.046\n",
      "Skew:                           0.639   Prob(JB):                         0.00\n",
      "Kurtosis:                      12.720   Cond. No.                         3.75\n",
      "==============================================================================\n",
      "\n",
      "Warnings:\n",
      "[1] Standard Errors are heteroscedasticity robust (HC1)\n"
     ]
    }
   ],
   "source": [
    "result = data.merge(standard_and_poor_500['return'], left_index=True, right_index= True)\n",
    "result.dropna(inplace=True)\n",
    "X = result[['Mkt-RF', 'SMB', 'HML', 'RMW', 'CMA']]\n",
    "Y = result['return']\n",
    "model = sm.OLS(Y,X)\n",
    "results = model.fit(cov_type = 'HC1')\n",
    "print(results.summary())"
   ]
  },
  {
   "cell_type": "markdown",
   "metadata": {},
   "source": [
    "## Regression OLS with vix"
   ]
  },
  {
   "cell_type": "code",
   "execution_count": 21,
   "metadata": {},
   "outputs": [
    {
     "name": "stdout",
     "output_type": "stream",
     "text": [
      "                                 OLS Regression Results                                \n",
      "=======================================================================================\n",
      "Dep. Variable:                 return   R-squared (uncentered):                   0.995\n",
      "Model:                            OLS   Adj. R-squared (uncentered):              0.995\n",
      "Method:                 Least Squares   F-statistic:                          1.103e+05\n",
      "Date:                Thu, 12 Nov 2020   Prob (F-statistic):                        0.00\n",
      "Time:                        01:46:09   Log-Likelihood:                          8839.5\n",
      "No. Observations:                7744   AIC:                                 -1.767e+04\n",
      "Df Residuals:                    7738   BIC:                                 -1.763e+04\n",
      "Df Model:                           6                                                  \n",
      "Covariance Type:                  HC1                                                  \n",
      "==============================================================================\n",
      "                 coef    std err          z      P>|z|      [0.025      0.975]\n",
      "------------------------------------------------------------------------------\n",
      "Mkt-RF         1.0164      0.001    708.742      0.000       1.014       1.019\n",
      "SMB           -0.1558      0.003    -58.287      0.000      -0.161      -0.151\n",
      "HML            0.0249      0.002     10.203      0.000       0.020       0.030\n",
      "RMW            0.0977      0.004     22.087      0.000       0.089       0.106\n",
      "CMA            0.0660      0.004     15.792      0.000       0.058       0.074\n",
      "vix        -4.484e-05    5.1e-05     -0.880      0.379      -0.000     5.5e-05\n",
      "==============================================================================\n",
      "Omnibus:                     1787.028   Durbin-Watson:                   2.127\n",
      "Prob(Omnibus):                  0.000   Jarque-Bera (JB):            31010.146\n",
      "Skew:                           0.645   Prob(JB):                         0.00\n",
      "Kurtosis:                      12.718   Cond. No.                         67.6\n",
      "==============================================================================\n",
      "\n",
      "Warnings:\n",
      "[1] Standard Errors are heteroscedasticity robust (HC1)\n"
     ]
    }
   ],
   "source": [
    "result = data.merge(standard_and_poor_500['return'], left_index=True, right_index= True)\n",
    "result.dropna(inplace=True)\n",
    "X = result[['Mkt-RF', 'SMB', 'HML', 'RMW', 'CMA', 'vix']]\n",
    "Y = result['return']\n",
    "model = sm.OLS(Y,X)\n",
    "results = model.fit(cov_type = 'HC1')\n",
    "print(results.summary())"
   ]
  },
  {
   "cell_type": "code",
   "execution_count": 22,
   "metadata": {},
   "outputs": [
    {
     "data": {
      "image/png": "[encoded data removed]",
      "text/plain": [
       "<Figure size 842.4x595.44 with 2 Axes>"
      ]
     },
     "metadata": {
      "needs_background": "light"
     },
     "output_type": "display_data"
    }
   ],
   "source": [
    "data1 = standard_and_poor_500['Close']\n",
    "data2 = vix\n",
    "fig, ax1 = plt.subplots()\n",
    "\n",
    "color = 'tab:red'\n",
    "ax1.set_xlabel('time')\n",
    "ax1.set_ylabel('s&p 500', color=color)\n",
    "ax1.plot(data1, color=color)\n",
    "ax1.tick_params(axis='y', labelcolor=color)\n",
    "\n",
    "ax2 = ax1.twinx()  # instantiate a second axes that shares the same x-axis\n",
    "\n",
    "color = 'tab:blue'\n",
    "ax2.set_ylabel('vix', color=color)  # we already handled the x-label with ax1\n",
    "ax2.plot(data2, color=color)\n",
    "ax2.tick_params(axis='y', labelcolor=color)\n",
    "\n",
    "fig.tight_layout()  # otherwise the right y-label is slightly clipped\n",
    "plt.show()"
   ]
  },
  {
   "cell_type": "code",
   "execution_count": null,
   "metadata": {},
   "outputs": [],
   "source": []
  },
  {
   "cell_type": "code",
   "execution_count": null,
   "metadata": {},
   "outputs": [],
   "source": []
  },
  {
   "cell_type": "markdown",
   "metadata": {},
   "source": [
    "## experiment approach"
   ]
  },
  {
   "cell_type": "code",
   "execution_count": 27,
   "metadata": {},
   "outputs": [
    {
     "data": {
      "text/html": [
       "<div>\n",
       "<style scoped>\n",
       "    .dataframe tbody tr th:only-of-type {\n",
       "        vertical-align: middle;\n",
       "    }\n",
       "\n",
       "    .dataframe tbody tr th {\n",
       "        vertical-align: top;\n",
       "    }\n",
       "\n",
       "    .dataframe thead th {\n",
       "        text-align: right;\n",
       "    }\n",
       "</style>\n",
       "<table border=\"1\" class=\"dataframe\">\n",
       "  <thead>\n",
       "    <tr style=\"text-align: right;\">\n",
       "      <th></th>\n",
       "      <th>Close</th>\n",
       "      <th>Volume</th>\n",
       "      <th>return</th>\n",
       "    </tr>\n",
       "    <tr>\n",
       "      <th>Date</th>\n",
       "      <th></th>\n",
       "      <th></th>\n",
       "      <th></th>\n",
       "    </tr>\n",
       "  </thead>\n",
       "  <tbody>\n",
       "    <tr>\n",
       "      <th>1990-01-02</th>\n",
       "      <td>359.690002</td>\n",
       "      <td>162070000</td>\n",
       "      <td>NaN</td>\n",
       "    </tr>\n",
       "    <tr>\n",
       "      <th>1990-01-03</th>\n",
       "      <td>358.760010</td>\n",
       "      <td>192330000</td>\n",
       "      <td>-0.258554</td>\n",
       "    </tr>\n",
       "    <tr>\n",
       "      <th>1990-01-04</th>\n",
       "      <td>355.670013</td>\n",
       "      <td>177000000</td>\n",
       "      <td>-0.861299</td>\n",
       "    </tr>\n",
       "    <tr>\n",
       "      <th>1990-01-05</th>\n",
       "      <td>352.200012</td>\n",
       "      <td>158530000</td>\n",
       "      <td>-0.975624</td>\n",
       "    </tr>\n",
       "    <tr>\n",
       "      <th>1990-01-08</th>\n",
       "      <td>353.790009</td>\n",
       "      <td>140110000</td>\n",
       "      <td>0.451447</td>\n",
       "    </tr>\n",
       "    <tr>\n",
       "      <th>...</th>\n",
       "      <td>...</td>\n",
       "      <td>...</td>\n",
       "      <td>...</td>\n",
       "    </tr>\n",
       "    <tr>\n",
       "      <th>2020-10-23</th>\n",
       "      <td>3465.389893</td>\n",
       "      <td>3646570000</td>\n",
       "      <td>0.344576</td>\n",
       "    </tr>\n",
       "    <tr>\n",
       "      <th>2020-10-26</th>\n",
       "      <td>3400.969971</td>\n",
       "      <td>3988080000</td>\n",
       "      <td>-1.858952</td>\n",
       "    </tr>\n",
       "    <tr>\n",
       "      <th>2020-10-27</th>\n",
       "      <td>3390.679932</td>\n",
       "      <td>3946990000</td>\n",
       "      <td>-0.302562</td>\n",
       "    </tr>\n",
       "    <tr>\n",
       "      <th>2020-10-28</th>\n",
       "      <td>3271.030029</td>\n",
       "      <td>5129860000</td>\n",
       "      <td>-3.528788</td>\n",
       "    </tr>\n",
       "    <tr>\n",
       "      <th>2020-10-29</th>\n",
       "      <td>3310.110107</td>\n",
       "      <td>4903070000</td>\n",
       "      <td>1.194733</td>\n",
       "    </tr>\n",
       "  </tbody>\n",
       "</table>\n",
       "<p>7769 rows × 3 columns</p>\n",
       "</div>"
      ],
      "text/plain": [
       "                  Close      Volume    return\n",
       "Date                                         \n",
       "1990-01-02   359.690002   162070000       NaN\n",
       "1990-01-03   358.760010   192330000 -0.258554\n",
       "1990-01-04   355.670013   177000000 -0.861299\n",
       "1990-01-05   352.200012   158530000 -0.975624\n",
       "1990-01-08   353.790009   140110000  0.451447\n",
       "...                 ...         ...       ...\n",
       "2020-10-23  3465.389893  3646570000  0.344576\n",
       "2020-10-26  3400.969971  3988080000 -1.858952\n",
       "2020-10-27  3390.679932  3946990000 -0.302562\n",
       "2020-10-28  3271.030029  5129860000 -3.528788\n",
       "2020-10-29  3310.110107  4903070000  1.194733\n",
       "\n",
       "[7769 rows x 3 columns]"
      ]
     },
     "execution_count": 27,
     "metadata": {},
     "output_type": "execute_result"
    }
   ],
   "source": [
    "standard_and_poor_500"
   ]
  },
  {
   "cell_type": "code",
   "execution_count": 28,
   "metadata": {},
   "outputs": [
    {
     "name": "stderr",
     "output_type": "stream",
     "text": [
      "<ipython-input-28-22280448ef86>:1: SettingWithCopyWarning: \n",
      "A value is trying to be set on a copy of a slice from a DataFrame.\n",
      "Try using .loc[row_indexer,col_indexer] = value instead\n",
      "\n",
      "See the caveats in the documentation: https://pandas.pydata.org/pandas-docs/stable/user_guide/indexing.html#returning-a-view-versus-a-copy\n",
      "  standard_and_poor_500['return'] = 100*(standard_and_poor_500['Close'] - standard_and_poor_500.shift(1)['Close'])/standard_and_poor_500.shift(1)['Close']\n"
     ]
    }
   ],
   "source": [
    "standard_and_poor_500['return'] = 100*(standard_and_poor_500['Close'] - standard_and_poor_500.shift(1)['Close'])/standard_and_poor_500.shift(1)['Close']"
   ]
  },
  {
   "cell_type": "code",
   "execution_count": 29,
   "metadata": {},
   "outputs": [],
   "source": [
    "data['vix_diff'] = (data['vix'] - \n",
    "                    data.shift(1)['vix'])/data.shift(1)['vix']"
   ]
  },
  {
   "cell_type": "code",
   "execution_count": 30,
   "metadata": {},
   "outputs": [
    {
     "data": {
      "text/html": [
       "<div>\n",
       "<style scoped>\n",
       "    .dataframe tbody tr th:only-of-type {\n",
       "        vertical-align: middle;\n",
       "    }\n",
       "\n",
       "    .dataframe tbody tr th {\n",
       "        vertical-align: top;\n",
       "    }\n",
       "\n",
       "    .dataframe thead th {\n",
       "        text-align: right;\n",
       "    }\n",
       "</style>\n",
       "<table border=\"1\" class=\"dataframe\">\n",
       "  <thead>\n",
       "    <tr style=\"text-align: right;\">\n",
       "      <th></th>\n",
       "      <th>vix</th>\n",
       "      <th>Mkt-RF</th>\n",
       "      <th>SMB</th>\n",
       "      <th>HML</th>\n",
       "      <th>RMW</th>\n",
       "      <th>CMA</th>\n",
       "      <th>RF</th>\n",
       "      <th>vix_diff</th>\n",
       "    </tr>\n",
       "    <tr>\n",
       "      <th>date</th>\n",
       "      <th></th>\n",
       "      <th></th>\n",
       "      <th></th>\n",
       "      <th></th>\n",
       "      <th></th>\n",
       "      <th></th>\n",
       "      <th></th>\n",
       "      <th></th>\n",
       "    </tr>\n",
       "  </thead>\n",
       "  <tbody>\n",
       "    <tr>\n",
       "      <th>1990-01-02</th>\n",
       "      <td>17.24</td>\n",
       "      <td>1.44</td>\n",
       "      <td>-0.67</td>\n",
       "      <td>-0.06</td>\n",
       "      <td>0.20</td>\n",
       "      <td>-0.45</td>\n",
       "      <td>0.026</td>\n",
       "      <td>NaN</td>\n",
       "    </tr>\n",
       "    <tr>\n",
       "      <th>1990-01-03</th>\n",
       "      <td>18.19</td>\n",
       "      <td>-0.06</td>\n",
       "      <td>0.73</td>\n",
       "      <td>-0.31</td>\n",
       "      <td>0.16</td>\n",
       "      <td>-0.46</td>\n",
       "      <td>0.026</td>\n",
       "      <td>0.055104</td>\n",
       "    </tr>\n",
       "    <tr>\n",
       "      <th>1990-01-04</th>\n",
       "      <td>19.22</td>\n",
       "      <td>-0.71</td>\n",
       "      <td>0.45</td>\n",
       "      <td>-0.25</td>\n",
       "      <td>-0.05</td>\n",
       "      <td>-0.02</td>\n",
       "      <td>0.026</td>\n",
       "      <td>0.056625</td>\n",
       "    </tr>\n",
       "    <tr>\n",
       "      <th>1990-01-05</th>\n",
       "      <td>20.11</td>\n",
       "      <td>-0.85</td>\n",
       "      <td>0.74</td>\n",
       "      <td>-0.23</td>\n",
       "      <td>-0.01</td>\n",
       "      <td>-0.10</td>\n",
       "      <td>0.026</td>\n",
       "      <td>0.046306</td>\n",
       "    </tr>\n",
       "    <tr>\n",
       "      <th>1990-01-08</th>\n",
       "      <td>20.26</td>\n",
       "      <td>0.30</td>\n",
       "      <td>-0.40</td>\n",
       "      <td>-0.24</td>\n",
       "      <td>0.06</td>\n",
       "      <td>0.31</td>\n",
       "      <td>0.026</td>\n",
       "      <td>0.007459</td>\n",
       "    </tr>\n",
       "    <tr>\n",
       "      <th>...</th>\n",
       "      <td>...</td>\n",
       "      <td>...</td>\n",
       "      <td>...</td>\n",
       "      <td>...</td>\n",
       "      <td>...</td>\n",
       "      <td>...</td>\n",
       "      <td>...</td>\n",
       "      <td>...</td>\n",
       "    </tr>\n",
       "    <tr>\n",
       "      <th>2020-09-24</th>\n",
       "      <td>28.51</td>\n",
       "      <td>0.25</td>\n",
       "      <td>-0.20</td>\n",
       "      <td>0.32</td>\n",
       "      <td>0.49</td>\n",
       "      <td>0.11</td>\n",
       "      <td>0.000</td>\n",
       "      <td>-0.002449</td>\n",
       "    </tr>\n",
       "    <tr>\n",
       "      <th>2020-09-25</th>\n",
       "      <td>26.38</td>\n",
       "      <td>1.72</td>\n",
       "      <td>-0.16</td>\n",
       "      <td>-1.35</td>\n",
       "      <td>-0.50</td>\n",
       "      <td>-0.70</td>\n",
       "      <td>0.000</td>\n",
       "      <td>-0.074711</td>\n",
       "    </tr>\n",
       "    <tr>\n",
       "      <th>2020-09-28</th>\n",
       "      <td>26.19</td>\n",
       "      <td>1.66</td>\n",
       "      <td>0.86</td>\n",
       "      <td>1.03</td>\n",
       "      <td>0.36</td>\n",
       "      <td>0.19</td>\n",
       "      <td>0.000</td>\n",
       "      <td>-0.007202</td>\n",
       "    </tr>\n",
       "    <tr>\n",
       "      <th>2020-09-29</th>\n",
       "      <td>26.27</td>\n",
       "      <td>-0.42</td>\n",
       "      <td>0.42</td>\n",
       "      <td>-1.32</td>\n",
       "      <td>-0.78</td>\n",
       "      <td>-0.59</td>\n",
       "      <td>0.000</td>\n",
       "      <td>0.003055</td>\n",
       "    </tr>\n",
       "    <tr>\n",
       "      <th>2020-09-30</th>\n",
       "      <td>26.37</td>\n",
       "      <td>0.79</td>\n",
       "      <td>-0.63</td>\n",
       "      <td>0.19</td>\n",
       "      <td>0.37</td>\n",
       "      <td>0.15</td>\n",
       "      <td>0.000</td>\n",
       "      <td>0.003807</td>\n",
       "    </tr>\n",
       "  </tbody>\n",
       "</table>\n",
       "<p>7748 rows × 8 columns</p>\n",
       "</div>"
      ],
      "text/plain": [
       "              vix  Mkt-RF   SMB   HML   RMW   CMA     RF  vix_diff\n",
       "date                                                              \n",
       "1990-01-02  17.24    1.44 -0.67 -0.06  0.20 -0.45  0.026       NaN\n",
       "1990-01-03  18.19   -0.06  0.73 -0.31  0.16 -0.46  0.026  0.055104\n",
       "1990-01-04  19.22   -0.71  0.45 -0.25 -0.05 -0.02  0.026  0.056625\n",
       "1990-01-05  20.11   -0.85  0.74 -0.23 -0.01 -0.10  0.026  0.046306\n",
       "1990-01-08  20.26    0.30 -0.40 -0.24  0.06  0.31  0.026  0.007459\n",
       "...           ...     ...   ...   ...   ...   ...    ...       ...\n",
       "2020-09-24  28.51    0.25 -0.20  0.32  0.49  0.11  0.000 -0.002449\n",
       "2020-09-25  26.38    1.72 -0.16 -1.35 -0.50 -0.70  0.000 -0.074711\n",
       "2020-09-28  26.19    1.66  0.86  1.03  0.36  0.19  0.000 -0.007202\n",
       "2020-09-29  26.27   -0.42  0.42 -1.32 -0.78 -0.59  0.000  0.003055\n",
       "2020-09-30  26.37    0.79 -0.63  0.19  0.37  0.15  0.000  0.003807\n",
       "\n",
       "[7748 rows x 8 columns]"
      ]
     },
     "execution_count": 30,
     "metadata": {},
     "output_type": "execute_result"
    }
   ],
   "source": [
    "data"
   ]
  },
  {
   "cell_type": "code",
   "execution_count": 31,
   "metadata": {},
   "outputs": [
    {
     "data": {
      "text/html": [
       "<div>\n",
       "<style scoped>\n",
       "    .dataframe tbody tr th:only-of-type {\n",
       "        vertical-align: middle;\n",
       "    }\n",
       "\n",
       "    .dataframe tbody tr th {\n",
       "        vertical-align: top;\n",
       "    }\n",
       "\n",
       "    .dataframe thead th {\n",
       "        text-align: right;\n",
       "    }\n",
       "</style>\n",
       "<table border=\"1\" class=\"dataframe\">\n",
       "  <thead>\n",
       "    <tr style=\"text-align: right;\">\n",
       "      <th></th>\n",
       "      <th>vix</th>\n",
       "      <th>Mkt-RF</th>\n",
       "      <th>SMB</th>\n",
       "      <th>HML</th>\n",
       "      <th>RMW</th>\n",
       "      <th>CMA</th>\n",
       "      <th>RF</th>\n",
       "      <th>vix_diff</th>\n",
       "      <th>return</th>\n",
       "    </tr>\n",
       "  </thead>\n",
       "  <tbody>\n",
       "    <tr>\n",
       "      <th>count</th>\n",
       "      <td>7741.000000</td>\n",
       "      <td>7741.000000</td>\n",
       "      <td>7741.000000</td>\n",
       "      <td>7741.000000</td>\n",
       "      <td>7741.000000</td>\n",
       "      <td>7741.000000</td>\n",
       "      <td>7741.000000</td>\n",
       "      <td>7741.000000</td>\n",
       "      <td>7741.000000</td>\n",
       "    </tr>\n",
       "    <tr>\n",
       "      <th>mean</th>\n",
       "      <td>19.420532</td>\n",
       "      <td>0.033959</td>\n",
       "      <td>0.002555</td>\n",
       "      <td>0.003366</td>\n",
       "      <td>0.016831</td>\n",
       "      <td>0.007783</td>\n",
       "      <td>0.010408</td>\n",
       "      <td>0.002328</td>\n",
       "      <td>0.035311</td>\n",
       "    </tr>\n",
       "    <tr>\n",
       "      <th>std</th>\n",
       "      <td>8.120653</td>\n",
       "      <td>1.146909</td>\n",
       "      <td>0.584255</td>\n",
       "      <td>0.647082</td>\n",
       "      <td>0.458662</td>\n",
       "      <td>0.412482</td>\n",
       "      <td>0.008875</td>\n",
       "      <td>0.069437</td>\n",
       "      <td>1.149069</td>\n",
       "    </tr>\n",
       "    <tr>\n",
       "      <th>min</th>\n",
       "      <td>9.140000</td>\n",
       "      <td>-12.000000</td>\n",
       "      <td>-4.590000</td>\n",
       "      <td>-4.730000</td>\n",
       "      <td>-3.020000</td>\n",
       "      <td>-5.940000</td>\n",
       "      <td>0.000000</td>\n",
       "      <td>-0.295726</td>\n",
       "      <td>-11.984055</td>\n",
       "    </tr>\n",
       "    <tr>\n",
       "      <th>25%</th>\n",
       "      <td>13.630000</td>\n",
       "      <td>-0.440000</td>\n",
       "      <td>-0.330000</td>\n",
       "      <td>-0.290000</td>\n",
       "      <td>-0.200000</td>\n",
       "      <td>-0.200000</td>\n",
       "      <td>0.001000</td>\n",
       "      <td>-0.036761</td>\n",
       "      <td>-0.440382</td>\n",
       "    </tr>\n",
       "    <tr>\n",
       "      <th>50%</th>\n",
       "      <td>17.380000</td>\n",
       "      <td>0.070000</td>\n",
       "      <td>0.020000</td>\n",
       "      <td>-0.010000</td>\n",
       "      <td>0.010000</td>\n",
       "      <td>0.000000</td>\n",
       "      <td>0.009000</td>\n",
       "      <td>-0.003568</td>\n",
       "      <td>0.056598</td>\n",
       "    </tr>\n",
       "    <tr>\n",
       "      <th>75%</th>\n",
       "      <td>22.790000</td>\n",
       "      <td>0.550000</td>\n",
       "      <td>0.340000</td>\n",
       "      <td>0.270000</td>\n",
       "      <td>0.220000</td>\n",
       "      <td>0.200000</td>\n",
       "      <td>0.018000</td>\n",
       "      <td>0.032662</td>\n",
       "      <td>0.562247</td>\n",
       "    </tr>\n",
       "    <tr>\n",
       "      <th>max</th>\n",
       "      <td>82.690000</td>\n",
       "      <td>11.350000</td>\n",
       "      <td>5.710000</td>\n",
       "      <td>4.770000</td>\n",
       "      <td>4.490000</td>\n",
       "      <td>2.530000</td>\n",
       "      <td>0.034000</td>\n",
       "      <td>1.155979</td>\n",
       "      <td>11.580037</td>\n",
       "    </tr>\n",
       "  </tbody>\n",
       "</table>\n",
       "</div>"
      ],
      "text/plain": [
       "               vix       Mkt-RF          SMB          HML          RMW  \\\n",
       "count  7741.000000  7741.000000  7741.000000  7741.000000  7741.000000   \n",
       "mean     19.420532     0.033959     0.002555     0.003366     0.016831   \n",
       "std       8.120653     1.146909     0.584255     0.647082     0.458662   \n",
       "min       9.140000   -12.000000    -4.590000    -4.730000    -3.020000   \n",
       "25%      13.630000    -0.440000    -0.330000    -0.290000    -0.200000   \n",
       "50%      17.380000     0.070000     0.020000    -0.010000     0.010000   \n",
       "75%      22.790000     0.550000     0.340000     0.270000     0.220000   \n",
       "max      82.690000    11.350000     5.710000     4.770000     4.490000   \n",
       "\n",
       "               CMA           RF     vix_diff       return  \n",
       "count  7741.000000  7741.000000  7741.000000  7741.000000  \n",
       "mean      0.007783     0.010408     0.002328     0.035311  \n",
       "std       0.412482     0.008875     0.069437     1.149069  \n",
       "min      -5.940000     0.000000    -0.295726   -11.984055  \n",
       "25%      -0.200000     0.001000    -0.036761    -0.440382  \n",
       "50%       0.000000     0.009000    -0.003568     0.056598  \n",
       "75%       0.200000     0.018000     0.032662     0.562247  \n",
       "max       2.530000     0.034000     1.155979    11.580037  "
      ]
     },
     "execution_count": 31,
     "metadata": {},
     "output_type": "execute_result"
    }
   ],
   "source": [
    "result_diff = data.merge(standard_and_poor_500['return'], left_index=True, right_index= True)\n",
    "result_diff.dropna(inplace=True)\n",
    "result_diff.describe()"
   ]
  },
  {
   "cell_type": "code",
   "execution_count": 32,
   "metadata": {},
   "outputs": [
    {
     "name": "stdout",
     "output_type": "stream",
     "text": [
      "                                 OLS Regression Results                                \n",
      "=======================================================================================\n",
      "Dep. Variable:                 return   R-squared (uncentered):                   0.995\n",
      "Model:                            OLS   Adj. R-squared (uncentered):              0.995\n",
      "Method:                 Least Squares   F-statistic:                          1.307e+05\n",
      "Date:                Thu, 12 Nov 2020   Prob (F-statistic):                        0.00\n",
      "Time:                        01:48:17   Log-Likelihood:                          8835.1\n",
      "No. Observations:                7741   AIC:                                 -1.766e+04\n",
      "Df Residuals:                    7735   BIC:                                 -1.762e+04\n",
      "Df Model:                           6                                                  \n",
      "Covariance Type:                  HC1                                                  \n",
      "==============================================================================\n",
      "                 coef    std err          z      P>|z|      [0.025      0.975]\n",
      "------------------------------------------------------------------------------\n",
      "Mkt-RF         1.0165      0.002    505.077      0.000       1.013       1.020\n",
      "SMB           -0.1558      0.003    -58.387      0.000      -0.161      -0.151\n",
      "HML            0.0249      0.002     10.165      0.000       0.020       0.030\n",
      "RMW            0.0976      0.004     22.103      0.000       0.089       0.106\n",
      "CMA            0.0659      0.004     15.784      0.000       0.058       0.074\n",
      "vix_diff       0.0011      0.023      0.047      0.962      -0.043       0.045\n",
      "==============================================================================\n",
      "Omnibus:                     1780.067   Durbin-Watson:                   2.127\n",
      "Prob(Omnibus):                  0.000   Jarque-Bera (JB):            31045.251\n",
      "Skew:                           0.639   Prob(JB):                         0.00\n",
      "Kurtosis:                      12.727   Cond. No.                         23.7\n",
      "==============================================================================\n",
      "\n",
      "Warnings:\n",
      "[1] Standard Errors are heteroscedasticity robust (HC1)\n"
     ]
    }
   ],
   "source": [
    "X = result_diff[['Mkt-RF', 'SMB', 'HML', 'RMW', 'CMA', 'vix_diff']]\n",
    "Y = result_diff['return']\n",
    "model = sm.OLS(Y,X)\n",
    "results = model.fit(cov_type = 'HC1')\n",
    "print(results.summary())"
   ]
  },
  {
   "cell_type": "code",
   "execution_count": 33,
   "metadata": {},
   "outputs": [],
   "source": [
    "nom_GDP = dr.get_data_fred('GDP', start='1990-01-02', end='2020-10-29')\n",
    "nom_GDP.rename(columns = {'GDP':'nom_GDP'}, inplace = True)\n",
    "\n",
    "cpi = dr.get_data_fred('FPCPITOTLZGUSA', start='1990-01-02', end='2020-10-29')\n",
    "cpi.rename(columns = {'FPCPITOTLZGUSA':'cpi'}, inplace = True)\n",
    "\n",
    "real_GDP = dr.get_data_fred('GDPC1', start='1990-01-02', end='2020-10-29')\n",
    "real_GDP.rename(columns = {'GDPC1':'real_GDP'}, inplace = True)\n",
    "\n",
    "industrial_prod = dr.get_data_fred('INDPRO', start='1990-01-02', end='2020-10-29')\n",
    "industrial_prod.rename(columns = {'INDPRO':'industrial_prod'}, inplace = True)\n",
    "# The Industrial Production Index (INDPRO) is an economic indicator that measures real output\n",
    "# for all facilities located in the United States manufacturing, mining, and electric, and gas\n",
    "# utilities (excluding those in U.S. territories)\n",
    "unemployment = dr.get_data_fred('UNRATE', start='1990-01-02', end='2020-10-29')\n",
    "unemployment.rename(columns = {'UNRATE':'unemployment_rate'}, inplace = True)\n",
    "\n",
    "month_pe_ratio_sp500 = quandl.get(\"MULTPL/SP500_PE_RATIO_MONTH\")\n",
    "month_pe_ratio_sp500.rename(columns = {'Value':'month_pe_ratio_sp500'}, inplace = True)\n",
    "\n",
    "moody_aaa_corp_bond_yield = dr.get_data_fred('DAAA', start='1990-01-02', end='2020-10-29')\n",
    "moody_aaa_corp_bond_yield.rename(columns = {'moody_aaa_corp_bond_yield':'DAAA'}, inplace = True)\n",
    "\n",
    "moody_baa_corp_bond_yield = dr.get_data_fred('DBAA', start='1990-01-02', end='2020-10-29')\n",
    "moody_baa_corp_bond_yield.rename(columns = {'moody_aaa_corp_bond_yield':'DBAA'}, inplace = True)\n",
    "\n",
    "ICE_BofA_BBB_US_Corp_Index_Effective_Yield = dr.get_data_fred('BAMLC0A4CBBBEY', start='1990-01-02', end='2020-10-29')\n",
    "ICE_BofA_BBB_US_Corp_Index_Effective_Yield.rename(columns = {'BAMLC0A4CBBBEY':'ICE_BofA_BBB_US_Corp_Index_Effective_Yield'}, inplace = True)\n",
    "\n",
    "three_month_Treasury_Bill_Minus_Federal_Funds_Rate = dr.get_data_fred('TB3SMFFM', start='1990-01-02', end='2020-10-29')\n",
    "three_month_Treasury_Bill_Minus_Federal_Funds_Rate.rename(columns = {'TB3SMFFM':'three_month_Treasury_Bill_Minus_Federal_Funds_Rate'}, inplace = True)\n",
    "\n",
    "ten_month_Treasury_Bill_Minus_Federal_Funds_Rate = dr.get_data_fred('T10YFF', start='1990-01-02', end='2020-10-29')\n",
    "ten_month_Treasury_Bill_Minus_Federal_Funds_Rate.rename(columns = {'T10YFF':'ten_month_Treasury_Bill_Minus_Federal_Funds_Rate'}, inplace = True)\n"
   ]
  },
  {
   "cell_type": "code",
   "execution_count": 41,
   "metadata": {},
   "outputs": [
    {
     "data": {
      "text/plain": [
       "Timestamp('1990-04-01 00:00:00')"
      ]
     },
     "execution_count": 41,
     "metadata": {},
     "output_type": "execute_result"
    }
   ],
   "source": [
    "nom_GDP.index[0]"
   ]
  },
  {
   "cell_type": "code",
   "execution_count": 104,
   "metadata": {},
   "outputs": [],
   "source": [
    "data = result_diff.merge(unemployment, left_index=True, right_index= True).merge(industrial_prod, left_index=True, right_index= True).merge(month_pe_ratio_sp500, left_index=True, right_index= True).merge(moody_aaa_corp_bond_yield, left_index=True, right_index= True).merge(moody_baa_corp_bond_yield, left_index=True, right_index= True).merge(three_month_Treasury_Bill_Minus_Federal_Funds_Rate, left_index=True, right_index= True)\n",
    "\n"
   ]
  },
  {
   "cell_type": "code",
   "execution_count": 103,
   "metadata": {},
   "outputs": [
    {
     "data": {
      "text/html": [
       "<div>\n",
       "<style scoped>\n",
       "    .dataframe tbody tr th:only-of-type {\n",
       "        vertical-align: middle;\n",
       "    }\n",
       "\n",
       "    .dataframe tbody tr th {\n",
       "        vertical-align: top;\n",
       "    }\n",
       "\n",
       "    .dataframe thead th {\n",
       "        text-align: right;\n",
       "    }\n",
       "</style>\n",
       "<table border=\"1\" class=\"dataframe\">\n",
       "  <thead>\n",
       "    <tr style=\"text-align: right;\">\n",
       "      <th></th>\n",
       "      <th>vix</th>\n",
       "      <th>Mkt-RF</th>\n",
       "      <th>SMB</th>\n",
       "      <th>HML</th>\n",
       "      <th>RMW</th>\n",
       "      <th>CMA</th>\n",
       "      <th>RF</th>\n",
       "      <th>vix_diff</th>\n",
       "      <th>return</th>\n",
       "    </tr>\n",
       "  </thead>\n",
       "  <tbody>\n",
       "    <tr>\n",
       "      <th>1990-01-03</th>\n",
       "      <td>18.19</td>\n",
       "      <td>-0.06</td>\n",
       "      <td>0.73</td>\n",
       "      <td>-0.31</td>\n",
       "      <td>0.16</td>\n",
       "      <td>-0.46</td>\n",
       "      <td>0.026</td>\n",
       "      <td>0.055104</td>\n",
       "      <td>-0.258554</td>\n",
       "    </tr>\n",
       "    <tr>\n",
       "      <th>1990-01-04</th>\n",
       "      <td>19.22</td>\n",
       "      <td>-0.71</td>\n",
       "      <td>0.45</td>\n",
       "      <td>-0.25</td>\n",
       "      <td>-0.05</td>\n",
       "      <td>-0.02</td>\n",
       "      <td>0.026</td>\n",
       "      <td>0.056625</td>\n",
       "      <td>-0.861299</td>\n",
       "    </tr>\n",
       "    <tr>\n",
       "      <th>1990-01-05</th>\n",
       "      <td>20.11</td>\n",
       "      <td>-0.85</td>\n",
       "      <td>0.74</td>\n",
       "      <td>-0.23</td>\n",
       "      <td>-0.01</td>\n",
       "      <td>-0.10</td>\n",
       "      <td>0.026</td>\n",
       "      <td>0.046306</td>\n",
       "      <td>-0.975624</td>\n",
       "    </tr>\n",
       "    <tr>\n",
       "      <th>1990-01-08</th>\n",
       "      <td>20.26</td>\n",
       "      <td>0.30</td>\n",
       "      <td>-0.40</td>\n",
       "      <td>-0.24</td>\n",
       "      <td>0.06</td>\n",
       "      <td>0.31</td>\n",
       "      <td>0.026</td>\n",
       "      <td>0.007459</td>\n",
       "      <td>0.451447</td>\n",
       "    </tr>\n",
       "    <tr>\n",
       "      <th>1990-01-09</th>\n",
       "      <td>22.20</td>\n",
       "      <td>-1.01</td>\n",
       "      <td>0.87</td>\n",
       "      <td>0.08</td>\n",
       "      <td>-0.11</td>\n",
       "      <td>0.14</td>\n",
       "      <td>0.026</td>\n",
       "      <td>0.095755</td>\n",
       "      <td>-1.178669</td>\n",
       "    </tr>\n",
       "    <tr>\n",
       "      <th>...</th>\n",
       "      <td>...</td>\n",
       "      <td>...</td>\n",
       "      <td>...</td>\n",
       "      <td>...</td>\n",
       "      <td>...</td>\n",
       "      <td>...</td>\n",
       "      <td>...</td>\n",
       "      <td>...</td>\n",
       "      <td>...</td>\n",
       "    </tr>\n",
       "    <tr>\n",
       "      <th>2020-09-24</th>\n",
       "      <td>28.51</td>\n",
       "      <td>0.25</td>\n",
       "      <td>-0.20</td>\n",
       "      <td>0.32</td>\n",
       "      <td>0.49</td>\n",
       "      <td>0.11</td>\n",
       "      <td>0.000</td>\n",
       "      <td>-0.002449</td>\n",
       "      <td>0.298746</td>\n",
       "    </tr>\n",
       "    <tr>\n",
       "      <th>2020-09-25</th>\n",
       "      <td>26.38</td>\n",
       "      <td>1.72</td>\n",
       "      <td>-0.16</td>\n",
       "      <td>-1.35</td>\n",
       "      <td>-0.50</td>\n",
       "      <td>-0.70</td>\n",
       "      <td>0.000</td>\n",
       "      <td>-0.074711</td>\n",
       "      <td>1.597672</td>\n",
       "    </tr>\n",
       "    <tr>\n",
       "      <th>2020-09-28</th>\n",
       "      <td>26.19</td>\n",
       "      <td>1.66</td>\n",
       "      <td>0.86</td>\n",
       "      <td>1.03</td>\n",
       "      <td>0.36</td>\n",
       "      <td>0.19</td>\n",
       "      <td>0.000</td>\n",
       "      <td>-0.007202</td>\n",
       "      <td>1.611059</td>\n",
       "    </tr>\n",
       "    <tr>\n",
       "      <th>2020-09-29</th>\n",
       "      <td>26.27</td>\n",
       "      <td>-0.42</td>\n",
       "      <td>0.42</td>\n",
       "      <td>-1.32</td>\n",
       "      <td>-0.78</td>\n",
       "      <td>-0.59</td>\n",
       "      <td>0.000</td>\n",
       "      <td>0.003055</td>\n",
       "      <td>-0.481266</td>\n",
       "    </tr>\n",
       "    <tr>\n",
       "      <th>2020-09-30</th>\n",
       "      <td>26.37</td>\n",
       "      <td>0.79</td>\n",
       "      <td>-0.63</td>\n",
       "      <td>0.19</td>\n",
       "      <td>0.37</td>\n",
       "      <td>0.15</td>\n",
       "      <td>0.000</td>\n",
       "      <td>0.003807</td>\n",
       "      <td>0.825372</td>\n",
       "    </tr>\n",
       "  </tbody>\n",
       "</table>\n",
       "<p>7741 rows × 9 columns</p>\n",
       "</div>"
      ],
      "text/plain": [
       "              vix  Mkt-RF   SMB   HML   RMW   CMA     RF  vix_diff    return\n",
       "1990-01-03  18.19   -0.06  0.73 -0.31  0.16 -0.46  0.026  0.055104 -0.258554\n",
       "1990-01-04  19.22   -0.71  0.45 -0.25 -0.05 -0.02  0.026  0.056625 -0.861299\n",
       "1990-01-05  20.11   -0.85  0.74 -0.23 -0.01 -0.10  0.026  0.046306 -0.975624\n",
       "1990-01-08  20.26    0.30 -0.40 -0.24  0.06  0.31  0.026  0.007459  0.451447\n",
       "1990-01-09  22.20   -1.01  0.87  0.08 -0.11  0.14  0.026  0.095755 -1.178669\n",
       "...           ...     ...   ...   ...   ...   ...    ...       ...       ...\n",
       "2020-09-24  28.51    0.25 -0.20  0.32  0.49  0.11  0.000 -0.002449  0.298746\n",
       "2020-09-25  26.38    1.72 -0.16 -1.35 -0.50 -0.70  0.000 -0.074711  1.597672\n",
       "2020-09-28  26.19    1.66  0.86  1.03  0.36  0.19  0.000 -0.007202  1.611059\n",
       "2020-09-29  26.27   -0.42  0.42 -1.32 -0.78 -0.59  0.000  0.003055 -0.481266\n",
       "2020-09-30  26.37    0.79 -0.63  0.19  0.37  0.15  0.000  0.003807  0.825372\n",
       "\n",
       "[7741 rows x 9 columns]"
      ]
     },
     "execution_count": 103,
     "metadata": {},
     "output_type": "execute_result"
    }
   ],
   "source": [
    "result_diff"
   ]
  },
  {
   "cell_type": "code",
   "execution_count": null,
   "metadata": {},
   "outputs": [],
   "source": []
  },
  {
   "cell_type": "markdown",
   "metadata": {},
   "source": [
    "# Add apple returns as dependent variable"
   ]
  },
  {
   "cell_type": "code",
   "execution_count": 147,
   "metadata": {},
   "outputs": [],
   "source": [
    "aapl = dr.get_data_yahoo('AAPL', start='1990-01-02', end='2020-10-29')"
   ]
  },
  {
   "cell_type": "code",
   "execution_count": 163,
   "metadata": {},
   "outputs": [],
   "source": [
    "aapl['apple_return'] = 100*(aapl['Close'] - aapl.shift(1)['Close'])/aapl.shift(1)['Close']\n",
    "\n"
   ]
  },
  {
   "cell_type": "code",
   "execution_count": 151,
   "metadata": {},
   "outputs": [],
   "source": [
    "aapl.dropna(inplace=True)\n"
   ]
  },
  {
   "cell_type": "code",
   "execution_count": 161,
   "metadata": {},
   "outputs": [
    {
     "data": {
      "text/plain": [
       "Date\n",
       "1990-01-03    0.671138\n",
       "1990-01-04    0.333332\n",
       "1990-01-05    0.332225\n",
       "1990-01-08    0.662249\n",
       "1990-01-09   -0.986838\n",
       "                ...   \n",
       "2020-10-23   -0.613390\n",
       "2020-10-26    0.008694\n",
       "2020-10-27    1.347236\n",
       "2020-10-28   -4.631219\n",
       "2020-10-29    3.705039\n",
       "Name: return, Length: 7768, dtype: float64"
      ]
     },
     "execution_count": 161,
     "metadata": {},
     "output_type": "execute_result"
    }
   ],
   "source": [
    "aapl['return']"
   ]
  },
  {
   "cell_type": "code",
   "execution_count": 166,
   "metadata": {},
   "outputs": [],
   "source": [
    "data = data.merge(pd.DataFrame(aapl['apple_return']), left_index=True, right_index=True)"
   ]
  },
  {
   "cell_type": "markdown",
   "metadata": {},
   "source": [
    "# Linear regression"
   ]
  },
  {
   "cell_type": "code",
   "execution_count": 280,
   "metadata": {},
   "outputs": [
    {
     "name": "stdout",
     "output_type": "stream",
     "text": [
      "                                 OLS Regression Results                                \n",
      "=======================================================================================\n",
      "Dep. Variable:           apple_return   R-squared (uncentered):                   0.258\n",
      "Model:                            OLS   Adj. R-squared (uncentered):              0.231\n",
      "Method:                 Least Squares   F-statistic:                              11.20\n",
      "Date:                Thu, 12 Nov 2020   Prob (F-statistic):                    2.53e-13\n",
      "Time:                        05:56:13   Log-Likelihood:                         -555.62\n",
      "No. Observations:                 234   AIC:                                      1127.\n",
      "Df Residuals:                     226   BIC:                                      1155.\n",
      "Df Model:                           8                                                  \n",
      "Covariance Type:                  HC1                                                  \n",
      "==============================================================================\n",
      "                 coef    std err          z      P>|z|      [0.025      0.975]\n",
      "------------------------------------------------------------------------------\n",
      "Mkt-RF         0.9422      0.181      5.205      0.000       0.587       1.297\n",
      "SMB            0.3298      0.268      1.230      0.219      -0.196       0.855\n",
      "HML           -0.8274      0.282     -2.937      0.003      -1.380      -0.275\n",
      "RMW           -0.2519      0.422     -0.597      0.551      -1.079       0.575\n",
      "CMA           -0.7773      0.426     -1.823      0.068      -1.613       0.058\n",
      "RF            17.1321     21.906      0.782      0.434     -25.802      60.066\n",
      "vix_diff       0.3285      3.226      0.102      0.919      -5.995       6.652\n",
      "DAAA           0.0057      0.038      0.148      0.882      -0.069       0.081\n",
      "==============================================================================\n",
      "Omnibus:                       47.277   Durbin-Watson:                   2.265\n",
      "Prob(Omnibus):                  0.000   Jarque-Bera (JB):              646.036\n",
      "Skew:                           0.057   Prob(JB):                    5.19e-141\n",
      "Kurtosis:                      11.139   Cond. No.                         946.\n",
      "==============================================================================\n",
      "\n",
      "Warnings:\n",
      "[1] Standard Errors are heteroscedasticity robust (HC1)\n"
     ]
    }
   ],
   "source": [
    "model = sm.OLS(data['apple_return'],data.drop(columns=['apple_return','month_pe_ratio_sp500','industrial_prod','unemployment_rate','return', 'three_month_Treasury_Bill_Minus_Federal_Funds_Rate', 'DBAA', 'vix']))\n",
    "results = model.fit(cov_type = 'HC1')\n",
    "print(results.summary())"
   ]
  },
  {
   "cell_type": "code",
   "execution_count": 179,
   "metadata": {},
   "outputs": [
    {
     "name": "stdout",
     "output_type": "stream",
     "text": [
      "                                 OLS Regression Results                                \n",
      "=======================================================================================\n",
      "Dep. Variable:                 return   R-squared (uncentered):                   0.997\n",
      "Model:                            OLS   Adj. R-squared (uncentered):              0.997\n",
      "Method:                 Least Squares   F-statistic:                              7260.\n",
      "Date:                Thu, 12 Nov 2020   Prob (F-statistic):                   7.70e-268\n",
      "Time:                        05:17:55   Log-Likelihood:                          303.29\n",
      "No. Observations:                 234   AIC:                                     -590.6\n",
      "Df Residuals:                     226   BIC:                                     -562.9\n",
      "Df Model:                           8                                                  \n",
      "Covariance Type:                  HC1                                                  \n",
      "==============================================================================\n",
      "                 coef    std err          z      P>|z|      [0.025      0.975]\n",
      "------------------------------------------------------------------------------\n",
      "Mkt-RF         1.0215      0.007    149.905      0.000       1.008       1.035\n",
      "SMB           -0.1551      0.007    -22.829      0.000      -0.168      -0.142\n",
      "HML            0.0105      0.010      1.021      0.307      -0.010       0.031\n",
      "RMW            0.1008      0.016      6.337      0.000       0.070       0.132\n",
      "CMA            0.0836      0.014      5.797      0.000       0.055       0.112\n",
      "RF             1.2135      0.641      1.894      0.058      -0.043       2.470\n",
      "vix_diff      -0.0192      0.108     -0.178      0.859      -0.231       0.192\n",
      "DAAA          -0.0041      0.001     -2.999      0.003      -0.007      -0.001\n",
      "==============================================================================\n",
      "Omnibus:                        4.085   Durbin-Watson:                   1.825\n",
      "Prob(Omnibus):                  0.130   Jarque-Bera (JB):                5.184\n",
      "Skew:                          -0.005   Prob(JB):                       0.0749\n",
      "Kurtosis:                       3.729   Cond. No.                         946.\n",
      "==============================================================================\n",
      "\n",
      "Warnings:\n",
      "[1] Standard Errors are heteroscedasticity robust (HC1)\n"
     ]
    }
   ],
   "source": [
    "model = sm.OLS(data['return'],data.drop(columns=['apple_return','month_pe_ratio_sp500','industrial_prod','unemployment_rate','return', 'three_month_Treasury_Bill_Minus_Federal_Funds_Rate', 'DBAA', 'vix']))\n",
    "results = model.fit(cov_type = 'HC1')\n",
    "print(results.summary())"
   ]
  },
  {
   "cell_type": "markdown",
   "metadata": {},
   "source": [
    "# SVR"
   ]
  },
  {
   "cell_type": "code",
   "execution_count": 108,
   "metadata": {},
   "outputs": [],
   "source": [
    "import sklearn\n",
    "from sklearn.svm import SVR\n",
    "from sklearn.model_selection import train_test_split\n",
    "from sklearn.model_selection import cross_validate, cross_val_score\n",
    "from sklearn.metrics import r2_score, mean_squared_error"
   ]
  },
  {
   "cell_type": "code",
   "execution_count": 184,
   "metadata": {},
   "outputs": [
    {
     "data": {
      "text/html": [
       "<div>\n",
       "<style scoped>\n",
       "    .dataframe tbody tr th:only-of-type {\n",
       "        vertical-align: middle;\n",
       "    }\n",
       "\n",
       "    .dataframe tbody tr th {\n",
       "        vertical-align: top;\n",
       "    }\n",
       "\n",
       "    .dataframe thead th {\n",
       "        text-align: right;\n",
       "    }\n",
       "</style>\n",
       "<table border=\"1\" class=\"dataframe\">\n",
       "  <thead>\n",
       "    <tr style=\"text-align: right;\">\n",
       "      <th></th>\n",
       "      <th>vix</th>\n",
       "      <th>Mkt-RF</th>\n",
       "      <th>SMB</th>\n",
       "      <th>HML</th>\n",
       "      <th>RMW</th>\n",
       "      <th>CMA</th>\n",
       "      <th>RF</th>\n",
       "      <th>vix_diff</th>\n",
       "      <th>return</th>\n",
       "      <th>unemployment_rate</th>\n",
       "      <th>industrial_prod</th>\n",
       "      <th>month_pe_ratio_sp500</th>\n",
       "      <th>DAAA</th>\n",
       "      <th>DBAA</th>\n",
       "      <th>three_month_Treasury_Bill_Minus_Federal_Funds_Rate</th>\n",
       "      <th>apple_return</th>\n",
       "    </tr>\n",
       "  </thead>\n",
       "  <tbody>\n",
       "    <tr>\n",
       "      <th>1990-02-01</th>\n",
       "      <td>24.87</td>\n",
       "      <td>0.08</td>\n",
       "      <td>0.57</td>\n",
       "      <td>-0.03</td>\n",
       "      <td>-0.22</td>\n",
       "      <td>-0.03</td>\n",
       "      <td>0.030</td>\n",
       "      <td>-0.019322</td>\n",
       "      <td>-0.088118</td>\n",
       "      <td>5.3</td>\n",
       "      <td>64.0446</td>\n",
       "      <td>14.97</td>\n",
       "      <td>9.14</td>\n",
       "      <td>10.10</td>\n",
       "      <td>-0.50</td>\n",
       "      <td>-1.102947</td>\n",
       "    </tr>\n",
       "    <tr>\n",
       "      <th>1990-03-01</th>\n",
       "      <td>21.90</td>\n",
       "      <td>0.26</td>\n",
       "      <td>-0.03</td>\n",
       "      <td>-0.09</td>\n",
       "      <td>0.09</td>\n",
       "      <td>-0.30</td>\n",
       "      <td>0.029</td>\n",
       "      <td>-0.004093</td>\n",
       "      <td>0.256102</td>\n",
       "      <td>5.2</td>\n",
       "      <td>64.3580</td>\n",
       "      <td>15.62</td>\n",
       "      <td>9.28</td>\n",
       "      <td>10.20</td>\n",
       "      <td>-0.38</td>\n",
       "      <td>0.735291</td>\n",
       "    </tr>\n",
       "    <tr>\n",
       "      <th>1990-05-01</th>\n",
       "      <td>18.43</td>\n",
       "      <td>0.42</td>\n",
       "      <td>-0.23</td>\n",
       "      <td>-0.08</td>\n",
       "      <td>-0.05</td>\n",
       "      <td>-0.13</td>\n",
       "      <td>0.031</td>\n",
       "      <td>-0.055840</td>\n",
       "      <td>0.438335</td>\n",
       "      <td>5.4</td>\n",
       "      <td>64.3973</td>\n",
       "      <td>16.37</td>\n",
       "      <td>9.64</td>\n",
       "      <td>10.55</td>\n",
       "      <td>-0.44</td>\n",
       "      <td>0.634918</td>\n",
       "    </tr>\n",
       "    <tr>\n",
       "      <th>1990-06-01</th>\n",
       "      <td>17.09</td>\n",
       "      <td>0.53</td>\n",
       "      <td>-0.07</td>\n",
       "      <td>0.10</td>\n",
       "      <td>0.05</td>\n",
       "      <td>-0.26</td>\n",
       "      <td>0.030</td>\n",
       "      <td>-0.016120</td>\n",
       "      <td>0.534284</td>\n",
       "      <td>5.2</td>\n",
       "      <td>64.6041</td>\n",
       "      <td>16.95</td>\n",
       "      <td>9.33</td>\n",
       "      <td>10.23</td>\n",
       "      <td>-0.56</td>\n",
       "      <td>-1.212117</td>\n",
       "    </tr>\n",
       "    <tr>\n",
       "      <th>1990-08-01</th>\n",
       "      <td>21.64</td>\n",
       "      <td>-0.20</td>\n",
       "      <td>-0.33</td>\n",
       "      <td>-0.11</td>\n",
       "      <td>-0.05</td>\n",
       "      <td>0.37</td>\n",
       "      <td>0.028</td>\n",
       "      <td>0.025107</td>\n",
       "      <td>-0.176893</td>\n",
       "      <td>5.7</td>\n",
       "      <td>64.7326</td>\n",
       "      <td>15.33</td>\n",
       "      <td>9.17</td>\n",
       "      <td>10.11</td>\n",
       "      <td>-0.68</td>\n",
       "      <td>0.892854</td>\n",
       "    </tr>\n",
       "    <tr>\n",
       "      <th>...</th>\n",
       "      <td>...</td>\n",
       "      <td>...</td>\n",
       "      <td>...</td>\n",
       "      <td>...</td>\n",
       "      <td>...</td>\n",
       "      <td>...</td>\n",
       "      <td>...</td>\n",
       "      <td>...</td>\n",
       "      <td>...</td>\n",
       "      <td>...</td>\n",
       "      <td>...</td>\n",
       "      <td>...</td>\n",
       "      <td>...</td>\n",
       "      <td>...</td>\n",
       "      <td>...</td>\n",
       "      <td>...</td>\n",
       "    </tr>\n",
       "    <tr>\n",
       "      <th>2020-04-01</th>\n",
       "      <td>57.06</td>\n",
       "      <td>-4.51</td>\n",
       "      <td>-2.04</td>\n",
       "      <td>-1.46</td>\n",
       "      <td>0.16</td>\n",
       "      <td>0.29</td>\n",
       "      <td>0.000</td>\n",
       "      <td>0.065745</td>\n",
       "      <td>-4.414243</td>\n",
       "      <td>14.7</td>\n",
       "      <td>91.2658</td>\n",
       "      <td>24.97</td>\n",
       "      <td>2.76</td>\n",
       "      <td>4.59</td>\n",
       "      <td>0.09</td>\n",
       "      <td>-5.261705</td>\n",
       "    </tr>\n",
       "    <tr>\n",
       "      <th>2020-05-01</th>\n",
       "      <td>37.19</td>\n",
       "      <td>-2.91</td>\n",
       "      <td>-0.90</td>\n",
       "      <td>-1.03</td>\n",
       "      <td>-0.38</td>\n",
       "      <td>0.36</td>\n",
       "      <td>0.000</td>\n",
       "      <td>0.089019</td>\n",
       "      <td>-2.805903</td>\n",
       "      <td>13.3</td>\n",
       "      <td>91.9327</td>\n",
       "      <td>27.82</td>\n",
       "      <td>2.42</td>\n",
       "      <td>3.89</td>\n",
       "      <td>0.08</td>\n",
       "      <td>-1.609932</td>\n",
       "    </tr>\n",
       "    <tr>\n",
       "      <th>2020-06-01</th>\n",
       "      <td>28.23</td>\n",
       "      <td>0.52</td>\n",
       "      <td>0.26</td>\n",
       "      <td>0.45</td>\n",
       "      <td>-0.04</td>\n",
       "      <td>-0.24</td>\n",
       "      <td>0.000</td>\n",
       "      <td>0.026172</td>\n",
       "      <td>0.375123</td>\n",
       "      <td>11.1</td>\n",
       "      <td>97.6071</td>\n",
       "      <td>31.29</td>\n",
       "      <td>2.45</td>\n",
       "      <td>3.76</td>\n",
       "      <td>0.08</td>\n",
       "      <td>1.229793</td>\n",
       "    </tr>\n",
       "    <tr>\n",
       "      <th>2020-07-01</th>\n",
       "      <td>28.62</td>\n",
       "      <td>0.41</td>\n",
       "      <td>-1.67</td>\n",
       "      <td>-2.51</td>\n",
       "      <td>-0.43</td>\n",
       "      <td>-1.22</td>\n",
       "      <td>0.000</td>\n",
       "      <td>-0.059481</td>\n",
       "      <td>0.502213</td>\n",
       "      <td>10.2</td>\n",
       "      <td>101.6989</td>\n",
       "      <td>32.33</td>\n",
       "      <td>2.40</td>\n",
       "      <td>3.58</td>\n",
       "      <td>0.04</td>\n",
       "      <td>-0.189145</td>\n",
       "    </tr>\n",
       "    <tr>\n",
       "      <th>2020-09-01</th>\n",
       "      <td>26.12</td>\n",
       "      <td>0.92</td>\n",
       "      <td>0.24</td>\n",
       "      <td>-0.31</td>\n",
       "      <td>0.58</td>\n",
       "      <td>0.09</td>\n",
       "      <td>0.000</td>\n",
       "      <td>-0.010981</td>\n",
       "      <td>0.752500</td>\n",
       "      <td>7.9</td>\n",
       "      <td>101.5055</td>\n",
       "      <td>33.92</td>\n",
       "      <td>2.34</td>\n",
       "      <td>3.35</td>\n",
       "      <td>0.02</td>\n",
       "      <td>3.983261</td>\n",
       "    </tr>\n",
       "  </tbody>\n",
       "</table>\n",
       "<p>234 rows × 16 columns</p>\n",
       "</div>"
      ],
      "text/plain": [
       "              vix  Mkt-RF   SMB   HML   RMW   CMA     RF  vix_diff    return  \\\n",
       "1990-02-01  24.87    0.08  0.57 -0.03 -0.22 -0.03  0.030 -0.019322 -0.088118   \n",
       "1990-03-01  21.90    0.26 -0.03 -0.09  0.09 -0.30  0.029 -0.004093  0.256102   \n",
       "1990-05-01  18.43    0.42 -0.23 -0.08 -0.05 -0.13  0.031 -0.055840  0.438335   \n",
       "1990-06-01  17.09    0.53 -0.07  0.10  0.05 -0.26  0.030 -0.016120  0.534284   \n",
       "1990-08-01  21.64   -0.20 -0.33 -0.11 -0.05  0.37  0.028  0.025107 -0.176893   \n",
       "...           ...     ...   ...   ...   ...   ...    ...       ...       ...   \n",
       "2020-04-01  57.06   -4.51 -2.04 -1.46  0.16  0.29  0.000  0.065745 -4.414243   \n",
       "2020-05-01  37.19   -2.91 -0.90 -1.03 -0.38  0.36  0.000  0.089019 -2.805903   \n",
       "2020-06-01  28.23    0.52  0.26  0.45 -0.04 -0.24  0.000  0.026172  0.375123   \n",
       "2020-07-01  28.62    0.41 -1.67 -2.51 -0.43 -1.22  0.000 -0.059481  0.502213   \n",
       "2020-09-01  26.12    0.92  0.24 -0.31  0.58  0.09  0.000 -0.010981  0.752500   \n",
       "\n",
       "            unemployment_rate  industrial_prod  month_pe_ratio_sp500  DAAA  \\\n",
       "1990-02-01                5.3          64.0446                 14.97  9.14   \n",
       "1990-03-01                5.2          64.3580                 15.62  9.28   \n",
       "1990-05-01                5.4          64.3973                 16.37  9.64   \n",
       "1990-06-01                5.2          64.6041                 16.95  9.33   \n",
       "1990-08-01                5.7          64.7326                 15.33  9.17   \n",
       "...                       ...              ...                   ...   ...   \n",
       "2020-04-01               14.7          91.2658                 24.97  2.76   \n",
       "2020-05-01               13.3          91.9327                 27.82  2.42   \n",
       "2020-06-01               11.1          97.6071                 31.29  2.45   \n",
       "2020-07-01               10.2         101.6989                 32.33  2.40   \n",
       "2020-09-01                7.9         101.5055                 33.92  2.34   \n",
       "\n",
       "             DBAA  three_month_Treasury_Bill_Minus_Federal_Funds_Rate  \\\n",
       "1990-02-01  10.10                                              -0.50    \n",
       "1990-03-01  10.20                                              -0.38    \n",
       "1990-05-01  10.55                                              -0.44    \n",
       "1990-06-01  10.23                                              -0.56    \n",
       "1990-08-01  10.11                                              -0.68    \n",
       "...           ...                                                ...    \n",
       "2020-04-01   4.59                                               0.09    \n",
       "2020-05-01   3.89                                               0.08    \n",
       "2020-06-01   3.76                                               0.08    \n",
       "2020-07-01   3.58                                               0.04    \n",
       "2020-09-01   3.35                                               0.02    \n",
       "\n",
       "            apple_return  \n",
       "1990-02-01     -1.102947  \n",
       "1990-03-01      0.735291  \n",
       "1990-05-01      0.634918  \n",
       "1990-06-01     -1.212117  \n",
       "1990-08-01      0.892854  \n",
       "...                  ...  \n",
       "2020-04-01     -5.261705  \n",
       "2020-05-01     -1.609932  \n",
       "2020-06-01      1.229793  \n",
       "2020-07-01     -0.189145  \n",
       "2020-09-01      3.983261  \n",
       "\n",
       "[234 rows x 16 columns]"
      ]
     },
     "execution_count": 184,
     "metadata": {},
     "output_type": "execute_result"
    }
   ],
   "source": [
    "data"
   ]
  },
  {
   "cell_type": "code",
   "execution_count": 266,
   "metadata": {},
   "outputs": [],
   "source": [
    "X_train, X_test, y_train, y_test = train_test_split(data.drop(columns='apple_return'), data['apple_return'], test_size=0.2, random_state=42, shuffle = False)\n",
    "\n"
   ]
  },
  {
   "cell_type": "code",
   "execution_count": 110,
   "metadata": {},
   "outputs": [
    {
     "data": {
      "text/plain": [
       "dict_keys(['explained_variance', 'r2', 'max_error', 'neg_median_absolute_error', 'neg_mean_absolute_error', 'neg_mean_squared_error', 'neg_mean_squared_log_error', 'neg_root_mean_squared_error', 'neg_mean_poisson_deviance', 'neg_mean_gamma_deviance', 'accuracy', 'roc_auc', 'roc_auc_ovr', 'roc_auc_ovo', 'roc_auc_ovr_weighted', 'roc_auc_ovo_weighted', 'balanced_accuracy', 'average_precision', 'neg_log_loss', 'neg_brier_score', 'adjusted_rand_score', 'homogeneity_score', 'completeness_score', 'v_measure_score', 'mutual_info_score', 'adjusted_mutual_info_score', 'normalized_mutual_info_score', 'fowlkes_mallows_score', 'precision', 'precision_macro', 'precision_micro', 'precision_samples', 'precision_weighted', 'recall', 'recall_macro', 'recall_micro', 'recall_samples', 'recall_weighted', 'f1', 'f1_macro', 'f1_micro', 'f1_samples', 'f1_weighted', 'jaccard', 'jaccard_macro', 'jaccard_micro', 'jaccard_samples', 'jaccard_weighted'])"
      ]
     },
     "execution_count": 110,
     "metadata": {},
     "output_type": "execute_result"
    }
   ],
   "source": [
    "sklearn.metrics.SCORERS.keys()"
   ]
  },
  {
   "cell_type": "code",
   "execution_count": 289,
   "metadata": {},
   "outputs": [
    {
     "data": {
      "text/plain": [
       "{'fit_time': array([0.00473619, 0.00462413, 0.00390077, 0.00398898, 0.00414515,\n",
       "        0.00396681, 0.00388217, 0.00378895, 0.00398588, 0.00609112]),\n",
       " 'score_time': array([0.00201488, 0.00180316, 0.00180721, 0.00178409, 0.001791  ,\n",
       "        0.00175691, 0.00205493, 0.00174379, 0.00177002, 0.00378084]),\n",
       " 'test_neg_mean_squared_error': array([-16.29331427,  -4.64381204, -15.86657977, -15.32649363,\n",
       "        -18.68813374,  -2.47937101,  -2.61052049, -16.9639417 ,\n",
       "         -3.42452615,  -1.63868214]),\n",
       " 'test_r2': array([-0.01052525, -0.15641607, -0.06580783,  0.17112504, -0.10280253,\n",
       "         0.24157224,  0.33377181, -1.33725592, -0.61982433,  0.33683756])}"
      ]
     },
     "execution_count": 289,
     "metadata": {},
     "output_type": "execute_result"
    }
   ],
   "source": [
    "svr = SVR(C=100, kernel='rbf', degree=7)\n",
    "svr.fit(X_train, y_train)\n",
    "cross_validate(svr, X_train, y_train, cv = 10, scoring=['neg_mean_squared_error', 'r2'])\n"
   ]
  },
  {
   "cell_type": "code",
   "execution_count": 290,
   "metadata": {},
   "outputs": [
    {
     "name": "stdout",
     "output_type": "stream",
     "text": [
      "R2 : 0.233079687944181\n",
      "MSE : 4.016275586185751\n"
     ]
    }
   ],
   "source": [
    "y_pred = svr.predict(X_test)\n",
    "print('R2 : {}'.format(r2_score(y_test, y_pred)))\n",
    "print('MSE : {}'.format(mean_squared_error(y_test, y_pred)))"
   ]
  },
  {
   "cell_type": "markdown",
   "metadata": {},
   "source": [
    "## feature selection"
   ]
  },
  {
   "cell_type": "markdown",
   "metadata": {},
   "source": [
    "https://scikit-learn.org/stable/modules/feature_selection.html"
   ]
  },
  {
   "cell_type": "code",
   "execution_count": 200,
   "metadata": {},
   "outputs": [],
   "source": [
    "from sklearn.feature_selection import RFE\n",
    "from sklearn.svm import SVR\n",
    "\n",
    "estimator = SVR(C=100, kernel='linear')\n",
    "selector = RFE(estimator, n_features_to_select=3, step=1)\n",
    "selector = selector.fit(X_train, y_train)"
   ]
  },
  {
   "cell_type": "code",
   "execution_count": 201,
   "metadata": {},
   "outputs": [
    {
     "data": {
      "text/plain": [
       "array([False,  True, False,  True, False, False,  True, False, False,\n",
       "       False, False, False, False, False, False])"
      ]
     },
     "execution_count": 201,
     "metadata": {},
     "output_type": "execute_result"
    }
   ],
   "source": [
    "selector.support_\n"
   ]
  },
  {
   "cell_type": "code",
   "execution_count": 202,
   "metadata": {},
   "outputs": [
    {
     "data": {
      "text/plain": [
       "array([12,  1, 11,  1,  4,  3,  1,  5,  6,  9, 10, 13,  8,  7,  2])"
      ]
     },
     "execution_count": 202,
     "metadata": {},
     "output_type": "execute_result"
    }
   ],
   "source": [
    "selector.ranking_"
   ]
  },
  {
   "cell_type": "code",
   "execution_count": 203,
   "metadata": {},
   "outputs": [
    {
     "data": {
      "text/plain": [
       "Index(['vix', 'Mkt-RF', 'SMB', 'HML', 'RMW', 'CMA', 'RF', 'vix_diff', 'return',\n",
       "       'unemployment_rate', 'industrial_prod', 'month_pe_ratio_sp500', 'DAAA',\n",
       "       'DBAA', 'three_month_Treasury_Bill_Minus_Federal_Funds_Rate'],\n",
       "      dtype='object')"
      ]
     },
     "execution_count": 203,
     "metadata": {},
     "output_type": "execute_result"
    }
   ],
   "source": [
    "X_train.columns"
   ]
  },
  {
   "cell_type": "markdown",
   "metadata": {},
   "source": [
    "# Lasso"
   ]
  },
  {
   "cell_type": "code",
   "execution_count": 291,
   "metadata": {},
   "outputs": [],
   "source": [
    "from sklearn.linear_model import Lasso"
   ]
  },
  {
   "cell_type": "code",
   "execution_count": 292,
   "metadata": {},
   "outputs": [],
   "source": [
    "lasso = Lasso(alpha = 0.5)"
   ]
  },
  {
   "cell_type": "code",
   "execution_count": 293,
   "metadata": {},
   "outputs": [
    {
     "data": {
      "text/plain": [
       "Lasso(alpha=0.5)"
      ]
     },
     "execution_count": 293,
     "metadata": {},
     "output_type": "execute_result"
    }
   ],
   "source": [
    "lasso.fit(X_train, y_train)"
   ]
  },
  {
   "cell_type": "code",
   "execution_count": 294,
   "metadata": {},
   "outputs": [],
   "source": [
    "y_pred = lasso.predict(X_test)"
   ]
  },
  {
   "cell_type": "code",
   "execution_count": 295,
   "metadata": {},
   "outputs": [
    {
     "name": "stdout",
     "output_type": "stream",
     "text": [
      "R2 : 0.313411177044738\n",
      "MSE : 3.5955885951062503\n"
     ]
    }
   ],
   "source": [
    "print('R2 : {}'.format(r2_score(y_test, y_pred)))\n",
    "print('MSE : {}'.format(mean_squared_error(y_test, y_pred)))"
   ]
  },
  {
   "cell_type": "markdown",
   "metadata": {},
   "source": [
    "## L1 feature selection"
   ]
  },
  {
   "cell_type": "code",
   "execution_count": 243,
   "metadata": {},
   "outputs": [],
   "source": [
    "from sklearn.svm import LinearSVC\n",
    "from sklearn.feature_selection import SelectFromModel\n",
    "\n"
   ]
  },
  {
   "cell_type": "code",
   "execution_count": 247,
   "metadata": {},
   "outputs": [
    {
     "data": {
      "text/plain": [
       "(156, 15)"
      ]
     },
     "execution_count": 247,
     "metadata": {},
     "output_type": "execute_result"
    }
   ],
   "source": [
    "X_train.shape"
   ]
  },
  {
   "cell_type": "code",
   "execution_count": 256,
   "metadata": {},
   "outputs": [
    {
     "data": {
      "text/html": [
       "<div>\n",
       "<style scoped>\n",
       "    .dataframe tbody tr th:only-of-type {\n",
       "        vertical-align: middle;\n",
       "    }\n",
       "\n",
       "    .dataframe tbody tr th {\n",
       "        vertical-align: top;\n",
       "    }\n",
       "\n",
       "    .dataframe thead th {\n",
       "        text-align: right;\n",
       "    }\n",
       "</style>\n",
       "<table border=\"1\" class=\"dataframe\">\n",
       "  <thead>\n",
       "    <tr style=\"text-align: right;\">\n",
       "      <th></th>\n",
       "      <th>vix</th>\n",
       "      <th>Mkt-RF</th>\n",
       "      <th>SMB</th>\n",
       "      <th>HML</th>\n",
       "      <th>RMW</th>\n",
       "      <th>CMA</th>\n",
       "      <th>RF</th>\n",
       "      <th>vix_diff</th>\n",
       "      <th>return</th>\n",
       "      <th>unemployment_rate</th>\n",
       "      <th>industrial_prod</th>\n",
       "      <th>month_pe_ratio_sp500</th>\n",
       "      <th>DAAA</th>\n",
       "      <th>DBAA</th>\n",
       "      <th>three_month_Treasury_Bill_Minus_Federal_Funds_Rate</th>\n",
       "    </tr>\n",
       "  </thead>\n",
       "  <tbody>\n",
       "    <tr>\n",
       "      <th>1990-02-01</th>\n",
       "      <td>24.87</td>\n",
       "      <td>0.08</td>\n",
       "      <td>0.57</td>\n",
       "      <td>-0.03</td>\n",
       "      <td>-0.22</td>\n",
       "      <td>-0.03</td>\n",
       "      <td>0.030</td>\n",
       "      <td>-0.019322</td>\n",
       "      <td>-0.088118</td>\n",
       "      <td>5.3</td>\n",
       "      <td>64.0446</td>\n",
       "      <td>14.97</td>\n",
       "      <td>9.14</td>\n",
       "      <td>10.10</td>\n",
       "      <td>-0.50</td>\n",
       "    </tr>\n",
       "    <tr>\n",
       "      <th>1990-03-01</th>\n",
       "      <td>21.90</td>\n",
       "      <td>0.26</td>\n",
       "      <td>-0.03</td>\n",
       "      <td>-0.09</td>\n",
       "      <td>0.09</td>\n",
       "      <td>-0.30</td>\n",
       "      <td>0.029</td>\n",
       "      <td>-0.004093</td>\n",
       "      <td>0.256102</td>\n",
       "      <td>5.2</td>\n",
       "      <td>64.3580</td>\n",
       "      <td>15.62</td>\n",
       "      <td>9.28</td>\n",
       "      <td>10.20</td>\n",
       "      <td>-0.38</td>\n",
       "    </tr>\n",
       "    <tr>\n",
       "      <th>1990-05-01</th>\n",
       "      <td>18.43</td>\n",
       "      <td>0.42</td>\n",
       "      <td>-0.23</td>\n",
       "      <td>-0.08</td>\n",
       "      <td>-0.05</td>\n",
       "      <td>-0.13</td>\n",
       "      <td>0.031</td>\n",
       "      <td>-0.055840</td>\n",
       "      <td>0.438335</td>\n",
       "      <td>5.4</td>\n",
       "      <td>64.3973</td>\n",
       "      <td>16.37</td>\n",
       "      <td>9.64</td>\n",
       "      <td>10.55</td>\n",
       "      <td>-0.44</td>\n",
       "    </tr>\n",
       "    <tr>\n",
       "      <th>1990-06-01</th>\n",
       "      <td>17.09</td>\n",
       "      <td>0.53</td>\n",
       "      <td>-0.07</td>\n",
       "      <td>0.10</td>\n",
       "      <td>0.05</td>\n",
       "      <td>-0.26</td>\n",
       "      <td>0.030</td>\n",
       "      <td>-0.016120</td>\n",
       "      <td>0.534284</td>\n",
       "      <td>5.2</td>\n",
       "      <td>64.6041</td>\n",
       "      <td>16.95</td>\n",
       "      <td>9.33</td>\n",
       "      <td>10.23</td>\n",
       "      <td>-0.56</td>\n",
       "    </tr>\n",
       "    <tr>\n",
       "      <th>1990-08-01</th>\n",
       "      <td>21.64</td>\n",
       "      <td>-0.20</td>\n",
       "      <td>-0.33</td>\n",
       "      <td>-0.11</td>\n",
       "      <td>-0.05</td>\n",
       "      <td>0.37</td>\n",
       "      <td>0.028</td>\n",
       "      <td>0.025107</td>\n",
       "      <td>-0.176893</td>\n",
       "      <td>5.7</td>\n",
       "      <td>64.7326</td>\n",
       "      <td>15.33</td>\n",
       "      <td>9.17</td>\n",
       "      <td>10.11</td>\n",
       "      <td>-0.68</td>\n",
       "    </tr>\n",
       "    <tr>\n",
       "      <th>...</th>\n",
       "      <td>...</td>\n",
       "      <td>...</td>\n",
       "      <td>...</td>\n",
       "      <td>...</td>\n",
       "      <td>...</td>\n",
       "      <td>...</td>\n",
       "      <td>...</td>\n",
       "      <td>...</td>\n",
       "      <td>...</td>\n",
       "      <td>...</td>\n",
       "      <td>...</td>\n",
       "      <td>...</td>\n",
       "      <td>...</td>\n",
       "      <td>...</td>\n",
       "      <td>...</td>\n",
       "    </tr>\n",
       "    <tr>\n",
       "      <th>2010-02-01</th>\n",
       "      <td>22.59</td>\n",
       "      <td>1.39</td>\n",
       "      <td>-0.14</td>\n",
       "      <td>0.91</td>\n",
       "      <td>-0.12</td>\n",
       "      <td>0.69</td>\n",
       "      <td>0.000</td>\n",
       "      <td>-0.082453</td>\n",
       "      <td>1.426611</td>\n",
       "      <td>9.8</td>\n",
       "      <td>91.9940</td>\n",
       "      <td>18.91</td>\n",
       "      <td>5.30</td>\n",
       "      <td>6.25</td>\n",
       "      <td>-0.02</td>\n",
       "    </tr>\n",
       "    <tr>\n",
       "      <th>2010-03-01</th>\n",
       "      <td>19.26</td>\n",
       "      <td>1.20</td>\n",
       "      <td>1.19</td>\n",
       "      <td>0.06</td>\n",
       "      <td>0.04</td>\n",
       "      <td>0.53</td>\n",
       "      <td>0.000</td>\n",
       "      <td>-0.012308</td>\n",
       "      <td>1.015851</td>\n",
       "      <td>9.9</td>\n",
       "      <td>92.5993</td>\n",
       "      <td>18.91</td>\n",
       "      <td>5.22</td>\n",
       "      <td>6.26</td>\n",
       "      <td>-0.01</td>\n",
       "    </tr>\n",
       "    <tr>\n",
       "      <th>2010-04-01</th>\n",
       "      <td>17.47</td>\n",
       "      <td>0.75</td>\n",
       "      <td>0.10</td>\n",
       "      <td>0.78</td>\n",
       "      <td>0.17</td>\n",
       "      <td>0.37</td>\n",
       "      <td>0.001</td>\n",
       "      <td>-0.006822</td>\n",
       "      <td>0.741380</td>\n",
       "      <td>9.9</td>\n",
       "      <td>92.9436</td>\n",
       "      <td>19.01</td>\n",
       "      <td>5.33</td>\n",
       "      <td>6.33</td>\n",
       "      <td>-0.04</td>\n",
       "    </tr>\n",
       "    <tr>\n",
       "      <th>2010-06-01</th>\n",
       "      <td>35.54</td>\n",
       "      <td>-1.89</td>\n",
       "      <td>-1.32</td>\n",
       "      <td>-1.55</td>\n",
       "      <td>-0.03</td>\n",
       "      <td>-0.29</td>\n",
       "      <td>0.001</td>\n",
       "      <td>0.108201</td>\n",
       "      <td>-1.716532</td>\n",
       "      <td>9.4</td>\n",
       "      <td>94.4397</td>\n",
       "      <td>16.15</td>\n",
       "      <td>4.95</td>\n",
       "      <td>6.21</td>\n",
       "      <td>-0.06</td>\n",
       "    </tr>\n",
       "    <tr>\n",
       "      <th>2010-07-01</th>\n",
       "      <td>32.86</td>\n",
       "      <td>-0.40</td>\n",
       "      <td>-0.37</td>\n",
       "      <td>-0.44</td>\n",
       "      <td>0.48</td>\n",
       "      <td>0.16</td>\n",
       "      <td>0.001</td>\n",
       "      <td>-0.048639</td>\n",
       "      <td>-0.324045</td>\n",
       "      <td>9.4</td>\n",
       "      <td>94.8536</td>\n",
       "      <td>15.72</td>\n",
       "      <td>4.62</td>\n",
       "      <td>5.98</td>\n",
       "      <td>-0.02</td>\n",
       "    </tr>\n",
       "  </tbody>\n",
       "</table>\n",
       "<p>156 rows × 15 columns</p>\n",
       "</div>"
      ],
      "text/plain": [
       "              vix  Mkt-RF   SMB   HML   RMW   CMA     RF  vix_diff    return  \\\n",
       "1990-02-01  24.87    0.08  0.57 -0.03 -0.22 -0.03  0.030 -0.019322 -0.088118   \n",
       "1990-03-01  21.90    0.26 -0.03 -0.09  0.09 -0.30  0.029 -0.004093  0.256102   \n",
       "1990-05-01  18.43    0.42 -0.23 -0.08 -0.05 -0.13  0.031 -0.055840  0.438335   \n",
       "1990-06-01  17.09    0.53 -0.07  0.10  0.05 -0.26  0.030 -0.016120  0.534284   \n",
       "1990-08-01  21.64   -0.20 -0.33 -0.11 -0.05  0.37  0.028  0.025107 -0.176893   \n",
       "...           ...     ...   ...   ...   ...   ...    ...       ...       ...   \n",
       "2010-02-01  22.59    1.39 -0.14  0.91 -0.12  0.69  0.000 -0.082453  1.426611   \n",
       "2010-03-01  19.26    1.20  1.19  0.06  0.04  0.53  0.000 -0.012308  1.015851   \n",
       "2010-04-01  17.47    0.75  0.10  0.78  0.17  0.37  0.001 -0.006822  0.741380   \n",
       "2010-06-01  35.54   -1.89 -1.32 -1.55 -0.03 -0.29  0.001  0.108201 -1.716532   \n",
       "2010-07-01  32.86   -0.40 -0.37 -0.44  0.48  0.16  0.001 -0.048639 -0.324045   \n",
       "\n",
       "            unemployment_rate  industrial_prod  month_pe_ratio_sp500  DAAA  \\\n",
       "1990-02-01                5.3          64.0446                 14.97  9.14   \n",
       "1990-03-01                5.2          64.3580                 15.62  9.28   \n",
       "1990-05-01                5.4          64.3973                 16.37  9.64   \n",
       "1990-06-01                5.2          64.6041                 16.95  9.33   \n",
       "1990-08-01                5.7          64.7326                 15.33  9.17   \n",
       "...                       ...              ...                   ...   ...   \n",
       "2010-02-01                9.8          91.9940                 18.91  5.30   \n",
       "2010-03-01                9.9          92.5993                 18.91  5.22   \n",
       "2010-04-01                9.9          92.9436                 19.01  5.33   \n",
       "2010-06-01                9.4          94.4397                 16.15  4.95   \n",
       "2010-07-01                9.4          94.8536                 15.72  4.62   \n",
       "\n",
       "             DBAA  three_month_Treasury_Bill_Minus_Federal_Funds_Rate  \n",
       "1990-02-01  10.10                                              -0.50   \n",
       "1990-03-01  10.20                                              -0.38   \n",
       "1990-05-01  10.55                                              -0.44   \n",
       "1990-06-01  10.23                                              -0.56   \n",
       "1990-08-01  10.11                                              -0.68   \n",
       "...           ...                                                ...   \n",
       "2010-02-01   6.25                                              -0.02   \n",
       "2010-03-01   6.26                                              -0.01   \n",
       "2010-04-01   6.33                                              -0.04   \n",
       "2010-06-01   6.21                                              -0.06   \n",
       "2010-07-01   5.98                                              -0.02   \n",
       "\n",
       "[156 rows x 15 columns]"
      ]
     },
     "execution_count": 256,
     "metadata": {},
     "output_type": "execute_result"
    }
   ],
   "source": [
    "X_train"
   ]
  },
  {
   "cell_type": "code",
   "execution_count": 261,
   "metadata": {},
   "outputs": [
    {
     "data": {
      "text/plain": [
       "(156, 3)"
      ]
     },
     "execution_count": 261,
     "metadata": {},
     "output_type": "execute_result"
    }
   ],
   "source": [
    "lasso = Lasso(alpha = 1).fit(X_train, y_train)\n",
    "model = SelectFromModel(lasso, prefit=True)\n",
    "X_new = model.transform(X_train)\n",
    "X_new.shape\n"
   ]
  },
  {
   "cell_type": "code",
   "execution_count": 297,
   "metadata": {},
   "outputs": [
    {
     "data": {
      "text/html": [
       "<div>\n",
       "<style scoped>\n",
       "    .dataframe tbody tr th:only-of-type {\n",
       "        vertical-align: middle;\n",
       "    }\n",
       "\n",
       "    .dataframe tbody tr th {\n",
       "        vertical-align: top;\n",
       "    }\n",
       "\n",
       "    .dataframe thead th {\n",
       "        text-align: right;\n",
       "    }\n",
       "</style>\n",
       "<table border=\"1\" class=\"dataframe\">\n",
       "  <thead>\n",
       "    <tr style=\"text-align: right;\">\n",
       "      <th></th>\n",
       "      <th>0</th>\n",
       "      <th>1</th>\n",
       "      <th>2</th>\n",
       "    </tr>\n",
       "  </thead>\n",
       "  <tbody>\n",
       "    <tr>\n",
       "      <th>0</th>\n",
       "      <td>0.08</td>\n",
       "      <td>64.0446</td>\n",
       "      <td>14.97</td>\n",
       "    </tr>\n",
       "    <tr>\n",
       "      <th>1</th>\n",
       "      <td>0.26</td>\n",
       "      <td>64.3580</td>\n",
       "      <td>15.62</td>\n",
       "    </tr>\n",
       "    <tr>\n",
       "      <th>2</th>\n",
       "      <td>0.42</td>\n",
       "      <td>64.3973</td>\n",
       "      <td>16.37</td>\n",
       "    </tr>\n",
       "    <tr>\n",
       "      <th>3</th>\n",
       "      <td>0.53</td>\n",
       "      <td>64.6041</td>\n",
       "      <td>16.95</td>\n",
       "    </tr>\n",
       "    <tr>\n",
       "      <th>4</th>\n",
       "      <td>-0.20</td>\n",
       "      <td>64.7326</td>\n",
       "      <td>15.33</td>\n",
       "    </tr>\n",
       "  </tbody>\n",
       "</table>\n",
       "</div>"
      ],
      "text/plain": [
       "      0        1      2\n",
       "0  0.08  64.0446  14.97\n",
       "1  0.26  64.3580  15.62\n",
       "2  0.42  64.3973  16.37\n",
       "3  0.53  64.6041  16.95\n",
       "4 -0.20  64.7326  15.33"
      ]
     },
     "execution_count": 297,
     "metadata": {},
     "output_type": "execute_result"
    }
   ],
   "source": [
    "pd.DataFrame(X_new).head(5)"
   ]
  },
  {
   "cell_type": "code",
   "execution_count": 296,
   "metadata": {},
   "outputs": [
    {
     "data": {
      "text/html": [
       "<div>\n",
       "<style scoped>\n",
       "    .dataframe tbody tr th:only-of-type {\n",
       "        vertical-align: middle;\n",
       "    }\n",
       "\n",
       "    .dataframe tbody tr th {\n",
       "        vertical-align: top;\n",
       "    }\n",
       "\n",
       "    .dataframe thead th {\n",
       "        text-align: right;\n",
       "    }\n",
       "</style>\n",
       "<table border=\"1\" class=\"dataframe\">\n",
       "  <thead>\n",
       "    <tr style=\"text-align: right;\">\n",
       "      <th></th>\n",
       "      <th>vix</th>\n",
       "      <th>Mkt-RF</th>\n",
       "      <th>SMB</th>\n",
       "      <th>HML</th>\n",
       "      <th>RMW</th>\n",
       "      <th>CMA</th>\n",
       "      <th>RF</th>\n",
       "      <th>vix_diff</th>\n",
       "      <th>return</th>\n",
       "      <th>unemployment_rate</th>\n",
       "      <th>industrial_prod</th>\n",
       "      <th>month_pe_ratio_sp500</th>\n",
       "      <th>DAAA</th>\n",
       "      <th>DBAA</th>\n",
       "      <th>three_month_Treasury_Bill_Minus_Federal_Funds_Rate</th>\n",
       "    </tr>\n",
       "  </thead>\n",
       "  <tbody>\n",
       "    <tr>\n",
       "      <th>1990-02-01</th>\n",
       "      <td>24.87</td>\n",
       "      <td>0.08</td>\n",
       "      <td>0.57</td>\n",
       "      <td>-0.03</td>\n",
       "      <td>-0.22</td>\n",
       "      <td>-0.03</td>\n",
       "      <td>0.030</td>\n",
       "      <td>-0.019322</td>\n",
       "      <td>-0.088118</td>\n",
       "      <td>5.3</td>\n",
       "      <td>64.0446</td>\n",
       "      <td>14.97</td>\n",
       "      <td>9.14</td>\n",
       "      <td>10.10</td>\n",
       "      <td>-0.50</td>\n",
       "    </tr>\n",
       "    <tr>\n",
       "      <th>1990-03-01</th>\n",
       "      <td>21.90</td>\n",
       "      <td>0.26</td>\n",
       "      <td>-0.03</td>\n",
       "      <td>-0.09</td>\n",
       "      <td>0.09</td>\n",
       "      <td>-0.30</td>\n",
       "      <td>0.029</td>\n",
       "      <td>-0.004093</td>\n",
       "      <td>0.256102</td>\n",
       "      <td>5.2</td>\n",
       "      <td>64.3580</td>\n",
       "      <td>15.62</td>\n",
       "      <td>9.28</td>\n",
       "      <td>10.20</td>\n",
       "      <td>-0.38</td>\n",
       "    </tr>\n",
       "    <tr>\n",
       "      <th>1990-05-01</th>\n",
       "      <td>18.43</td>\n",
       "      <td>0.42</td>\n",
       "      <td>-0.23</td>\n",
       "      <td>-0.08</td>\n",
       "      <td>-0.05</td>\n",
       "      <td>-0.13</td>\n",
       "      <td>0.031</td>\n",
       "      <td>-0.055840</td>\n",
       "      <td>0.438335</td>\n",
       "      <td>5.4</td>\n",
       "      <td>64.3973</td>\n",
       "      <td>16.37</td>\n",
       "      <td>9.64</td>\n",
       "      <td>10.55</td>\n",
       "      <td>-0.44</td>\n",
       "    </tr>\n",
       "    <tr>\n",
       "      <th>1990-06-01</th>\n",
       "      <td>17.09</td>\n",
       "      <td>0.53</td>\n",
       "      <td>-0.07</td>\n",
       "      <td>0.10</td>\n",
       "      <td>0.05</td>\n",
       "      <td>-0.26</td>\n",
       "      <td>0.030</td>\n",
       "      <td>-0.016120</td>\n",
       "      <td>0.534284</td>\n",
       "      <td>5.2</td>\n",
       "      <td>64.6041</td>\n",
       "      <td>16.95</td>\n",
       "      <td>9.33</td>\n",
       "      <td>10.23</td>\n",
       "      <td>-0.56</td>\n",
       "    </tr>\n",
       "    <tr>\n",
       "      <th>1990-08-01</th>\n",
       "      <td>21.64</td>\n",
       "      <td>-0.20</td>\n",
       "      <td>-0.33</td>\n",
       "      <td>-0.11</td>\n",
       "      <td>-0.05</td>\n",
       "      <td>0.37</td>\n",
       "      <td>0.028</td>\n",
       "      <td>0.025107</td>\n",
       "      <td>-0.176893</td>\n",
       "      <td>5.7</td>\n",
       "      <td>64.7326</td>\n",
       "      <td>15.33</td>\n",
       "      <td>9.17</td>\n",
       "      <td>10.11</td>\n",
       "      <td>-0.68</td>\n",
       "    </tr>\n",
       "  </tbody>\n",
       "</table>\n",
       "</div>"
      ],
      "text/plain": [
       "              vix  Mkt-RF   SMB   HML   RMW   CMA     RF  vix_diff    return  \\\n",
       "1990-02-01  24.87    0.08  0.57 -0.03 -0.22 -0.03  0.030 -0.019322 -0.088118   \n",
       "1990-03-01  21.90    0.26 -0.03 -0.09  0.09 -0.30  0.029 -0.004093  0.256102   \n",
       "1990-05-01  18.43    0.42 -0.23 -0.08 -0.05 -0.13  0.031 -0.055840  0.438335   \n",
       "1990-06-01  17.09    0.53 -0.07  0.10  0.05 -0.26  0.030 -0.016120  0.534284   \n",
       "1990-08-01  21.64   -0.20 -0.33 -0.11 -0.05  0.37  0.028  0.025107 -0.176893   \n",
       "\n",
       "            unemployment_rate  industrial_prod  month_pe_ratio_sp500  DAAA  \\\n",
       "1990-02-01                5.3          64.0446                 14.97  9.14   \n",
       "1990-03-01                5.2          64.3580                 15.62  9.28   \n",
       "1990-05-01                5.4          64.3973                 16.37  9.64   \n",
       "1990-06-01                5.2          64.6041                 16.95  9.33   \n",
       "1990-08-01                5.7          64.7326                 15.33  9.17   \n",
       "\n",
       "             DBAA  three_month_Treasury_Bill_Minus_Federal_Funds_Rate  \n",
       "1990-02-01  10.10                                              -0.50   \n",
       "1990-03-01  10.20                                              -0.38   \n",
       "1990-05-01  10.55                                              -0.44   \n",
       "1990-06-01  10.23                                              -0.56   \n",
       "1990-08-01  10.11                                              -0.68   "
      ]
     },
     "execution_count": 296,
     "metadata": {},
     "output_type": "execute_result"
    }
   ],
   "source": [
    "X_train.head(5)"
   ]
  },
  {
   "cell_type": "markdown",
   "metadata": {},
   "source": [
    "# PCA"
   ]
  },
  {
   "cell_type": "code",
   "execution_count": 350,
   "metadata": {},
   "outputs": [],
   "source": [
    "from sklearn.decomposition import PCA\n",
    "import numpy as np"
   ]
  },
  {
   "cell_type": "code",
   "execution_count": 351,
   "metadata": {},
   "outputs": [],
   "source": [
    "X_st = X_train.apply(lambda x: (x - x.mean()) / x.std(), axis=0)\n",
    "#X_st = X_train.apply(lambda x: (x - x.min()) / (x.max() - x.min()), axis=0)\n",
    "\n",
    "pc = PCA(n_components=2)\n",
    "pc.fit(X_st)\n",
    "X_pc = pc.transform(X_st)\n"
   ]
  },
  {
   "cell_type": "code",
   "execution_count": 352,
   "metadata": {},
   "outputs": [
    {
     "data": {
      "image/png": "[encoded data removed]",
      "text/plain": [
       "<Figure size 842.4x595.44 with 1 Axes>"
      ]
     },
     "metadata": {
      "needs_background": "light"
     },
     "output_type": "display_data"
    }
   ],
   "source": [
    "plt.bar(np.arange(2), pc.explained_variance_ratio_);\n",
    "plt.title('Доля дисперсии, объяснённой каждой компонентой', fontsize=15);"
   ]
  },
  {
   "cell_type": "markdown",
   "metadata": {},
   "source": [
    "Заметно сильное снижение доли объяснённой дисперсии при переходе от 2 к 3 компоненте,  поэтому возьмём 2 компоненты"
   ]
  },
  {
   "cell_type": "code",
   "execution_count": 353,
   "metadata": {},
   "outputs": [],
   "source": [
    "features = [col for col in X_train.columns]"
   ]
  },
  {
   "cell_type": "code",
   "execution_count": 354,
   "metadata": {},
   "outputs": [
    {
     "data": {
      "text/plain": [
       "['vix',\n",
       " 'Mkt-RF',\n",
       " 'SMB',\n",
       " 'HML',\n",
       " 'RMW',\n",
       " 'CMA',\n",
       " 'RF',\n",
       " 'vix_diff',\n",
       " 'return',\n",
       " 'unemployment_rate',\n",
       " 'industrial_prod',\n",
       " 'month_pe_ratio_sp500',\n",
       " 'DAAA',\n",
       " 'DBAA',\n",
       " 'three_month_Treasury_Bill_Minus_Federal_Funds_Rate']"
      ]
     },
     "execution_count": 354,
     "metadata": {},
     "output_type": "execute_result"
    }
   ],
   "source": [
    "features"
   ]
  },
  {
   "cell_type": "code",
   "execution_count": 355,
   "metadata": {},
   "outputs": [
    {
     "data": {
      "image/png": "[encoded data removed]",
      "text/plain": [
       "<Figure size 576x576 with 1 Axes>"
      ]
     },
     "metadata": {
      "needs_background": "light"
     },
     "output_type": "display_data"
    },
    {
     "data": {
      "image/png": "[encoded data removed]",
      "text/plain": [
       "<Figure size 576x576 with 1 Axes>"
      ]
     },
     "metadata": {
      "needs_background": "light"
     },
     "output_type": "display_data"
    }
   ],
   "source": [
    "plt.figure(figsize=(8, 8))\n",
    "plt.title('Первая главная компонента', fontsize=15)\n",
    "plt.barh(\n",
    "    np.array(features)[np.argsort(pc.components_[0])[::-1]], np.sort(pc.components_[0])[::-1]\n",
    ");\n",
    "plt.yticks(fontsize=15);\n",
    "\n",
    "plt.figure(figsize=(8, 8))\n",
    "plt.title('Вторая главная компонента', fontsize=15)\n",
    "plt.barh(\n",
    "    np.array(features)[np.argsort(pc.components_[1])[::-1]], np.sort(pc.components_[1])[::-1]\n",
    ");\n",
    "plt.yticks(fontsize=15);"
   ]
  },
  {
   "cell_type": "code",
   "execution_count": 356,
   "metadata": {},
   "outputs": [
    {
     "data": {
      "image/png": "[encoded data removed]",
      "text/plain": [
       "<Figure size 864x864 with 1 Axes>"
      ]
     },
     "metadata": {
      "needs_background": "light"
     },
     "output_type": "display_data"
    }
   ],
   "source": [
    "plt.figure(figsize=(12, 12))\n",
    "for i, dat in enumerate(X_pc):\n",
    "    plt.scatter(dat[0], dat[1], color='blue');\n",
    "    plt.text(dat[0]+0.06, dat[1]+0.06, np.round(y_train[i],2), fontsize=10)\n",
    "plt.xlabel('1 главная компонента', fontsize=15);\n",
    "plt.ylabel('2 главная компонента', fontsize=15);"
   ]
  },
  {
   "cell_type": "code",
   "execution_count": 357,
   "metadata": {},
   "outputs": [
    {
     "data": {
      "image/png": "[encoded data removed]",
      "text/plain": [
       "<Figure size 432x1152 with 1 Axes>"
      ]
     },
     "metadata": {
      "needs_background": "light"
     },
     "output_type": "display_data"
    }
   ],
   "source": [
    "returns = y_train\n",
    "returns = returns[np.argsort(X_pc[:, 1])]\n",
    "comp2_sorted = np.sort(X_pc[:, 1])\n",
    "\n",
    "plt.figure(figsize=(6, 16))\n",
    "plt.title(f'Значение второй главной компоненты', fontsize=25);\n",
    "plt.barh(returns, comp2_sorted)\n",
    "plt.tick_params(axis='y', labelsize=15);"
   ]
  },
  {
   "cell_type": "code",
   "execution_count": 358,
   "metadata": {},
   "outputs": [
    {
     "data": {
      "image/png": "[encoded data removed]",
      "text/plain": [
       "<Figure size 432x1152 with 1 Axes>"
      ]
     },
     "metadata": {
      "needs_background": "light"
     },
     "output_type": "display_data"
    }
   ],
   "source": [
    "returns = y_train\n",
    "returns = returns[np.argsort(X_pc[:, 0])]\n",
    "comp2_sorted = np.sort(X_pc[:, 0])\n",
    "\n",
    "plt.figure(figsize=(6, 16))\n",
    "plt.title(f'Значение первой главной компоненты', fontsize=25);\n",
    "plt.barh(returns, comp2_sorted)\n",
    "plt.tick_params(axis='y', labelsize=15);"
   ]
  },
  {
   "cell_type": "code",
   "execution_count": 359,
   "metadata": {},
   "outputs": [],
   "source": [
    "def hinton(matrix, max_weight=None, ax=None):\n",
    "    \"\"\"Draw Hinton diagram for visualizing a weight matrix.\"\"\"\n",
    "    ax = ax if ax is not None else plt.gca()\n",
    "\n",
    "    if not max_weight:\n",
    "        max_weight = 2 ** np.ceil(np.log(np.abs(matrix).max()) / np.log(2))\n",
    "\n",
    "    ax.patch.set_facecolor('lightgray')\n",
    "    ax.set_aspect('equal', 'box')\n",
    "    ax.xaxis.set_major_locator(plt.NullLocator())\n",
    "    ax.yaxis.set_major_locator(plt.NullLocator())\n",
    "\n",
    "    for (x, y), w in np.ndenumerate(matrix):\n",
    "        color = 'white' if w > 0 else 'black'\n",
    "        size = np.sqrt(np.abs(w) / max_weight)\n",
    "        rect = plt.Rectangle([x - size / 2, y - size / 2], size, size,\n",
    "                             facecolor=color, edgecolor=color)\n",
    "        ax.add_patch(rect)\n",
    "    ax.set_xlabel('Компоненты', fontsize=15);\n",
    "    ax.set_ylabel('Признаки', fontsize=15);\n",
    "    ax.autoscale_view()\n",
    "    ax.invert_yaxis()"
   ]
  },
  {
   "cell_type": "code",
   "execution_count": 360,
   "metadata": {},
   "outputs": [
    {
     "data": {
      "image/png": "[encoded data removed]",
      "text/plain": [
       "<Figure size 842.4x595.44 with 1 Axes>"
      ]
     },
     "metadata": {},
     "output_type": "display_data"
    }
   ],
   "source": [
    "hinton(pc.components_)"
   ]
  },
  {
   "cell_type": "code",
   "execution_count": null,
   "metadata": {},
   "outputs": [],
   "source": []
  },
  {
   "cell_type": "code",
   "execution_count": null,
   "metadata": {},
   "outputs": [],
   "source": []
  },
  {
   "cell_type": "code",
   "execution_count": null,
   "metadata": {},
   "outputs": [],
   "source": []
  },
  {
   "cell_type": "markdown",
   "metadata": {},
   "source": [
    "# Random Forest"
   ]
  },
  {
   "cell_type": "code",
   "execution_count": 135,
   "metadata": {},
   "outputs": [],
   "source": [
    "from sklearn.ensemble import RandomForestRegressor"
   ]
  },
  {
   "cell_type": "code",
   "execution_count": 344,
   "metadata": {},
   "outputs": [],
   "source": [
    "rf = RandomForestRegressor(n_estimators=100,criterion='mse',max_depth=10,oob_score=True, bootstrap = True,\n",
    "                                  n_jobs = -1, verbose = 1, random_state = 42)"
   ]
  },
  {
   "cell_type": "code",
   "execution_count": 345,
   "metadata": {},
   "outputs": [
    {
     "name": "stderr",
     "output_type": "stream",
     "text": [
      "[Parallel(n_jobs=-1)]: Using backend ThreadingBackend with 16 concurrent workers.\n",
      "[Parallel(n_jobs=-1)]: Done  18 tasks      | elapsed:    0.0s\n",
      "[Parallel(n_jobs=-1)]: Done 100 out of 100 | elapsed:    0.1s finished\n",
      "[Parallel(n_jobs=-1)]: Using backend LokyBackend with 16 concurrent workers.\n",
      "[Parallel(n_jobs=-1)]: Done  18 tasks      | elapsed:    1.7s\n",
      "[Parallel(n_jobs=-1)]: Done 100 out of 100 | elapsed:    1.7s finished\n",
      "[Parallel(n_jobs=16)]: Using backend ThreadingBackend with 16 concurrent workers.\n",
      "[Parallel(n_jobs=16)]: Done  18 tasks      | elapsed:    0.0s\n",
      "[Parallel(n_jobs=16)]: Done 100 out of 100 | elapsed:    0.0s finished\n",
      "[Parallel(n_jobs=-1)]: Using backend LokyBackend with 16 concurrent workers.\n",
      "[Parallel(n_jobs=-1)]: Done  18 tasks      | elapsed:    0.0s\n",
      "[Parallel(n_jobs=-1)]: Done 100 out of 100 | elapsed:    0.0s finished\n",
      "[Parallel(n_jobs=16)]: Using backend ThreadingBackend with 16 concurrent workers.\n",
      "[Parallel(n_jobs=16)]: Done  18 tasks      | elapsed:    0.0s\n",
      "[Parallel(n_jobs=16)]: Done 100 out of 100 | elapsed:    0.0s finished\n",
      "[Parallel(n_jobs=-1)]: Using backend LokyBackend with 16 concurrent workers.\n",
      "[Parallel(n_jobs=-1)]: Done  18 tasks      | elapsed:    0.0s\n",
      "[Parallel(n_jobs=-1)]: Done 100 out of 100 | elapsed:    0.0s finished\n",
      "[Parallel(n_jobs=16)]: Using backend ThreadingBackend with 16 concurrent workers.\n",
      "[Parallel(n_jobs=16)]: Done  18 tasks      | elapsed:    0.0s\n",
      "[Parallel(n_jobs=16)]: Done 100 out of 100 | elapsed:    0.0s finished\n",
      "[Parallel(n_jobs=-1)]: Using backend LokyBackend with 16 concurrent workers.\n",
      "[Parallel(n_jobs=-1)]: Done  18 tasks      | elapsed:    0.0s\n",
      "[Parallel(n_jobs=-1)]: Done 100 out of 100 | elapsed:    0.0s finished\n",
      "[Parallel(n_jobs=16)]: Using backend ThreadingBackend with 16 concurrent workers.\n",
      "[Parallel(n_jobs=16)]: Done  18 tasks      | elapsed:    0.0s\n",
      "[Parallel(n_jobs=16)]: Done 100 out of 100 | elapsed:    0.0s finished\n",
      "[Parallel(n_jobs=-1)]: Using backend LokyBackend with 16 concurrent workers.\n",
      "[Parallel(n_jobs=-1)]: Done  18 tasks      | elapsed:    0.0s\n",
      "[Parallel(n_jobs=-1)]: Done 100 out of 100 | elapsed:    0.0s finished\n",
      "[Parallel(n_jobs=16)]: Using backend ThreadingBackend with 16 concurrent workers.\n",
      "[Parallel(n_jobs=16)]: Done  18 tasks      | elapsed:    0.0s\n",
      "[Parallel(n_jobs=16)]: Done 100 out of 100 | elapsed:    0.0s finished\n",
      "[Parallel(n_jobs=-1)]: Using backend LokyBackend with 16 concurrent workers.\n",
      "[Parallel(n_jobs=-1)]: Done  18 tasks      | elapsed:    0.0s\n",
      "[Parallel(n_jobs=-1)]: Done 100 out of 100 | elapsed:    0.0s finished\n",
      "[Parallel(n_jobs=16)]: Using backend ThreadingBackend with 16 concurrent workers.\n",
      "[Parallel(n_jobs=16)]: Done  18 tasks      | elapsed:    0.0s\n",
      "[Parallel(n_jobs=16)]: Done 100 out of 100 | elapsed:    0.0s finished\n",
      "[Parallel(n_jobs=-1)]: Using backend LokyBackend with 16 concurrent workers.\n",
      "[Parallel(n_jobs=-1)]: Done  18 tasks      | elapsed:    0.0s\n",
      "[Parallel(n_jobs=-1)]: Done 100 out of 100 | elapsed:    0.0s finished\n",
      "[Parallel(n_jobs=16)]: Using backend ThreadingBackend with 16 concurrent workers.\n",
      "[Parallel(n_jobs=16)]: Done  18 tasks      | elapsed:    0.0s\n",
      "[Parallel(n_jobs=16)]: Done 100 out of 100 | elapsed:    0.0s finished\n",
      "[Parallel(n_jobs=-1)]: Using backend LokyBackend with 16 concurrent workers.\n",
      "[Parallel(n_jobs=-1)]: Done  18 tasks      | elapsed:    0.0s\n",
      "[Parallel(n_jobs=-1)]: Done 100 out of 100 | elapsed:    0.0s finished\n",
      "[Parallel(n_jobs=16)]: Using backend ThreadingBackend with 16 concurrent workers.\n",
      "[Parallel(n_jobs=16)]: Done  18 tasks      | elapsed:    0.0s\n",
      "[Parallel(n_jobs=16)]: Done 100 out of 100 | elapsed:    0.0s finished\n",
      "[Parallel(n_jobs=-1)]: Using backend LokyBackend with 16 concurrent workers.\n",
      "[Parallel(n_jobs=-1)]: Done  18 tasks      | elapsed:    0.0s\n",
      "[Parallel(n_jobs=-1)]: Done 100 out of 100 | elapsed:    0.0s finished\n",
      "[Parallel(n_jobs=16)]: Using backend ThreadingBackend with 16 concurrent workers.\n",
      "[Parallel(n_jobs=16)]: Done  18 tasks      | elapsed:    0.0s\n",
      "[Parallel(n_jobs=16)]: Done 100 out of 100 | elapsed:    0.0s finished\n",
      "[Parallel(n_jobs=-1)]: Using backend LokyBackend with 16 concurrent workers.\n",
      "[Parallel(n_jobs=-1)]: Done  18 tasks      | elapsed:    0.0s\n",
      "[Parallel(n_jobs=-1)]: Done 100 out of 100 | elapsed:    0.0s finished\n",
      "[Parallel(n_jobs=16)]: Using backend ThreadingBackend with 16 concurrent workers.\n",
      "[Parallel(n_jobs=16)]: Done  18 tasks      | elapsed:    0.0s\n",
      "[Parallel(n_jobs=16)]: Done 100 out of 100 | elapsed:    0.0s finished\n"
     ]
    },
    {
     "data": {
      "text/plain": [
       "{'fit_time': array([1.80372572, 0.09807491, 0.09328485, 0.09187818, 0.09451389,\n",
       "        0.09306908, 0.09380817, 0.09088612, 0.09564114, 0.09338808]),\n",
       " 'score_time': array([0.01399827, 0.01149607, 0.01123309, 0.01208997, 0.01137304,\n",
       "        0.01147699, 0.01116705, 0.01178384, 0.01306677, 0.01206589]),\n",
       " 'test_neg_mean_squared_error': array([-17.51759261,  -4.37018062, -16.42362709, -18.08041091,\n",
       "        -17.86830123,  -3.95022947,  -2.79331715,  -7.64869712,\n",
       "         -2.21518427,  -1.98511484]),\n",
       " 'test_r2': array([-0.08645603, -0.08827555, -0.10322645,  0.02218993, -0.05442353,\n",
       "        -0.20835635,  0.28712047, -0.05382127, -0.04779734,  0.19663883])}"
      ]
     },
     "execution_count": 345,
     "metadata": {},
     "output_type": "execute_result"
    }
   ],
   "source": [
    "rf.fit(X_train,y_train)\n",
    "cross_validate(rf, X_train, y_train, cv = 10, scoring=['neg_mean_squared_error', 'r2'])"
   ]
  },
  {
   "cell_type": "code",
   "execution_count": 346,
   "metadata": {},
   "outputs": [
    {
     "name": "stdout",
     "output_type": "stream",
     "text": [
      "R2 : 0.32449722245300106\n",
      "MSE : 3.537532219729778\n"
     ]
    },
    {
     "name": "stderr",
     "output_type": "stream",
     "text": [
      "[Parallel(n_jobs=16)]: Using backend ThreadingBackend with 16 concurrent workers.\n",
      "[Parallel(n_jobs=16)]: Done  18 tasks      | elapsed:    0.0s\n",
      "[Parallel(n_jobs=16)]: Done 100 out of 100 | elapsed:    0.0s finished\n"
     ]
    }
   ],
   "source": [
    "y_pred = rf.predict(X_test)\n",
    "print('R2 : {}'.format(r2_score(y_test, y_pred)))\n",
    "print('MSE : {}'.format(mean_squared_error(y_test, y_pred)))"
   ]
  },
  {
   "cell_type": "markdown",
   "metadata": {},
   "source": [
    "# Feature importance from random forest"
   ]
  },
  {
   "cell_type": "code",
   "execution_count": 365,
   "metadata": {},
   "outputs": [],
   "source": [
    "importances = rf.feature_importances_"
   ]
  },
  {
   "cell_type": "code",
   "execution_count": 366,
   "metadata": {},
   "outputs": [
    {
     "data": {
      "text/plain": [
       "array([0.0403599 , 0.10104899, 0.0593761 , 0.09386715, 0.09696414,\n",
       "       0.08420473, 0.02000082, 0.07958128, 0.1232562 , 0.06518951,\n",
       "       0.08911864, 0.05300336, 0.03032234, 0.02375914, 0.03994772])"
      ]
     },
     "execution_count": 366,
     "metadata": {},
     "output_type": "execute_result"
    }
   ],
   "source": [
    "importances"
   ]
  },
  {
   "cell_type": "code",
   "execution_count": 370,
   "metadata": {},
   "outputs": [
    {
     "name": "stdout",
     "output_type": "stream",
     "text": [
      "[(0.1233, 'return'), (0.101, 'Mkt-RF'), (0.097, 'RMW'), (0.0939, 'HML'), (0.0891, 'industrial_prod'), (0.0842, 'CMA'), (0.0796, 'vix_diff'), (0.0652, 'unemployment_rate'), (0.0594, 'SMB'), (0.053, 'month_pe_ratio_sp500'), (0.0404, 'vix'), (0.0399, 'three_month_Treasury_Bill_Minus_Federal_Funds_Rate'), (0.0303, 'DAAA'), (0.0238, 'DBAA'), (0.02, 'RF')]\n"
     ]
    }
   ],
   "source": [
    "print(sorted(zip(map(lambda x: round(x, 4), rf.feature_importances_), X_train.columns), reverse=True))\n"
   ]
  },
  {
   "cell_type": "markdown",
   "metadata": {},
   "source": [
    "# LSTM"
   ]
  },
  {
   "cell_type": "markdown",
   "metadata": {},
   "source": [
    "https://keras.io/examples/timeseries/timeseries_weather_forecasting/"
   ]
  },
  {
   "cell_type": "code",
   "execution_count": 374,
   "metadata": {
    "scrolled": true
   },
   "outputs": [
    {
     "data": {
      "text/html": [
       "<div>\n",
       "<style scoped>\n",
       "    .dataframe tbody tr th:only-of-type {\n",
       "        vertical-align: middle;\n",
       "    }\n",
       "\n",
       "    .dataframe tbody tr th {\n",
       "        vertical-align: top;\n",
       "    }\n",
       "\n",
       "    .dataframe thead th {\n",
       "        text-align: right;\n",
       "    }\n",
       "</style>\n",
       "<table border=\"1\" class=\"dataframe\">\n",
       "  <thead>\n",
       "    <tr style=\"text-align: right;\">\n",
       "      <th></th>\n",
       "      <th>vix</th>\n",
       "      <th>Mkt-RF</th>\n",
       "      <th>SMB</th>\n",
       "      <th>HML</th>\n",
       "      <th>RMW</th>\n",
       "      <th>CMA</th>\n",
       "      <th>RF</th>\n",
       "      <th>vix_diff</th>\n",
       "      <th>return</th>\n",
       "      <th>unemployment_rate</th>\n",
       "      <th>industrial_prod</th>\n",
       "      <th>month_pe_ratio_sp500</th>\n",
       "      <th>DAAA</th>\n",
       "      <th>DBAA</th>\n",
       "      <th>three_month_Treasury_Bill_Minus_Federal_Funds_Rate</th>\n",
       "      <th>apple_return</th>\n",
       "    </tr>\n",
       "  </thead>\n",
       "  <tbody>\n",
       "    <tr>\n",
       "      <th>1990-02-01</th>\n",
       "      <td>24.87</td>\n",
       "      <td>0.08</td>\n",
       "      <td>0.57</td>\n",
       "      <td>-0.03</td>\n",
       "      <td>-0.22</td>\n",
       "      <td>-0.03</td>\n",
       "      <td>0.030</td>\n",
       "      <td>-0.019322</td>\n",
       "      <td>-0.088118</td>\n",
       "      <td>5.3</td>\n",
       "      <td>64.0446</td>\n",
       "      <td>14.97</td>\n",
       "      <td>9.14</td>\n",
       "      <td>10.10</td>\n",
       "      <td>-0.50</td>\n",
       "      <td>-1.102947</td>\n",
       "    </tr>\n",
       "    <tr>\n",
       "      <th>1990-03-01</th>\n",
       "      <td>21.90</td>\n",
       "      <td>0.26</td>\n",
       "      <td>-0.03</td>\n",
       "      <td>-0.09</td>\n",
       "      <td>0.09</td>\n",
       "      <td>-0.30</td>\n",
       "      <td>0.029</td>\n",
       "      <td>-0.004093</td>\n",
       "      <td>0.256102</td>\n",
       "      <td>5.2</td>\n",
       "      <td>64.3580</td>\n",
       "      <td>15.62</td>\n",
       "      <td>9.28</td>\n",
       "      <td>10.20</td>\n",
       "      <td>-0.38</td>\n",
       "      <td>0.735291</td>\n",
       "    </tr>\n",
       "    <tr>\n",
       "      <th>1990-05-01</th>\n",
       "      <td>18.43</td>\n",
       "      <td>0.42</td>\n",
       "      <td>-0.23</td>\n",
       "      <td>-0.08</td>\n",
       "      <td>-0.05</td>\n",
       "      <td>-0.13</td>\n",
       "      <td>0.031</td>\n",
       "      <td>-0.055840</td>\n",
       "      <td>0.438335</td>\n",
       "      <td>5.4</td>\n",
       "      <td>64.3973</td>\n",
       "      <td>16.37</td>\n",
       "      <td>9.64</td>\n",
       "      <td>10.55</td>\n",
       "      <td>-0.44</td>\n",
       "      <td>0.634918</td>\n",
       "    </tr>\n",
       "    <tr>\n",
       "      <th>1990-06-01</th>\n",
       "      <td>17.09</td>\n",
       "      <td>0.53</td>\n",
       "      <td>-0.07</td>\n",
       "      <td>0.10</td>\n",
       "      <td>0.05</td>\n",
       "      <td>-0.26</td>\n",
       "      <td>0.030</td>\n",
       "      <td>-0.016120</td>\n",
       "      <td>0.534284</td>\n",
       "      <td>5.2</td>\n",
       "      <td>64.6041</td>\n",
       "      <td>16.95</td>\n",
       "      <td>9.33</td>\n",
       "      <td>10.23</td>\n",
       "      <td>-0.56</td>\n",
       "      <td>-1.212117</td>\n",
       "    </tr>\n",
       "    <tr>\n",
       "      <th>1990-08-01</th>\n",
       "      <td>21.64</td>\n",
       "      <td>-0.20</td>\n",
       "      <td>-0.33</td>\n",
       "      <td>-0.11</td>\n",
       "      <td>-0.05</td>\n",
       "      <td>0.37</td>\n",
       "      <td>0.028</td>\n",
       "      <td>0.025107</td>\n",
       "      <td>-0.176893</td>\n",
       "      <td>5.7</td>\n",
       "      <td>64.7326</td>\n",
       "      <td>15.33</td>\n",
       "      <td>9.17</td>\n",
       "      <td>10.11</td>\n",
       "      <td>-0.68</td>\n",
       "      <td>0.892854</td>\n",
       "    </tr>\n",
       "  </tbody>\n",
       "</table>\n",
       "</div>"
      ],
      "text/plain": [
       "              vix  Mkt-RF   SMB   HML   RMW   CMA     RF  vix_diff    return  \\\n",
       "1990-02-01  24.87    0.08  0.57 -0.03 -0.22 -0.03  0.030 -0.019322 -0.088118   \n",
       "1990-03-01  21.90    0.26 -0.03 -0.09  0.09 -0.30  0.029 -0.004093  0.256102   \n",
       "1990-05-01  18.43    0.42 -0.23 -0.08 -0.05 -0.13  0.031 -0.055840  0.438335   \n",
       "1990-06-01  17.09    0.53 -0.07  0.10  0.05 -0.26  0.030 -0.016120  0.534284   \n",
       "1990-08-01  21.64   -0.20 -0.33 -0.11 -0.05  0.37  0.028  0.025107 -0.176893   \n",
       "\n",
       "            unemployment_rate  industrial_prod  month_pe_ratio_sp500  DAAA  \\\n",
       "1990-02-01                5.3          64.0446                 14.97  9.14   \n",
       "1990-03-01                5.2          64.3580                 15.62  9.28   \n",
       "1990-05-01                5.4          64.3973                 16.37  9.64   \n",
       "1990-06-01                5.2          64.6041                 16.95  9.33   \n",
       "1990-08-01                5.7          64.7326                 15.33  9.17   \n",
       "\n",
       "             DBAA  three_month_Treasury_Bill_Minus_Federal_Funds_Rate  \\\n",
       "1990-02-01  10.10                                              -0.50    \n",
       "1990-03-01  10.20                                              -0.38    \n",
       "1990-05-01  10.55                                              -0.44    \n",
       "1990-06-01  10.23                                              -0.56    \n",
       "1990-08-01  10.11                                              -0.68    \n",
       "\n",
       "            apple_return  \n",
       "1990-02-01     -1.102947  \n",
       "1990-03-01      0.735291  \n",
       "1990-05-01      0.634918  \n",
       "1990-06-01     -1.212117  \n",
       "1990-08-01      0.892854  "
      ]
     },
     "execution_count": 374,
     "metadata": {},
     "output_type": "execute_result"
    }
   ],
   "source": [
    "data.head(5)"
   ]
  },
  {
   "cell_type": "code",
   "execution_count": 376,
   "metadata": {},
   "outputs": [
    {
     "data": {
      "text/plain": [
       "(234, 16)"
      ]
     },
     "execution_count": 376,
     "metadata": {},
     "output_type": "execute_result"
    }
   ],
   "source": [
    "data.shape"
   ]
  },
  {
   "cell_type": "code",
   "execution_count": 381,
   "metadata": {},
   "outputs": [],
   "source": [
    "from keras.models import Sequential\n",
    "from tensorflow.keras.layers import LSTM\n",
    "from tensorflow.keras.layers import Dense\n",
    "\n",
    "\n",
    "# define model\n",
    "model = Sequential()\n",
    "model.add(LSTM(50, activation='relu', input_shape=(3, 15)))\n",
    "model.add(Dense(1))\n",
    "model.compile(optimizer='adam', loss='mse')"
   ]
  },
  {
   "cell_type": "code",
   "execution_count": 382,
   "metadata": {},
   "outputs": [
    {
     "name": "stdout",
     "output_type": "stream",
     "text": [
      "Epoch 1/200\n"
     ]
    },
    {
     "ename": "ValueError",
     "evalue": "in user code:\n\n    /opt/anaconda3/lib/python3.8/site-packages/tensorflow/python/keras/engine/training.py:806 train_function  *\n        return step_function(self, iterator)\n    /opt/anaconda3/lib/python3.8/site-packages/tensorflow/python/keras/engine/training.py:796 step_function  **\n        outputs = model.distribute_strategy.run(run_step, args=(data,))\n    /opt/anaconda3/lib/python3.8/site-packages/tensorflow/python/distribute/distribute_lib.py:1211 run\n        return self._extended.call_for_each_replica(fn, args=args, kwargs=kwargs)\n    /opt/anaconda3/lib/python3.8/site-packages/tensorflow/python/distribute/distribute_lib.py:2585 call_for_each_replica\n        return self._call_for_each_replica(fn, args, kwargs)\n    /opt/anaconda3/lib/python3.8/site-packages/tensorflow/python/distribute/distribute_lib.py:2945 _call_for_each_replica\n        return fn(*args, **kwargs)\n    /opt/anaconda3/lib/python3.8/site-packages/tensorflow/python/keras/engine/training.py:789 run_step  **\n        outputs = model.train_step(data)\n    /opt/anaconda3/lib/python3.8/site-packages/tensorflow/python/keras/engine/training.py:747 train_step\n        y_pred = self(x, training=True)\n    /opt/anaconda3/lib/python3.8/site-packages/tensorflow/python/keras/engine/base_layer.py:975 __call__\n        input_spec.assert_input_compatibility(self.input_spec, inputs,\n    /opt/anaconda3/lib/python3.8/site-packages/tensorflow/python/keras/engine/input_spec.py:176 assert_input_compatibility\n        raise ValueError('Input ' + str(input_index) + ' of layer ' +\n\n    ValueError: Input 0 of layer sequential_2 is incompatible with the layer: expected ndim=3, found ndim=2. Full shape received: [None, 15]\n",
     "output_type": "error",
     "traceback": [
      "\u001b[0;31m---------------------------------------------------------------------------\u001b[0m",
      "\u001b[0;31mValueError\u001b[0m                                Traceback (most recent call last)",
      "\u001b[0;32m<ipython-input-382-41c71ba955df>\u001b[0m in \u001b[0;36m<module>\u001b[0;34m\u001b[0m\n\u001b[0;32m----> 1\u001b[0;31m \u001b[0mmodel\u001b[0m\u001b[0;34m.\u001b[0m\u001b[0mfit\u001b[0m\u001b[0;34m(\u001b[0m\u001b[0mX_train\u001b[0m\u001b[0;34m,\u001b[0m \u001b[0my_train\u001b[0m\u001b[0;34m,\u001b[0m \u001b[0mepochs\u001b[0m\u001b[0;34m=\u001b[0m\u001b[0;36m200\u001b[0m\u001b[0;34m,\u001b[0m \u001b[0mverbose\u001b[0m\u001b[0;34m=\u001b[0m\u001b[0;36m1\u001b[0m\u001b[0;34m)\u001b[0m\u001b[0;34m\u001b[0m\u001b[0;34m\u001b[0m\u001b[0m\n\u001b[0m",
      "\u001b[0;32m/opt/anaconda3/lib/python3.8/site-packages/tensorflow/python/keras/engine/training.py\u001b[0m in \u001b[0;36m_method_wrapper\u001b[0;34m(self, *args, **kwargs)\u001b[0m\n\u001b[1;32m    106\u001b[0m   \u001b[0;32mdef\u001b[0m \u001b[0m_method_wrapper\u001b[0m\u001b[0;34m(\u001b[0m\u001b[0mself\u001b[0m\u001b[0;34m,\u001b[0m \u001b[0;34m*\u001b[0m\u001b[0margs\u001b[0m\u001b[0;34m,\u001b[0m \u001b[0;34m**\u001b[0m\u001b[0mkwargs\u001b[0m\u001b[0;34m)\u001b[0m\u001b[0;34m:\u001b[0m\u001b[0;34m\u001b[0m\u001b[0;34m\u001b[0m\u001b[0m\n\u001b[1;32m    107\u001b[0m     \u001b[0;32mif\u001b[0m \u001b[0;32mnot\u001b[0m \u001b[0mself\u001b[0m\u001b[0;34m.\u001b[0m\u001b[0m_in_multi_worker_mode\u001b[0m\u001b[0;34m(\u001b[0m\u001b[0;34m)\u001b[0m\u001b[0;34m:\u001b[0m  \u001b[0;31m# pylint: disable=protected-access\u001b[0m\u001b[0;34m\u001b[0m\u001b[0;34m\u001b[0m\u001b[0m\n\u001b[0;32m--> 108\u001b[0;31m       \u001b[0;32mreturn\u001b[0m \u001b[0mmethod\u001b[0m\u001b[0;34m(\u001b[0m\u001b[0mself\u001b[0m\u001b[0;34m,\u001b[0m \u001b[0;34m*\u001b[0m\u001b[0margs\u001b[0m\u001b[0;34m,\u001b[0m \u001b[0;34m**\u001b[0m\u001b[0mkwargs\u001b[0m\u001b[0;34m)\u001b[0m\u001b[0;34m\u001b[0m\u001b[0;34m\u001b[0m\u001b[0m\n\u001b[0m\u001b[1;32m    109\u001b[0m \u001b[0;34m\u001b[0m\u001b[0m\n\u001b[1;32m    110\u001b[0m     \u001b[0;31m# Running inside `run_distribute_coordinator` already.\u001b[0m\u001b[0;34m\u001b[0m\u001b[0;34m\u001b[0m\u001b[0;34m\u001b[0m\u001b[0m\n",
      "\u001b[0;32m/opt/anaconda3/lib/python3.8/site-packages/tensorflow/python/keras/engine/training.py\u001b[0m in \u001b[0;36mfit\u001b[0;34m(self, x, y, batch_size, epochs, verbose, callbacks, validation_split, validation_data, shuffle, class_weight, sample_weight, initial_epoch, steps_per_epoch, validation_steps, validation_batch_size, validation_freq, max_queue_size, workers, use_multiprocessing)\u001b[0m\n\u001b[1;32m   1096\u001b[0m                 batch_size=batch_size):\n\u001b[1;32m   1097\u001b[0m               \u001b[0mcallbacks\u001b[0m\u001b[0;34m.\u001b[0m\u001b[0mon_train_batch_begin\u001b[0m\u001b[0;34m(\u001b[0m\u001b[0mstep\u001b[0m\u001b[0;34m)\u001b[0m\u001b[0;34m\u001b[0m\u001b[0;34m\u001b[0m\u001b[0m\n\u001b[0;32m-> 1098\u001b[0;31m               \u001b[0mtmp_logs\u001b[0m \u001b[0;34m=\u001b[0m \u001b[0mtrain_function\u001b[0m\u001b[0;34m(\u001b[0m\u001b[0miterator\u001b[0m\u001b[0;34m)\u001b[0m\u001b[0;34m\u001b[0m\u001b[0;34m\u001b[0m\u001b[0m\n\u001b[0m\u001b[1;32m   1099\u001b[0m               \u001b[0;32mif\u001b[0m \u001b[0mdata_handler\u001b[0m\u001b[0;34m.\u001b[0m\u001b[0mshould_sync\u001b[0m\u001b[0;34m:\u001b[0m\u001b[0;34m\u001b[0m\u001b[0;34m\u001b[0m\u001b[0m\n\u001b[1;32m   1100\u001b[0m                 \u001b[0mcontext\u001b[0m\u001b[0;34m.\u001b[0m\u001b[0masync_wait\u001b[0m\u001b[0;34m(\u001b[0m\u001b[0;34m)\u001b[0m\u001b[0;34m\u001b[0m\u001b[0;34m\u001b[0m\u001b[0m\n",
      "\u001b[0;32m/opt/anaconda3/lib/python3.8/site-packages/tensorflow/python/eager/def_function.py\u001b[0m in \u001b[0;36m__call__\u001b[0;34m(self, *args, **kwds)\u001b[0m\n\u001b[1;32m    778\u001b[0m       \u001b[0;32melse\u001b[0m\u001b[0;34m:\u001b[0m\u001b[0;34m\u001b[0m\u001b[0;34m\u001b[0m\u001b[0m\n\u001b[1;32m    779\u001b[0m         \u001b[0mcompiler\u001b[0m \u001b[0;34m=\u001b[0m \u001b[0;34m\"nonXla\"\u001b[0m\u001b[0;34m\u001b[0m\u001b[0;34m\u001b[0m\u001b[0m\n\u001b[0;32m--> 780\u001b[0;31m         \u001b[0mresult\u001b[0m \u001b[0;34m=\u001b[0m \u001b[0mself\u001b[0m\u001b[0;34m.\u001b[0m\u001b[0m_call\u001b[0m\u001b[0;34m(\u001b[0m\u001b[0;34m*\u001b[0m\u001b[0margs\u001b[0m\u001b[0;34m,\u001b[0m \u001b[0;34m**\u001b[0m\u001b[0mkwds\u001b[0m\u001b[0;34m)\u001b[0m\u001b[0;34m\u001b[0m\u001b[0;34m\u001b[0m\u001b[0m\n\u001b[0m\u001b[1;32m    781\u001b[0m \u001b[0;34m\u001b[0m\u001b[0m\n\u001b[1;32m    782\u001b[0m       \u001b[0mnew_tracing_count\u001b[0m \u001b[0;34m=\u001b[0m \u001b[0mself\u001b[0m\u001b[0;34m.\u001b[0m\u001b[0m_get_tracing_count\u001b[0m\u001b[0;34m(\u001b[0m\u001b[0;34m)\u001b[0m\u001b[0;34m\u001b[0m\u001b[0;34m\u001b[0m\u001b[0m\n",
      "\u001b[0;32m/opt/anaconda3/lib/python3.8/site-packages/tensorflow/python/eager/def_function.py\u001b[0m in \u001b[0;36m_call\u001b[0;34m(self, *args, **kwds)\u001b[0m\n\u001b[1;32m    821\u001b[0m       \u001b[0;31m# This is the first call of __call__, so we have to initialize.\u001b[0m\u001b[0;34m\u001b[0m\u001b[0;34m\u001b[0m\u001b[0;34m\u001b[0m\u001b[0m\n\u001b[1;32m    822\u001b[0m       \u001b[0minitializers\u001b[0m \u001b[0;34m=\u001b[0m \u001b[0;34m[\u001b[0m\u001b[0;34m]\u001b[0m\u001b[0;34m\u001b[0m\u001b[0;34m\u001b[0m\u001b[0m\n\u001b[0;32m--> 823\u001b[0;31m       \u001b[0mself\u001b[0m\u001b[0;34m.\u001b[0m\u001b[0m_initialize\u001b[0m\u001b[0;34m(\u001b[0m\u001b[0margs\u001b[0m\u001b[0;34m,\u001b[0m \u001b[0mkwds\u001b[0m\u001b[0;34m,\u001b[0m \u001b[0madd_initializers_to\u001b[0m\u001b[0;34m=\u001b[0m\u001b[0minitializers\u001b[0m\u001b[0;34m)\u001b[0m\u001b[0;34m\u001b[0m\u001b[0;34m\u001b[0m\u001b[0m\n\u001b[0m\u001b[1;32m    824\u001b[0m     \u001b[0;32mfinally\u001b[0m\u001b[0;34m:\u001b[0m\u001b[0;34m\u001b[0m\u001b[0;34m\u001b[0m\u001b[0m\n\u001b[1;32m    825\u001b[0m       \u001b[0;31m# At this point we know that the initialization is complete (or less\u001b[0m\u001b[0;34m\u001b[0m\u001b[0;34m\u001b[0m\u001b[0;34m\u001b[0m\u001b[0m\n",
      "\u001b[0;32m/opt/anaconda3/lib/python3.8/site-packages/tensorflow/python/eager/def_function.py\u001b[0m in \u001b[0;36m_initialize\u001b[0;34m(self, args, kwds, add_initializers_to)\u001b[0m\n\u001b[1;32m    694\u001b[0m     \u001b[0mself\u001b[0m\u001b[0;34m.\u001b[0m\u001b[0m_graph_deleter\u001b[0m \u001b[0;34m=\u001b[0m \u001b[0mFunctionDeleter\u001b[0m\u001b[0;34m(\u001b[0m\u001b[0mself\u001b[0m\u001b[0;34m.\u001b[0m\u001b[0m_lifted_initializer_graph\u001b[0m\u001b[0;34m)\u001b[0m\u001b[0;34m\u001b[0m\u001b[0;34m\u001b[0m\u001b[0m\n\u001b[1;32m    695\u001b[0m     self._concrete_stateful_fn = (\n\u001b[0;32m--> 696\u001b[0;31m         self._stateful_fn._get_concrete_function_internal_garbage_collected(  # pylint: disable=protected-access\n\u001b[0m\u001b[1;32m    697\u001b[0m             *args, **kwds))\n\u001b[1;32m    698\u001b[0m \u001b[0;34m\u001b[0m\u001b[0m\n",
      "\u001b[0;32m/opt/anaconda3/lib/python3.8/site-packages/tensorflow/python/eager/function.py\u001b[0m in \u001b[0;36m_get_concrete_function_internal_garbage_collected\u001b[0;34m(self, *args, **kwargs)\u001b[0m\n\u001b[1;32m   2853\u001b[0m       \u001b[0margs\u001b[0m\u001b[0;34m,\u001b[0m \u001b[0mkwargs\u001b[0m \u001b[0;34m=\u001b[0m \u001b[0;32mNone\u001b[0m\u001b[0;34m,\u001b[0m \u001b[0;32mNone\u001b[0m\u001b[0;34m\u001b[0m\u001b[0;34m\u001b[0m\u001b[0m\n\u001b[1;32m   2854\u001b[0m     \u001b[0;32mwith\u001b[0m \u001b[0mself\u001b[0m\u001b[0;34m.\u001b[0m\u001b[0m_lock\u001b[0m\u001b[0;34m:\u001b[0m\u001b[0;34m\u001b[0m\u001b[0;34m\u001b[0m\u001b[0m\n\u001b[0;32m-> 2855\u001b[0;31m       \u001b[0mgraph_function\u001b[0m\u001b[0;34m,\u001b[0m \u001b[0m_\u001b[0m\u001b[0;34m,\u001b[0m \u001b[0m_\u001b[0m \u001b[0;34m=\u001b[0m \u001b[0mself\u001b[0m\u001b[0;34m.\u001b[0m\u001b[0m_maybe_define_function\u001b[0m\u001b[0;34m(\u001b[0m\u001b[0margs\u001b[0m\u001b[0;34m,\u001b[0m \u001b[0mkwargs\u001b[0m\u001b[0;34m)\u001b[0m\u001b[0;34m\u001b[0m\u001b[0;34m\u001b[0m\u001b[0m\n\u001b[0m\u001b[1;32m   2856\u001b[0m     \u001b[0;32mreturn\u001b[0m \u001b[0mgraph_function\u001b[0m\u001b[0;34m\u001b[0m\u001b[0;34m\u001b[0m\u001b[0m\n\u001b[1;32m   2857\u001b[0m \u001b[0;34m\u001b[0m\u001b[0m\n",
      "\u001b[0;32m/opt/anaconda3/lib/python3.8/site-packages/tensorflow/python/eager/function.py\u001b[0m in \u001b[0;36m_maybe_define_function\u001b[0;34m(self, args, kwargs)\u001b[0m\n\u001b[1;32m   3211\u001b[0m \u001b[0;34m\u001b[0m\u001b[0m\n\u001b[1;32m   3212\u001b[0m       \u001b[0mself\u001b[0m\u001b[0;34m.\u001b[0m\u001b[0m_function_cache\u001b[0m\u001b[0;34m.\u001b[0m\u001b[0mmissed\u001b[0m\u001b[0;34m.\u001b[0m\u001b[0madd\u001b[0m\u001b[0;34m(\u001b[0m\u001b[0mcall_context_key\u001b[0m\u001b[0;34m)\u001b[0m\u001b[0;34m\u001b[0m\u001b[0;34m\u001b[0m\u001b[0m\n\u001b[0;32m-> 3213\u001b[0;31m       \u001b[0mgraph_function\u001b[0m \u001b[0;34m=\u001b[0m \u001b[0mself\u001b[0m\u001b[0;34m.\u001b[0m\u001b[0m_create_graph_function\u001b[0m\u001b[0;34m(\u001b[0m\u001b[0margs\u001b[0m\u001b[0;34m,\u001b[0m \u001b[0mkwargs\u001b[0m\u001b[0;34m)\u001b[0m\u001b[0;34m\u001b[0m\u001b[0;34m\u001b[0m\u001b[0m\n\u001b[0m\u001b[1;32m   3214\u001b[0m       \u001b[0mself\u001b[0m\u001b[0;34m.\u001b[0m\u001b[0m_function_cache\u001b[0m\u001b[0;34m.\u001b[0m\u001b[0mprimary\u001b[0m\u001b[0;34m[\u001b[0m\u001b[0mcache_key\u001b[0m\u001b[0;34m]\u001b[0m \u001b[0;34m=\u001b[0m \u001b[0mgraph_function\u001b[0m\u001b[0;34m\u001b[0m\u001b[0;34m\u001b[0m\u001b[0m\n\u001b[1;32m   3215\u001b[0m       \u001b[0;32mreturn\u001b[0m \u001b[0mgraph_function\u001b[0m\u001b[0;34m,\u001b[0m \u001b[0margs\u001b[0m\u001b[0;34m,\u001b[0m \u001b[0mkwargs\u001b[0m\u001b[0;34m\u001b[0m\u001b[0;34m\u001b[0m\u001b[0m\n",
      "\u001b[0;32m/opt/anaconda3/lib/python3.8/site-packages/tensorflow/python/eager/function.py\u001b[0m in \u001b[0;36m_create_graph_function\u001b[0;34m(self, args, kwargs, override_flat_arg_shapes)\u001b[0m\n\u001b[1;32m   3063\u001b[0m     \u001b[0marg_names\u001b[0m \u001b[0;34m=\u001b[0m \u001b[0mbase_arg_names\u001b[0m \u001b[0;34m+\u001b[0m \u001b[0mmissing_arg_names\u001b[0m\u001b[0;34m\u001b[0m\u001b[0;34m\u001b[0m\u001b[0m\n\u001b[1;32m   3064\u001b[0m     graph_function = ConcreteFunction(\n\u001b[0;32m-> 3065\u001b[0;31m         func_graph_module.func_graph_from_py_func(\n\u001b[0m\u001b[1;32m   3066\u001b[0m             \u001b[0mself\u001b[0m\u001b[0;34m.\u001b[0m\u001b[0m_name\u001b[0m\u001b[0;34m,\u001b[0m\u001b[0;34m\u001b[0m\u001b[0;34m\u001b[0m\u001b[0m\n\u001b[1;32m   3067\u001b[0m             \u001b[0mself\u001b[0m\u001b[0;34m.\u001b[0m\u001b[0m_python_function\u001b[0m\u001b[0;34m,\u001b[0m\u001b[0;34m\u001b[0m\u001b[0;34m\u001b[0m\u001b[0m\n",
      "\u001b[0;32m/opt/anaconda3/lib/python3.8/site-packages/tensorflow/python/framework/func_graph.py\u001b[0m in \u001b[0;36mfunc_graph_from_py_func\u001b[0;34m(name, python_func, args, kwargs, signature, func_graph, autograph, autograph_options, add_control_dependencies, arg_names, op_return_value, collections, capture_by_value, override_flat_arg_shapes)\u001b[0m\n\u001b[1;32m    984\u001b[0m         \u001b[0m_\u001b[0m\u001b[0;34m,\u001b[0m \u001b[0moriginal_func\u001b[0m \u001b[0;34m=\u001b[0m \u001b[0mtf_decorator\u001b[0m\u001b[0;34m.\u001b[0m\u001b[0munwrap\u001b[0m\u001b[0;34m(\u001b[0m\u001b[0mpython_func\u001b[0m\u001b[0;34m)\u001b[0m\u001b[0;34m\u001b[0m\u001b[0;34m\u001b[0m\u001b[0m\n\u001b[1;32m    985\u001b[0m \u001b[0;34m\u001b[0m\u001b[0m\n\u001b[0;32m--> 986\u001b[0;31m       \u001b[0mfunc_outputs\u001b[0m \u001b[0;34m=\u001b[0m \u001b[0mpython_func\u001b[0m\u001b[0;34m(\u001b[0m\u001b[0;34m*\u001b[0m\u001b[0mfunc_args\u001b[0m\u001b[0;34m,\u001b[0m \u001b[0;34m**\u001b[0m\u001b[0mfunc_kwargs\u001b[0m\u001b[0;34m)\u001b[0m\u001b[0;34m\u001b[0m\u001b[0;34m\u001b[0m\u001b[0m\n\u001b[0m\u001b[1;32m    987\u001b[0m \u001b[0;34m\u001b[0m\u001b[0m\n\u001b[1;32m    988\u001b[0m       \u001b[0;31m# invariant: `func_outputs` contains only Tensors, CompositeTensors,\u001b[0m\u001b[0;34m\u001b[0m\u001b[0;34m\u001b[0m\u001b[0;34m\u001b[0m\u001b[0m\n",
      "\u001b[0;32m/opt/anaconda3/lib/python3.8/site-packages/tensorflow/python/eager/def_function.py\u001b[0m in \u001b[0;36mwrapped_fn\u001b[0;34m(*args, **kwds)\u001b[0m\n\u001b[1;32m    598\u001b[0m         \u001b[0;31m# __wrapped__ allows AutoGraph to swap in a converted function. We give\u001b[0m\u001b[0;34m\u001b[0m\u001b[0;34m\u001b[0m\u001b[0;34m\u001b[0m\u001b[0m\n\u001b[1;32m    599\u001b[0m         \u001b[0;31m# the function a weak reference to itself to avoid a reference cycle.\u001b[0m\u001b[0;34m\u001b[0m\u001b[0;34m\u001b[0m\u001b[0;34m\u001b[0m\u001b[0m\n\u001b[0;32m--> 600\u001b[0;31m         \u001b[0;32mreturn\u001b[0m \u001b[0mweak_wrapped_fn\u001b[0m\u001b[0;34m(\u001b[0m\u001b[0;34m)\u001b[0m\u001b[0;34m.\u001b[0m\u001b[0m__wrapped__\u001b[0m\u001b[0;34m(\u001b[0m\u001b[0;34m*\u001b[0m\u001b[0margs\u001b[0m\u001b[0;34m,\u001b[0m \u001b[0;34m**\u001b[0m\u001b[0mkwds\u001b[0m\u001b[0;34m)\u001b[0m\u001b[0;34m\u001b[0m\u001b[0;34m\u001b[0m\u001b[0m\n\u001b[0m\u001b[1;32m    601\u001b[0m     \u001b[0mweak_wrapped_fn\u001b[0m \u001b[0;34m=\u001b[0m \u001b[0mweakref\u001b[0m\u001b[0;34m.\u001b[0m\u001b[0mref\u001b[0m\u001b[0;34m(\u001b[0m\u001b[0mwrapped_fn\u001b[0m\u001b[0;34m)\u001b[0m\u001b[0;34m\u001b[0m\u001b[0;34m\u001b[0m\u001b[0m\n\u001b[1;32m    602\u001b[0m \u001b[0;34m\u001b[0m\u001b[0m\n",
      "\u001b[0;32m/opt/anaconda3/lib/python3.8/site-packages/tensorflow/python/framework/func_graph.py\u001b[0m in \u001b[0;36mwrapper\u001b[0;34m(*args, **kwargs)\u001b[0m\n\u001b[1;32m    971\u001b[0m           \u001b[0;32mexcept\u001b[0m \u001b[0mException\u001b[0m \u001b[0;32mas\u001b[0m \u001b[0me\u001b[0m\u001b[0;34m:\u001b[0m  \u001b[0;31m# pylint:disable=broad-except\u001b[0m\u001b[0;34m\u001b[0m\u001b[0;34m\u001b[0m\u001b[0m\n\u001b[1;32m    972\u001b[0m             \u001b[0;32mif\u001b[0m \u001b[0mhasattr\u001b[0m\u001b[0;34m(\u001b[0m\u001b[0me\u001b[0m\u001b[0;34m,\u001b[0m \u001b[0;34m\"ag_error_metadata\"\u001b[0m\u001b[0;34m)\u001b[0m\u001b[0;34m:\u001b[0m\u001b[0;34m\u001b[0m\u001b[0;34m\u001b[0m\u001b[0m\n\u001b[0;32m--> 973\u001b[0;31m               \u001b[0;32mraise\u001b[0m \u001b[0me\u001b[0m\u001b[0;34m.\u001b[0m\u001b[0mag_error_metadata\u001b[0m\u001b[0;34m.\u001b[0m\u001b[0mto_exception\u001b[0m\u001b[0;34m(\u001b[0m\u001b[0me\u001b[0m\u001b[0;34m)\u001b[0m\u001b[0;34m\u001b[0m\u001b[0;34m\u001b[0m\u001b[0m\n\u001b[0m\u001b[1;32m    974\u001b[0m             \u001b[0;32melse\u001b[0m\u001b[0;34m:\u001b[0m\u001b[0;34m\u001b[0m\u001b[0;34m\u001b[0m\u001b[0m\n\u001b[1;32m    975\u001b[0m               \u001b[0;32mraise\u001b[0m\u001b[0;34m\u001b[0m\u001b[0;34m\u001b[0m\u001b[0m\n",
      "\u001b[0;31mValueError\u001b[0m: in user code:\n\n    /opt/anaconda3/lib/python3.8/site-packages/tensorflow/python/keras/engine/training.py:806 train_function  *\n        return step_function(self, iterator)\n    /opt/anaconda3/lib/python3.8/site-packages/tensorflow/python/keras/engine/training.py:796 step_function  **\n        outputs = model.distribute_strategy.run(run_step, args=(data,))\n    /opt/anaconda3/lib/python3.8/site-packages/tensorflow/python/distribute/distribute_lib.py:1211 run\n        return self._extended.call_for_each_replica(fn, args=args, kwargs=kwargs)\n    /opt/anaconda3/lib/python3.8/site-packages/tensorflow/python/distribute/distribute_lib.py:2585 call_for_each_replica\n        return self._call_for_each_replica(fn, args, kwargs)\n    /opt/anaconda3/lib/python3.8/site-packages/tensorflow/python/distribute/distribute_lib.py:2945 _call_for_each_replica\n        return fn(*args, **kwargs)\n    /opt/anaconda3/lib/python3.8/site-packages/tensorflow/python/keras/engine/training.py:789 run_step  **\n        outputs = model.train_step(data)\n    /opt/anaconda3/lib/python3.8/site-packages/tensorflow/python/keras/engine/training.py:747 train_step\n        y_pred = self(x, training=True)\n    /opt/anaconda3/lib/python3.8/site-packages/tensorflow/python/keras/engine/base_layer.py:975 __call__\n        input_spec.assert_input_compatibility(self.input_spec, inputs,\n    /opt/anaconda3/lib/python3.8/site-packages/tensorflow/python/keras/engine/input_spec.py:176 assert_input_compatibility\n        raise ValueError('Input ' + str(input_index) + ' of layer ' +\n\n    ValueError: Input 0 of layer sequential_2 is incompatible with the layer: expected ndim=3, found ndim=2. Full shape received: [None, 15]\n"
     ]
    }
   ],
   "source": [
    "model.fit(X_train, y_train, epochs=200, verbose=1)"
   ]
  },
  {
   "cell_type": "code",
   "execution_count": null,
   "metadata": {},
   "outputs": [],
   "source": []
  },
  {
   "cell_type": "code",
   "execution_count": null,
   "metadata": {},
   "outputs": [],
   "source": []
  },
  {
   "cell_type": "code",
   "execution_count": null,
   "metadata": {},
   "outputs": [],
   "source": []
  },
  {
   "cell_type": "code",
   "execution_count": null,
   "metadata": {},
   "outputs": [],
   "source": []
  }
 ],
 "metadata": {
  "kernelspec": {
   "display_name": "Python 3",
   "language": "python",
   "name": "python3"
  },
  "language_info": {
   "codemirror_mode": {
    "name": "ipython",
    "version": 3
   },
   "file_extension": ".py",
   "mimetype": "text/x-python",
   "name": "python",
   "nbconvert_exporter": "python",
   "pygments_lexer": "ipython3",
   "version": "3.8.3"
  }
 },
 "nbformat": 4,
 "nbformat_minor": 4
}
