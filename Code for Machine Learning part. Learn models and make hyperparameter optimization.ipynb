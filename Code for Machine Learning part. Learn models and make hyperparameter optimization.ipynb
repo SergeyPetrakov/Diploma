{
 "cells": [
  {
   "cell_type": "markdown",
   "metadata": {},
   "source": [
    "# Import libraries"
   ]
  },
  {
   "cell_type": "code",
   "execution_count": 23,
   "metadata": {},
   "outputs": [],
   "source": [
    "import sklearn\n",
    "import ast\n",
    "import plotly.graph_objects as go\n",
    "import pandas as pd\n",
    "import numpy as np\n",
    "import plotly.express as px\n",
    "from scipy.stats import randint\n",
    "from scipy.stats import uniform\n",
    "import tensorflow as tf\n",
    "\n",
    "#Linear model\n",
    "from sklearn.linear_model import LinearRegression\n",
    "\n",
    "#KNN\n",
    "from sklearn.neighbors import KNeighborsRegressor\n",
    "\n",
    "#RF\n",
    "from sklearn.ensemble import RandomForestRegressor\n",
    "\n",
    "#SVR\n",
    "from sklearn.svm import SVR\n",
    "\n",
    "#Metrics\n",
    "from sklearn.model_selection import cross_validate, cross_val_score\n",
    "from sklearn.metrics import r2_score, mean_squared_error\n",
    "\n",
    "#Feature selection\n",
    "from sklearn.feature_selection import RFE\n",
    "from sklearn.svm import SVR\n",
    "\n",
    "#Lasso\n",
    "from sklearn.linear_model import Lasso\n",
    "\n",
    "#Ridge\n",
    "from sklearn.linear_model import Ridge\n",
    "\n",
    "#Gradient Boosting \n",
    "#lightgbm\n",
    "import lightgbm as lgb\n",
    "#catboost\n",
    "import catboost as ctb\n",
    "#xgboost\n",
    "import xgboost as xgb\n",
    "import matplotlib as mpl\n",
    "\n",
    "#Neural network\n",
    "import math\n",
    "from keras.models import Sequential\n",
    "from keras.layers import Dense,Dropout\n",
    "from keras.layers import LSTM\n",
    "from sklearn.preprocessing import MinMaxScaler\n"
   ]
  },
  {
   "cell_type": "markdown",
   "metadata": {},
   "source": [
    "# Download data"
   ]
  },
  {
   "cell_type": "code",
   "execution_count": 24,
   "metadata": {},
   "outputs": [],
   "source": [
    "data = pd.read_csv('final_data_without_prefs_and_with_HAMADA_factors.csv')\n",
    "data_ret = pd.read_csv('data_ret.csv')\n",
    "data_ret.drop(columns=['Unnamed: 0'], inplace=True)\n",
    "#data_ret.set_index('Date', inplace=True)\n",
    "data.set_index('Date', inplace = True)\n",
    "macro_data = pd.read_csv('macro_data.csv')\n",
    "macro_data.set_index('Date', inplace = True)"
   ]
  },
  {
   "cell_type": "markdown",
   "metadata": {},
   "source": [
    "# Tune ML models and their hyperparameters"
   ]
  },
  {
   "cell_type": "code",
   "execution_count": null,
   "metadata": {},
   "outputs": [],
   "source": [
    "tf.random.set_seed(42)\n",
    "\n",
    "ml_results = pd.DataFrame({'share':[1],\n",
    "                           'SVM_R2_train':[1], 'SVM_R2_test':[1],\n",
    "                           'RF_R2_train':[1], 'RF_R2_test':[1],\n",
    "                           'LinReg_R2_train':[1], 'LinReg_R2_test':[1],\n",
    "                           'KNN_R2_train':[1], 'KNN_R2_test':[1],\n",
    "                           'LASSO_R2_train':[1], 'LASSO_R2_test':[1],\n",
    "                           'Ridge_R2_train':[1], 'Ridge_R2_test':[1],\n",
    "                           'Light_GBM_R2_train':[1], 'Light_GBM_R2_test':[1],\n",
    "                           'XGBoost_R2_train':[1], 'XGBoost_R2_test':[1],\n",
    "                           'Catboost_R2_train':[1], 'Catboost_R2_test':[1],\n",
    "                           'NN_R2_train':[1], 'NN_R2_test':[1]})\n",
    "\n",
    "ml_results_1 = pd.DataFrame({'share':[1],\n",
    "  'SVM_MSE_train':[1], 'SVM_MSE_test':[1],\n",
    "  'RF_MSE_train':[1], 'RF_MSE_test':[1],\n",
    "  'LinReg_MSE_train':[1], 'LinReg_MSE_test':[1],\n",
    "  'KNN_MSE_train':[1], 'KNN_MSE_test':[1],\n",
    "  'LASSO_MSE_train':[1], 'LASSO_MSE_test':[1],\n",
    "  'Ridge_MSE_train':[1], 'Ridge_MSE_test':[1],\n",
    "  'Light_GBM_MSE_train':[1], 'Light_GBM_MSE_test':[1],\n",
    "  'XGBoost_MSE_train':[1], 'XGBoost_MSE_test':[1],\n",
    "  'Catboost_MSE_train':[1], 'Catboost_MSE_test':[1],\n",
    "  'NN_MSE_train':[1], 'NN_MSE_test':[1]})\n",
    "\n",
    "ml_results_best_params = pd.DataFrame({'share':[1],\n",
    "                                      'SVM_best_params':[1],\n",
    "                                      'RF_best_params':[1], \n",
    "                                      'LinReg_best_params':[1],\n",
    "                                      'KNN_best_params':[1],\n",
    "                                      'LASSO_best_params':[1],\n",
    "                                      'Ridge_best_params':[1],\n",
    "                                      'Light_GBM_best_params':[1], \n",
    "                                      'XGBoost_best_params':[1],\n",
    "                                      'Catboost_best_params':[1],\n",
    "                                      'NN_best_params':[1]})\n",
    "\n",
    "\n",
    "lag_autolag_return_30 = 30\n",
    "lag_autolag_return_60 = 60\n",
    "lag_autolag_return_90 = 90\n",
    "lag_30 = 30\n",
    "lag_60 = 60\n",
    "lag_90 = 90\n",
    "\n",
    "\n",
    "for name in data_ret.columns[2:]:\n",
    "    \n",
    "    df1 = data[[name, 'Hamada_beta_MRP_for_{}'.format(name[7:11]), 'risk_free_rate_based_on_g_curve',\n",
    "                 'Hamada_d_mcap_ratio_SMB_for_{}'.format(name[7:11]),\n",
    "                 'Hamada_d_mcap_ratio_HML_for_{}'.format(name[7:11]),\n",
    "                 'MOM']].dropna()\n",
    "    df_autolag = pd.DataFrame(data[name] - data['risk_free_rate_based_on_g_curve']).rename(columns = {0:'{}_premium_lag_{}_days'.format(name[7:], lag_autolag_return_30)})\n",
    "    df_autolag = pd.DataFrame(df_autolag['{}_premium_lag_{}_days'.format(name[7:], lag_autolag_return_30)].shift(lag_autolag_return_30).dropna())\n",
    "    \n",
    "    df_autolag_2 = pd.DataFrame(data[name] - data['risk_free_rate_based_on_g_curve']).rename(columns = {0:'{}_premium_lag_{}_days'.format(name[7:], lag_autolag_return_60)})\n",
    "    df_autolag_2 = pd.DataFrame(df_autolag_2['{}_premium_lag_{}_days'.format(name[7:], lag_autolag_return_60)].shift(lag_autolag_return_60).dropna())\n",
    "    \n",
    "    df_autolag_3 = pd.DataFrame(data[name] - data['risk_free_rate_based_on_g_curve']).rename(columns = {0:'{}_premium_lag_{}_days'.format(name[7:], lag_autolag_return_90)})\n",
    "    df_autolag_3 = pd.DataFrame(df_autolag_3['{}_premium_lag_{}_days'.format(name[7:], lag_autolag_return_90)].shift(lag_autolag_return_90).dropna())\n",
    "    \n",
    "    df2 = data[['Hamada_d_mcap_ratio_SMB_for_{}'.format(name[7:11]),\n",
    "            'Hamada_d_mcap_ratio_HML_for_{}'.format(name[7:11]), 'MOM']].shift(lag_30).dropna()\n",
    "    \n",
    "    \n",
    "    \n",
    "    df2.rename(columns = {'Hamada_d_mcap_ratio_SMB_for_{}'.format(name[7:11]):'Hamada_d_mcap_ratio_SMB_for_{}_lag_{}_days'.format(name[7:11], lag_30),\n",
    "                          'Hamada_d_mcap_ratio_HML_for_{}'.format(name[7:11]):'Hamada_d_mcap_ratio_HML_for_{}_lag_{}_days'.format(name[7:11], lag_30), \n",
    "                          'MOM':'MOM_lag_{}_days'.format(lag_30)}, inplace = True)\n",
    "    \n",
    "    result = pd.concat([df1, df2], axis=1, join=\"inner\")\n",
    "    \n",
    "    df3 = data[['Hamada_d_mcap_ratio_SMB_for_{}'.format(name[7:11]),\n",
    "            'Hamada_d_mcap_ratio_HML_for_{}'.format(name[7:11]), 'MOM']].shift(lag_60).dropna()\n",
    "    \n",
    "    df3.rename(columns = {'Hamada_d_mcap_ratio_SMB_for_{}'.format(name[7:11]):'Hamada_d_mcap_ratio_SMB_for_{}_lag_{}_days'.format(name[7:11], lag_60),\n",
    "                          'Hamada_d_mcap_ratio_HML_for_{}'.format(name[7:11]):'Hamada_d_mcap_ratio_HML_for_{}_lag_{}_days'.format(name[7:11], lag_60), \n",
    "                          'MOM':'MOM_lag_{}_days'.format(lag_60)}, inplace = True)\n",
    "    \n",
    "    result = pd.concat([result, df3], axis=1, join=\"inner\")\n",
    "    \n",
    "    df4 = data[['Hamada_d_mcap_ratio_SMB_for_{}'.format(name[7:11]),\n",
    "            'Hamada_d_mcap_ratio_HML_for_{}'.format(name[7:11]), 'MOM']].shift(lag_90).dropna()\n",
    "    \n",
    "    df4.rename(columns = {'Hamada_d_mcap_ratio_SMB_for_{}'.format(name[7:11]):'Hamada_d_mcap_ratio_SMB_for_{}_lag_{}_days'.format(name[7:11], lag_90),\n",
    "                          'Hamada_d_mcap_ratio_HML_for_{}'.format(name[7:11]):'Hamada_d_mcap_ratio_HML_for_{}_lag_{}_days'.format(name[7:11], lag_90), \n",
    "                          'MOM':'MOM_lag_{}_days'.format(lag_90)}, inplace = True)\n",
    "    \n",
    "    result = pd.concat([result, df4], axis=1, join=\"inner\")\n",
    "    \n",
    "    result = pd.merge(result, macro_data, left_index=True, right_index=True)\n",
    "    result = pd.merge(result, df_autolag, left_index=True, right_index=True)\n",
    "    result = pd.merge(result, df_autolag_2, left_index=True, right_index=True)\n",
    "    result = pd.merge(result, df_autolag_3, left_index=True, right_index=True)\n",
    "    result['{}_Equity_premium'.format(name[7:14])] = result[name] - result['risk_free_rate_based_on_g_curve']\n",
    "      \n",
    "    share = '{}_Equity_premium'.format(name[7:14])\n",
    "\n",
    "    print(\"###############################################\")\n",
    "    \n",
    "    R_2 = []\n",
    "    R_2.append(share)\n",
    "    \n",
    "    MSE = []\n",
    "    MSE.append(share)\n",
    "    \n",
    "    best_params = []\n",
    "    best_params.append(share)\n",
    "    \n",
    "    print(\"ML models for {}\".format(share))\n",
    "    dta = result.dropna()\n",
    "    \n",
    "    X_train = dta.iloc[:round(len(dta) - len(dta)/4),:][['Hamada_beta_MRP_for_{}'.format(name[7:11]),\n",
    "       '{}_premium_lag_{}_days'.format(name[7:], lag_30),\n",
    "       'Hamada_d_mcap_ratio_SMB_for_{}'.format(name[7:11]),\n",
    "       'Hamada_d_mcap_ratio_HML_for_{}'.format(name[7:11]), \n",
    "       'MOM',\n",
    "       'Hamada_d_mcap_ratio_SMB_for_{}_lag_{}_days'.format(name[7:11], lag_30),\n",
    "       'Hamada_d_mcap_ratio_HML_for_{}_lag_{}_days'.format(name[7:11], lag_30), \n",
    "       'MOM_lag_30_days',\n",
    "       'Hamada_d_mcap_ratio_SMB_for_{}_lag_{}_days'.format(name[7:11], lag_60),\n",
    "       'Hamada_d_mcap_ratio_HML_for_{}_lag_{}_days'.format(name[7:11], lag_60), \n",
    "       'MOM_lag_60_days',\n",
    "       'Hamada_d_mcap_ratio_SMB_for_{}_lag_{}_days'.format(name[7:11], lag_90),\n",
    "       'Hamada_d_mcap_ratio_HML_for_{}_lag_{}_days'.format(name[7:11], lag_90),  \n",
    "       'MOM_lag_90_days',\n",
    "       'dollar_30d_return', 'wti_30d_return']]\n",
    "    X_test = dta.iloc[-round(len(dta)/4):,:][['Hamada_beta_MRP_for_{}'.format(name[7:11]),\n",
    "       '{}_premium_lag_{}_days'.format(name[7:], lag_30),\n",
    "       'Hamada_d_mcap_ratio_SMB_for_{}'.format(name[7:11]),\n",
    "       'Hamada_d_mcap_ratio_HML_for_{}'.format(name[7:11]), \n",
    "       'MOM',\n",
    "       'Hamada_d_mcap_ratio_SMB_for_{}_lag_{}_days'.format(name[7:11], lag_30),\n",
    "       'Hamada_d_mcap_ratio_HML_for_{}_lag_{}_days'.format(name[7:11], lag_30), \n",
    "       'MOM_lag_30_days',\n",
    "       'Hamada_d_mcap_ratio_SMB_for_{}_lag_{}_days'.format(name[7:11], lag_60),\n",
    "       'Hamada_d_mcap_ratio_HML_for_{}_lag_{}_days'.format(name[7:11], lag_60), \n",
    "       'MOM_lag_60_days',\n",
    "       'Hamada_d_mcap_ratio_SMB_for_{}_lag_{}_days'.format(name[7:11], lag_90),\n",
    "       'Hamada_d_mcap_ratio_HML_for_{}_lag_{}_days'.format(name[7:11], lag_90),  \n",
    "       'MOM_lag_90_days',\n",
    "       'dollar_30d_return', 'wti_30d_return']]\n",
    "    y_train = dta.iloc[:round(len(dta) - len(dta)/4),:][share]\n",
    "    y_test = dta.iloc[-round(len(dta)/4):,:][share]\n",
    "\n",
    "    print(\"SVM\")\n",
    "    svr = SVR()\n",
    "    distributions = {'C': loguniform(1e0, 1e3),\n",
    "                     'gamma': loguniform(1e-4, 1e-3),\n",
    "                     'kernel': ['rbf', 'sigmoid', 'linear', 'poly']}\n",
    "\n",
    "    svr = RandomizedSearchCV(svr, distributions, random_state=0, n_jobs=-1)\n",
    "    svr = svr.fit(X_train, y_train)\n",
    "    y_pred_train = svr.best_estimator_.predict(X_train)\n",
    "    print(svr.best_params_)\n",
    "    best_params.append(svr.best_params_)\n",
    "    print('R2 : {}'.format(r2_score(y_train, y_pred_train)))\n",
    "    print('MSE : {}'.format(mean_squared_error(y_train, y_pred_train)))\n",
    "\n",
    "    R_2.append(r2_score(y_train, y_pred_train))\n",
    "    MSE.append(mean_squared_error(y_train, y_pred_train))\n",
    "\n",
    "    y_pred = svr.predict(X_test)\n",
    "    print('R2 : {}'.format(r2_score(y_test, y_pred)))\n",
    "    print('MSE : {}'.format(mean_squared_error(y_test, y_pred)))\n",
    "\n",
    "\n",
    "    R_2.append(r2_score(y_test, y_pred))\n",
    "    MSE.append(mean_squared_error(y_test, y_pred))\n",
    "    print(\"#########\")\n",
    "\n",
    "\n",
    "    print(\"RandomForest\")\n",
    "    rf = RandomForestRegressor(n_estimators=100,criterion='mse',max_depth=10,oob_score=True, bootstrap = True,\n",
    "                                  n_jobs = -1, verbose = 1, random_state = 42)\n",
    "\n",
    "    distributions = {'bootstrap': [True, False],\n",
    "                     'max_depth': [3,4,5,6,7,9,10, 15, None],\n",
    "                     'max_features': ['auto', 'sqrt'],\n",
    "                     'min_samples_leaf': [1, 2, 4, 10, 30, 50, 70],\n",
    "                     'min_samples_split': [2,3, 5,7, 10],\n",
    "                     'n_estimators': [20,50, 100, 150, 200, 400]}\n",
    "\n",
    "    rf = RandomizedSearchCV(rf, distributions, random_state=0, n_iter = 40, cv = 3, verbose=2, n_jobs = -1)\n",
    "    rf = rf.fit(X_train, y_train)\n",
    "    y_pred = rf.best_estimator_.predict(X_train)\n",
    "    print(rf.best_params_)\n",
    "    best_params.append(rf.best_params_)\n",
    "    print('train R2 : {}'.format(r2_score(y_train, y_pred)))\n",
    "    print('train MSE : {}'.format(mean_squared_error(y_train, y_pred)))\n",
    "\n",
    "    R_2.append(r2_score(y_train, y_pred))\n",
    "    MSE.append(mean_squared_error(y_train, y_pred))\n",
    "\n",
    "    y_pred = rf.predict(X_test)\n",
    "    print('test R2 : {}'.format(r2_score(y_test, y_pred)))\n",
    "    print('test MSE : {}'.format(mean_squared_error(y_test, y_pred)))\n",
    "    R_2.append(r2_score(y_test, y_pred))\n",
    "    MSE.append(mean_squared_error(y_test, y_pred))\n",
    "\n",
    "    print(\"#########\")\n",
    "\n",
    "    print(\"LinearRegression\")\n",
    "    model = LinearRegression(fit_intercept=False)\n",
    "\n",
    "    model.fit(X_train,y_train)\n",
    "    y_pred = model.predict(X_train)\n",
    "    print('train R2 : {}'.format(r2_score(y_train, y_pred)))\n",
    "    print('train MSE : {}'.format(mean_squared_error(y_train, y_pred)))\n",
    "\n",
    "    R_2.append(r2_score(y_train, y_pred))\n",
    "    MSE.append(mean_squared_error(y_train, y_pred))\n",
    "\n",
    "    y_pred = model.predict(X_test)\n",
    "    print('test R2 : {}'.format(r2_score(y_test, y_pred)))\n",
    "    print('test MSE : {}'.format(mean_squared_error(y_test, y_pred)))\n",
    "    R_2.append(r2_score(y_test, y_pred))\n",
    "    MSE.append(mean_squared_error(y_test, y_pred))\n",
    "    print(\"#########\")\n",
    "\n",
    "    print(\"KNN\")\n",
    "    knn = KNeighborsRegressor()\n",
    "\n",
    "    distributions = {'n_neighbors': [3,5,7,10,15,25,40,60, 80,100, 150],\n",
    "                     'weights': ['uniform', 'distance'],\n",
    "                     'algorithm':['auto', 'ball_tree', 'kd_tree', 'brute'],\n",
    "                     'p':[1,2]}\n",
    "\n",
    "    knn = RandomizedSearchCV(knn, distributions, random_state=0, n_iter = 40, cv = 3, verbose=2, n_jobs = -1)\n",
    "    knn = knn.fit(X_train, y_train)\n",
    "    y_pred = knn.best_estimator_.predict(X_train)\n",
    "\n",
    "    knn.fit(X=X_train, y=y_train)\n",
    "    y_pred = knn.predict(X_train)\n",
    "\n",
    "    print(knn.best_params_)\n",
    "    best_params.append(knn.best_params_)\n",
    "    print('train R2 : {}'.format(r2_score(y_train, y_pred)))\n",
    "    print('train MSE : {}'.format(mean_squared_error(y_train, y_pred)))\n",
    "\n",
    "    R_2.append(r2_score(y_train, y_pred))\n",
    "    MSE.append(mean_squared_error(y_train, y_pred))\n",
    "    y_pred = knn.predict(X_test)\n",
    "\n",
    "    print('test R2 : {}'.format(r2_score(y_test, y_pred)))\n",
    "    print('test MSE : {}'.format(mean_squared_error(y_test, y_pred)))\n",
    "    R_2.append(r2_score(y_test, y_pred))\n",
    "    MSE.append(mean_squared_error(y_test, y_pred))\n",
    "    print(\"#########\")\n",
    "\n",
    "    print(\"LASSO\")\n",
    "    lasso = Lasso()\n",
    "    distributions = {'alpha':[0.000001, 0.0001, 0.001, 0.01, 0.1, 1],\n",
    "                     'tol':[0.000001, 0.0001, 0.001, 0.01, 0.1, 1, 10],\n",
    "                     'normalize':[True, False],\n",
    "                     'random_state':[0]}\n",
    "\n",
    "    lasso = RandomizedSearchCV(lasso, distributions, random_state=0, n_iter = 40, cv = 3, verbose=2, n_jobs = -1)\n",
    "    lasso = lasso.fit(X_train, y_train)\n",
    "    y_pred = lasso.best_estimator_.predict(X_train)\n",
    "\n",
    "    lasso.fit(X=X_train, y=y_train)\n",
    "    y_pred = lasso.predict(X_train)\n",
    "\n",
    "    print(lasso.best_params_)\n",
    "    best_params.append(lasso.best_params_)\n",
    "    print('train R2 : {}'.format(r2_score(y_train, y_pred)))\n",
    "    print('train MSE : {}'.format(mean_squared_error(y_train, y_pred)))\n",
    "    R_2.append(r2_score(y_train, y_pred))\n",
    "    MSE.append(mean_squared_error(y_train, y_pred))\n",
    "    y_pred = lasso.predict(X_test)\n",
    "\n",
    "    print('test R2 : {}'.format(r2_score(y_test, y_pred)))\n",
    "    print('test MSE : {}'.format(mean_squared_error(y_test, y_pred)))\n",
    "    R_2.append(r2_score(y_test, y_pred))\n",
    "    MSE.append(mean_squared_error(y_test, y_pred))\n",
    "\n",
    "    print(\"#########\")\n",
    "\n",
    "    print(\"Ridge\")\n",
    "    ridge = Ridge()\n",
    "\n",
    "    distributions = {'alpha':[0.000001, 0.0001, 0.001, 0.01, 0.1, 1],\n",
    "                     'tol':[0.000001, 0.0001, 0.001, 0.01, 0.1, 1, 10],\n",
    "                     'normalize':[True, False],\n",
    "                     'random_state':[0]}\n",
    "\n",
    "    ridge = RandomizedSearchCV(ridge, distributions, random_state=0, n_iter = 40, cv = 3, verbose=2, n_jobs = -1)\n",
    "    ridge = ridge.fit(X_train, y_train)\n",
    "    y_pred = ridge.best_estimator_.predict(X_train)\n",
    "\n",
    "    print(ridge.best_params_)\n",
    "    best_params.append(ridge.best_params_)\n",
    "    print('train R2 : {}'.format(r2_score(y_train, y_pred)))\n",
    "    print('train MSE : {}'.format(mean_squared_error(y_train, y_pred)))\n",
    "    R_2.append(r2_score(y_train, y_pred))\n",
    "    MSE.append(mean_squared_error(y_train, y_pred))\n",
    "    y_pred = ridge.predict(X_test)\n",
    "\n",
    "    print('test R2 : {}'.format(r2_score(y_test, y_pred)))\n",
    "    print('test MSE : {}'.format(mean_squared_error(y_test, y_pred)))\n",
    "    R_2.append(r2_score(y_test, y_pred))\n",
    "    MSE.append(mean_squared_error(y_test, y_pred))\n",
    "\n",
    "    print(\"#########\")\n",
    "\n",
    "    print(\"Light GBM\")\n",
    "    model = lgb.LGBMRegressor(random_state=0)\n",
    "\n",
    "    distributions = {'learning_rate':[0.000001, 0.0001, 0.001, 0.01, 0.05, 0.1, 0.5, 1],\n",
    "                     'max_depth' :[1,2,3,4,5,-1],\n",
    "                     'n_estimators':[100,200, 300, 400, 600],\n",
    "                     'boosting_type':['gbdt', 'dart', 'goss', 'rf'],\n",
    "                     'random_state':[0],\n",
    "                     'min_child_samples':[3,7, 10,20,40, 60],\n",
    "                     'importance_type':['split', 'gain'],\n",
    "                     'num_leaves': randint(6, 50), \n",
    "                     'min_child_samples': randint(100, 500), \n",
    "                     'min_child_weight': [1e-5, 1e-3, 1e-2, 1e-1, 1, 1e1, 1e2, 1e3, 1e4],\n",
    "                     'subsample': uniform(loc=0.2, scale=0.8), \n",
    "                     'colsample_bytree': uniform(loc=0.4, scale=0.6),\n",
    "                     'reg_alpha': [0, 1e-1, 1, 2, 5, 7, 10, 50, 100],\n",
    "                     'reg_lambda': [0, 1e-1, 1, 5, 10, 20, 50, 100]}\n",
    "\n",
    "    model = RandomizedSearchCV(model, distributions, random_state=0, n_iter = 100, cv = 8, verbose=2, n_jobs = -1)\n",
    "    model = model.fit(X_train, y_train)\n",
    "    y_pred = model.best_estimator_.predict(X_train)\n",
    "\n",
    "    print(model.best_params_)\n",
    "    best_params.append(model.best_params_)\n",
    "    model.fit(X=X_train, y=y_train)\n",
    "    y_pred = model.predict(X=X_train)\n",
    "\n",
    "    print('train R2 : {}'.format(r2_score(y_train, y_pred)))\n",
    "    print('train MSE : {}'.format(mean_squared_error(y_train, y_pred)))\n",
    "    R_2.append(r2_score(y_train, y_pred))\n",
    "    MSE.append(mean_squared_error(y_train, y_pred))\n",
    "    y_pred = model.predict(X=X_test)\n",
    "\n",
    "    print('test R2 : {}'.format(r2_score(y_test, y_pred)))\n",
    "    print('test MSE : {}'.format(mean_squared_error(y_test, y_pred)))\n",
    "    R_2.append(r2_score(y_test, y_pred))\n",
    "    MSE.append(mean_squared_error(y_test, y_pred))\n",
    "\n",
    "    print(\"#########\")\n",
    "\n",
    "    print(\"XGBoost\")\n",
    "    model = xgb.XGBRegressor(random_state=0)\n",
    "\n",
    "    distributions = {'learning_rate':[0.000001, 0.0001, 0.001, 0.01,0.05, 0.1, 0.5, 1],\n",
    "                     'max_depth' :[1,2,3,4,5,-1],\n",
    "                     'n_estimators':[100,200, 300, 400, 600],\n",
    "                     'random_state':[0],\n",
    "                     'min_child_weight': [1e-5, 1e-3, 1e-2, 1e-1, 1, 1e1, 1e2, 1e3, 1e4],\n",
    "                     'subsample': uniform(loc=0.2, scale=0.8), \n",
    "                     'colsample_bytree': uniform(loc=0.4, scale=0.6),\n",
    "                     'reg_alpha': [0, 1e-1, 1, 2, 5, 7, 10, 50, 100],\n",
    "                     'reg_lambda': [0, 1e-1, 1, 5, 10, 20, 50, 100]}\n",
    "\n",
    "    model = RandomizedSearchCV(model, distributions, random_state=0, n_iter = 100, cv = 8, verbose=2, n_jobs = -1)\n",
    "    model = model.fit(X_train, y_train)\n",
    "    y_pred = model.best_estimator_.predict(X_train)\n",
    "\n",
    "    print(model.best_params_)\n",
    "    best_params.append(model.best_params_)\n",
    "    print('train R2 : {}'.format(r2_score(y_train, y_pred)))\n",
    "    print('train MSE : {}'.format(mean_squared_error(y_train, y_pred)))\n",
    "    R_2.append(r2_score(y_train, y_pred))\n",
    "    MSE.append(mean_squared_error(y_train, y_pred))\n",
    "    y_pred = model.predict(X_test)\n",
    "\n",
    "    print('test R2 : {}'.format(r2_score(y_test, y_pred)))\n",
    "    print('test MSE : {}'.format(mean_squared_error(y_test, y_pred)))\n",
    "    R_2.append(r2_score(y_test, y_pred))\n",
    "    MSE.append(mean_squared_error(y_test, y_pred))\n",
    "    print(\"#########\")\n",
    "\n",
    "    print(\"Catboost\")\n",
    "    model = ctb.CatBoostRegressor(random_state=0)\n",
    "\n",
    "\n",
    "\n",
    "    distributions = {'learning_rate':[0.000001, 0.0001, 0.001, 0.01,0.05, 0.1, 0.5, 1],\n",
    "                     'depth' :[1,2,3,4,5],\n",
    "                     'iterations':randint(10,100),\n",
    "                     'l2_leaf_reg': [1, 3, 5, 7, 9], 'silent':[True]}\n",
    "\n",
    "    model = RandomizedSearchCV(model, distributions, random_state=0, n_iter = 20, cv = 3)\n",
    "    model = model.fit(X_train, y_train)\n",
    "    y_pred = model.best_estimator_.predict(X_train)\n",
    "\n",
    "    print(model.best_params_)\n",
    "    best_params.append(model.best_params_)\n",
    "    print('train R2 : {}'.format(r2_score(y_train, y_pred)))\n",
    "    print('train MSE : {}'.format(mean_squared_error(y_train, y_pred)))\n",
    "    R_2.append(r2_score(y_train, y_pred))\n",
    "    MSE.append(mean_squared_error(y_train, y_pred))\n",
    "    y_pred = model.predict(X_test)\n",
    "\n",
    "    print('test R2 : {}'.format(r2_score(y_test, y_pred)))\n",
    "    print('test MSE : {}'.format(mean_squared_error(y_test, y_pred)))\n",
    "    R_2.append(r2_score(y_test, y_pred))\n",
    "    MSE.append(mean_squared_error(y_test, y_pred))\n",
    "    print(\"#########\")\n",
    "    print(\"Multilayer Perceptron\")\n",
    "\n",
    "    look_back = X_train.shape[1]\n",
    "    model = Sequential()\n",
    "    model.add(Dense(4, input_dim=look_back, activation='tanh'))\n",
    "    model.add(Dense(8, input_dim=look_back, activation='tanh'))\n",
    "    model.add(Dense(32, input_dim=look_back, activation='tanh'))\n",
    "    model.add(Dense(64, input_dim=look_back, activation='tanh'))\n",
    "    model.add(Dense(32, input_dim=look_back, activation='tanh'))\n",
    "    model.add(Dense(16, input_dim=look_back, activation='tanh'))\n",
    "    model.add(Dense(1))\n",
    "    model.compile(loss='mean_squared_error', optimizer='adam')\n",
    "    model.fit(X_train, y_train, epochs=7, batch_size=2, verbose=0)\n",
    "\n",
    "\n",
    "    y_pred = model.predict(X_train)\n",
    "\n",
    "    print('train R2 : {}'.format(r2_score(y_train, y_pred)))\n",
    "    print('train MSE : {}'.format(mean_squared_error(y_train, y_pred)))\n",
    "    R_2.append(r2_score(y_train, y_pred))\n",
    "    MSE.append(mean_squared_error(y_train, y_pred))\n",
    "    y_pred = model.predict(X_test)\n",
    "\n",
    "    print('test R2 : {}'.format(r2_score(y_test, y_pred)))\n",
    "    print('test MSE : {}'.format(mean_squared_error(y_test, y_pred)))\n",
    "    R_2.append(r2_score(y_test, y_pred))\n",
    "    MSE.append(mean_squared_error(y_test, y_pred))\n",
    "    print(\"#########\")\n",
    "\n",
    "    df = pd.DataFrame(R_2).T\n",
    "    df_1 = pd.DataFrame(MSE).T\n",
    "    df_2 = pd.DataFrame(best_params).T\n",
    "    \n",
    "    df.rename(columns={0:'share',\n",
    "                       1:'SVM_R2_train', 2:'SVM_R2_test',\n",
    "                       3:'RF_R2_train', 4:'RF_R2_test',\n",
    "                       5:'LinReg_R2_train', 6:'LinReg_R2_test',\n",
    "                       7:'KNN_R2_train', 8:'KNN_R2_test',\n",
    "                       9:'LASSO_R2_train', 10:'LASSO_R2_test',\n",
    "                       11:'Ridge_R2_train', 12:'Ridge_R2_test',\n",
    "                       13:'Light_GBM_R2_train',14:'Light_GBM_R2_test',\n",
    "                       15:'XGBoost_R2_train', 16:'XGBoost_R2_test',\n",
    "                       17:'Catboost_R2_train', 18:'Catboost_R2_test',\n",
    "                       19:'NN_R2_train', 20:'NN_R2_test'},inplace=True)\n",
    "\n",
    "    df_1.rename(columns={0:'share',\n",
    "                       1:'SVM_MSE_train', 2:'SVM_MSE_test',\n",
    "                       3:'RF_MSE_train', 4:'RF_MSE_test',\n",
    "                       5:'LinReg_MSE_train', 6:'LinReg_MSE_test',\n",
    "                       7:'KNN_MSE_train', 8:'KNN_MSE_test',\n",
    "                       9:'LASSO_MSE_train', 10:'LASSO_MSE_test',\n",
    "                       11:'Ridge_MSE_train', 12:'Ridge_MSE_test',\n",
    "                       13:'Light_GBM_MSE_train',14:'Light_GBM_MSE_test',\n",
    "                       15:'XGBoost_MSE_train', 16:'XGBoost_MSE_test',\n",
    "                       17:'Catboost_MSE_train', 18:'Catboost_MSE_test',\n",
    "                       19:'NN_MSE_train', 20:'NN_MSE_test'},inplace=True)\n",
    "    \n",
    "    df_2.rename(columns={0:'share',\n",
    "                       1:'SVM_best_params', 2:'RF_best_params',\n",
    "                       3:'KNN_best_params', 4:'LASSO_best_params',\n",
    "                       5:'Ridge_best_params', 6:'Light_GBM_best_params',\n",
    "                       7:'XGBoost_best_params', 8:'Catboost_best_params'},inplace=True)\n",
    "    \n",
    "    \n",
    "    ml_results = pd.concat([ml_results, df])\n",
    "    ml_results_1 = pd.concat([ml_results_1, df_1])\n",
    "    ml_results_best_params = pd.concat([ml_results_best_params, df_2])\n",
    "    \n",
    "\n",
    "ml_results = ml_results.iloc[1:,:]\n",
    "ml_results_1 = ml_results_1.iloc[1:,:]\n",
    "ml_results_best_params = ml_results_best_params.iloc[1:,:]\n",
    "\n",
    "ml_data = ml_results.set_index('share')\n",
    "ml_data_1 = ml_results_1.set_index('share')\n",
    "ml_results_best_params = ml_results_best_params.set_index('share')\n",
    "\n",
    "# ml_results_best_params.to_csv('ML_best_params_ever.csv')\n",
    "# ml_data_1.to_csv('MSE_result_ever.csv')\n",
    "# ml_data.to_csv('R2_result_ever.csv')"
   ]
  },
  {
   "cell_type": "markdown",
   "metadata": {},
   "source": [
    "# Read received results"
   ]
  },
  {
   "cell_type": "code",
   "execution_count": 25,
   "metadata": {},
   "outputs": [],
   "source": [
    "ml_results_best_params = pd.read_csv('ML_best_params_ever.csv')\n",
    "ml_data_1 = pd.read_csv('MSE_result_ever.csv')\n",
    "ml_data = pd.read_csv('R2_result_ever.csv')\n",
    "\n",
    "ml_data.set_index('share', inplace=True)\n",
    "ml_data_1.set_index('share', inplace=True)\n",
    "ml_results_best_params.set_index('share', inplace=True)"
   ]
  },
  {
   "cell_type": "markdown",
   "metadata": {},
   "source": [
    "# Plot the results"
   ]
  },
  {
   "cell_type": "markdown",
   "metadata": {},
   "source": [
    "## R2"
   ]
  },
  {
   "cell_type": "code",
   "execution_count": 26,
   "metadata": {},
   "outputs": [],
   "source": [
    "my_df_alg = ml_data.filter(regex = 'test').T\n",
    "my_df_alg['test_R2'] = ml_data.filter(regex = 'test').T.mean(axis = 1)\n",
    "my_df_alg['train_R2'] = ml_data.filter(regex = 'train').T.mean(axis = 1)\n",
    "my_df = pd.DataFrame(ml_data.mean(axis=0)).rename(columns={0:'R2'})"
   ]
  },
  {
   "cell_type": "code",
   "execution_count": 27,
   "metadata": {},
   "outputs": [
    {
     "data": {
      "application/vnd.plotly.v1+json": {
       "config": {
        "plotlyServerURL": "https://plot.ly"
       },
       "data": [
        {
         "hovertemplate": "index=%{x}<br>R2=%{y}<extra></extra>",
         "legendgroup": "",
         "line": {
          "color": "#636efa",
          "dash": "solid"
         },
         "mode": "lines",
         "name": "",
         "orientation": "v",
         "showlegend": false,
         "type": "scatter",
         "x": [
          "SVM_R2_train",
          "RF_R2_train",
          "LinReg_R2_train",
          "KNN_R2_train",
          "LASSO_R2_train",
          "Ridge_R2_train",
          "Light_GBM_R2_train",
          "XGBoost_R2_train",
          "Catboost_R2_train",
          "NN_R2_train"
         ],
         "xaxis": "x",
         "y": [
          0.3701648309514087,
          0.5593954738034779,
          0.4811598916422924,
          0.5859069042664876,
          0.3326959159665587,
          0.4211147172608268,
          0.339183151782876,
          0.4335005464932531,
          0.4246956061996993,
          0.4647687210718619
         ],
         "yaxis": "y"
        }
       ],
       "layout": {
        "legend": {
         "tracegroupgap": 0
        },
        "margin": {
         "t": 60
        },
        "template": {
         "data": {
          "bar": [
           {
            "error_x": {
             "color": "#2a3f5f"
            },
            "error_y": {
             "color": "#2a3f5f"
            },
            "marker": {
             "line": {
              "color": "#E5ECF6",
              "width": 0.5
             }
            },
            "type": "bar"
           }
          ],
          "barpolar": [
           {
            "marker": {
             "line": {
              "color": "#E5ECF6",
              "width": 0.5
             }
            },
            "type": "barpolar"
           }
          ],
          "carpet": [
           {
            "aaxis": {
             "endlinecolor": "#2a3f5f",
             "gridcolor": "white",
             "linecolor": "white",
             "minorgridcolor": "white",
             "startlinecolor": "#2a3f5f"
            },
            "baxis": {
             "endlinecolor": "#2a3f5f",
             "gridcolor": "white",
             "linecolor": "white",
             "minorgridcolor": "white",
             "startlinecolor": "#2a3f5f"
            },
            "type": "carpet"
           }
          ],
          "choropleth": [
           {
            "colorbar": {
             "outlinewidth": 0,
             "ticks": ""
            },
            "type": "choropleth"
           }
          ],
          "contour": [
           {
            "colorbar": {
             "outlinewidth": 0,
             "ticks": ""
            },
            "colorscale": [
             [
              0,
              "#0d0887"
             ],
             [
              0.1111111111111111,
              "#46039f"
             ],
             [
              0.2222222222222222,
              "#7201a8"
             ],
             [
              0.3333333333333333,
              "#9c179e"
             ],
             [
              0.4444444444444444,
              "#bd3786"
             ],
             [
              0.5555555555555556,
              "#d8576b"
             ],
             [
              0.6666666666666666,
              "#ed7953"
             ],
             [
              0.7777777777777778,
              "#fb9f3a"
             ],
             [
              0.8888888888888888,
              "#fdca26"
             ],
             [
              1,
              "#f0f921"
             ]
            ],
            "type": "contour"
           }
          ],
          "contourcarpet": [
           {
            "colorbar": {
             "outlinewidth": 0,
             "ticks": ""
            },
            "type": "contourcarpet"
           }
          ],
          "heatmap": [
           {
            "colorbar": {
             "outlinewidth": 0,
             "ticks": ""
            },
            "colorscale": [
             [
              0,
              "#0d0887"
             ],
             [
              0.1111111111111111,
              "#46039f"
             ],
             [
              0.2222222222222222,
              "#7201a8"
             ],
             [
              0.3333333333333333,
              "#9c179e"
             ],
             [
              0.4444444444444444,
              "#bd3786"
             ],
             [
              0.5555555555555556,
              "#d8576b"
             ],
             [
              0.6666666666666666,
              "#ed7953"
             ],
             [
              0.7777777777777778,
              "#fb9f3a"
             ],
             [
              0.8888888888888888,
              "#fdca26"
             ],
             [
              1,
              "#f0f921"
             ]
            ],
            "type": "heatmap"
           }
          ],
          "heatmapgl": [
           {
            "colorbar": {
             "outlinewidth": 0,
             "ticks": ""
            },
            "colorscale": [
             [
              0,
              "#0d0887"
             ],
             [
              0.1111111111111111,
              "#46039f"
             ],
             [
              0.2222222222222222,
              "#7201a8"
             ],
             [
              0.3333333333333333,
              "#9c179e"
             ],
             [
              0.4444444444444444,
              "#bd3786"
             ],
             [
              0.5555555555555556,
              "#d8576b"
             ],
             [
              0.6666666666666666,
              "#ed7953"
             ],
             [
              0.7777777777777778,
              "#fb9f3a"
             ],
             [
              0.8888888888888888,
              "#fdca26"
             ],
             [
              1,
              "#f0f921"
             ]
            ],
            "type": "heatmapgl"
           }
          ],
          "histogram": [
           {
            "marker": {
             "colorbar": {
              "outlinewidth": 0,
              "ticks": ""
             }
            },
            "type": "histogram"
           }
          ],
          "histogram2d": [
           {
            "colorbar": {
             "outlinewidth": 0,
             "ticks": ""
            },
            "colorscale": [
             [
              0,
              "#0d0887"
             ],
             [
              0.1111111111111111,
              "#46039f"
             ],
             [
              0.2222222222222222,
              "#7201a8"
             ],
             [
              0.3333333333333333,
              "#9c179e"
             ],
             [
              0.4444444444444444,
              "#bd3786"
             ],
             [
              0.5555555555555556,
              "#d8576b"
             ],
             [
              0.6666666666666666,
              "#ed7953"
             ],
             [
              0.7777777777777778,
              "#fb9f3a"
             ],
             [
              0.8888888888888888,
              "#fdca26"
             ],
             [
              1,
              "#f0f921"
             ]
            ],
            "type": "histogram2d"
           }
          ],
          "histogram2dcontour": [
           {
            "colorbar": {
             "outlinewidth": 0,
             "ticks": ""
            },
            "colorscale": [
             [
              0,
              "#0d0887"
             ],
             [
              0.1111111111111111,
              "#46039f"
             ],
             [
              0.2222222222222222,
              "#7201a8"
             ],
             [
              0.3333333333333333,
              "#9c179e"
             ],
             [
              0.4444444444444444,
              "#bd3786"
             ],
             [
              0.5555555555555556,
              "#d8576b"
             ],
             [
              0.6666666666666666,
              "#ed7953"
             ],
             [
              0.7777777777777778,
              "#fb9f3a"
             ],
             [
              0.8888888888888888,
              "#fdca26"
             ],
             [
              1,
              "#f0f921"
             ]
            ],
            "type": "histogram2dcontour"
           }
          ],
          "mesh3d": [
           {
            "colorbar": {
             "outlinewidth": 0,
             "ticks": ""
            },
            "type": "mesh3d"
           }
          ],
          "parcoords": [
           {
            "line": {
             "colorbar": {
              "outlinewidth": 0,
              "ticks": ""
             }
            },
            "type": "parcoords"
           }
          ],
          "pie": [
           {
            "automargin": true,
            "type": "pie"
           }
          ],
          "scatter": [
           {
            "marker": {
             "colorbar": {
              "outlinewidth": 0,
              "ticks": ""
             }
            },
            "type": "scatter"
           }
          ],
          "scatter3d": [
           {
            "line": {
             "colorbar": {
              "outlinewidth": 0,
              "ticks": ""
             }
            },
            "marker": {
             "colorbar": {
              "outlinewidth": 0,
              "ticks": ""
             }
            },
            "type": "scatter3d"
           }
          ],
          "scattercarpet": [
           {
            "marker": {
             "colorbar": {
              "outlinewidth": 0,
              "ticks": ""
             }
            },
            "type": "scattercarpet"
           }
          ],
          "scattergeo": [
           {
            "marker": {
             "colorbar": {
              "outlinewidth": 0,
              "ticks": ""
             }
            },
            "type": "scattergeo"
           }
          ],
          "scattergl": [
           {
            "marker": {
             "colorbar": {
              "outlinewidth": 0,
              "ticks": ""
             }
            },
            "type": "scattergl"
           }
          ],
          "scattermapbox": [
           {
            "marker": {
             "colorbar": {
              "outlinewidth": 0,
              "ticks": ""
             }
            },
            "type": "scattermapbox"
           }
          ],
          "scatterpolar": [
           {
            "marker": {
             "colorbar": {
              "outlinewidth": 0,
              "ticks": ""
             }
            },
            "type": "scatterpolar"
           }
          ],
          "scatterpolargl": [
           {
            "marker": {
             "colorbar": {
              "outlinewidth": 0,
              "ticks": ""
             }
            },
            "type": "scatterpolargl"
           }
          ],
          "scatterternary": [
           {
            "marker": {
             "colorbar": {
              "outlinewidth": 0,
              "ticks": ""
             }
            },
            "type": "scatterternary"
           }
          ],
          "surface": [
           {
            "colorbar": {
             "outlinewidth": 0,
             "ticks": ""
            },
            "colorscale": [
             [
              0,
              "#0d0887"
             ],
             [
              0.1111111111111111,
              "#46039f"
             ],
             [
              0.2222222222222222,
              "#7201a8"
             ],
             [
              0.3333333333333333,
              "#9c179e"
             ],
             [
              0.4444444444444444,
              "#bd3786"
             ],
             [
              0.5555555555555556,
              "#d8576b"
             ],
             [
              0.6666666666666666,
              "#ed7953"
             ],
             [
              0.7777777777777778,
              "#fb9f3a"
             ],
             [
              0.8888888888888888,
              "#fdca26"
             ],
             [
              1,
              "#f0f921"
             ]
            ],
            "type": "surface"
           }
          ],
          "table": [
           {
            "cells": {
             "fill": {
              "color": "#EBF0F8"
             },
             "line": {
              "color": "white"
             }
            },
            "header": {
             "fill": {
              "color": "#C8D4E3"
             },
             "line": {
              "color": "white"
             }
            },
            "type": "table"
           }
          ]
         },
         "layout": {
          "annotationdefaults": {
           "arrowcolor": "#2a3f5f",
           "arrowhead": 0,
           "arrowwidth": 1
          },
          "coloraxis": {
           "colorbar": {
            "outlinewidth": 0,
            "ticks": ""
           }
          },
          "colorscale": {
           "diverging": [
            [
             0,
             "#8e0152"
            ],
            [
             0.1,
             "#c51b7d"
            ],
            [
             0.2,
             "#de77ae"
            ],
            [
             0.3,
             "#f1b6da"
            ],
            [
             0.4,
             "#fde0ef"
            ],
            [
             0.5,
             "#f7f7f7"
            ],
            [
             0.6,
             "#e6f5d0"
            ],
            [
             0.7,
             "#b8e186"
            ],
            [
             0.8,
             "#7fbc41"
            ],
            [
             0.9,
             "#4d9221"
            ],
            [
             1,
             "#276419"
            ]
           ],
           "sequential": [
            [
             0,
             "#0d0887"
            ],
            [
             0.1111111111111111,
             "#46039f"
            ],
            [
             0.2222222222222222,
             "#7201a8"
            ],
            [
             0.3333333333333333,
             "#9c179e"
            ],
            [
             0.4444444444444444,
             "#bd3786"
            ],
            [
             0.5555555555555556,
             "#d8576b"
            ],
            [
             0.6666666666666666,
             "#ed7953"
            ],
            [
             0.7777777777777778,
             "#fb9f3a"
            ],
            [
             0.8888888888888888,
             "#fdca26"
            ],
            [
             1,
             "#f0f921"
            ]
           ],
           "sequentialminus": [
            [
             0,
             "#0d0887"
            ],
            [
             0.1111111111111111,
             "#46039f"
            ],
            [
             0.2222222222222222,
             "#7201a8"
            ],
            [
             0.3333333333333333,
             "#9c179e"
            ],
            [
             0.4444444444444444,
             "#bd3786"
            ],
            [
             0.5555555555555556,
             "#d8576b"
            ],
            [
             0.6666666666666666,
             "#ed7953"
            ],
            [
             0.7777777777777778,
             "#fb9f3a"
            ],
            [
             0.8888888888888888,
             "#fdca26"
            ],
            [
             1,
             "#f0f921"
            ]
           ]
          },
          "colorway": [
           "#636efa",
           "#EF553B",
           "#00cc96",
           "#ab63fa",
           "#FFA15A",
           "#19d3f3",
           "#FF6692",
           "#B6E880",
           "#FF97FF",
           "#FECB52"
          ],
          "font": {
           "color": "#2a3f5f"
          },
          "geo": {
           "bgcolor": "white",
           "lakecolor": "white",
           "landcolor": "#E5ECF6",
           "showlakes": true,
           "showland": true,
           "subunitcolor": "white"
          },
          "hoverlabel": {
           "align": "left"
          },
          "hovermode": "closest",
          "mapbox": {
           "style": "light"
          },
          "paper_bgcolor": "white",
          "plot_bgcolor": "#E5ECF6",
          "polar": {
           "angularaxis": {
            "gridcolor": "white",
            "linecolor": "white",
            "ticks": ""
           },
           "bgcolor": "#E5ECF6",
           "radialaxis": {
            "gridcolor": "white",
            "linecolor": "white",
            "ticks": ""
           }
          },
          "scene": {
           "xaxis": {
            "backgroundcolor": "#E5ECF6",
            "gridcolor": "white",
            "gridwidth": 2,
            "linecolor": "white",
            "showbackground": true,
            "ticks": "",
            "zerolinecolor": "white"
           },
           "yaxis": {
            "backgroundcolor": "#E5ECF6",
            "gridcolor": "white",
            "gridwidth": 2,
            "linecolor": "white",
            "showbackground": true,
            "ticks": "",
            "zerolinecolor": "white"
           },
           "zaxis": {
            "backgroundcolor": "#E5ECF6",
            "gridcolor": "white",
            "gridwidth": 2,
            "linecolor": "white",
            "showbackground": true,
            "ticks": "",
            "zerolinecolor": "white"
           }
          },
          "shapedefaults": {
           "line": {
            "color": "#2a3f5f"
           }
          },
          "ternary": {
           "aaxis": {
            "gridcolor": "white",
            "linecolor": "white",
            "ticks": ""
           },
           "baxis": {
            "gridcolor": "white",
            "linecolor": "white",
            "ticks": ""
           },
           "bgcolor": "#E5ECF6",
           "caxis": {
            "gridcolor": "white",
            "linecolor": "white",
            "ticks": ""
           }
          },
          "title": {
           "x": 0.05
          },
          "xaxis": {
           "automargin": true,
           "gridcolor": "white",
           "linecolor": "white",
           "ticks": "",
           "title": {
            "standoff": 15
           },
           "zerolinecolor": "white",
           "zerolinewidth": 2
          },
          "yaxis": {
           "automargin": true,
           "gridcolor": "white",
           "linecolor": "white",
           "ticks": "",
           "title": {
            "standoff": 15
           },
           "zerolinecolor": "white",
           "zerolinewidth": 2
          }
         }
        },
        "xaxis": {
         "anchor": "y",
         "domain": [
          0,
          1
         ],
         "title": {
          "text": "Алгоритм"
         }
        },
        "yaxis": {
         "anchor": "x",
         "domain": [
          0,
          1
         ],
         "title": {
          "text": "R2"
         }
        }
       }
      },
      "text/html": [
       "<div>                            <div id=\"28450d27-7bb5-4c7a-b4b9-11d1eca6fee8\" class=\"plotly-graph-div\" style=\"height:525px; width:100%;\"></div>            <script type=\"text/javascript\">                require([\"plotly\"], function(Plotly) {                    window.PLOTLYENV=window.PLOTLYENV || {};                                    if (document.getElementById(\"28450d27-7bb5-4c7a-b4b9-11d1eca6fee8\")) {                    Plotly.newPlot(                        \"28450d27-7bb5-4c7a-b4b9-11d1eca6fee8\",                        [{\"hovertemplate\": \"index=%{x}<br>R2=%{y}<extra></extra>\", \"legendgroup\": \"\", \"line\": {\"color\": \"#636efa\", \"dash\": \"solid\"}, \"mode\": \"lines\", \"name\": \"\", \"orientation\": \"v\", \"showlegend\": false, \"type\": \"scatter\", \"x\": [\"SVM_R2_train\", \"RF_R2_train\", \"LinReg_R2_train\", \"KNN_R2_train\", \"LASSO_R2_train\", \"Ridge_R2_train\", \"Light_GBM_R2_train\", \"XGBoost_R2_train\", \"Catboost_R2_train\", \"NN_R2_train\"], \"xaxis\": \"x\", \"y\": [0.3701648309514087, 0.5593954738034779, 0.4811598916422924, 0.5859069042664876, 0.3326959159665587, 0.4211147172608268, 0.339183151782876, 0.4335005464932531, 0.4246956061996993, 0.4647687210718619], \"yaxis\": \"y\"}],                        {\"legend\": {\"tracegroupgap\": 0}, \"margin\": {\"t\": 60}, \"template\": {\"data\": {\"bar\": [{\"error_x\": {\"color\": \"#2a3f5f\"}, \"error_y\": {\"color\": \"#2a3f5f\"}, \"marker\": {\"line\": {\"color\": \"#E5ECF6\", \"width\": 0.5}}, \"type\": \"bar\"}], \"barpolar\": [{\"marker\": {\"line\": {\"color\": \"#E5ECF6\", \"width\": 0.5}}, \"type\": \"barpolar\"}], \"carpet\": [{\"aaxis\": {\"endlinecolor\": \"#2a3f5f\", \"gridcolor\": \"white\", \"linecolor\": \"white\", \"minorgridcolor\": \"white\", \"startlinecolor\": \"#2a3f5f\"}, \"baxis\": {\"endlinecolor\": \"#2a3f5f\", \"gridcolor\": \"white\", \"linecolor\": \"white\", \"minorgridcolor\": \"white\", \"startlinecolor\": \"#2a3f5f\"}, \"type\": \"carpet\"}], \"choropleth\": [{\"colorbar\": {\"outlinewidth\": 0, \"ticks\": \"\"}, \"type\": \"choropleth\"}], \"contour\": [{\"colorbar\": {\"outlinewidth\": 0, \"ticks\": \"\"}, \"colorscale\": [[0.0, \"#0d0887\"], [0.1111111111111111, \"#46039f\"], [0.2222222222222222, \"#7201a8\"], [0.3333333333333333, \"#9c179e\"], [0.4444444444444444, \"#bd3786\"], [0.5555555555555556, \"#d8576b\"], [0.6666666666666666, \"#ed7953\"], [0.7777777777777778, \"#fb9f3a\"], [0.8888888888888888, \"#fdca26\"], [1.0, \"#f0f921\"]], \"type\": \"contour\"}], \"contourcarpet\": [{\"colorbar\": {\"outlinewidth\": 0, \"ticks\": \"\"}, \"type\": \"contourcarpet\"}], \"heatmap\": [{\"colorbar\": {\"outlinewidth\": 0, \"ticks\": \"\"}, \"colorscale\": [[0.0, \"#0d0887\"], [0.1111111111111111, \"#46039f\"], [0.2222222222222222, \"#7201a8\"], [0.3333333333333333, \"#9c179e\"], [0.4444444444444444, \"#bd3786\"], [0.5555555555555556, \"#d8576b\"], [0.6666666666666666, \"#ed7953\"], [0.7777777777777778, \"#fb9f3a\"], [0.8888888888888888, \"#fdca26\"], [1.0, \"#f0f921\"]], \"type\": \"heatmap\"}], \"heatmapgl\": [{\"colorbar\": {\"outlinewidth\": 0, \"ticks\": \"\"}, \"colorscale\": [[0.0, \"#0d0887\"], [0.1111111111111111, \"#46039f\"], [0.2222222222222222, \"#7201a8\"], [0.3333333333333333, \"#9c179e\"], [0.4444444444444444, \"#bd3786\"], [0.5555555555555556, \"#d8576b\"], [0.6666666666666666, \"#ed7953\"], [0.7777777777777778, \"#fb9f3a\"], [0.8888888888888888, \"#fdca26\"], [1.0, \"#f0f921\"]], \"type\": \"heatmapgl\"}], \"histogram\": [{\"marker\": {\"colorbar\": {\"outlinewidth\": 0, \"ticks\": \"\"}}, \"type\": \"histogram\"}], \"histogram2d\": [{\"colorbar\": {\"outlinewidth\": 0, \"ticks\": \"\"}, \"colorscale\": [[0.0, \"#0d0887\"], [0.1111111111111111, \"#46039f\"], [0.2222222222222222, \"#7201a8\"], [0.3333333333333333, \"#9c179e\"], [0.4444444444444444, \"#bd3786\"], [0.5555555555555556, \"#d8576b\"], [0.6666666666666666, \"#ed7953\"], [0.7777777777777778, \"#fb9f3a\"], [0.8888888888888888, \"#fdca26\"], [1.0, \"#f0f921\"]], \"type\": \"histogram2d\"}], \"histogram2dcontour\": [{\"colorbar\": {\"outlinewidth\": 0, \"ticks\": \"\"}, \"colorscale\": [[0.0, \"#0d0887\"], [0.1111111111111111, \"#46039f\"], [0.2222222222222222, \"#7201a8\"], [0.3333333333333333, \"#9c179e\"], [0.4444444444444444, \"#bd3786\"], [0.5555555555555556, \"#d8576b\"], [0.6666666666666666, \"#ed7953\"], [0.7777777777777778, \"#fb9f3a\"], [0.8888888888888888, \"#fdca26\"], [1.0, \"#f0f921\"]], \"type\": \"histogram2dcontour\"}], \"mesh3d\": [{\"colorbar\": {\"outlinewidth\": 0, \"ticks\": \"\"}, \"type\": \"mesh3d\"}], \"parcoords\": [{\"line\": {\"colorbar\": {\"outlinewidth\": 0, \"ticks\": \"\"}}, \"type\": \"parcoords\"}], \"pie\": [{\"automargin\": true, \"type\": \"pie\"}], \"scatter\": [{\"marker\": {\"colorbar\": {\"outlinewidth\": 0, \"ticks\": \"\"}}, \"type\": \"scatter\"}], \"scatter3d\": [{\"line\": {\"colorbar\": {\"outlinewidth\": 0, \"ticks\": \"\"}}, \"marker\": {\"colorbar\": {\"outlinewidth\": 0, \"ticks\": \"\"}}, \"type\": \"scatter3d\"}], \"scattercarpet\": [{\"marker\": {\"colorbar\": {\"outlinewidth\": 0, \"ticks\": \"\"}}, \"type\": \"scattercarpet\"}], \"scattergeo\": [{\"marker\": {\"colorbar\": {\"outlinewidth\": 0, \"ticks\": \"\"}}, \"type\": \"scattergeo\"}], \"scattergl\": [{\"marker\": {\"colorbar\": {\"outlinewidth\": 0, \"ticks\": \"\"}}, \"type\": \"scattergl\"}], \"scattermapbox\": [{\"marker\": {\"colorbar\": {\"outlinewidth\": 0, \"ticks\": \"\"}}, \"type\": \"scattermapbox\"}], \"scatterpolar\": [{\"marker\": {\"colorbar\": {\"outlinewidth\": 0, \"ticks\": \"\"}}, \"type\": \"scatterpolar\"}], \"scatterpolargl\": [{\"marker\": {\"colorbar\": {\"outlinewidth\": 0, \"ticks\": \"\"}}, \"type\": \"scatterpolargl\"}], \"scatterternary\": [{\"marker\": {\"colorbar\": {\"outlinewidth\": 0, \"ticks\": \"\"}}, \"type\": \"scatterternary\"}], \"surface\": [{\"colorbar\": {\"outlinewidth\": 0, \"ticks\": \"\"}, \"colorscale\": [[0.0, \"#0d0887\"], [0.1111111111111111, \"#46039f\"], [0.2222222222222222, \"#7201a8\"], [0.3333333333333333, \"#9c179e\"], [0.4444444444444444, \"#bd3786\"], [0.5555555555555556, \"#d8576b\"], [0.6666666666666666, \"#ed7953\"], [0.7777777777777778, \"#fb9f3a\"], [0.8888888888888888, \"#fdca26\"], [1.0, \"#f0f921\"]], \"type\": \"surface\"}], \"table\": [{\"cells\": {\"fill\": {\"color\": \"#EBF0F8\"}, \"line\": {\"color\": \"white\"}}, \"header\": {\"fill\": {\"color\": \"#C8D4E3\"}, \"line\": {\"color\": \"white\"}}, \"type\": \"table\"}]}, \"layout\": {\"annotationdefaults\": {\"arrowcolor\": \"#2a3f5f\", \"arrowhead\": 0, \"arrowwidth\": 1}, \"coloraxis\": {\"colorbar\": {\"outlinewidth\": 0, \"ticks\": \"\"}}, \"colorscale\": {\"diverging\": [[0, \"#8e0152\"], [0.1, \"#c51b7d\"], [0.2, \"#de77ae\"], [0.3, \"#f1b6da\"], [0.4, \"#fde0ef\"], [0.5, \"#f7f7f7\"], [0.6, \"#e6f5d0\"], [0.7, \"#b8e186\"], [0.8, \"#7fbc41\"], [0.9, \"#4d9221\"], [1, \"#276419\"]], \"sequential\": [[0.0, \"#0d0887\"], [0.1111111111111111, \"#46039f\"], [0.2222222222222222, \"#7201a8\"], [0.3333333333333333, \"#9c179e\"], [0.4444444444444444, \"#bd3786\"], [0.5555555555555556, \"#d8576b\"], [0.6666666666666666, \"#ed7953\"], [0.7777777777777778, \"#fb9f3a\"], [0.8888888888888888, \"#fdca26\"], [1.0, \"#f0f921\"]], \"sequentialminus\": [[0.0, \"#0d0887\"], [0.1111111111111111, \"#46039f\"], [0.2222222222222222, \"#7201a8\"], [0.3333333333333333, \"#9c179e\"], [0.4444444444444444, \"#bd3786\"], [0.5555555555555556, \"#d8576b\"], [0.6666666666666666, \"#ed7953\"], [0.7777777777777778, \"#fb9f3a\"], [0.8888888888888888, \"#fdca26\"], [1.0, \"#f0f921\"]]}, \"colorway\": [\"#636efa\", \"#EF553B\", \"#00cc96\", \"#ab63fa\", \"#FFA15A\", \"#19d3f3\", \"#FF6692\", \"#B6E880\", \"#FF97FF\", \"#FECB52\"], \"font\": {\"color\": \"#2a3f5f\"}, \"geo\": {\"bgcolor\": \"white\", \"lakecolor\": \"white\", \"landcolor\": \"#E5ECF6\", \"showlakes\": true, \"showland\": true, \"subunitcolor\": \"white\"}, \"hoverlabel\": {\"align\": \"left\"}, \"hovermode\": \"closest\", \"mapbox\": {\"style\": \"light\"}, \"paper_bgcolor\": \"white\", \"plot_bgcolor\": \"#E5ECF6\", \"polar\": {\"angularaxis\": {\"gridcolor\": \"white\", \"linecolor\": \"white\", \"ticks\": \"\"}, \"bgcolor\": \"#E5ECF6\", \"radialaxis\": {\"gridcolor\": \"white\", \"linecolor\": \"white\", \"ticks\": \"\"}}, \"scene\": {\"xaxis\": {\"backgroundcolor\": \"#E5ECF6\", \"gridcolor\": \"white\", \"gridwidth\": 2, \"linecolor\": \"white\", \"showbackground\": true, \"ticks\": \"\", \"zerolinecolor\": \"white\"}, \"yaxis\": {\"backgroundcolor\": \"#E5ECF6\", \"gridcolor\": \"white\", \"gridwidth\": 2, \"linecolor\": \"white\", \"showbackground\": true, \"ticks\": \"\", \"zerolinecolor\": \"white\"}, \"zaxis\": {\"backgroundcolor\": \"#E5ECF6\", \"gridcolor\": \"white\", \"gridwidth\": 2, \"linecolor\": \"white\", \"showbackground\": true, \"ticks\": \"\", \"zerolinecolor\": \"white\"}}, \"shapedefaults\": {\"line\": {\"color\": \"#2a3f5f\"}}, \"ternary\": {\"aaxis\": {\"gridcolor\": \"white\", \"linecolor\": \"white\", \"ticks\": \"\"}, \"baxis\": {\"gridcolor\": \"white\", \"linecolor\": \"white\", \"ticks\": \"\"}, \"bgcolor\": \"#E5ECF6\", \"caxis\": {\"gridcolor\": \"white\", \"linecolor\": \"white\", \"ticks\": \"\"}}, \"title\": {\"x\": 0.05}, \"xaxis\": {\"automargin\": true, \"gridcolor\": \"white\", \"linecolor\": \"white\", \"ticks\": \"\", \"title\": {\"standoff\": 15}, \"zerolinecolor\": \"white\", \"zerolinewidth\": 2}, \"yaxis\": {\"automargin\": true, \"gridcolor\": \"white\", \"linecolor\": \"white\", \"ticks\": \"\", \"title\": {\"standoff\": 15}, \"zerolinecolor\": \"white\", \"zerolinewidth\": 2}}}, \"xaxis\": {\"anchor\": \"y\", \"domain\": [0.0, 1.0], \"title\": {\"text\": \"\\u0410\\u043b\\u0433\\u043e\\u0440\\u0438\\u0442\\u043c\"}}, \"yaxis\": {\"anchor\": \"x\", \"domain\": [0.0, 1.0], \"title\": {\"text\": \"R2\"}}},                        {\"responsive\": true}                    ).then(function(){\n",
       "                            \n",
       "var gd = document.getElementById('28450d27-7bb5-4c7a-b4b9-11d1eca6fee8');\n",
       "var x = new MutationObserver(function (mutations, observer) {{\n",
       "        var display = window.getComputedStyle(gd).display;\n",
       "        if (!display || display === 'none') {{\n",
       "            console.log([gd, 'removed!']);\n",
       "            Plotly.purge(gd);\n",
       "            observer.disconnect();\n",
       "        }}\n",
       "}});\n",
       "\n",
       "// Listen for the removal of the full notebook cells\n",
       "var notebookContainer = gd.closest('#notebook-container');\n",
       "if (notebookContainer) {{\n",
       "    x.observe(notebookContainer, {childList: true});\n",
       "}}\n",
       "\n",
       "// Listen for the clearing of the current output cell\n",
       "var outputEl = gd.closest('.output');\n",
       "if (outputEl) {{\n",
       "    x.observe(outputEl, {childList: true});\n",
       "}}\n",
       "\n",
       "                        })                };                });            </script>        </div>"
      ]
     },
     "metadata": {},
     "output_type": "display_data"
    }
   ],
   "source": [
    "fig = px.line(my_df.T.filter(regex = 'train').T, y = 'R2')\n",
    "fig.update_layout(xaxis_title = 'Алгоритм')\n",
    "fig.show()"
   ]
  },
  {
   "cell_type": "code",
   "execution_count": 28,
   "metadata": {},
   "outputs": [
    {
     "data": {
      "application/vnd.plotly.v1+json": {
       "config": {
        "plotlyServerURL": "https://plot.ly"
       },
       "data": [
        {
         "hovertemplate": "index=%{x}<br>R2=%{y}<extra></extra>",
         "legendgroup": "",
         "line": {
          "color": "#636efa",
          "dash": "solid"
         },
         "mode": "lines",
         "name": "",
         "orientation": "v",
         "showlegend": false,
         "type": "scatter",
         "x": [
          "SVM_R2_test",
          "RF_R2_test",
          "LinReg_R2_test",
          "KNN_R2_test",
          "LASSO_R2_test",
          "Ridge_R2_test",
          "Light_GBM_R2_test",
          "XGBoost_R2_test",
          "Catboost_R2_test",
          "NN_R2_test"
         ],
         "xaxis": "x",
         "y": [
          0.17547406940757995,
          0.07576698140695057,
          -0.043712029307374604,
          0.09185415148489849,
          0.22250152966161607,
          0.19610382214101477,
          0.08202308749426625,
          0.029043565768793262,
          0.08135694176962864,
          0.05568392361138667
         ],
         "yaxis": "y"
        }
       ],
       "layout": {
        "legend": {
         "tracegroupgap": 0
        },
        "margin": {
         "t": 60
        },
        "template": {
         "data": {
          "bar": [
           {
            "error_x": {
             "color": "#2a3f5f"
            },
            "error_y": {
             "color": "#2a3f5f"
            },
            "marker": {
             "line": {
              "color": "#E5ECF6",
              "width": 0.5
             }
            },
            "type": "bar"
           }
          ],
          "barpolar": [
           {
            "marker": {
             "line": {
              "color": "#E5ECF6",
              "width": 0.5
             }
            },
            "type": "barpolar"
           }
          ],
          "carpet": [
           {
            "aaxis": {
             "endlinecolor": "#2a3f5f",
             "gridcolor": "white",
             "linecolor": "white",
             "minorgridcolor": "white",
             "startlinecolor": "#2a3f5f"
            },
            "baxis": {
             "endlinecolor": "#2a3f5f",
             "gridcolor": "white",
             "linecolor": "white",
             "minorgridcolor": "white",
             "startlinecolor": "#2a3f5f"
            },
            "type": "carpet"
           }
          ],
          "choropleth": [
           {
            "colorbar": {
             "outlinewidth": 0,
             "ticks": ""
            },
            "type": "choropleth"
           }
          ],
          "contour": [
           {
            "colorbar": {
             "outlinewidth": 0,
             "ticks": ""
            },
            "colorscale": [
             [
              0,
              "#0d0887"
             ],
             [
              0.1111111111111111,
              "#46039f"
             ],
             [
              0.2222222222222222,
              "#7201a8"
             ],
             [
              0.3333333333333333,
              "#9c179e"
             ],
             [
              0.4444444444444444,
              "#bd3786"
             ],
             [
              0.5555555555555556,
              "#d8576b"
             ],
             [
              0.6666666666666666,
              "#ed7953"
             ],
             [
              0.7777777777777778,
              "#fb9f3a"
             ],
             [
              0.8888888888888888,
              "#fdca26"
             ],
             [
              1,
              "#f0f921"
             ]
            ],
            "type": "contour"
           }
          ],
          "contourcarpet": [
           {
            "colorbar": {
             "outlinewidth": 0,
             "ticks": ""
            },
            "type": "contourcarpet"
           }
          ],
          "heatmap": [
           {
            "colorbar": {
             "outlinewidth": 0,
             "ticks": ""
            },
            "colorscale": [
             [
              0,
              "#0d0887"
             ],
             [
              0.1111111111111111,
              "#46039f"
             ],
             [
              0.2222222222222222,
              "#7201a8"
             ],
             [
              0.3333333333333333,
              "#9c179e"
             ],
             [
              0.4444444444444444,
              "#bd3786"
             ],
             [
              0.5555555555555556,
              "#d8576b"
             ],
             [
              0.6666666666666666,
              "#ed7953"
             ],
             [
              0.7777777777777778,
              "#fb9f3a"
             ],
             [
              0.8888888888888888,
              "#fdca26"
             ],
             [
              1,
              "#f0f921"
             ]
            ],
            "type": "heatmap"
           }
          ],
          "heatmapgl": [
           {
            "colorbar": {
             "outlinewidth": 0,
             "ticks": ""
            },
            "colorscale": [
             [
              0,
              "#0d0887"
             ],
             [
              0.1111111111111111,
              "#46039f"
             ],
             [
              0.2222222222222222,
              "#7201a8"
             ],
             [
              0.3333333333333333,
              "#9c179e"
             ],
             [
              0.4444444444444444,
              "#bd3786"
             ],
             [
              0.5555555555555556,
              "#d8576b"
             ],
             [
              0.6666666666666666,
              "#ed7953"
             ],
             [
              0.7777777777777778,
              "#fb9f3a"
             ],
             [
              0.8888888888888888,
              "#fdca26"
             ],
             [
              1,
              "#f0f921"
             ]
            ],
            "type": "heatmapgl"
           }
          ],
          "histogram": [
           {
            "marker": {
             "colorbar": {
              "outlinewidth": 0,
              "ticks": ""
             }
            },
            "type": "histogram"
           }
          ],
          "histogram2d": [
           {
            "colorbar": {
             "outlinewidth": 0,
             "ticks": ""
            },
            "colorscale": [
             [
              0,
              "#0d0887"
             ],
             [
              0.1111111111111111,
              "#46039f"
             ],
             [
              0.2222222222222222,
              "#7201a8"
             ],
             [
              0.3333333333333333,
              "#9c179e"
             ],
             [
              0.4444444444444444,
              "#bd3786"
             ],
             [
              0.5555555555555556,
              "#d8576b"
             ],
             [
              0.6666666666666666,
              "#ed7953"
             ],
             [
              0.7777777777777778,
              "#fb9f3a"
             ],
             [
              0.8888888888888888,
              "#fdca26"
             ],
             [
              1,
              "#f0f921"
             ]
            ],
            "type": "histogram2d"
           }
          ],
          "histogram2dcontour": [
           {
            "colorbar": {
             "outlinewidth": 0,
             "ticks": ""
            },
            "colorscale": [
             [
              0,
              "#0d0887"
             ],
             [
              0.1111111111111111,
              "#46039f"
             ],
             [
              0.2222222222222222,
              "#7201a8"
             ],
             [
              0.3333333333333333,
              "#9c179e"
             ],
             [
              0.4444444444444444,
              "#bd3786"
             ],
             [
              0.5555555555555556,
              "#d8576b"
             ],
             [
              0.6666666666666666,
              "#ed7953"
             ],
             [
              0.7777777777777778,
              "#fb9f3a"
             ],
             [
              0.8888888888888888,
              "#fdca26"
             ],
             [
              1,
              "#f0f921"
             ]
            ],
            "type": "histogram2dcontour"
           }
          ],
          "mesh3d": [
           {
            "colorbar": {
             "outlinewidth": 0,
             "ticks": ""
            },
            "type": "mesh3d"
           }
          ],
          "parcoords": [
           {
            "line": {
             "colorbar": {
              "outlinewidth": 0,
              "ticks": ""
             }
            },
            "type": "parcoords"
           }
          ],
          "pie": [
           {
            "automargin": true,
            "type": "pie"
           }
          ],
          "scatter": [
           {
            "marker": {
             "colorbar": {
              "outlinewidth": 0,
              "ticks": ""
             }
            },
            "type": "scatter"
           }
          ],
          "scatter3d": [
           {
            "line": {
             "colorbar": {
              "outlinewidth": 0,
              "ticks": ""
             }
            },
            "marker": {
             "colorbar": {
              "outlinewidth": 0,
              "ticks": ""
             }
            },
            "type": "scatter3d"
           }
          ],
          "scattercarpet": [
           {
            "marker": {
             "colorbar": {
              "outlinewidth": 0,
              "ticks": ""
             }
            },
            "type": "scattercarpet"
           }
          ],
          "scattergeo": [
           {
            "marker": {
             "colorbar": {
              "outlinewidth": 0,
              "ticks": ""
             }
            },
            "type": "scattergeo"
           }
          ],
          "scattergl": [
           {
            "marker": {
             "colorbar": {
              "outlinewidth": 0,
              "ticks": ""
             }
            },
            "type": "scattergl"
           }
          ],
          "scattermapbox": [
           {
            "marker": {
             "colorbar": {
              "outlinewidth": 0,
              "ticks": ""
             }
            },
            "type": "scattermapbox"
           }
          ],
          "scatterpolar": [
           {
            "marker": {
             "colorbar": {
              "outlinewidth": 0,
              "ticks": ""
             }
            },
            "type": "scatterpolar"
           }
          ],
          "scatterpolargl": [
           {
            "marker": {
             "colorbar": {
              "outlinewidth": 0,
              "ticks": ""
             }
            },
            "type": "scatterpolargl"
           }
          ],
          "scatterternary": [
           {
            "marker": {
             "colorbar": {
              "outlinewidth": 0,
              "ticks": ""
             }
            },
            "type": "scatterternary"
           }
          ],
          "surface": [
           {
            "colorbar": {
             "outlinewidth": 0,
             "ticks": ""
            },
            "colorscale": [
             [
              0,
              "#0d0887"
             ],
             [
              0.1111111111111111,
              "#46039f"
             ],
             [
              0.2222222222222222,
              "#7201a8"
             ],
             [
              0.3333333333333333,
              "#9c179e"
             ],
             [
              0.4444444444444444,
              "#bd3786"
             ],
             [
              0.5555555555555556,
              "#d8576b"
             ],
             [
              0.6666666666666666,
              "#ed7953"
             ],
             [
              0.7777777777777778,
              "#fb9f3a"
             ],
             [
              0.8888888888888888,
              "#fdca26"
             ],
             [
              1,
              "#f0f921"
             ]
            ],
            "type": "surface"
           }
          ],
          "table": [
           {
            "cells": {
             "fill": {
              "color": "#EBF0F8"
             },
             "line": {
              "color": "white"
             }
            },
            "header": {
             "fill": {
              "color": "#C8D4E3"
             },
             "line": {
              "color": "white"
             }
            },
            "type": "table"
           }
          ]
         },
         "layout": {
          "annotationdefaults": {
           "arrowcolor": "#2a3f5f",
           "arrowhead": 0,
           "arrowwidth": 1
          },
          "coloraxis": {
           "colorbar": {
            "outlinewidth": 0,
            "ticks": ""
           }
          },
          "colorscale": {
           "diverging": [
            [
             0,
             "#8e0152"
            ],
            [
             0.1,
             "#c51b7d"
            ],
            [
             0.2,
             "#de77ae"
            ],
            [
             0.3,
             "#f1b6da"
            ],
            [
             0.4,
             "#fde0ef"
            ],
            [
             0.5,
             "#f7f7f7"
            ],
            [
             0.6,
             "#e6f5d0"
            ],
            [
             0.7,
             "#b8e186"
            ],
            [
             0.8,
             "#7fbc41"
            ],
            [
             0.9,
             "#4d9221"
            ],
            [
             1,
             "#276419"
            ]
           ],
           "sequential": [
            [
             0,
             "#0d0887"
            ],
            [
             0.1111111111111111,
             "#46039f"
            ],
            [
             0.2222222222222222,
             "#7201a8"
            ],
            [
             0.3333333333333333,
             "#9c179e"
            ],
            [
             0.4444444444444444,
             "#bd3786"
            ],
            [
             0.5555555555555556,
             "#d8576b"
            ],
            [
             0.6666666666666666,
             "#ed7953"
            ],
            [
             0.7777777777777778,
             "#fb9f3a"
            ],
            [
             0.8888888888888888,
             "#fdca26"
            ],
            [
             1,
             "#f0f921"
            ]
           ],
           "sequentialminus": [
            [
             0,
             "#0d0887"
            ],
            [
             0.1111111111111111,
             "#46039f"
            ],
            [
             0.2222222222222222,
             "#7201a8"
            ],
            [
             0.3333333333333333,
             "#9c179e"
            ],
            [
             0.4444444444444444,
             "#bd3786"
            ],
            [
             0.5555555555555556,
             "#d8576b"
            ],
            [
             0.6666666666666666,
             "#ed7953"
            ],
            [
             0.7777777777777778,
             "#fb9f3a"
            ],
            [
             0.8888888888888888,
             "#fdca26"
            ],
            [
             1,
             "#f0f921"
            ]
           ]
          },
          "colorway": [
           "#636efa",
           "#EF553B",
           "#00cc96",
           "#ab63fa",
           "#FFA15A",
           "#19d3f3",
           "#FF6692",
           "#B6E880",
           "#FF97FF",
           "#FECB52"
          ],
          "font": {
           "color": "#2a3f5f"
          },
          "geo": {
           "bgcolor": "white",
           "lakecolor": "white",
           "landcolor": "#E5ECF6",
           "showlakes": true,
           "showland": true,
           "subunitcolor": "white"
          },
          "hoverlabel": {
           "align": "left"
          },
          "hovermode": "closest",
          "mapbox": {
           "style": "light"
          },
          "paper_bgcolor": "white",
          "plot_bgcolor": "#E5ECF6",
          "polar": {
           "angularaxis": {
            "gridcolor": "white",
            "linecolor": "white",
            "ticks": ""
           },
           "bgcolor": "#E5ECF6",
           "radialaxis": {
            "gridcolor": "white",
            "linecolor": "white",
            "ticks": ""
           }
          },
          "scene": {
           "xaxis": {
            "backgroundcolor": "#E5ECF6",
            "gridcolor": "white",
            "gridwidth": 2,
            "linecolor": "white",
            "showbackground": true,
            "ticks": "",
            "zerolinecolor": "white"
           },
           "yaxis": {
            "backgroundcolor": "#E5ECF6",
            "gridcolor": "white",
            "gridwidth": 2,
            "linecolor": "white",
            "showbackground": true,
            "ticks": "",
            "zerolinecolor": "white"
           },
           "zaxis": {
            "backgroundcolor": "#E5ECF6",
            "gridcolor": "white",
            "gridwidth": 2,
            "linecolor": "white",
            "showbackground": true,
            "ticks": "",
            "zerolinecolor": "white"
           }
          },
          "shapedefaults": {
           "line": {
            "color": "#2a3f5f"
           }
          },
          "ternary": {
           "aaxis": {
            "gridcolor": "white",
            "linecolor": "white",
            "ticks": ""
           },
           "baxis": {
            "gridcolor": "white",
            "linecolor": "white",
            "ticks": ""
           },
           "bgcolor": "#E5ECF6",
           "caxis": {
            "gridcolor": "white",
            "linecolor": "white",
            "ticks": ""
           }
          },
          "title": {
           "x": 0.05
          },
          "xaxis": {
           "automargin": true,
           "gridcolor": "white",
           "linecolor": "white",
           "ticks": "",
           "title": {
            "standoff": 15
           },
           "zerolinecolor": "white",
           "zerolinewidth": 2
          },
          "yaxis": {
           "automargin": true,
           "gridcolor": "white",
           "linecolor": "white",
           "ticks": "",
           "title": {
            "standoff": 15
           },
           "zerolinecolor": "white",
           "zerolinewidth": 2
          }
         }
        },
        "xaxis": {
         "anchor": "y",
         "domain": [
          0,
          1
         ],
         "title": {
          "text": "Алгоритм"
         }
        },
        "yaxis": {
         "anchor": "x",
         "domain": [
          0,
          1
         ],
         "title": {
          "text": "R2"
         }
        }
       }
      },
      "text/html": [
       "<div>                            <div id=\"f81b5114-be2e-4843-b349-fea74759fcd7\" class=\"plotly-graph-div\" style=\"height:525px; width:100%;\"></div>            <script type=\"text/javascript\">                require([\"plotly\"], function(Plotly) {                    window.PLOTLYENV=window.PLOTLYENV || {};                                    if (document.getElementById(\"f81b5114-be2e-4843-b349-fea74759fcd7\")) {                    Plotly.newPlot(                        \"f81b5114-be2e-4843-b349-fea74759fcd7\",                        [{\"hovertemplate\": \"index=%{x}<br>R2=%{y}<extra></extra>\", \"legendgroup\": \"\", \"line\": {\"color\": \"#636efa\", \"dash\": \"solid\"}, \"mode\": \"lines\", \"name\": \"\", \"orientation\": \"v\", \"showlegend\": false, \"type\": \"scatter\", \"x\": [\"SVM_R2_test\", \"RF_R2_test\", \"LinReg_R2_test\", \"KNN_R2_test\", \"LASSO_R2_test\", \"Ridge_R2_test\", \"Light_GBM_R2_test\", \"XGBoost_R2_test\", \"Catboost_R2_test\", \"NN_R2_test\"], \"xaxis\": \"x\", \"y\": [0.17547406940757995, 0.07576698140695057, -0.043712029307374604, 0.09185415148489849, 0.22250152966161607, 0.19610382214101477, 0.08202308749426625, 0.029043565768793262, 0.08135694176962864, 0.05568392361138667], \"yaxis\": \"y\"}],                        {\"legend\": {\"tracegroupgap\": 0}, \"margin\": {\"t\": 60}, \"template\": {\"data\": {\"bar\": [{\"error_x\": {\"color\": \"#2a3f5f\"}, \"error_y\": {\"color\": \"#2a3f5f\"}, \"marker\": {\"line\": {\"color\": \"#E5ECF6\", \"width\": 0.5}}, \"type\": \"bar\"}], \"barpolar\": [{\"marker\": {\"line\": {\"color\": \"#E5ECF6\", \"width\": 0.5}}, \"type\": \"barpolar\"}], \"carpet\": [{\"aaxis\": {\"endlinecolor\": \"#2a3f5f\", \"gridcolor\": \"white\", \"linecolor\": \"white\", \"minorgridcolor\": \"white\", \"startlinecolor\": \"#2a3f5f\"}, \"baxis\": {\"endlinecolor\": \"#2a3f5f\", \"gridcolor\": \"white\", \"linecolor\": \"white\", \"minorgridcolor\": \"white\", \"startlinecolor\": \"#2a3f5f\"}, \"type\": \"carpet\"}], \"choropleth\": [{\"colorbar\": {\"outlinewidth\": 0, \"ticks\": \"\"}, \"type\": \"choropleth\"}], \"contour\": [{\"colorbar\": {\"outlinewidth\": 0, \"ticks\": \"\"}, \"colorscale\": [[0.0, \"#0d0887\"], [0.1111111111111111, \"#46039f\"], [0.2222222222222222, \"#7201a8\"], [0.3333333333333333, \"#9c179e\"], [0.4444444444444444, \"#bd3786\"], [0.5555555555555556, \"#d8576b\"], [0.6666666666666666, \"#ed7953\"], [0.7777777777777778, \"#fb9f3a\"], [0.8888888888888888, \"#fdca26\"], [1.0, \"#f0f921\"]], \"type\": \"contour\"}], \"contourcarpet\": [{\"colorbar\": {\"outlinewidth\": 0, \"ticks\": \"\"}, \"type\": \"contourcarpet\"}], \"heatmap\": [{\"colorbar\": {\"outlinewidth\": 0, \"ticks\": \"\"}, \"colorscale\": [[0.0, \"#0d0887\"], [0.1111111111111111, \"#46039f\"], [0.2222222222222222, \"#7201a8\"], [0.3333333333333333, \"#9c179e\"], [0.4444444444444444, \"#bd3786\"], [0.5555555555555556, \"#d8576b\"], [0.6666666666666666, \"#ed7953\"], [0.7777777777777778, \"#fb9f3a\"], [0.8888888888888888, \"#fdca26\"], [1.0, \"#f0f921\"]], \"type\": \"heatmap\"}], \"heatmapgl\": [{\"colorbar\": {\"outlinewidth\": 0, \"ticks\": \"\"}, \"colorscale\": [[0.0, \"#0d0887\"], [0.1111111111111111, \"#46039f\"], [0.2222222222222222, \"#7201a8\"], [0.3333333333333333, \"#9c179e\"], [0.4444444444444444, \"#bd3786\"], [0.5555555555555556, \"#d8576b\"], [0.6666666666666666, \"#ed7953\"], [0.7777777777777778, \"#fb9f3a\"], [0.8888888888888888, \"#fdca26\"], [1.0, \"#f0f921\"]], \"type\": \"heatmapgl\"}], \"histogram\": [{\"marker\": {\"colorbar\": {\"outlinewidth\": 0, \"ticks\": \"\"}}, \"type\": \"histogram\"}], \"histogram2d\": [{\"colorbar\": {\"outlinewidth\": 0, \"ticks\": \"\"}, \"colorscale\": [[0.0, \"#0d0887\"], [0.1111111111111111, \"#46039f\"], [0.2222222222222222, \"#7201a8\"], [0.3333333333333333, \"#9c179e\"], [0.4444444444444444, \"#bd3786\"], [0.5555555555555556, \"#d8576b\"], [0.6666666666666666, \"#ed7953\"], [0.7777777777777778, \"#fb9f3a\"], [0.8888888888888888, \"#fdca26\"], [1.0, \"#f0f921\"]], \"type\": \"histogram2d\"}], \"histogram2dcontour\": [{\"colorbar\": {\"outlinewidth\": 0, \"ticks\": \"\"}, \"colorscale\": [[0.0, \"#0d0887\"], [0.1111111111111111, \"#46039f\"], [0.2222222222222222, \"#7201a8\"], [0.3333333333333333, \"#9c179e\"], [0.4444444444444444, \"#bd3786\"], [0.5555555555555556, \"#d8576b\"], [0.6666666666666666, \"#ed7953\"], [0.7777777777777778, \"#fb9f3a\"], [0.8888888888888888, \"#fdca26\"], [1.0, \"#f0f921\"]], \"type\": \"histogram2dcontour\"}], \"mesh3d\": [{\"colorbar\": {\"outlinewidth\": 0, \"ticks\": \"\"}, \"type\": \"mesh3d\"}], \"parcoords\": [{\"line\": {\"colorbar\": {\"outlinewidth\": 0, \"ticks\": \"\"}}, \"type\": \"parcoords\"}], \"pie\": [{\"automargin\": true, \"type\": \"pie\"}], \"scatter\": [{\"marker\": {\"colorbar\": {\"outlinewidth\": 0, \"ticks\": \"\"}}, \"type\": \"scatter\"}], \"scatter3d\": [{\"line\": {\"colorbar\": {\"outlinewidth\": 0, \"ticks\": \"\"}}, \"marker\": {\"colorbar\": {\"outlinewidth\": 0, \"ticks\": \"\"}}, \"type\": \"scatter3d\"}], \"scattercarpet\": [{\"marker\": {\"colorbar\": {\"outlinewidth\": 0, \"ticks\": \"\"}}, \"type\": \"scattercarpet\"}], \"scattergeo\": [{\"marker\": {\"colorbar\": {\"outlinewidth\": 0, \"ticks\": \"\"}}, \"type\": \"scattergeo\"}], \"scattergl\": [{\"marker\": {\"colorbar\": {\"outlinewidth\": 0, \"ticks\": \"\"}}, \"type\": \"scattergl\"}], \"scattermapbox\": [{\"marker\": {\"colorbar\": {\"outlinewidth\": 0, \"ticks\": \"\"}}, \"type\": \"scattermapbox\"}], \"scatterpolar\": [{\"marker\": {\"colorbar\": {\"outlinewidth\": 0, \"ticks\": \"\"}}, \"type\": \"scatterpolar\"}], \"scatterpolargl\": [{\"marker\": {\"colorbar\": {\"outlinewidth\": 0, \"ticks\": \"\"}}, \"type\": \"scatterpolargl\"}], \"scatterternary\": [{\"marker\": {\"colorbar\": {\"outlinewidth\": 0, \"ticks\": \"\"}}, \"type\": \"scatterternary\"}], \"surface\": [{\"colorbar\": {\"outlinewidth\": 0, \"ticks\": \"\"}, \"colorscale\": [[0.0, \"#0d0887\"], [0.1111111111111111, \"#46039f\"], [0.2222222222222222, \"#7201a8\"], [0.3333333333333333, \"#9c179e\"], [0.4444444444444444, \"#bd3786\"], [0.5555555555555556, \"#d8576b\"], [0.6666666666666666, \"#ed7953\"], [0.7777777777777778, \"#fb9f3a\"], [0.8888888888888888, \"#fdca26\"], [1.0, \"#f0f921\"]], \"type\": \"surface\"}], \"table\": [{\"cells\": {\"fill\": {\"color\": \"#EBF0F8\"}, \"line\": {\"color\": \"white\"}}, \"header\": {\"fill\": {\"color\": \"#C8D4E3\"}, \"line\": {\"color\": \"white\"}}, \"type\": \"table\"}]}, \"layout\": {\"annotationdefaults\": {\"arrowcolor\": \"#2a3f5f\", \"arrowhead\": 0, \"arrowwidth\": 1}, \"coloraxis\": {\"colorbar\": {\"outlinewidth\": 0, \"ticks\": \"\"}}, \"colorscale\": {\"diverging\": [[0, \"#8e0152\"], [0.1, \"#c51b7d\"], [0.2, \"#de77ae\"], [0.3, \"#f1b6da\"], [0.4, \"#fde0ef\"], [0.5, \"#f7f7f7\"], [0.6, \"#e6f5d0\"], [0.7, \"#b8e186\"], [0.8, \"#7fbc41\"], [0.9, \"#4d9221\"], [1, \"#276419\"]], \"sequential\": [[0.0, \"#0d0887\"], [0.1111111111111111, \"#46039f\"], [0.2222222222222222, \"#7201a8\"], [0.3333333333333333, \"#9c179e\"], [0.4444444444444444, \"#bd3786\"], [0.5555555555555556, \"#d8576b\"], [0.6666666666666666, \"#ed7953\"], [0.7777777777777778, \"#fb9f3a\"], [0.8888888888888888, \"#fdca26\"], [1.0, \"#f0f921\"]], \"sequentialminus\": [[0.0, \"#0d0887\"], [0.1111111111111111, \"#46039f\"], [0.2222222222222222, \"#7201a8\"], [0.3333333333333333, \"#9c179e\"], [0.4444444444444444, \"#bd3786\"], [0.5555555555555556, \"#d8576b\"], [0.6666666666666666, \"#ed7953\"], [0.7777777777777778, \"#fb9f3a\"], [0.8888888888888888, \"#fdca26\"], [1.0, \"#f0f921\"]]}, \"colorway\": [\"#636efa\", \"#EF553B\", \"#00cc96\", \"#ab63fa\", \"#FFA15A\", \"#19d3f3\", \"#FF6692\", \"#B6E880\", \"#FF97FF\", \"#FECB52\"], \"font\": {\"color\": \"#2a3f5f\"}, \"geo\": {\"bgcolor\": \"white\", \"lakecolor\": \"white\", \"landcolor\": \"#E5ECF6\", \"showlakes\": true, \"showland\": true, \"subunitcolor\": \"white\"}, \"hoverlabel\": {\"align\": \"left\"}, \"hovermode\": \"closest\", \"mapbox\": {\"style\": \"light\"}, \"paper_bgcolor\": \"white\", \"plot_bgcolor\": \"#E5ECF6\", \"polar\": {\"angularaxis\": {\"gridcolor\": \"white\", \"linecolor\": \"white\", \"ticks\": \"\"}, \"bgcolor\": \"#E5ECF6\", \"radialaxis\": {\"gridcolor\": \"white\", \"linecolor\": \"white\", \"ticks\": \"\"}}, \"scene\": {\"xaxis\": {\"backgroundcolor\": \"#E5ECF6\", \"gridcolor\": \"white\", \"gridwidth\": 2, \"linecolor\": \"white\", \"showbackground\": true, \"ticks\": \"\", \"zerolinecolor\": \"white\"}, \"yaxis\": {\"backgroundcolor\": \"#E5ECF6\", \"gridcolor\": \"white\", \"gridwidth\": 2, \"linecolor\": \"white\", \"showbackground\": true, \"ticks\": \"\", \"zerolinecolor\": \"white\"}, \"zaxis\": {\"backgroundcolor\": \"#E5ECF6\", \"gridcolor\": \"white\", \"gridwidth\": 2, \"linecolor\": \"white\", \"showbackground\": true, \"ticks\": \"\", \"zerolinecolor\": \"white\"}}, \"shapedefaults\": {\"line\": {\"color\": \"#2a3f5f\"}}, \"ternary\": {\"aaxis\": {\"gridcolor\": \"white\", \"linecolor\": \"white\", \"ticks\": \"\"}, \"baxis\": {\"gridcolor\": \"white\", \"linecolor\": \"white\", \"ticks\": \"\"}, \"bgcolor\": \"#E5ECF6\", \"caxis\": {\"gridcolor\": \"white\", \"linecolor\": \"white\", \"ticks\": \"\"}}, \"title\": {\"x\": 0.05}, \"xaxis\": {\"automargin\": true, \"gridcolor\": \"white\", \"linecolor\": \"white\", \"ticks\": \"\", \"title\": {\"standoff\": 15}, \"zerolinecolor\": \"white\", \"zerolinewidth\": 2}, \"yaxis\": {\"automargin\": true, \"gridcolor\": \"white\", \"linecolor\": \"white\", \"ticks\": \"\", \"title\": {\"standoff\": 15}, \"zerolinecolor\": \"white\", \"zerolinewidth\": 2}}}, \"xaxis\": {\"anchor\": \"y\", \"domain\": [0.0, 1.0], \"title\": {\"text\": \"\\u0410\\u043b\\u0433\\u043e\\u0440\\u0438\\u0442\\u043c\"}}, \"yaxis\": {\"anchor\": \"x\", \"domain\": [0.0, 1.0], \"title\": {\"text\": \"R2\"}}},                        {\"responsive\": true}                    ).then(function(){\n",
       "                            \n",
       "var gd = document.getElementById('f81b5114-be2e-4843-b349-fea74759fcd7');\n",
       "var x = new MutationObserver(function (mutations, observer) {{\n",
       "        var display = window.getComputedStyle(gd).display;\n",
       "        if (!display || display === 'none') {{\n",
       "            console.log([gd, 'removed!']);\n",
       "            Plotly.purge(gd);\n",
       "            observer.disconnect();\n",
       "        }}\n",
       "}});\n",
       "\n",
       "// Listen for the removal of the full notebook cells\n",
       "var notebookContainer = gd.closest('#notebook-container');\n",
       "if (notebookContainer) {{\n",
       "    x.observe(notebookContainer, {childList: true});\n",
       "}}\n",
       "\n",
       "// Listen for the clearing of the current output cell\n",
       "var outputEl = gd.closest('.output');\n",
       "if (outputEl) {{\n",
       "    x.observe(outputEl, {childList: true});\n",
       "}}\n",
       "\n",
       "                        })                };                });            </script>        </div>"
      ]
     },
     "metadata": {},
     "output_type": "display_data"
    }
   ],
   "source": [
    "fig = px.line(my_df.T.filter(regex = 'test').T, y = 'R2')\n",
    "fig.update_layout(xaxis_title = 'Алгоритм')\n",
    "fig.show()"
   ]
  },
  {
   "cell_type": "markdown",
   "metadata": {},
   "source": [
    "## MSE"
   ]
  },
  {
   "cell_type": "code",
   "execution_count": 29,
   "metadata": {},
   "outputs": [],
   "source": [
    "ml_data['Средний MSE на тестовой выборке'] = ml_data_1.filter(regex = 'test').mean(axis = 1)\n",
    "ml_data['Средний MSE на обучении'] = ml_data_1.filter(regex = 'train').mean(axis = 1)\n",
    "ml_data['Акция'] = ml_data_1.index.astype(str).str[:4]"
   ]
  },
  {
   "cell_type": "code",
   "execution_count": 30,
   "metadata": {},
   "outputs": [],
   "source": [
    "names = {'SBER':'Сбербанк', 'GAZP':'Газпром', 'LKOH':'Лукойл','GMKN':'Норникель' ,'NVTK':'Новатэк', 'SNGS':'Сургутнефтегаз',\n",
    "         'PLZL':'Полюс','TATN':'Татнефть','ROSN':'Роснефть','MGNT':'Магнит','MTSS':'МТС', 'MOEX':'МосБиржа', \n",
    "         'IRAO':'Интер РАО', 'NLMK':'НЛМК', 'ALRS':'Алроса','CHMF':'Северсталь','VTBR':'ВТБ','RTKM':'Ростелеком',\n",
    "         'PHOR':'Фосагро','AFKS':'АФК «Система»','MAGN':'ММК','PIKK':'ПИК',\n",
    "         'HYDR':'Русгидро','FEES':'ФСК ЕЭС','AFLT':'Аэрофлот','LSRG':'ЛСР','RSTI':'Россети','UPRO':'Юнипро',\n",
    "         'LNTA':'Лента','MVID':'М.Видео','TRMK':'ТМК','MTLR':'Мечел','NMTP':'НМТП','AKRN':'Акрон',\n",
    "         'MSNG':'Мосэнерго','URKA':'Уралкалий','BANE':'Башнефть','VSMO':'ВСМПО-Ависма','NKNC':'Нижнекамскнефтехим',\n",
    "         'GCHE':'Черкизово','SVAV':'Соллерс','MSTT':'Мостотрест','BSPB':'Банк Санкт-Петербург', 'MSRS':'МОЭСК',\n",
    "         'KMAZ':'Камаз','RASP':'Распадская','OGKB':'ОГК №2','VZRZ':'Банк \"Возрождение\"'}\n",
    "ml_data.replace({\"Акция\": names}, inplace=True)"
   ]
  },
  {
   "cell_type": "code",
   "execution_count": 31,
   "metadata": {},
   "outputs": [
    {
     "data": {
      "application/vnd.plotly.v1+json": {
       "config": {
        "plotlyServerURL": "https://plot.ly"
       },
       "data": [
        {
         "mode": "lines+markers",
         "name": "Средний MSE на тестовой выборке",
         "type": "scatter",
         "x": [
          "Сбербанк",
          "Газпром",
          "Лукойл",
          "Норникель",
          "Новатэк",
          "Сургутнефтегаз",
          "Полюс",
          "Татнефть",
          "Роснефть",
          "Магнит",
          "МТС",
          "МосБиржа",
          "Интер РАО",
          "НЛМК",
          "Алроса",
          "Северсталь",
          "ВТБ",
          "Ростелеком",
          "Фосагро",
          "АФК «Система»",
          "ММК",
          "ПИК",
          "Русгидро",
          "ФСК ЕЭС",
          "Аэрофлот",
          "ЛСР",
          "Россети",
          "Юнипро",
          "Лента",
          "М.Видео",
          "ТМК",
          "Мечел",
          "НМТП",
          "Акрон",
          "Мосэнерго",
          "Уралкалий",
          "Башнефть",
          "ВСМПО-Ависма",
          "Нижнекамскнефтехим",
          "Черкизово",
          "Соллерс",
          "Мостотрест",
          "Банк Санкт-Петербург",
          "МОЭСК",
          "Камаз",
          "Распадская",
          "ОГК №2",
          "Банк \"Возрождение\""
         ],
         "y": [
          0.00429840237223889,
          0.0057605232571908815,
          0.0063883507644348775,
          0.00457656928538139,
          0.0074377228790599255,
          0.023468374171817265,
          0.01780352666126384,
          0.006938225733607398,
          0.008607996395963538,
          0.008756597533959685,
          0.0033757823043434484,
          0.008663107983964859,
          0.014172166184855875,
          0.006076340197198761,
          0.01282974355191444,
          0.004922938392943395,
          0.012040348959996823,
          0.004427795860400178,
          0.0035839391231885396,
          0.01864536748501922,
          0.006896933092659106,
          0.004248877214295549,
          0.008868975750905608,
          0.009860290738870115,
          0.013488971140996422,
          0.007491111040570019,
          0.029094746021159863,
          0.003450938357546418,
          0.009684380015027106,
          0.009310484013163875,
          0.014911558442881282,
          0.03168206931556889,
          0.00412279878984134,
          0.00343167827622464,
          0.006147054276797799,
          0.008421774725876277,
          0.004253927331684656,
          0.013131807586687829,
          0.017380131088302893,
          0.013141117733720783,
          0.008003348094841847,
          0.02317308334248238,
          0.0063443133636238505,
          0.020236084893018137,
          0.01006036221880165,
          0.009867258061762368,
          0.01048932193296509,
          0.008400338580433386
         ]
        },
        {
         "mode": "lines+markers",
         "name": "Средний MSE на обучающей выборке",
         "type": "scatter",
         "x": [
          "Сбербанк",
          "Газпром",
          "Лукойл",
          "Норникель",
          "Новатэк",
          "Сургутнефтегаз",
          "Полюс",
          "Татнефть",
          "Роснефть",
          "Магнит",
          "МТС",
          "МосБиржа",
          "Интер РАО",
          "НЛМК",
          "Алроса",
          "Северсталь",
          "ВТБ",
          "Ростелеком",
          "Фосагро",
          "АФК «Система»",
          "ММК",
          "ПИК",
          "Русгидро",
          "ФСК ЕЭС",
          "Аэрофлот",
          "ЛСР",
          "Россети",
          "Юнипро",
          "Лента",
          "М.Видео",
          "ТМК",
          "Мечел",
          "НМТП",
          "Акрон",
          "Мосэнерго",
          "Уралкалий",
          "Башнефть",
          "ВСМПО-Ависма",
          "Нижнекамскнефтехим",
          "Черкизово",
          "Соллерс",
          "Мостотрест",
          "Банк Санкт-Петербург",
          "МОЭСК",
          "Камаз",
          "Распадская",
          "ОГК №2",
          "Банк \"Возрождение\""
         ],
         "y": [
          0.0030648790654552232,
          0.0013695244415443029,
          0.0011208941912547552,
          0.0030369352335488068,
          0.002517538494830157,
          0.0039042992891927947,
          0.006292447690455634,
          0.0031884017169786978,
          0.0029670115932462653,
          0.0078057766412591625,
          0.004600670527245735,
          0.003462210464949016,
          0.004866670843332999,
          0.006466286328649845,
          0.008276491759963783,
          0.006873189400328576,
          0.004881416400388244,
          0.0044874328473036105,
          0.004116370496182128,
          0.0331357094079763,
          0.007943587882183804,
          0.007371966015350376,
          0.005436763690318601,
          0.004918980428283036,
          0.008703651147927515,
          0.005167531236389232,
          0.003974483521712804,
          0.003840096642924947,
          0.006285735536181702,
          0.00637795569258757,
          0.01238896570566424,
          0.024722042836460477,
          0.011399067446668522,
          0.006280005231187847,
          0.004422130246218902,
          0.009987824677075811,
          0.012201834156545863,
          0.0043911842423398646,
          0.0044240571567363985,
          0.006004892225010801,
          0.007410958238094305,
          0.0059881309195442154,
          0.007047769486652952,
          0.0022037101147350732,
          0.009592317135237376,
          0.014462311900188377,
          0.009200776130574257,
          0.009861352646623314
         ]
        }
       ],
       "layout": {
        "autosize": false,
        "height": 700,
        "legend": {
         "x": 0.01,
         "xanchor": "left",
         "y": 0.96,
         "yanchor": "top"
        },
        "template": {
         "data": {
          "bar": [
           {
            "error_x": {
             "color": "#2a3f5f"
            },
            "error_y": {
             "color": "#2a3f5f"
            },
            "marker": {
             "line": {
              "color": "#E5ECF6",
              "width": 0.5
             }
            },
            "type": "bar"
           }
          ],
          "barpolar": [
           {
            "marker": {
             "line": {
              "color": "#E5ECF6",
              "width": 0.5
             }
            },
            "type": "barpolar"
           }
          ],
          "carpet": [
           {
            "aaxis": {
             "endlinecolor": "#2a3f5f",
             "gridcolor": "white",
             "linecolor": "white",
             "minorgridcolor": "white",
             "startlinecolor": "#2a3f5f"
            },
            "baxis": {
             "endlinecolor": "#2a3f5f",
             "gridcolor": "white",
             "linecolor": "white",
             "minorgridcolor": "white",
             "startlinecolor": "#2a3f5f"
            },
            "type": "carpet"
           }
          ],
          "choropleth": [
           {
            "colorbar": {
             "outlinewidth": 0,
             "ticks": ""
            },
            "type": "choropleth"
           }
          ],
          "contour": [
           {
            "colorbar": {
             "outlinewidth": 0,
             "ticks": ""
            },
            "colorscale": [
             [
              0,
              "#0d0887"
             ],
             [
              0.1111111111111111,
              "#46039f"
             ],
             [
              0.2222222222222222,
              "#7201a8"
             ],
             [
              0.3333333333333333,
              "#9c179e"
             ],
             [
              0.4444444444444444,
              "#bd3786"
             ],
             [
              0.5555555555555556,
              "#d8576b"
             ],
             [
              0.6666666666666666,
              "#ed7953"
             ],
             [
              0.7777777777777778,
              "#fb9f3a"
             ],
             [
              0.8888888888888888,
              "#fdca26"
             ],
             [
              1,
              "#f0f921"
             ]
            ],
            "type": "contour"
           }
          ],
          "contourcarpet": [
           {
            "colorbar": {
             "outlinewidth": 0,
             "ticks": ""
            },
            "type": "contourcarpet"
           }
          ],
          "heatmap": [
           {
            "colorbar": {
             "outlinewidth": 0,
             "ticks": ""
            },
            "colorscale": [
             [
              0,
              "#0d0887"
             ],
             [
              0.1111111111111111,
              "#46039f"
             ],
             [
              0.2222222222222222,
              "#7201a8"
             ],
             [
              0.3333333333333333,
              "#9c179e"
             ],
             [
              0.4444444444444444,
              "#bd3786"
             ],
             [
              0.5555555555555556,
              "#d8576b"
             ],
             [
              0.6666666666666666,
              "#ed7953"
             ],
             [
              0.7777777777777778,
              "#fb9f3a"
             ],
             [
              0.8888888888888888,
              "#fdca26"
             ],
             [
              1,
              "#f0f921"
             ]
            ],
            "type": "heatmap"
           }
          ],
          "heatmapgl": [
           {
            "colorbar": {
             "outlinewidth": 0,
             "ticks": ""
            },
            "colorscale": [
             [
              0,
              "#0d0887"
             ],
             [
              0.1111111111111111,
              "#46039f"
             ],
             [
              0.2222222222222222,
              "#7201a8"
             ],
             [
              0.3333333333333333,
              "#9c179e"
             ],
             [
              0.4444444444444444,
              "#bd3786"
             ],
             [
              0.5555555555555556,
              "#d8576b"
             ],
             [
              0.6666666666666666,
              "#ed7953"
             ],
             [
              0.7777777777777778,
              "#fb9f3a"
             ],
             [
              0.8888888888888888,
              "#fdca26"
             ],
             [
              1,
              "#f0f921"
             ]
            ],
            "type": "heatmapgl"
           }
          ],
          "histogram": [
           {
            "marker": {
             "colorbar": {
              "outlinewidth": 0,
              "ticks": ""
             }
            },
            "type": "histogram"
           }
          ],
          "histogram2d": [
           {
            "colorbar": {
             "outlinewidth": 0,
             "ticks": ""
            },
            "colorscale": [
             [
              0,
              "#0d0887"
             ],
             [
              0.1111111111111111,
              "#46039f"
             ],
             [
              0.2222222222222222,
              "#7201a8"
             ],
             [
              0.3333333333333333,
              "#9c179e"
             ],
             [
              0.4444444444444444,
              "#bd3786"
             ],
             [
              0.5555555555555556,
              "#d8576b"
             ],
             [
              0.6666666666666666,
              "#ed7953"
             ],
             [
              0.7777777777777778,
              "#fb9f3a"
             ],
             [
              0.8888888888888888,
              "#fdca26"
             ],
             [
              1,
              "#f0f921"
             ]
            ],
            "type": "histogram2d"
           }
          ],
          "histogram2dcontour": [
           {
            "colorbar": {
             "outlinewidth": 0,
             "ticks": ""
            },
            "colorscale": [
             [
              0,
              "#0d0887"
             ],
             [
              0.1111111111111111,
              "#46039f"
             ],
             [
              0.2222222222222222,
              "#7201a8"
             ],
             [
              0.3333333333333333,
              "#9c179e"
             ],
             [
              0.4444444444444444,
              "#bd3786"
             ],
             [
              0.5555555555555556,
              "#d8576b"
             ],
             [
              0.6666666666666666,
              "#ed7953"
             ],
             [
              0.7777777777777778,
              "#fb9f3a"
             ],
             [
              0.8888888888888888,
              "#fdca26"
             ],
             [
              1,
              "#f0f921"
             ]
            ],
            "type": "histogram2dcontour"
           }
          ],
          "mesh3d": [
           {
            "colorbar": {
             "outlinewidth": 0,
             "ticks": ""
            },
            "type": "mesh3d"
           }
          ],
          "parcoords": [
           {
            "line": {
             "colorbar": {
              "outlinewidth": 0,
              "ticks": ""
             }
            },
            "type": "parcoords"
           }
          ],
          "pie": [
           {
            "automargin": true,
            "type": "pie"
           }
          ],
          "scatter": [
           {
            "marker": {
             "colorbar": {
              "outlinewidth": 0,
              "ticks": ""
             }
            },
            "type": "scatter"
           }
          ],
          "scatter3d": [
           {
            "line": {
             "colorbar": {
              "outlinewidth": 0,
              "ticks": ""
             }
            },
            "marker": {
             "colorbar": {
              "outlinewidth": 0,
              "ticks": ""
             }
            },
            "type": "scatter3d"
           }
          ],
          "scattercarpet": [
           {
            "marker": {
             "colorbar": {
              "outlinewidth": 0,
              "ticks": ""
             }
            },
            "type": "scattercarpet"
           }
          ],
          "scattergeo": [
           {
            "marker": {
             "colorbar": {
              "outlinewidth": 0,
              "ticks": ""
             }
            },
            "type": "scattergeo"
           }
          ],
          "scattergl": [
           {
            "marker": {
             "colorbar": {
              "outlinewidth": 0,
              "ticks": ""
             }
            },
            "type": "scattergl"
           }
          ],
          "scattermapbox": [
           {
            "marker": {
             "colorbar": {
              "outlinewidth": 0,
              "ticks": ""
             }
            },
            "type": "scattermapbox"
           }
          ],
          "scatterpolar": [
           {
            "marker": {
             "colorbar": {
              "outlinewidth": 0,
              "ticks": ""
             }
            },
            "type": "scatterpolar"
           }
          ],
          "scatterpolargl": [
           {
            "marker": {
             "colorbar": {
              "outlinewidth": 0,
              "ticks": ""
             }
            },
            "type": "scatterpolargl"
           }
          ],
          "scatterternary": [
           {
            "marker": {
             "colorbar": {
              "outlinewidth": 0,
              "ticks": ""
             }
            },
            "type": "scatterternary"
           }
          ],
          "surface": [
           {
            "colorbar": {
             "outlinewidth": 0,
             "ticks": ""
            },
            "colorscale": [
             [
              0,
              "#0d0887"
             ],
             [
              0.1111111111111111,
              "#46039f"
             ],
             [
              0.2222222222222222,
              "#7201a8"
             ],
             [
              0.3333333333333333,
              "#9c179e"
             ],
             [
              0.4444444444444444,
              "#bd3786"
             ],
             [
              0.5555555555555556,
              "#d8576b"
             ],
             [
              0.6666666666666666,
              "#ed7953"
             ],
             [
              0.7777777777777778,
              "#fb9f3a"
             ],
             [
              0.8888888888888888,
              "#fdca26"
             ],
             [
              1,
              "#f0f921"
             ]
            ],
            "type": "surface"
           }
          ],
          "table": [
           {
            "cells": {
             "fill": {
              "color": "#EBF0F8"
             },
             "line": {
              "color": "white"
             }
            },
            "header": {
             "fill": {
              "color": "#C8D4E3"
             },
             "line": {
              "color": "white"
             }
            },
            "type": "table"
           }
          ]
         },
         "layout": {
          "annotationdefaults": {
           "arrowcolor": "#2a3f5f",
           "arrowhead": 0,
           "arrowwidth": 1
          },
          "coloraxis": {
           "colorbar": {
            "outlinewidth": 0,
            "ticks": ""
           }
          },
          "colorscale": {
           "diverging": [
            [
             0,
             "#8e0152"
            ],
            [
             0.1,
             "#c51b7d"
            ],
            [
             0.2,
             "#de77ae"
            ],
            [
             0.3,
             "#f1b6da"
            ],
            [
             0.4,
             "#fde0ef"
            ],
            [
             0.5,
             "#f7f7f7"
            ],
            [
             0.6,
             "#e6f5d0"
            ],
            [
             0.7,
             "#b8e186"
            ],
            [
             0.8,
             "#7fbc41"
            ],
            [
             0.9,
             "#4d9221"
            ],
            [
             1,
             "#276419"
            ]
           ],
           "sequential": [
            [
             0,
             "#0d0887"
            ],
            [
             0.1111111111111111,
             "#46039f"
            ],
            [
             0.2222222222222222,
             "#7201a8"
            ],
            [
             0.3333333333333333,
             "#9c179e"
            ],
            [
             0.4444444444444444,
             "#bd3786"
            ],
            [
             0.5555555555555556,
             "#d8576b"
            ],
            [
             0.6666666666666666,
             "#ed7953"
            ],
            [
             0.7777777777777778,
             "#fb9f3a"
            ],
            [
             0.8888888888888888,
             "#fdca26"
            ],
            [
             1,
             "#f0f921"
            ]
           ],
           "sequentialminus": [
            [
             0,
             "#0d0887"
            ],
            [
             0.1111111111111111,
             "#46039f"
            ],
            [
             0.2222222222222222,
             "#7201a8"
            ],
            [
             0.3333333333333333,
             "#9c179e"
            ],
            [
             0.4444444444444444,
             "#bd3786"
            ],
            [
             0.5555555555555556,
             "#d8576b"
            ],
            [
             0.6666666666666666,
             "#ed7953"
            ],
            [
             0.7777777777777778,
             "#fb9f3a"
            ],
            [
             0.8888888888888888,
             "#fdca26"
            ],
            [
             1,
             "#f0f921"
            ]
           ]
          },
          "colorway": [
           "#636efa",
           "#EF553B",
           "#00cc96",
           "#ab63fa",
           "#FFA15A",
           "#19d3f3",
           "#FF6692",
           "#B6E880",
           "#FF97FF",
           "#FECB52"
          ],
          "font": {
           "color": "#2a3f5f"
          },
          "geo": {
           "bgcolor": "white",
           "lakecolor": "white",
           "landcolor": "#E5ECF6",
           "showlakes": true,
           "showland": true,
           "subunitcolor": "white"
          },
          "hoverlabel": {
           "align": "left"
          },
          "hovermode": "closest",
          "mapbox": {
           "style": "light"
          },
          "paper_bgcolor": "white",
          "plot_bgcolor": "#E5ECF6",
          "polar": {
           "angularaxis": {
            "gridcolor": "white",
            "linecolor": "white",
            "ticks": ""
           },
           "bgcolor": "#E5ECF6",
           "radialaxis": {
            "gridcolor": "white",
            "linecolor": "white",
            "ticks": ""
           }
          },
          "scene": {
           "xaxis": {
            "backgroundcolor": "#E5ECF6",
            "gridcolor": "white",
            "gridwidth": 2,
            "linecolor": "white",
            "showbackground": true,
            "ticks": "",
            "zerolinecolor": "white"
           },
           "yaxis": {
            "backgroundcolor": "#E5ECF6",
            "gridcolor": "white",
            "gridwidth": 2,
            "linecolor": "white",
            "showbackground": true,
            "ticks": "",
            "zerolinecolor": "white"
           },
           "zaxis": {
            "backgroundcolor": "#E5ECF6",
            "gridcolor": "white",
            "gridwidth": 2,
            "linecolor": "white",
            "showbackground": true,
            "ticks": "",
            "zerolinecolor": "white"
           }
          },
          "shapedefaults": {
           "line": {
            "color": "#2a3f5f"
           }
          },
          "ternary": {
           "aaxis": {
            "gridcolor": "white",
            "linecolor": "white",
            "ticks": ""
           },
           "baxis": {
            "gridcolor": "white",
            "linecolor": "white",
            "ticks": ""
           },
           "bgcolor": "#E5ECF6",
           "caxis": {
            "gridcolor": "white",
            "linecolor": "white",
            "ticks": ""
           }
          },
          "title": {
           "x": 0.05
          },
          "xaxis": {
           "automargin": true,
           "gridcolor": "white",
           "linecolor": "white",
           "ticks": "",
           "title": {
            "standoff": 15
           },
           "zerolinecolor": "white",
           "zerolinewidth": 2
          },
          "yaxis": {
           "automargin": true,
           "gridcolor": "white",
           "linecolor": "white",
           "ticks": "",
           "title": {
            "standoff": 15
           },
           "zerolinecolor": "white",
           "zerolinewidth": 2
          }
         }
        },
        "width": 1300,
        "xaxis": {
         "title": {
          "text": "Акция"
         }
        },
        "yaxis": {
         "title": {
          "text": "MSE"
         }
        }
       }
      },
      "text/html": [
       "<div>                            <div id=\"024afece-5550-4345-9f18-0b17136f9382\" class=\"plotly-graph-div\" style=\"height:700px; width:1300px;\"></div>            <script type=\"text/javascript\">                require([\"plotly\"], function(Plotly) {                    window.PLOTLYENV=window.PLOTLYENV || {};                                    if (document.getElementById(\"024afece-5550-4345-9f18-0b17136f9382\")) {                    Plotly.newPlot(                        \"024afece-5550-4345-9f18-0b17136f9382\",                        [{\"mode\": \"lines+markers\", \"name\": \"\\u0421\\u0440\\u0435\\u0434\\u043d\\u0438\\u0439 MSE \\u043d\\u0430 \\u0442\\u0435\\u0441\\u0442\\u043e\\u0432\\u043e\\u0439 \\u0432\\u044b\\u0431\\u043e\\u0440\\u043a\\u0435\", \"type\": \"scatter\", \"x\": [\"\\u0421\\u0431\\u0435\\u0440\\u0431\\u0430\\u043d\\u043a\", \"\\u0413\\u0430\\u0437\\u043f\\u0440\\u043e\\u043c\", \"\\u041b\\u0443\\u043a\\u043e\\u0439\\u043b\", \"\\u041d\\u043e\\u0440\\u043d\\u0438\\u043a\\u0435\\u043b\\u044c\", \"\\u041d\\u043e\\u0432\\u0430\\u0442\\u044d\\u043a\", \"\\u0421\\u0443\\u0440\\u0433\\u0443\\u0442\\u043d\\u0435\\u0444\\u0442\\u0435\\u0433\\u0430\\u0437\", \"\\u041f\\u043e\\u043b\\u044e\\u0441\", \"\\u0422\\u0430\\u0442\\u043d\\u0435\\u0444\\u0442\\u044c\", \"\\u0420\\u043e\\u0441\\u043d\\u0435\\u0444\\u0442\\u044c\", \"\\u041c\\u0430\\u0433\\u043d\\u0438\\u0442\", \"\\u041c\\u0422\\u0421\", \"\\u041c\\u043e\\u0441\\u0411\\u0438\\u0440\\u0436\\u0430\", \"\\u0418\\u043d\\u0442\\u0435\\u0440 \\u0420\\u0410\\u041e\", \"\\u041d\\u041b\\u041c\\u041a\", \"\\u0410\\u043b\\u0440\\u043e\\u0441\\u0430\", \"\\u0421\\u0435\\u0432\\u0435\\u0440\\u0441\\u0442\\u0430\\u043b\\u044c\", \"\\u0412\\u0422\\u0411\", \"\\u0420\\u043e\\u0441\\u0442\\u0435\\u043b\\u0435\\u043a\\u043e\\u043c\", \"\\u0424\\u043e\\u0441\\u0430\\u0433\\u0440\\u043e\", \"\\u0410\\u0424\\u041a \\u00ab\\u0421\\u0438\\u0441\\u0442\\u0435\\u043c\\u0430\\u00bb\", \"\\u041c\\u041c\\u041a\", \"\\u041f\\u0418\\u041a\", \"\\u0420\\u0443\\u0441\\u0433\\u0438\\u0434\\u0440\\u043e\", \"\\u0424\\u0421\\u041a \\u0415\\u042d\\u0421\", \"\\u0410\\u044d\\u0440\\u043e\\u0444\\u043b\\u043e\\u0442\", \"\\u041b\\u0421\\u0420\", \"\\u0420\\u043e\\u0441\\u0441\\u0435\\u0442\\u0438\", \"\\u042e\\u043d\\u0438\\u043f\\u0440\\u043e\", \"\\u041b\\u0435\\u043d\\u0442\\u0430\", \"\\u041c.\\u0412\\u0438\\u0434\\u0435\\u043e\", \"\\u0422\\u041c\\u041a\", \"\\u041c\\u0435\\u0447\\u0435\\u043b\", \"\\u041d\\u041c\\u0422\\u041f\", \"\\u0410\\u043a\\u0440\\u043e\\u043d\", \"\\u041c\\u043e\\u0441\\u044d\\u043d\\u0435\\u0440\\u0433\\u043e\", \"\\u0423\\u0440\\u0430\\u043b\\u043a\\u0430\\u043b\\u0438\\u0439\", \"\\u0411\\u0430\\u0448\\u043d\\u0435\\u0444\\u0442\\u044c\", \"\\u0412\\u0421\\u041c\\u041f\\u041e-\\u0410\\u0432\\u0438\\u0441\\u043c\\u0430\", \"\\u041d\\u0438\\u0436\\u043d\\u0435\\u043a\\u0430\\u043c\\u0441\\u043a\\u043d\\u0435\\u0444\\u0442\\u0435\\u0445\\u0438\\u043c\", \"\\u0427\\u0435\\u0440\\u043a\\u0438\\u0437\\u043e\\u0432\\u043e\", \"\\u0421\\u043e\\u043b\\u043b\\u0435\\u0440\\u0441\", \"\\u041c\\u043e\\u0441\\u0442\\u043e\\u0442\\u0440\\u0435\\u0441\\u0442\", \"\\u0411\\u0430\\u043d\\u043a \\u0421\\u0430\\u043d\\u043a\\u0442-\\u041f\\u0435\\u0442\\u0435\\u0440\\u0431\\u0443\\u0440\\u0433\", \"\\u041c\\u041e\\u042d\\u0421\\u041a\", \"\\u041a\\u0430\\u043c\\u0430\\u0437\", \"\\u0420\\u0430\\u0441\\u043f\\u0430\\u0434\\u0441\\u043a\\u0430\\u044f\", \"\\u041e\\u0413\\u041a \\u21162\", \"\\u0411\\u0430\\u043d\\u043a \\\"\\u0412\\u043e\\u0437\\u0440\\u043e\\u0436\\u0434\\u0435\\u043d\\u0438\\u0435\\\"\"], \"y\": [0.00429840237223889, 0.0057605232571908815, 0.0063883507644348775, 0.00457656928538139, 0.0074377228790599255, 0.023468374171817265, 0.01780352666126384, 0.006938225733607398, 0.008607996395963538, 0.008756597533959685, 0.0033757823043434484, 0.008663107983964859, 0.014172166184855875, 0.006076340197198761, 0.01282974355191444, 0.004922938392943395, 0.012040348959996823, 0.004427795860400178, 0.0035839391231885396, 0.01864536748501922, 0.006896933092659106, 0.004248877214295549, 0.008868975750905608, 0.009860290738870115, 0.013488971140996422, 0.007491111040570019, 0.029094746021159863, 0.003450938357546418, 0.009684380015027106, 0.009310484013163875, 0.014911558442881282, 0.03168206931556889, 0.00412279878984134, 0.00343167827622464, 0.006147054276797799, 0.008421774725876277, 0.004253927331684656, 0.013131807586687829, 0.017380131088302893, 0.013141117733720783, 0.008003348094841847, 0.02317308334248238, 0.0063443133636238505, 0.020236084893018137, 0.01006036221880165, 0.009867258061762368, 0.01048932193296509, 0.008400338580433386]}, {\"mode\": \"lines+markers\", \"name\": \"\\u0421\\u0440\\u0435\\u0434\\u043d\\u0438\\u0439 MSE \\u043d\\u0430 \\u043e\\u0431\\u0443\\u0447\\u0430\\u044e\\u0449\\u0435\\u0439 \\u0432\\u044b\\u0431\\u043e\\u0440\\u043a\\u0435\", \"type\": \"scatter\", \"x\": [\"\\u0421\\u0431\\u0435\\u0440\\u0431\\u0430\\u043d\\u043a\", \"\\u0413\\u0430\\u0437\\u043f\\u0440\\u043e\\u043c\", \"\\u041b\\u0443\\u043a\\u043e\\u0439\\u043b\", \"\\u041d\\u043e\\u0440\\u043d\\u0438\\u043a\\u0435\\u043b\\u044c\", \"\\u041d\\u043e\\u0432\\u0430\\u0442\\u044d\\u043a\", \"\\u0421\\u0443\\u0440\\u0433\\u0443\\u0442\\u043d\\u0435\\u0444\\u0442\\u0435\\u0433\\u0430\\u0437\", \"\\u041f\\u043e\\u043b\\u044e\\u0441\", \"\\u0422\\u0430\\u0442\\u043d\\u0435\\u0444\\u0442\\u044c\", \"\\u0420\\u043e\\u0441\\u043d\\u0435\\u0444\\u0442\\u044c\", \"\\u041c\\u0430\\u0433\\u043d\\u0438\\u0442\", \"\\u041c\\u0422\\u0421\", \"\\u041c\\u043e\\u0441\\u0411\\u0438\\u0440\\u0436\\u0430\", \"\\u0418\\u043d\\u0442\\u0435\\u0440 \\u0420\\u0410\\u041e\", \"\\u041d\\u041b\\u041c\\u041a\", \"\\u0410\\u043b\\u0440\\u043e\\u0441\\u0430\", \"\\u0421\\u0435\\u0432\\u0435\\u0440\\u0441\\u0442\\u0430\\u043b\\u044c\", \"\\u0412\\u0422\\u0411\", \"\\u0420\\u043e\\u0441\\u0442\\u0435\\u043b\\u0435\\u043a\\u043e\\u043c\", \"\\u0424\\u043e\\u0441\\u0430\\u0433\\u0440\\u043e\", \"\\u0410\\u0424\\u041a \\u00ab\\u0421\\u0438\\u0441\\u0442\\u0435\\u043c\\u0430\\u00bb\", \"\\u041c\\u041c\\u041a\", \"\\u041f\\u0418\\u041a\", \"\\u0420\\u0443\\u0441\\u0433\\u0438\\u0434\\u0440\\u043e\", \"\\u0424\\u0421\\u041a \\u0415\\u042d\\u0421\", \"\\u0410\\u044d\\u0440\\u043e\\u0444\\u043b\\u043e\\u0442\", \"\\u041b\\u0421\\u0420\", \"\\u0420\\u043e\\u0441\\u0441\\u0435\\u0442\\u0438\", \"\\u042e\\u043d\\u0438\\u043f\\u0440\\u043e\", \"\\u041b\\u0435\\u043d\\u0442\\u0430\", \"\\u041c.\\u0412\\u0438\\u0434\\u0435\\u043e\", \"\\u0422\\u041c\\u041a\", \"\\u041c\\u0435\\u0447\\u0435\\u043b\", \"\\u041d\\u041c\\u0422\\u041f\", \"\\u0410\\u043a\\u0440\\u043e\\u043d\", \"\\u041c\\u043e\\u0441\\u044d\\u043d\\u0435\\u0440\\u0433\\u043e\", \"\\u0423\\u0440\\u0430\\u043b\\u043a\\u0430\\u043b\\u0438\\u0439\", \"\\u0411\\u0430\\u0448\\u043d\\u0435\\u0444\\u0442\\u044c\", \"\\u0412\\u0421\\u041c\\u041f\\u041e-\\u0410\\u0432\\u0438\\u0441\\u043c\\u0430\", \"\\u041d\\u0438\\u0436\\u043d\\u0435\\u043a\\u0430\\u043c\\u0441\\u043a\\u043d\\u0435\\u0444\\u0442\\u0435\\u0445\\u0438\\u043c\", \"\\u0427\\u0435\\u0440\\u043a\\u0438\\u0437\\u043e\\u0432\\u043e\", \"\\u0421\\u043e\\u043b\\u043b\\u0435\\u0440\\u0441\", \"\\u041c\\u043e\\u0441\\u0442\\u043e\\u0442\\u0440\\u0435\\u0441\\u0442\", \"\\u0411\\u0430\\u043d\\u043a \\u0421\\u0430\\u043d\\u043a\\u0442-\\u041f\\u0435\\u0442\\u0435\\u0440\\u0431\\u0443\\u0440\\u0433\", \"\\u041c\\u041e\\u042d\\u0421\\u041a\", \"\\u041a\\u0430\\u043c\\u0430\\u0437\", \"\\u0420\\u0430\\u0441\\u043f\\u0430\\u0434\\u0441\\u043a\\u0430\\u044f\", \"\\u041e\\u0413\\u041a \\u21162\", \"\\u0411\\u0430\\u043d\\u043a \\\"\\u0412\\u043e\\u0437\\u0440\\u043e\\u0436\\u0434\\u0435\\u043d\\u0438\\u0435\\\"\"], \"y\": [0.0030648790654552232, 0.0013695244415443029, 0.0011208941912547552, 0.0030369352335488068, 0.002517538494830157, 0.0039042992891927947, 0.006292447690455634, 0.0031884017169786978, 0.0029670115932462653, 0.0078057766412591625, 0.004600670527245735, 0.003462210464949016, 0.004866670843332999, 0.006466286328649845, 0.008276491759963783, 0.006873189400328576, 0.004881416400388244, 0.0044874328473036105, 0.004116370496182128, 0.0331357094079763, 0.007943587882183804, 0.007371966015350376, 0.005436763690318601, 0.004918980428283036, 0.008703651147927515, 0.005167531236389232, 0.003974483521712804, 0.003840096642924947, 0.006285735536181702, 0.00637795569258757, 0.01238896570566424, 0.024722042836460477, 0.011399067446668522, 0.006280005231187847, 0.004422130246218902, 0.009987824677075811, 0.012201834156545863, 0.0043911842423398646, 0.0044240571567363985, 0.006004892225010801, 0.007410958238094305, 0.0059881309195442154, 0.007047769486652952, 0.0022037101147350732, 0.009592317135237376, 0.014462311900188377, 0.009200776130574257, 0.009861352646623314]}],                        {\"autosize\": false, \"height\": 700, \"legend\": {\"x\": 0.01, \"xanchor\": \"left\", \"y\": 0.96, \"yanchor\": \"top\"}, \"template\": {\"data\": {\"bar\": [{\"error_x\": {\"color\": \"#2a3f5f\"}, \"error_y\": {\"color\": \"#2a3f5f\"}, \"marker\": {\"line\": {\"color\": \"#E5ECF6\", \"width\": 0.5}}, \"type\": \"bar\"}], \"barpolar\": [{\"marker\": {\"line\": {\"color\": \"#E5ECF6\", \"width\": 0.5}}, \"type\": \"barpolar\"}], \"carpet\": [{\"aaxis\": {\"endlinecolor\": \"#2a3f5f\", \"gridcolor\": \"white\", \"linecolor\": \"white\", \"minorgridcolor\": \"white\", \"startlinecolor\": \"#2a3f5f\"}, \"baxis\": {\"endlinecolor\": \"#2a3f5f\", \"gridcolor\": \"white\", \"linecolor\": \"white\", \"minorgridcolor\": \"white\", \"startlinecolor\": \"#2a3f5f\"}, \"type\": \"carpet\"}], \"choropleth\": [{\"colorbar\": {\"outlinewidth\": 0, \"ticks\": \"\"}, \"type\": \"choropleth\"}], \"contour\": [{\"colorbar\": {\"outlinewidth\": 0, \"ticks\": \"\"}, \"colorscale\": [[0.0, \"#0d0887\"], [0.1111111111111111, \"#46039f\"], [0.2222222222222222, \"#7201a8\"], [0.3333333333333333, \"#9c179e\"], [0.4444444444444444, \"#bd3786\"], [0.5555555555555556, \"#d8576b\"], [0.6666666666666666, \"#ed7953\"], [0.7777777777777778, \"#fb9f3a\"], [0.8888888888888888, \"#fdca26\"], [1.0, \"#f0f921\"]], \"type\": \"contour\"}], \"contourcarpet\": [{\"colorbar\": {\"outlinewidth\": 0, \"ticks\": \"\"}, \"type\": \"contourcarpet\"}], \"heatmap\": [{\"colorbar\": {\"outlinewidth\": 0, \"ticks\": \"\"}, \"colorscale\": [[0.0, \"#0d0887\"], [0.1111111111111111, \"#46039f\"], [0.2222222222222222, \"#7201a8\"], [0.3333333333333333, \"#9c179e\"], [0.4444444444444444, \"#bd3786\"], [0.5555555555555556, \"#d8576b\"], [0.6666666666666666, \"#ed7953\"], [0.7777777777777778, \"#fb9f3a\"], [0.8888888888888888, \"#fdca26\"], [1.0, \"#f0f921\"]], \"type\": \"heatmap\"}], \"heatmapgl\": [{\"colorbar\": {\"outlinewidth\": 0, \"ticks\": \"\"}, \"colorscale\": [[0.0, \"#0d0887\"], [0.1111111111111111, \"#46039f\"], [0.2222222222222222, \"#7201a8\"], [0.3333333333333333, \"#9c179e\"], [0.4444444444444444, \"#bd3786\"], [0.5555555555555556, \"#d8576b\"], [0.6666666666666666, \"#ed7953\"], [0.7777777777777778, \"#fb9f3a\"], [0.8888888888888888, \"#fdca26\"], [1.0, \"#f0f921\"]], \"type\": \"heatmapgl\"}], \"histogram\": [{\"marker\": {\"colorbar\": {\"outlinewidth\": 0, \"ticks\": \"\"}}, \"type\": \"histogram\"}], \"histogram2d\": [{\"colorbar\": {\"outlinewidth\": 0, \"ticks\": \"\"}, \"colorscale\": [[0.0, \"#0d0887\"], [0.1111111111111111, \"#46039f\"], [0.2222222222222222, \"#7201a8\"], [0.3333333333333333, \"#9c179e\"], [0.4444444444444444, \"#bd3786\"], [0.5555555555555556, \"#d8576b\"], [0.6666666666666666, \"#ed7953\"], [0.7777777777777778, \"#fb9f3a\"], [0.8888888888888888, \"#fdca26\"], [1.0, \"#f0f921\"]], \"type\": \"histogram2d\"}], \"histogram2dcontour\": [{\"colorbar\": {\"outlinewidth\": 0, \"ticks\": \"\"}, \"colorscale\": [[0.0, \"#0d0887\"], [0.1111111111111111, \"#46039f\"], [0.2222222222222222, \"#7201a8\"], [0.3333333333333333, \"#9c179e\"], [0.4444444444444444, \"#bd3786\"], [0.5555555555555556, \"#d8576b\"], [0.6666666666666666, \"#ed7953\"], [0.7777777777777778, \"#fb9f3a\"], [0.8888888888888888, \"#fdca26\"], [1.0, \"#f0f921\"]], \"type\": \"histogram2dcontour\"}], \"mesh3d\": [{\"colorbar\": {\"outlinewidth\": 0, \"ticks\": \"\"}, \"type\": \"mesh3d\"}], \"parcoords\": [{\"line\": {\"colorbar\": {\"outlinewidth\": 0, \"ticks\": \"\"}}, \"type\": \"parcoords\"}], \"pie\": [{\"automargin\": true, \"type\": \"pie\"}], \"scatter\": [{\"marker\": {\"colorbar\": {\"outlinewidth\": 0, \"ticks\": \"\"}}, \"type\": \"scatter\"}], \"scatter3d\": [{\"line\": {\"colorbar\": {\"outlinewidth\": 0, \"ticks\": \"\"}}, \"marker\": {\"colorbar\": {\"outlinewidth\": 0, \"ticks\": \"\"}}, \"type\": \"scatter3d\"}], \"scattercarpet\": [{\"marker\": {\"colorbar\": {\"outlinewidth\": 0, \"ticks\": \"\"}}, \"type\": \"scattercarpet\"}], \"scattergeo\": [{\"marker\": {\"colorbar\": {\"outlinewidth\": 0, \"ticks\": \"\"}}, \"type\": \"scattergeo\"}], \"scattergl\": [{\"marker\": {\"colorbar\": {\"outlinewidth\": 0, \"ticks\": \"\"}}, \"type\": \"scattergl\"}], \"scattermapbox\": [{\"marker\": {\"colorbar\": {\"outlinewidth\": 0, \"ticks\": \"\"}}, \"type\": \"scattermapbox\"}], \"scatterpolar\": [{\"marker\": {\"colorbar\": {\"outlinewidth\": 0, \"ticks\": \"\"}}, \"type\": \"scatterpolar\"}], \"scatterpolargl\": [{\"marker\": {\"colorbar\": {\"outlinewidth\": 0, \"ticks\": \"\"}}, \"type\": \"scatterpolargl\"}], \"scatterternary\": [{\"marker\": {\"colorbar\": {\"outlinewidth\": 0, \"ticks\": \"\"}}, \"type\": \"scatterternary\"}], \"surface\": [{\"colorbar\": {\"outlinewidth\": 0, \"ticks\": \"\"}, \"colorscale\": [[0.0, \"#0d0887\"], [0.1111111111111111, \"#46039f\"], [0.2222222222222222, \"#7201a8\"], [0.3333333333333333, \"#9c179e\"], [0.4444444444444444, \"#bd3786\"], [0.5555555555555556, \"#d8576b\"], [0.6666666666666666, \"#ed7953\"], [0.7777777777777778, \"#fb9f3a\"], [0.8888888888888888, \"#fdca26\"], [1.0, \"#f0f921\"]], \"type\": \"surface\"}], \"table\": [{\"cells\": {\"fill\": {\"color\": \"#EBF0F8\"}, \"line\": {\"color\": \"white\"}}, \"header\": {\"fill\": {\"color\": \"#C8D4E3\"}, \"line\": {\"color\": \"white\"}}, \"type\": \"table\"}]}, \"layout\": {\"annotationdefaults\": {\"arrowcolor\": \"#2a3f5f\", \"arrowhead\": 0, \"arrowwidth\": 1}, \"coloraxis\": {\"colorbar\": {\"outlinewidth\": 0, \"ticks\": \"\"}}, \"colorscale\": {\"diverging\": [[0, \"#8e0152\"], [0.1, \"#c51b7d\"], [0.2, \"#de77ae\"], [0.3, \"#f1b6da\"], [0.4, \"#fde0ef\"], [0.5, \"#f7f7f7\"], [0.6, \"#e6f5d0\"], [0.7, \"#b8e186\"], [0.8, \"#7fbc41\"], [0.9, \"#4d9221\"], [1, \"#276419\"]], \"sequential\": [[0.0, \"#0d0887\"], [0.1111111111111111, \"#46039f\"], [0.2222222222222222, \"#7201a8\"], [0.3333333333333333, \"#9c179e\"], [0.4444444444444444, \"#bd3786\"], [0.5555555555555556, \"#d8576b\"], [0.6666666666666666, \"#ed7953\"], [0.7777777777777778, \"#fb9f3a\"], [0.8888888888888888, \"#fdca26\"], [1.0, \"#f0f921\"]], \"sequentialminus\": [[0.0, \"#0d0887\"], [0.1111111111111111, \"#46039f\"], [0.2222222222222222, \"#7201a8\"], [0.3333333333333333, \"#9c179e\"], [0.4444444444444444, \"#bd3786\"], [0.5555555555555556, \"#d8576b\"], [0.6666666666666666, \"#ed7953\"], [0.7777777777777778, \"#fb9f3a\"], [0.8888888888888888, \"#fdca26\"], [1.0, \"#f0f921\"]]}, \"colorway\": [\"#636efa\", \"#EF553B\", \"#00cc96\", \"#ab63fa\", \"#FFA15A\", \"#19d3f3\", \"#FF6692\", \"#B6E880\", \"#FF97FF\", \"#FECB52\"], \"font\": {\"color\": \"#2a3f5f\"}, \"geo\": {\"bgcolor\": \"white\", \"lakecolor\": \"white\", \"landcolor\": \"#E5ECF6\", \"showlakes\": true, \"showland\": true, \"subunitcolor\": \"white\"}, \"hoverlabel\": {\"align\": \"left\"}, \"hovermode\": \"closest\", \"mapbox\": {\"style\": \"light\"}, \"paper_bgcolor\": \"white\", \"plot_bgcolor\": \"#E5ECF6\", \"polar\": {\"angularaxis\": {\"gridcolor\": \"white\", \"linecolor\": \"white\", \"ticks\": \"\"}, \"bgcolor\": \"#E5ECF6\", \"radialaxis\": {\"gridcolor\": \"white\", \"linecolor\": \"white\", \"ticks\": \"\"}}, \"scene\": {\"xaxis\": {\"backgroundcolor\": \"#E5ECF6\", \"gridcolor\": \"white\", \"gridwidth\": 2, \"linecolor\": \"white\", \"showbackground\": true, \"ticks\": \"\", \"zerolinecolor\": \"white\"}, \"yaxis\": {\"backgroundcolor\": \"#E5ECF6\", \"gridcolor\": \"white\", \"gridwidth\": 2, \"linecolor\": \"white\", \"showbackground\": true, \"ticks\": \"\", \"zerolinecolor\": \"white\"}, \"zaxis\": {\"backgroundcolor\": \"#E5ECF6\", \"gridcolor\": \"white\", \"gridwidth\": 2, \"linecolor\": \"white\", \"showbackground\": true, \"ticks\": \"\", \"zerolinecolor\": \"white\"}}, \"shapedefaults\": {\"line\": {\"color\": \"#2a3f5f\"}}, \"ternary\": {\"aaxis\": {\"gridcolor\": \"white\", \"linecolor\": \"white\", \"ticks\": \"\"}, \"baxis\": {\"gridcolor\": \"white\", \"linecolor\": \"white\", \"ticks\": \"\"}, \"bgcolor\": \"#E5ECF6\", \"caxis\": {\"gridcolor\": \"white\", \"linecolor\": \"white\", \"ticks\": \"\"}}, \"title\": {\"x\": 0.05}, \"xaxis\": {\"automargin\": true, \"gridcolor\": \"white\", \"linecolor\": \"white\", \"ticks\": \"\", \"title\": {\"standoff\": 15}, \"zerolinecolor\": \"white\", \"zerolinewidth\": 2}, \"yaxis\": {\"automargin\": true, \"gridcolor\": \"white\", \"linecolor\": \"white\", \"ticks\": \"\", \"title\": {\"standoff\": 15}, \"zerolinecolor\": \"white\", \"zerolinewidth\": 2}}}, \"width\": 1300, \"xaxis\": {\"title\": {\"text\": \"\\u0410\\u043a\\u0446\\u0438\\u044f\"}}, \"yaxis\": {\"title\": {\"text\": \"MSE\"}}},                        {\"responsive\": true}                    ).then(function(){\n",
       "                            \n",
       "var gd = document.getElementById('024afece-5550-4345-9f18-0b17136f9382');\n",
       "var x = new MutationObserver(function (mutations, observer) {{\n",
       "        var display = window.getComputedStyle(gd).display;\n",
       "        if (!display || display === 'none') {{\n",
       "            console.log([gd, 'removed!']);\n",
       "            Plotly.purge(gd);\n",
       "            observer.disconnect();\n",
       "        }}\n",
       "}});\n",
       "\n",
       "// Listen for the removal of the full notebook cells\n",
       "var notebookContainer = gd.closest('#notebook-container');\n",
       "if (notebookContainer) {{\n",
       "    x.observe(notebookContainer, {childList: true});\n",
       "}}\n",
       "\n",
       "// Listen for the clearing of the current output cell\n",
       "var outputEl = gd.closest('.output');\n",
       "if (outputEl) {{\n",
       "    x.observe(outputEl, {childList: true});\n",
       "}}\n",
       "\n",
       "                        })                };                });            </script>        </div>"
      ]
     },
     "metadata": {},
     "output_type": "display_data"
    }
   ],
   "source": [
    "import plotly.graph_objects as go\n",
    "fig = go.Figure()\n",
    "\n",
    "\n",
    "fig.add_trace(go.Scatter(x=ml_data['Акция'], y=ml_data['Средний MSE на тестовой выборке'],\n",
    "                         mode='lines+markers',name='Средний MSE на тестовой выборке'))\n",
    "fig.add_trace(go.Scatter(x=ml_data['Акция'], y=ml_data['Средний MSE на обучении'],\n",
    "                         mode='lines+markers',name='Средний MSE на обучающей выборке'))\n",
    "fig.update_layout(yaxis_title = 'MSE',xaxis_title = 'Акция',autosize=False,width=1300,height = 700,\n",
    "                  legend=dict(yanchor=\"top\", y=0.96, xanchor=\"left\", x=0.01))\n",
    "\n",
    "fig.show()"
   ]
  },
  {
   "cell_type": "code",
   "execution_count": 32,
   "metadata": {},
   "outputs": [
    {
     "data": {
      "application/vnd.plotly.v1+json": {
       "config": {
        "plotlyServerURL": "https://plot.ly"
       },
       "data": [
        {
         "mode": "lines+markers",
         "name": "Средний MSE на обучающей выборке",
         "type": "scatter",
         "x": [
          "SVM",
          "RF",
          "LinReg",
          "KNN",
          "LASSO",
          "Ridge",
          "Light_GBM",
          "XGBoost",
          "Catboost",
          "NN"
         ],
         "y": [
          0.007843688438011476,
          0.005723826469780921,
          0.006722427751973286,
          0.00524346144075143,
          0.00843601202289803,
          0.0075232399998707315,
          0.008231959864588223,
          0.007253358923784435,
          0.006884141769030052,
          0.0066470998033747964
         ]
        },
        {
         "mode": "lines+markers",
         "name": "Средний MSE на тестовой выборке",
         "type": "scatter",
         "x": [
          "SVM",
          "RF",
          "LinReg",
          "KNN",
          "LASSO",
          "Ridge",
          "Light_GBM",
          "XGBoost",
          "Catboost",
          "NN"
         ],
         "y": [
          0.009553513808118825,
          0.010595392134177454,
          0.012106852292344525,
          0.010525000811443995,
          0.008639858776695928,
          0.009069508341711177,
          0.010725297242698382,
          0.011418488859071672,
          0.01084295598509847,
          0.01034970561102549
         ]
        }
       ],
       "layout": {
        "autosize": false,
        "legend": {
         "x": 0.1,
         "xanchor": "left",
         "y": 0.55,
         "yanchor": "top"
        },
        "template": {
         "data": {
          "bar": [
           {
            "error_x": {
             "color": "#2a3f5f"
            },
            "error_y": {
             "color": "#2a3f5f"
            },
            "marker": {
             "line": {
              "color": "#E5ECF6",
              "width": 0.5
             }
            },
            "type": "bar"
           }
          ],
          "barpolar": [
           {
            "marker": {
             "line": {
              "color": "#E5ECF6",
              "width": 0.5
             }
            },
            "type": "barpolar"
           }
          ],
          "carpet": [
           {
            "aaxis": {
             "endlinecolor": "#2a3f5f",
             "gridcolor": "white",
             "linecolor": "white",
             "minorgridcolor": "white",
             "startlinecolor": "#2a3f5f"
            },
            "baxis": {
             "endlinecolor": "#2a3f5f",
             "gridcolor": "white",
             "linecolor": "white",
             "minorgridcolor": "white",
             "startlinecolor": "#2a3f5f"
            },
            "type": "carpet"
           }
          ],
          "choropleth": [
           {
            "colorbar": {
             "outlinewidth": 0,
             "ticks": ""
            },
            "type": "choropleth"
           }
          ],
          "contour": [
           {
            "colorbar": {
             "outlinewidth": 0,
             "ticks": ""
            },
            "colorscale": [
             [
              0,
              "#0d0887"
             ],
             [
              0.1111111111111111,
              "#46039f"
             ],
             [
              0.2222222222222222,
              "#7201a8"
             ],
             [
              0.3333333333333333,
              "#9c179e"
             ],
             [
              0.4444444444444444,
              "#bd3786"
             ],
             [
              0.5555555555555556,
              "#d8576b"
             ],
             [
              0.6666666666666666,
              "#ed7953"
             ],
             [
              0.7777777777777778,
              "#fb9f3a"
             ],
             [
              0.8888888888888888,
              "#fdca26"
             ],
             [
              1,
              "#f0f921"
             ]
            ],
            "type": "contour"
           }
          ],
          "contourcarpet": [
           {
            "colorbar": {
             "outlinewidth": 0,
             "ticks": ""
            },
            "type": "contourcarpet"
           }
          ],
          "heatmap": [
           {
            "colorbar": {
             "outlinewidth": 0,
             "ticks": ""
            },
            "colorscale": [
             [
              0,
              "#0d0887"
             ],
             [
              0.1111111111111111,
              "#46039f"
             ],
             [
              0.2222222222222222,
              "#7201a8"
             ],
             [
              0.3333333333333333,
              "#9c179e"
             ],
             [
              0.4444444444444444,
              "#bd3786"
             ],
             [
              0.5555555555555556,
              "#d8576b"
             ],
             [
              0.6666666666666666,
              "#ed7953"
             ],
             [
              0.7777777777777778,
              "#fb9f3a"
             ],
             [
              0.8888888888888888,
              "#fdca26"
             ],
             [
              1,
              "#f0f921"
             ]
            ],
            "type": "heatmap"
           }
          ],
          "heatmapgl": [
           {
            "colorbar": {
             "outlinewidth": 0,
             "ticks": ""
            },
            "colorscale": [
             [
              0,
              "#0d0887"
             ],
             [
              0.1111111111111111,
              "#46039f"
             ],
             [
              0.2222222222222222,
              "#7201a8"
             ],
             [
              0.3333333333333333,
              "#9c179e"
             ],
             [
              0.4444444444444444,
              "#bd3786"
             ],
             [
              0.5555555555555556,
              "#d8576b"
             ],
             [
              0.6666666666666666,
              "#ed7953"
             ],
             [
              0.7777777777777778,
              "#fb9f3a"
             ],
             [
              0.8888888888888888,
              "#fdca26"
             ],
             [
              1,
              "#f0f921"
             ]
            ],
            "type": "heatmapgl"
           }
          ],
          "histogram": [
           {
            "marker": {
             "colorbar": {
              "outlinewidth": 0,
              "ticks": ""
             }
            },
            "type": "histogram"
           }
          ],
          "histogram2d": [
           {
            "colorbar": {
             "outlinewidth": 0,
             "ticks": ""
            },
            "colorscale": [
             [
              0,
              "#0d0887"
             ],
             [
              0.1111111111111111,
              "#46039f"
             ],
             [
              0.2222222222222222,
              "#7201a8"
             ],
             [
              0.3333333333333333,
              "#9c179e"
             ],
             [
              0.4444444444444444,
              "#bd3786"
             ],
             [
              0.5555555555555556,
              "#d8576b"
             ],
             [
              0.6666666666666666,
              "#ed7953"
             ],
             [
              0.7777777777777778,
              "#fb9f3a"
             ],
             [
              0.8888888888888888,
              "#fdca26"
             ],
             [
              1,
              "#f0f921"
             ]
            ],
            "type": "histogram2d"
           }
          ],
          "histogram2dcontour": [
           {
            "colorbar": {
             "outlinewidth": 0,
             "ticks": ""
            },
            "colorscale": [
             [
              0,
              "#0d0887"
             ],
             [
              0.1111111111111111,
              "#46039f"
             ],
             [
              0.2222222222222222,
              "#7201a8"
             ],
             [
              0.3333333333333333,
              "#9c179e"
             ],
             [
              0.4444444444444444,
              "#bd3786"
             ],
             [
              0.5555555555555556,
              "#d8576b"
             ],
             [
              0.6666666666666666,
              "#ed7953"
             ],
             [
              0.7777777777777778,
              "#fb9f3a"
             ],
             [
              0.8888888888888888,
              "#fdca26"
             ],
             [
              1,
              "#f0f921"
             ]
            ],
            "type": "histogram2dcontour"
           }
          ],
          "mesh3d": [
           {
            "colorbar": {
             "outlinewidth": 0,
             "ticks": ""
            },
            "type": "mesh3d"
           }
          ],
          "parcoords": [
           {
            "line": {
             "colorbar": {
              "outlinewidth": 0,
              "ticks": ""
             }
            },
            "type": "parcoords"
           }
          ],
          "pie": [
           {
            "automargin": true,
            "type": "pie"
           }
          ],
          "scatter": [
           {
            "marker": {
             "colorbar": {
              "outlinewidth": 0,
              "ticks": ""
             }
            },
            "type": "scatter"
           }
          ],
          "scatter3d": [
           {
            "line": {
             "colorbar": {
              "outlinewidth": 0,
              "ticks": ""
             }
            },
            "marker": {
             "colorbar": {
              "outlinewidth": 0,
              "ticks": ""
             }
            },
            "type": "scatter3d"
           }
          ],
          "scattercarpet": [
           {
            "marker": {
             "colorbar": {
              "outlinewidth": 0,
              "ticks": ""
             }
            },
            "type": "scattercarpet"
           }
          ],
          "scattergeo": [
           {
            "marker": {
             "colorbar": {
              "outlinewidth": 0,
              "ticks": ""
             }
            },
            "type": "scattergeo"
           }
          ],
          "scattergl": [
           {
            "marker": {
             "colorbar": {
              "outlinewidth": 0,
              "ticks": ""
             }
            },
            "type": "scattergl"
           }
          ],
          "scattermapbox": [
           {
            "marker": {
             "colorbar": {
              "outlinewidth": 0,
              "ticks": ""
             }
            },
            "type": "scattermapbox"
           }
          ],
          "scatterpolar": [
           {
            "marker": {
             "colorbar": {
              "outlinewidth": 0,
              "ticks": ""
             }
            },
            "type": "scatterpolar"
           }
          ],
          "scatterpolargl": [
           {
            "marker": {
             "colorbar": {
              "outlinewidth": 0,
              "ticks": ""
             }
            },
            "type": "scatterpolargl"
           }
          ],
          "scatterternary": [
           {
            "marker": {
             "colorbar": {
              "outlinewidth": 0,
              "ticks": ""
             }
            },
            "type": "scatterternary"
           }
          ],
          "surface": [
           {
            "colorbar": {
             "outlinewidth": 0,
             "ticks": ""
            },
            "colorscale": [
             [
              0,
              "#0d0887"
             ],
             [
              0.1111111111111111,
              "#46039f"
             ],
             [
              0.2222222222222222,
              "#7201a8"
             ],
             [
              0.3333333333333333,
              "#9c179e"
             ],
             [
              0.4444444444444444,
              "#bd3786"
             ],
             [
              0.5555555555555556,
              "#d8576b"
             ],
             [
              0.6666666666666666,
              "#ed7953"
             ],
             [
              0.7777777777777778,
              "#fb9f3a"
             ],
             [
              0.8888888888888888,
              "#fdca26"
             ],
             [
              1,
              "#f0f921"
             ]
            ],
            "type": "surface"
           }
          ],
          "table": [
           {
            "cells": {
             "fill": {
              "color": "#EBF0F8"
             },
             "line": {
              "color": "white"
             }
            },
            "header": {
             "fill": {
              "color": "#C8D4E3"
             },
             "line": {
              "color": "white"
             }
            },
            "type": "table"
           }
          ]
         },
         "layout": {
          "annotationdefaults": {
           "arrowcolor": "#2a3f5f",
           "arrowhead": 0,
           "arrowwidth": 1
          },
          "coloraxis": {
           "colorbar": {
            "outlinewidth": 0,
            "ticks": ""
           }
          },
          "colorscale": {
           "diverging": [
            [
             0,
             "#8e0152"
            ],
            [
             0.1,
             "#c51b7d"
            ],
            [
             0.2,
             "#de77ae"
            ],
            [
             0.3,
             "#f1b6da"
            ],
            [
             0.4,
             "#fde0ef"
            ],
            [
             0.5,
             "#f7f7f7"
            ],
            [
             0.6,
             "#e6f5d0"
            ],
            [
             0.7,
             "#b8e186"
            ],
            [
             0.8,
             "#7fbc41"
            ],
            [
             0.9,
             "#4d9221"
            ],
            [
             1,
             "#276419"
            ]
           ],
           "sequential": [
            [
             0,
             "#0d0887"
            ],
            [
             0.1111111111111111,
             "#46039f"
            ],
            [
             0.2222222222222222,
             "#7201a8"
            ],
            [
             0.3333333333333333,
             "#9c179e"
            ],
            [
             0.4444444444444444,
             "#bd3786"
            ],
            [
             0.5555555555555556,
             "#d8576b"
            ],
            [
             0.6666666666666666,
             "#ed7953"
            ],
            [
             0.7777777777777778,
             "#fb9f3a"
            ],
            [
             0.8888888888888888,
             "#fdca26"
            ],
            [
             1,
             "#f0f921"
            ]
           ],
           "sequentialminus": [
            [
             0,
             "#0d0887"
            ],
            [
             0.1111111111111111,
             "#46039f"
            ],
            [
             0.2222222222222222,
             "#7201a8"
            ],
            [
             0.3333333333333333,
             "#9c179e"
            ],
            [
             0.4444444444444444,
             "#bd3786"
            ],
            [
             0.5555555555555556,
             "#d8576b"
            ],
            [
             0.6666666666666666,
             "#ed7953"
            ],
            [
             0.7777777777777778,
             "#fb9f3a"
            ],
            [
             0.8888888888888888,
             "#fdca26"
            ],
            [
             1,
             "#f0f921"
            ]
           ]
          },
          "colorway": [
           "#636efa",
           "#EF553B",
           "#00cc96",
           "#ab63fa",
           "#FFA15A",
           "#19d3f3",
           "#FF6692",
           "#B6E880",
           "#FF97FF",
           "#FECB52"
          ],
          "font": {
           "color": "#2a3f5f"
          },
          "geo": {
           "bgcolor": "white",
           "lakecolor": "white",
           "landcolor": "#E5ECF6",
           "showlakes": true,
           "showland": true,
           "subunitcolor": "white"
          },
          "hoverlabel": {
           "align": "left"
          },
          "hovermode": "closest",
          "mapbox": {
           "style": "light"
          },
          "paper_bgcolor": "white",
          "plot_bgcolor": "#E5ECF6",
          "polar": {
           "angularaxis": {
            "gridcolor": "white",
            "linecolor": "white",
            "ticks": ""
           },
           "bgcolor": "#E5ECF6",
           "radialaxis": {
            "gridcolor": "white",
            "linecolor": "white",
            "ticks": ""
           }
          },
          "scene": {
           "xaxis": {
            "backgroundcolor": "#E5ECF6",
            "gridcolor": "white",
            "gridwidth": 2,
            "linecolor": "white",
            "showbackground": true,
            "ticks": "",
            "zerolinecolor": "white"
           },
           "yaxis": {
            "backgroundcolor": "#E5ECF6",
            "gridcolor": "white",
            "gridwidth": 2,
            "linecolor": "white",
            "showbackground": true,
            "ticks": "",
            "zerolinecolor": "white"
           },
           "zaxis": {
            "backgroundcolor": "#E5ECF6",
            "gridcolor": "white",
            "gridwidth": 2,
            "linecolor": "white",
            "showbackground": true,
            "ticks": "",
            "zerolinecolor": "white"
           }
          },
          "shapedefaults": {
           "line": {
            "color": "#2a3f5f"
           }
          },
          "ternary": {
           "aaxis": {
            "gridcolor": "white",
            "linecolor": "white",
            "ticks": ""
           },
           "baxis": {
            "gridcolor": "white",
            "linecolor": "white",
            "ticks": ""
           },
           "bgcolor": "#E5ECF6",
           "caxis": {
            "gridcolor": "white",
            "linecolor": "white",
            "ticks": ""
           }
          },
          "title": {
           "x": 0.05
          },
          "xaxis": {
           "automargin": true,
           "gridcolor": "white",
           "linecolor": "white",
           "ticks": "",
           "title": {
            "standoff": 15
           },
           "zerolinecolor": "white",
           "zerolinewidth": 2
          },
          "yaxis": {
           "automargin": true,
           "gridcolor": "white",
           "linecolor": "white",
           "ticks": "",
           "title": {
            "standoff": 15
           },
           "zerolinecolor": "white",
           "zerolinewidth": 2
          }
         }
        },
        "width": 1300,
        "xaxis": {
         "title": {
          "text": "Алгоритм"
         }
        },
        "yaxis": {
         "title": {
          "text": "MSE"
         }
        }
       }
      },
      "text/html": [
       "<div>                            <div id=\"5a41f4a7-aa25-4743-b449-f7933c91a1bd\" class=\"plotly-graph-div\" style=\"height:525px; width:1300px;\"></div>            <script type=\"text/javascript\">                require([\"plotly\"], function(Plotly) {                    window.PLOTLYENV=window.PLOTLYENV || {};                                    if (document.getElementById(\"5a41f4a7-aa25-4743-b449-f7933c91a1bd\")) {                    Plotly.newPlot(                        \"5a41f4a7-aa25-4743-b449-f7933c91a1bd\",                        [{\"mode\": \"lines+markers\", \"name\": \"\\u0421\\u0440\\u0435\\u0434\\u043d\\u0438\\u0439 MSE \\u043d\\u0430 \\u043e\\u0431\\u0443\\u0447\\u0430\\u044e\\u0449\\u0435\\u0439 \\u0432\\u044b\\u0431\\u043e\\u0440\\u043a\\u0435\", \"type\": \"scatter\", \"x\": [\"SVM\", \"RF\", \"LinReg\", \"KNN\", \"LASSO\", \"Ridge\", \"Light_GBM\", \"XGBoost\", \"Catboost\", \"NN\"], \"y\": [0.007843688438011476, 0.005723826469780921, 0.006722427751973286, 0.00524346144075143, 0.00843601202289803, 0.0075232399998707315, 0.008231959864588223, 0.007253358923784435, 0.006884141769030052, 0.0066470998033747964]}, {\"mode\": \"lines+markers\", \"name\": \"\\u0421\\u0440\\u0435\\u0434\\u043d\\u0438\\u0439 MSE \\u043d\\u0430 \\u0442\\u0435\\u0441\\u0442\\u043e\\u0432\\u043e\\u0439 \\u0432\\u044b\\u0431\\u043e\\u0440\\u043a\\u0435\", \"type\": \"scatter\", \"x\": [\"SVM\", \"RF\", \"LinReg\", \"KNN\", \"LASSO\", \"Ridge\", \"Light_GBM\", \"XGBoost\", \"Catboost\", \"NN\"], \"y\": [0.009553513808118825, 0.010595392134177454, 0.012106852292344525, 0.010525000811443995, 0.008639858776695928, 0.009069508341711177, 0.010725297242698382, 0.011418488859071672, 0.01084295598509847, 0.01034970561102549]}],                        {\"autosize\": false, \"legend\": {\"x\": 0.1, \"xanchor\": \"left\", \"y\": 0.55, \"yanchor\": \"top\"}, \"template\": {\"data\": {\"bar\": [{\"error_x\": {\"color\": \"#2a3f5f\"}, \"error_y\": {\"color\": \"#2a3f5f\"}, \"marker\": {\"line\": {\"color\": \"#E5ECF6\", \"width\": 0.5}}, \"type\": \"bar\"}], \"barpolar\": [{\"marker\": {\"line\": {\"color\": \"#E5ECF6\", \"width\": 0.5}}, \"type\": \"barpolar\"}], \"carpet\": [{\"aaxis\": {\"endlinecolor\": \"#2a3f5f\", \"gridcolor\": \"white\", \"linecolor\": \"white\", \"minorgridcolor\": \"white\", \"startlinecolor\": \"#2a3f5f\"}, \"baxis\": {\"endlinecolor\": \"#2a3f5f\", \"gridcolor\": \"white\", \"linecolor\": \"white\", \"minorgridcolor\": \"white\", \"startlinecolor\": \"#2a3f5f\"}, \"type\": \"carpet\"}], \"choropleth\": [{\"colorbar\": {\"outlinewidth\": 0, \"ticks\": \"\"}, \"type\": \"choropleth\"}], \"contour\": [{\"colorbar\": {\"outlinewidth\": 0, \"ticks\": \"\"}, \"colorscale\": [[0.0, \"#0d0887\"], [0.1111111111111111, \"#46039f\"], [0.2222222222222222, \"#7201a8\"], [0.3333333333333333, \"#9c179e\"], [0.4444444444444444, \"#bd3786\"], [0.5555555555555556, \"#d8576b\"], [0.6666666666666666, \"#ed7953\"], [0.7777777777777778, \"#fb9f3a\"], [0.8888888888888888, \"#fdca26\"], [1.0, \"#f0f921\"]], \"type\": \"contour\"}], \"contourcarpet\": [{\"colorbar\": {\"outlinewidth\": 0, \"ticks\": \"\"}, \"type\": \"contourcarpet\"}], \"heatmap\": [{\"colorbar\": {\"outlinewidth\": 0, \"ticks\": \"\"}, \"colorscale\": [[0.0, \"#0d0887\"], [0.1111111111111111, \"#46039f\"], [0.2222222222222222, \"#7201a8\"], [0.3333333333333333, \"#9c179e\"], [0.4444444444444444, \"#bd3786\"], [0.5555555555555556, \"#d8576b\"], [0.6666666666666666, \"#ed7953\"], [0.7777777777777778, \"#fb9f3a\"], [0.8888888888888888, \"#fdca26\"], [1.0, \"#f0f921\"]], \"type\": \"heatmap\"}], \"heatmapgl\": [{\"colorbar\": {\"outlinewidth\": 0, \"ticks\": \"\"}, \"colorscale\": [[0.0, \"#0d0887\"], [0.1111111111111111, \"#46039f\"], [0.2222222222222222, \"#7201a8\"], [0.3333333333333333, \"#9c179e\"], [0.4444444444444444, \"#bd3786\"], [0.5555555555555556, \"#d8576b\"], [0.6666666666666666, \"#ed7953\"], [0.7777777777777778, \"#fb9f3a\"], [0.8888888888888888, \"#fdca26\"], [1.0, \"#f0f921\"]], \"type\": \"heatmapgl\"}], \"histogram\": [{\"marker\": {\"colorbar\": {\"outlinewidth\": 0, \"ticks\": \"\"}}, \"type\": \"histogram\"}], \"histogram2d\": [{\"colorbar\": {\"outlinewidth\": 0, \"ticks\": \"\"}, \"colorscale\": [[0.0, \"#0d0887\"], [0.1111111111111111, \"#46039f\"], [0.2222222222222222, \"#7201a8\"], [0.3333333333333333, \"#9c179e\"], [0.4444444444444444, \"#bd3786\"], [0.5555555555555556, \"#d8576b\"], [0.6666666666666666, \"#ed7953\"], [0.7777777777777778, \"#fb9f3a\"], [0.8888888888888888, \"#fdca26\"], [1.0, \"#f0f921\"]], \"type\": \"histogram2d\"}], \"histogram2dcontour\": [{\"colorbar\": {\"outlinewidth\": 0, \"ticks\": \"\"}, \"colorscale\": [[0.0, \"#0d0887\"], [0.1111111111111111, \"#46039f\"], [0.2222222222222222, \"#7201a8\"], [0.3333333333333333, \"#9c179e\"], [0.4444444444444444, \"#bd3786\"], [0.5555555555555556, \"#d8576b\"], [0.6666666666666666, \"#ed7953\"], [0.7777777777777778, \"#fb9f3a\"], [0.8888888888888888, \"#fdca26\"], [1.0, \"#f0f921\"]], \"type\": \"histogram2dcontour\"}], \"mesh3d\": [{\"colorbar\": {\"outlinewidth\": 0, \"ticks\": \"\"}, \"type\": \"mesh3d\"}], \"parcoords\": [{\"line\": {\"colorbar\": {\"outlinewidth\": 0, \"ticks\": \"\"}}, \"type\": \"parcoords\"}], \"pie\": [{\"automargin\": true, \"type\": \"pie\"}], \"scatter\": [{\"marker\": {\"colorbar\": {\"outlinewidth\": 0, \"ticks\": \"\"}}, \"type\": \"scatter\"}], \"scatter3d\": [{\"line\": {\"colorbar\": {\"outlinewidth\": 0, \"ticks\": \"\"}}, \"marker\": {\"colorbar\": {\"outlinewidth\": 0, \"ticks\": \"\"}}, \"type\": \"scatter3d\"}], \"scattercarpet\": [{\"marker\": {\"colorbar\": {\"outlinewidth\": 0, \"ticks\": \"\"}}, \"type\": \"scattercarpet\"}], \"scattergeo\": [{\"marker\": {\"colorbar\": {\"outlinewidth\": 0, \"ticks\": \"\"}}, \"type\": \"scattergeo\"}], \"scattergl\": [{\"marker\": {\"colorbar\": {\"outlinewidth\": 0, \"ticks\": \"\"}}, \"type\": \"scattergl\"}], \"scattermapbox\": [{\"marker\": {\"colorbar\": {\"outlinewidth\": 0, \"ticks\": \"\"}}, \"type\": \"scattermapbox\"}], \"scatterpolar\": [{\"marker\": {\"colorbar\": {\"outlinewidth\": 0, \"ticks\": \"\"}}, \"type\": \"scatterpolar\"}], \"scatterpolargl\": [{\"marker\": {\"colorbar\": {\"outlinewidth\": 0, \"ticks\": \"\"}}, \"type\": \"scatterpolargl\"}], \"scatterternary\": [{\"marker\": {\"colorbar\": {\"outlinewidth\": 0, \"ticks\": \"\"}}, \"type\": \"scatterternary\"}], \"surface\": [{\"colorbar\": {\"outlinewidth\": 0, \"ticks\": \"\"}, \"colorscale\": [[0.0, \"#0d0887\"], [0.1111111111111111, \"#46039f\"], [0.2222222222222222, \"#7201a8\"], [0.3333333333333333, \"#9c179e\"], [0.4444444444444444, \"#bd3786\"], [0.5555555555555556, \"#d8576b\"], [0.6666666666666666, \"#ed7953\"], [0.7777777777777778, \"#fb9f3a\"], [0.8888888888888888, \"#fdca26\"], [1.0, \"#f0f921\"]], \"type\": \"surface\"}], \"table\": [{\"cells\": {\"fill\": {\"color\": \"#EBF0F8\"}, \"line\": {\"color\": \"white\"}}, \"header\": {\"fill\": {\"color\": \"#C8D4E3\"}, \"line\": {\"color\": \"white\"}}, \"type\": \"table\"}]}, \"layout\": {\"annotationdefaults\": {\"arrowcolor\": \"#2a3f5f\", \"arrowhead\": 0, \"arrowwidth\": 1}, \"coloraxis\": {\"colorbar\": {\"outlinewidth\": 0, \"ticks\": \"\"}}, \"colorscale\": {\"diverging\": [[0, \"#8e0152\"], [0.1, \"#c51b7d\"], [0.2, \"#de77ae\"], [0.3, \"#f1b6da\"], [0.4, \"#fde0ef\"], [0.5, \"#f7f7f7\"], [0.6, \"#e6f5d0\"], [0.7, \"#b8e186\"], [0.8, \"#7fbc41\"], [0.9, \"#4d9221\"], [1, \"#276419\"]], \"sequential\": [[0.0, \"#0d0887\"], [0.1111111111111111, \"#46039f\"], [0.2222222222222222, \"#7201a8\"], [0.3333333333333333, \"#9c179e\"], [0.4444444444444444, \"#bd3786\"], [0.5555555555555556, \"#d8576b\"], [0.6666666666666666, \"#ed7953\"], [0.7777777777777778, \"#fb9f3a\"], [0.8888888888888888, \"#fdca26\"], [1.0, \"#f0f921\"]], \"sequentialminus\": [[0.0, \"#0d0887\"], [0.1111111111111111, \"#46039f\"], [0.2222222222222222, \"#7201a8\"], [0.3333333333333333, \"#9c179e\"], [0.4444444444444444, \"#bd3786\"], [0.5555555555555556, \"#d8576b\"], [0.6666666666666666, \"#ed7953\"], [0.7777777777777778, \"#fb9f3a\"], [0.8888888888888888, \"#fdca26\"], [1.0, \"#f0f921\"]]}, \"colorway\": [\"#636efa\", \"#EF553B\", \"#00cc96\", \"#ab63fa\", \"#FFA15A\", \"#19d3f3\", \"#FF6692\", \"#B6E880\", \"#FF97FF\", \"#FECB52\"], \"font\": {\"color\": \"#2a3f5f\"}, \"geo\": {\"bgcolor\": \"white\", \"lakecolor\": \"white\", \"landcolor\": \"#E5ECF6\", \"showlakes\": true, \"showland\": true, \"subunitcolor\": \"white\"}, \"hoverlabel\": {\"align\": \"left\"}, \"hovermode\": \"closest\", \"mapbox\": {\"style\": \"light\"}, \"paper_bgcolor\": \"white\", \"plot_bgcolor\": \"#E5ECF6\", \"polar\": {\"angularaxis\": {\"gridcolor\": \"white\", \"linecolor\": \"white\", \"ticks\": \"\"}, \"bgcolor\": \"#E5ECF6\", \"radialaxis\": {\"gridcolor\": \"white\", \"linecolor\": \"white\", \"ticks\": \"\"}}, \"scene\": {\"xaxis\": {\"backgroundcolor\": \"#E5ECF6\", \"gridcolor\": \"white\", \"gridwidth\": 2, \"linecolor\": \"white\", \"showbackground\": true, \"ticks\": \"\", \"zerolinecolor\": \"white\"}, \"yaxis\": {\"backgroundcolor\": \"#E5ECF6\", \"gridcolor\": \"white\", \"gridwidth\": 2, \"linecolor\": \"white\", \"showbackground\": true, \"ticks\": \"\", \"zerolinecolor\": \"white\"}, \"zaxis\": {\"backgroundcolor\": \"#E5ECF6\", \"gridcolor\": \"white\", \"gridwidth\": 2, \"linecolor\": \"white\", \"showbackground\": true, \"ticks\": \"\", \"zerolinecolor\": \"white\"}}, \"shapedefaults\": {\"line\": {\"color\": \"#2a3f5f\"}}, \"ternary\": {\"aaxis\": {\"gridcolor\": \"white\", \"linecolor\": \"white\", \"ticks\": \"\"}, \"baxis\": {\"gridcolor\": \"white\", \"linecolor\": \"white\", \"ticks\": \"\"}, \"bgcolor\": \"#E5ECF6\", \"caxis\": {\"gridcolor\": \"white\", \"linecolor\": \"white\", \"ticks\": \"\"}}, \"title\": {\"x\": 0.05}, \"xaxis\": {\"automargin\": true, \"gridcolor\": \"white\", \"linecolor\": \"white\", \"ticks\": \"\", \"title\": {\"standoff\": 15}, \"zerolinecolor\": \"white\", \"zerolinewidth\": 2}, \"yaxis\": {\"automargin\": true, \"gridcolor\": \"white\", \"linecolor\": \"white\", \"ticks\": \"\", \"title\": {\"standoff\": 15}, \"zerolinecolor\": \"white\", \"zerolinewidth\": 2}}}, \"width\": 1300, \"xaxis\": {\"title\": {\"text\": \"\\u0410\\u043b\\u0433\\u043e\\u0440\\u0438\\u0442\\u043c\"}}, \"yaxis\": {\"title\": {\"text\": \"MSE\"}}},                        {\"responsive\": true}                    ).then(function(){\n",
       "                            \n",
       "var gd = document.getElementById('5a41f4a7-aa25-4743-b449-f7933c91a1bd');\n",
       "var x = new MutationObserver(function (mutations, observer) {{\n",
       "        var display = window.getComputedStyle(gd).display;\n",
       "        if (!display || display === 'none') {{\n",
       "            console.log([gd, 'removed!']);\n",
       "            Plotly.purge(gd);\n",
       "            observer.disconnect();\n",
       "        }}\n",
       "}});\n",
       "\n",
       "// Listen for the removal of the full notebook cells\n",
       "var notebookContainer = gd.closest('#notebook-container');\n",
       "if (notebookContainer) {{\n",
       "    x.observe(notebookContainer, {childList: true});\n",
       "}}\n",
       "\n",
       "// Listen for the clearing of the current output cell\n",
       "var outputEl = gd.closest('.output');\n",
       "if (outputEl) {{\n",
       "    x.observe(outputEl, {childList: true});\n",
       "}}\n",
       "\n",
       "                        })                };                });            </script>        </div>"
      ]
     },
     "metadata": {},
     "output_type": "display_data"
    }
   ],
   "source": [
    "my_df_alg = ml_data_1.filter(regex = 'test').T\n",
    "my_df_alg['test_MSE'] = ml_data_1.filter(regex = 'test').T.mean(axis = 1)\n",
    "my_df_alg['train_MSE'] = ml_data_1.filter(regex = 'train').T.mean(axis = 1)\n",
    "my_df = pd.DataFrame(ml_data_1.mean(axis=0)).rename(columns={0:'MSE'})\n",
    "\n",
    "\n",
    "fig = go.Figure()\n",
    "fig.add_trace(go.Scatter(x=my_df.T.filter(regex = 'train').columns.astype(str).str[:-10], y=my_df.T.filter(regex = 'train').T['MSE'],\n",
    "                         mode='lines+markers',name='Средний MSE на обучающей выборке'))\n",
    "fig.add_trace(go.Scatter(x=my_df.T.filter(regex = 'test').columns.astype(str).str[:-9], y=my_df.T.filter(regex = 'test').T['MSE'],\n",
    "                         mode='lines+markers',name='Средний MSE на тестовой выборке'))\n",
    "\n",
    "fig.update_layout(yaxis_title = 'MSE',xaxis_title = 'Алгоритм',autosize=False,width=1300,\n",
    "                  legend=dict(yanchor=\"top\", y=0.55, xanchor=\"left\", x=0.1))\n",
    "fig.show()"
   ]
  },
  {
   "cell_type": "code",
   "execution_count": null,
   "metadata": {},
   "outputs": [],
   "source": []
  },
  {
   "cell_type": "code",
   "execution_count": null,
   "metadata": {},
   "outputs": [],
   "source": []
  }
 ],
 "metadata": {
  "kernelspec": {
   "display_name": "Python 3",
   "language": "python",
   "name": "python3"
  },
  "language_info": {
   "codemirror_mode": {
    "name": "ipython",
    "version": 3
   },
   "file_extension": ".py",
   "mimetype": "text/x-python",
   "name": "python",
   "nbconvert_exporter": "python",
   "pygments_lexer": "ipython3",
   "version": "3.8.3"
  }
 },
 "nbformat": 4,
 "nbformat_minor": 4
}
